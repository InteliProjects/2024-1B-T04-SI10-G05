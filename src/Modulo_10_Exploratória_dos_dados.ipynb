{
  "nbformat": 4,
  "nbformat_minor": 0,
  "metadata": {
    "colab": {
      "provenance": [],
      "collapsed_sections": [
        "0j45imXXjCme",
        "BNyPhKnVu_sI",
        "rjeyOXUw8TZY",
        "d26PD4HJ8hSd",
        "8rMLQfJr9jtl",
        "joh_qIEY_zKl",
        "8l2_orebAORz",
        "vtZqNb-S80ic",
        "HxRpdfT1tCFf",
        "39LG2v96prkk",
        "UxsWNAaClvrH",
        "FK6T2SyB_j34",
        "bJqrW5olly2G",
        "xT8S0E55_n00",
        "dJ57eNvel1e4",
        "4isfTspAl4OQ",
        "mhp0t9mbl8JE",
        "wlh0gYKAptmo",
        "U6ByDORfqGLP",
        "R6zsEaj0AnZh",
        "Lj2y1Xi2_VnY",
        "Yi7vfK78_WCw",
        "lHM_n2fMpvGk",
        "tMIb09hE-_ql",
        "5ZEHszOEqHZo",
        "EusRnnrJ_C83",
        "kctWdHU8_Dfn",
        "UcrZTbHlpxSF",
        "haK2h9Ow-2Tj",
        "VoQthC8JpzXw",
        "2MYZwqrq-myf",
        "c7Ydna_P-q81",
        "f4ravEENplg5",
        "v3Yxi1kpjElk"
      ]
    },
    "kernelspec": {
      "name": "python3",
      "display_name": "Python 3"
    },
    "language_info": {
      "name": "python"
    }
  },
  "cells": [
    {
      "cell_type": "markdown",
      "source": [
        "# **Projeto de otimização de página de conversão de captação de leads da marca Wizard by Pearson - Focada na Wizard ON** 🐦\n",
        "\n",
        "- O Wizard On é uma modalidade relativamente nova no portfólio da Wizard, criada durante a pandemia com\n",
        "o objetivo de quebrar as barreiras geográficas e proporcionar um ensino/experiência de qualidade online,\n",
        "equiparável à excelência da aula presencial"
      ],
      "metadata": {
        "id": "0j45imXXjCme"
      }
    },
    {
      "cell_type": "markdown",
      "source": [
        "### Problemática 1: Comunicação da Modalidade de Ensino 🔈\n"
      ],
      "metadata": {
        "id": "BNyPhKnVu_sI"
      }
    },
    {
      "cell_type": "markdown",
      "source": [
        "Um dos desafios que enfrentamos é na comunicação eficaz sobre a nossa modalidade de ensino.\n",
        "\n",
        "Ao contrário de alguns de nossos concorrentes, que utilizam gravações para fornecer conteúdo educacional, optamos por uma abordagem que valoriza a interação direta entre professor e alunos em turmas fixas.\n",
        "\n",
        "Essa abordagem única não apenas oferece uma experiência mais personalizada e\n",
        "envolvente para nossos alunos, mas também representa um diferencial significativo em nosso mercado.\n",
        "Isso pode resultar em uma perda de oportunidades de conversão e um desafio adicional na captação de\n",
        "novos alunos."
      ],
      "metadata": {
        "id": "hZPxHuwS8wuE"
      }
    },
    {
      "cell_type": "markdown",
      "source": [
        "### Problemática 2: Variação na Taxa de Conversão de Visitas para Leads 📊\n"
      ],
      "metadata": {
        "id": "rjeyOXUw8TZY"
      }
    },
    {
      "cell_type": "markdown",
      "source": [
        "Além disso, observamos uma variação significativa na taxa de conversão de visitas para leads ao longo do\n",
        "tempo. Enquanto no primeiro trimestre deste ano a média de conversão foi de 5%, no último trimestre de\n",
        "2023 essa média foi de 12%.\n",
        "\n",
        "É importante destacar que o último trimestre (Q4) é tão crucial quanto o primeiro (Q1) em termos de captação de novos alunos, o que torna essa discrepância ainda mais\n",
        "relevante.\n",
        "\n",
        "\n",
        "Um aspecto a considerar é a recente adição do botão do WhatsApp em nossa LP. Embora tenha facilitado o contato direto entre os potenciais clientes e nosso contact center, responsável pelo atendimento via\n",
        "WhatsApp, enfrentamos o desafio de rastrear com precisão se um usuário que iniciou uma conversa pelo\n",
        "WhatsApp se converteu em lead. A falta de mecanismos de rastreamento pode distorcer nossa\n",
        "compreensão da eficácia desse canal de comunicação e impactar negativamente nossa capacidade de\n",
        "avaliar e otimizar nossas estratégias de conversão."
      ],
      "metadata": {
        "id": "1d17SdWI8t0E"
      }
    },
    {
      "cell_type": "markdown",
      "source": [
        "### Problemática 3: Qualidade do Lead e Taxa de Conversão de Lead para Aluno 💯\n"
      ],
      "metadata": {
        "id": "d26PD4HJ8hSd"
      }
    },
    {
      "cell_type": "markdown",
      "source": [
        "Nossa principal métrica de sucesso é o número de matrículas, e para atingir nossas metas de\n",
        "crescimento, é crucial melhorar a qualidade dos leads que estamos gerando.\n",
        "\n",
        "A qualidade dos leads tem\n",
        "um impacto direto na taxa de conversão de lead para aluno. Portanto, é fundamental identificar e\n",
        "implementar estratégias que nos permitam atrair leads mais qualificados, que estejam genuinamente\n",
        "interessados em nossa oferta e mais propensos a se tornarem alunos matriculados. Isso requer uma\n",
        "análise aprofundada de nossos canais de aquisição de leads, bem como a implementação de medidas\n",
        "para nutrir e qualificar esses leads ao longo do funil de vendas."
      ],
      "metadata": {
        "id": "ELZnG_la8yBU"
      }
    },
    {
      "cell_type": "markdown",
      "source": [
        "### Objetivo e Benefícios esperados ✅"
      ],
      "metadata": {
        "id": "8rMLQfJr9jtl"
      }
    },
    {
      "cell_type": "markdown",
      "source": [
        "- Aumentar Taxa de Conversão da página em 7% (usuário para lead)\n",
        "- Aumentar em Q2 o volume de Leads gerados em Q1 em 15%\n",
        "\n",
        "A partir do projeto é esperado que seja possível testar, validar e aprovar ideias e formas de executar diferentes maneiras de potencializar a nossa landing page focadas nas matrículas de Wizard On.\n",
        "\n",
        "● Variações de proposta de landing page, projetadas com base em hipóteses específicas de\n",
        "otimização.<br>\n",
        "● Relatório de análise do teste A/B, incluindo dados de performance, análise estatística e\n",
        "recomendações."
      ],
      "metadata": {
        "id": "7hwDO_Ut9xa7"
      }
    },
    {
      "cell_type": "markdown",
      "source": [
        "## **Integrantes do Grupo** 🚀\n",
        "- Eric Tachdjian\n",
        "- Lucas Pereira\n",
        "- Pedro Rezende\n",
        "- Sophia Dias\n",
        "- Ueliton Rocha\n",
        "- Vitória Rodrigues"
      ],
      "metadata": {
        "id": "joh_qIEY_zKl"
      }
    },
    {
      "cell_type": "markdown",
      "source": [
        "\n",
        "\n",
        "-----\n",
        "\n"
      ],
      "metadata": {
        "id": "8KniZcHJ_N99"
      }
    },
    {
      "cell_type": "markdown",
      "source": [
        "## Exemplos"
      ],
      "metadata": {
        "id": "8l2_orebAORz"
      }
    },
    {
      "cell_type": "markdown",
      "source": [
        "![image.png](data:image/png;base64,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)"
      ],
      "metadata": {
        "id": "rVwCGcZ4_PNU"
      }
    },
    {
      "cell_type": "markdown",
      "source": [
        "Link para a página com os dados: https://lookerstudio.google.com/reporting/9f79f5d0-c235-4898-8189-4e7961620ce7/page/OkuwD"
      ],
      "metadata": {
        "id": "lqcGZ8lKjsaU"
      }
    },
    {
      "cell_type": "markdown",
      "source": [
        "# Setup do ambiente"
      ],
      "metadata": {
        "id": "vtZqNb-S80ic"
      }
    },
    {
      "cell_type": "markdown",
      "source": [
        "Neste código, começamos configurando o ambiente, instalando dependências necessárias e importando as bibliotecas relevantes. Em seguida, autenticamos o usuário no Google Drive e definimos funções para interagir com o Drive, incluindo baixar arquivos e pastas e ler dados de arquivos CSV em uma pasta local. Finalmente, usamos essas funções para baixar uma pasta específica do Google Drive contendo os dados necessários para nossa análise."
      ],
      "metadata": {
        "id": "xQN6bpm2svdy"
      }
    },
    {
      "cell_type": "markdown",
      "source": [
        "## Instalação de dependências"
      ],
      "metadata": {
        "id": "HxRpdfT1tCFf"
      }
    },
    {
      "cell_type": "code",
      "source": [
        "# Espaço para possíveis futuras dependências a serem baixadas"
      ],
      "metadata": {
        "id": "i0Z2FMWGtEwn"
      },
      "execution_count": 116,
      "outputs": []
    },
    {
      "cell_type": "markdown",
      "source": [
        "## Importação de bibliotecas"
      ],
      "metadata": {
        "id": "fe6NySgztFFl"
      }
    },
    {
      "cell_type": "code",
      "execution_count": 199,
      "metadata": {
        "id": "m00tATp7-fT7"
      },
      "outputs": [],
      "source": [
        "import pandas as pd\n",
        "import io\n",
        "import numpy as np\n",
        "import plotly.express as px\n",
        "import plotly.graph_objects as go\n",
        "import seaborn\n",
        "import re"
      ]
    },
    {
      "cell_type": "markdown",
      "source": [
        "## Coletando dados do Google Drive"
      ],
      "metadata": {
        "id": "QR63d2octIgW"
      }
    },
    {
      "cell_type": "code",
      "source": [
        "google_ads_2023 = pd.read_csv('/content/drive/Shareddrives/M10_SI/google_ads_2023.csv')\n",
        "\n",
        "\n",
        "ga_universal_2019a2022 = pd.read_csv('/content/drive/Shareddrives/M10_SI/ga_universal_2019a2022.csv')\n",
        "ga_universal_2023 = pd.read_csv('/content/drive/Shareddrives/M10_SI/ga_universal_2023.csv')\n",
        "\n",
        "\n",
        "acesso_eventos_2023 = pd.read_csv('/content/drive/Shareddrives/M10_SI/acessos_eventos_2023.csv')\n",
        "acesso_eventos_2024 = pd.read_csv('/content/drive/MyDrive/Módulo 10/Dados do parceiro/Eventos/acesso_eventos_2024.csv')\n",
        "\n",
        "acessos_fontes_2023 = pd.read_csv('/content/drive/Shareddrives/M10_SI/acessos_fontes_2023.csv')\n",
        "acessos_fontes_2024 = pd.read_csv('/content/drive/Shareddrives/M10_SI/acessos_fontes_2024.csv')\n",
        "\n",
        "\n",
        "acessos_geral_2023 = pd.read_csv('/content/drive/Shareddrives/M10_SI/acessos_geral_2023.csv')\n",
        "acessos_geral_2024 = pd.read_csv('/content/drive/MyDrive/Módulo 10/Dados do parceiro/Acessos/acessos_geral_2024.csv')\n",
        "\n",
        "\n",
        "age_sessions_big_numbers_2023 = pd.read_csv('/content/drive/Shareddrives/M10_SI/age_sessions_big_numbers_2023.csv')\n",
        "age_sessions_big_numbers_2024 = pd.read_csv('/content/drive/Shareddrives/M10_SI/age_sessions_big_numbers_2024.csv')\n",
        "\n",
        "hour_users_big_numbers_2023 = pd.read_csv('/content/drive/Shareddrives/M10_SI/hour_users_big_numbers_2023.csv')\n",
        "hour_users_big_numbers_2024 = pd.read_csv('/content/drive/Shareddrives/M10_SI/hour_users_big_numbers_2024.csv')\n",
        "\n",
        "week_users_big_numbers_2023 = pd.read_csv('/content/drive/Shareddrives/M10_SI/week_users_big_numbers_2023.csv')\n",
        "week_users_big_numbers_2024 = pd.read_csv('/content/drive/Shareddrives/M10_SI/week_users_big_numbers_2024.csv')\n",
        "\n",
        "users_country_big_numbers_geo_2023 = pd.read_csv('/content/drive/Shareddrives/M10_SI/users_country_big_numbers_geo_2023.csv')\n",
        "users_country_big_numbers_geo_2024 = pd.read_csv('/content/drive/Shareddrives/M10_SI/users_country_big_numbers_geo_2024.csv')\n",
        "\n",
        "country_city_views_big_numbers_2023 = pd.read_csv('/content/drive/Shareddrives/M10_SI/country_city_views_big_numbers_2023.csv')\n",
        "country_city_views_big_numbers_2024 = pd.read_csv('/content/drive/Shareddrives/M10_SI/country_city_views_big_numbers_2024.csv')"
      ],
      "metadata": {
        "id": "5EYpfuh2A-cO"
      },
      "execution_count": 118,
      "outputs": []
    },
    {
      "cell_type": "markdown",
      "source": [
        "## OBS: Fazer automatização para a instalação dos arquivos\n",
        "Incluir:\n",
        "- Instalar dependência do PyDrive\n",
        "- Autenticação e setup do Google Drive\n",
        "- Funções auxiliares\n",
        "- Download dos dados"
      ],
      "metadata": {
        "id": "NVEzoE7at-pQ"
      }
    },
    {
      "cell_type": "markdown",
      "source": [
        "# Datasets - Compreensão e Transformação dos Dados\n",
        "Esta seção é dedicada à importação, exploração preliminar e preparação dos conjuntos de dados que serão fundamentais para nossa análise. Os dados aqui são críticos, pois formam a base sobre a qual todas as nossas hipóteses, análises e conclusões serão construídas.\n",
        "\n",
        "O processo inclui a leitura dos dados, limpeza e manipulação onde necessário, e eventualmente, a seleção de características e indicadores específicos que nos ajudarão a coletar insights para simulações de Monte Carlo."
      ],
      "metadata": {
        "id": "HhMkx6i8l1S9"
      }
    },
    {
      "cell_type": "markdown",
      "source": [
        "# Big Numbers"
      ],
      "metadata": {
        "id": "39LG2v96prkk"
      }
    },
    {
      "cell_type": "markdown",
      "source": [
        "## Sessões por idade"
      ],
      "metadata": {
        "id": "UxsWNAaClvrH"
      }
    },
    {
      "cell_type": "code",
      "source": [
        "age_sessions_combined = pd.concat([age_sessions_big_numbers_2023, age_sessions_big_numbers_2024])\n",
        "age_sessions_summed = age_sessions_combined.groupby('Age', as_index=False).sum()\n",
        "age_sessions_summed"
      ],
      "metadata": {
        "colab": {
          "base_uri": "https://localhost:8080/",
          "height": 269
        },
        "id": "8q2dEvVymHRg",
        "outputId": "bb72b19b-3c27-4112-8f9d-4aeb6c61d231"
      },
      "execution_count": 119,
      "outputs": [
        {
          "output_type": "execute_result",
          "data": {
            "text/plain": [
              "       Age  Sessions\n",
              "0    18-24    258006\n",
              "1    25-34    181334\n",
              "2    35-44    113723\n",
              "3    45-54     70049\n",
              "4    55-64     44471\n",
              "5      65+     31017\n",
              "6  unknown   2107518"
            ],
            "text/html": [
              "\n",
              "  <div id=\"df-c22b03fa-eb0a-4fa0-9451-335c7c1d3c88\" class=\"colab-df-container\">\n",
              "    <div>\n",
              "<style scoped>\n",
              "    .dataframe tbody tr th:only-of-type {\n",
              "        vertical-align: middle;\n",
              "    }\n",
              "\n",
              "    .dataframe tbody tr th {\n",
              "        vertical-align: top;\n",
              "    }\n",
              "\n",
              "    .dataframe thead th {\n",
              "        text-align: right;\n",
              "    }\n",
              "</style>\n",
              "<table border=\"1\" class=\"dataframe\">\n",
              "  <thead>\n",
              "    <tr style=\"text-align: right;\">\n",
              "      <th></th>\n",
              "      <th>Age</th>\n",
              "      <th>Sessions</th>\n",
              "    </tr>\n",
              "  </thead>\n",
              "  <tbody>\n",
              "    <tr>\n",
              "      <th>0</th>\n",
              "      <td>18-24</td>\n",
              "      <td>258006</td>\n",
              "    </tr>\n",
              "    <tr>\n",
              "      <th>1</th>\n",
              "      <td>25-34</td>\n",
              "      <td>181334</td>\n",
              "    </tr>\n",
              "    <tr>\n",
              "      <th>2</th>\n",
              "      <td>35-44</td>\n",
              "      <td>113723</td>\n",
              "    </tr>\n",
              "    <tr>\n",
              "      <th>3</th>\n",
              "      <td>45-54</td>\n",
              "      <td>70049</td>\n",
              "    </tr>\n",
              "    <tr>\n",
              "      <th>4</th>\n",
              "      <td>55-64</td>\n",
              "      <td>44471</td>\n",
              "    </tr>\n",
              "    <tr>\n",
              "      <th>5</th>\n",
              "      <td>65+</td>\n",
              "      <td>31017</td>\n",
              "    </tr>\n",
              "    <tr>\n",
              "      <th>6</th>\n",
              "      <td>unknown</td>\n",
              "      <td>2107518</td>\n",
              "    </tr>\n",
              "  </tbody>\n",
              "</table>\n",
              "</div>\n",
              "    <div class=\"colab-df-buttons\">\n",
              "\n",
              "  <div class=\"colab-df-container\">\n",
              "    <button class=\"colab-df-convert\" onclick=\"convertToInteractive('df-c22b03fa-eb0a-4fa0-9451-335c7c1d3c88')\"\n",
              "            title=\"Convert this dataframe to an interactive table.\"\n",
              "            style=\"display:none;\">\n",
              "\n",
              "  <svg xmlns=\"http://www.w3.org/2000/svg\" height=\"24px\" viewBox=\"0 -960 960 960\">\n",
              "    <path d=\"M120-120v-720h720v720H120Zm60-500h600v-160H180v160Zm220 220h160v-160H400v160Zm0 220h160v-160H400v160ZM180-400h160v-160H180v160Zm440 0h160v-160H620v160ZM180-180h160v-160H180v160Zm440 0h160v-160H620v160Z\"/>\n",
              "  </svg>\n",
              "    </button>\n",
              "\n",
              "  <style>\n",
              "    .colab-df-container {\n",
              "      display:flex;\n",
              "      gap: 12px;\n",
              "    }\n",
              "\n",
              "    .colab-df-convert {\n",
              "      background-color: #E8F0FE;\n",
              "      border: none;\n",
              "      border-radius: 50%;\n",
              "      cursor: pointer;\n",
              "      display: none;\n",
              "      fill: #1967D2;\n",
              "      height: 32px;\n",
              "      padding: 0 0 0 0;\n",
              "      width: 32px;\n",
              "    }\n",
              "\n",
              "    .colab-df-convert:hover {\n",
              "      background-color: #E2EBFA;\n",
              "      box-shadow: 0px 1px 2px rgba(60, 64, 67, 0.3), 0px 1px 3px 1px rgba(60, 64, 67, 0.15);\n",
              "      fill: #174EA6;\n",
              "    }\n",
              "\n",
              "    .colab-df-buttons div {\n",
              "      margin-bottom: 4px;\n",
              "    }\n",
              "\n",
              "    [theme=dark] .colab-df-convert {\n",
              "      background-color: #3B4455;\n",
              "      fill: #D2E3FC;\n",
              "    }\n",
              "\n",
              "    [theme=dark] .colab-df-convert:hover {\n",
              "      background-color: #434B5C;\n",
              "      box-shadow: 0px 1px 3px 1px rgba(0, 0, 0, 0.15);\n",
              "      filter: drop-shadow(0px 1px 2px rgba(0, 0, 0, 0.3));\n",
              "      fill: #FFFFFF;\n",
              "    }\n",
              "  </style>\n",
              "\n",
              "    <script>\n",
              "      const buttonEl =\n",
              "        document.querySelector('#df-c22b03fa-eb0a-4fa0-9451-335c7c1d3c88 button.colab-df-convert');\n",
              "      buttonEl.style.display =\n",
              "        google.colab.kernel.accessAllowed ? 'block' : 'none';\n",
              "\n",
              "      async function convertToInteractive(key) {\n",
              "        const element = document.querySelector('#df-c22b03fa-eb0a-4fa0-9451-335c7c1d3c88');\n",
              "        const dataTable =\n",
              "          await google.colab.kernel.invokeFunction('convertToInteractive',\n",
              "                                                    [key], {});\n",
              "        if (!dataTable) return;\n",
              "\n",
              "        const docLinkHtml = 'Like what you see? Visit the ' +\n",
              "          '<a target=\"_blank\" href=https://colab.research.google.com/notebooks/data_table.ipynb>data table notebook</a>'\n",
              "          + ' to learn more about interactive tables.';\n",
              "        element.innerHTML = '';\n",
              "        dataTable['output_type'] = 'display_data';\n",
              "        await google.colab.output.renderOutput(dataTable, element);\n",
              "        const docLink = document.createElement('div');\n",
              "        docLink.innerHTML = docLinkHtml;\n",
              "        element.appendChild(docLink);\n",
              "      }\n",
              "    </script>\n",
              "  </div>\n",
              "\n",
              "\n",
              "<div id=\"df-a994f551-343f-472e-a13a-2aae4096f97a\">\n",
              "  <button class=\"colab-df-quickchart\" onclick=\"quickchart('df-a994f551-343f-472e-a13a-2aae4096f97a')\"\n",
              "            title=\"Suggest charts\"\n",
              "            style=\"display:none;\">\n",
              "\n",
              "<svg xmlns=\"http://www.w3.org/2000/svg\" height=\"24px\"viewBox=\"0 0 24 24\"\n",
              "     width=\"24px\">\n",
              "    <g>\n",
              "        <path d=\"M19 3H5c-1.1 0-2 .9-2 2v14c0 1.1.9 2 2 2h14c1.1 0 2-.9 2-2V5c0-1.1-.9-2-2-2zM9 17H7v-7h2v7zm4 0h-2V7h2v10zm4 0h-2v-4h2v4z\"/>\n",
              "    </g>\n",
              "</svg>\n",
              "  </button>\n",
              "\n",
              "<style>\n",
              "  .colab-df-quickchart {\n",
              "      --bg-color: #E8F0FE;\n",
              "      --fill-color: #1967D2;\n",
              "      --hover-bg-color: #E2EBFA;\n",
              "      --hover-fill-color: #174EA6;\n",
              "      --disabled-fill-color: #AAA;\n",
              "      --disabled-bg-color: #DDD;\n",
              "  }\n",
              "\n",
              "  [theme=dark] .colab-df-quickchart {\n",
              "      --bg-color: #3B4455;\n",
              "      --fill-color: #D2E3FC;\n",
              "      --hover-bg-color: #434B5C;\n",
              "      --hover-fill-color: #FFFFFF;\n",
              "      --disabled-bg-color: #3B4455;\n",
              "      --disabled-fill-color: #666;\n",
              "  }\n",
              "\n",
              "  .colab-df-quickchart {\n",
              "    background-color: var(--bg-color);\n",
              "    border: none;\n",
              "    border-radius: 50%;\n",
              "    cursor: pointer;\n",
              "    display: none;\n",
              "    fill: var(--fill-color);\n",
              "    height: 32px;\n",
              "    padding: 0;\n",
              "    width: 32px;\n",
              "  }\n",
              "\n",
              "  .colab-df-quickchart:hover {\n",
              "    background-color: var(--hover-bg-color);\n",
              "    box-shadow: 0 1px 2px rgba(60, 64, 67, 0.3), 0 1px 3px 1px rgba(60, 64, 67, 0.15);\n",
              "    fill: var(--button-hover-fill-color);\n",
              "  }\n",
              "\n",
              "  .colab-df-quickchart-complete:disabled,\n",
              "  .colab-df-quickchart-complete:disabled:hover {\n",
              "    background-color: var(--disabled-bg-color);\n",
              "    fill: var(--disabled-fill-color);\n",
              "    box-shadow: none;\n",
              "  }\n",
              "\n",
              "  .colab-df-spinner {\n",
              "    border: 2px solid var(--fill-color);\n",
              "    border-color: transparent;\n",
              "    border-bottom-color: var(--fill-color);\n",
              "    animation:\n",
              "      spin 1s steps(1) infinite;\n",
              "  }\n",
              "\n",
              "  @keyframes spin {\n",
              "    0% {\n",
              "      border-color: transparent;\n",
              "      border-bottom-color: var(--fill-color);\n",
              "      border-left-color: var(--fill-color);\n",
              "    }\n",
              "    20% {\n",
              "      border-color: transparent;\n",
              "      border-left-color: var(--fill-color);\n",
              "      border-top-color: var(--fill-color);\n",
              "    }\n",
              "    30% {\n",
              "      border-color: transparent;\n",
              "      border-left-color: var(--fill-color);\n",
              "      border-top-color: var(--fill-color);\n",
              "      border-right-color: var(--fill-color);\n",
              "    }\n",
              "    40% {\n",
              "      border-color: transparent;\n",
              "      border-right-color: var(--fill-color);\n",
              "      border-top-color: var(--fill-color);\n",
              "    }\n",
              "    60% {\n",
              "      border-color: transparent;\n",
              "      border-right-color: var(--fill-color);\n",
              "    }\n",
              "    80% {\n",
              "      border-color: transparent;\n",
              "      border-right-color: var(--fill-color);\n",
              "      border-bottom-color: var(--fill-color);\n",
              "    }\n",
              "    90% {\n",
              "      border-color: transparent;\n",
              "      border-bottom-color: var(--fill-color);\n",
              "    }\n",
              "  }\n",
              "</style>\n",
              "\n",
              "  <script>\n",
              "    async function quickchart(key) {\n",
              "      const quickchartButtonEl =\n",
              "        document.querySelector('#' + key + ' button');\n",
              "      quickchartButtonEl.disabled = true;  // To prevent multiple clicks.\n",
              "      quickchartButtonEl.classList.add('colab-df-spinner');\n",
              "      try {\n",
              "        const charts = await google.colab.kernel.invokeFunction(\n",
              "            'suggestCharts', [key], {});\n",
              "      } catch (error) {\n",
              "        console.error('Error during call to suggestCharts:', error);\n",
              "      }\n",
              "      quickchartButtonEl.classList.remove('colab-df-spinner');\n",
              "      quickchartButtonEl.classList.add('colab-df-quickchart-complete');\n",
              "    }\n",
              "    (() => {\n",
              "      let quickchartButtonEl =\n",
              "        document.querySelector('#df-a994f551-343f-472e-a13a-2aae4096f97a button');\n",
              "      quickchartButtonEl.style.display =\n",
              "        google.colab.kernel.accessAllowed ? 'block' : 'none';\n",
              "    })();\n",
              "  </script>\n",
              "</div>\n",
              "    </div>\n",
              "  </div>\n"
            ],
            "application/vnd.google.colaboratory.intrinsic+json": {
              "type": "dataframe",
              "variable_name": "age_sessions_summed",
              "summary": "{\n  \"name\": \"age_sessions_summed\",\n  \"rows\": 7,\n  \"fields\": [\n    {\n      \"column\": \"Age\",\n      \"properties\": {\n        \"dtype\": \"string\",\n        \"num_unique_values\": 7,\n        \"samples\": [\n          \"18-24\",\n          \"25-34\",\n          \"65+\"\n        ],\n        \"semantic_type\": \"\",\n        \"description\": \"\"\n      }\n    },\n    {\n      \"column\": \"Sessions\",\n      \"properties\": {\n        \"dtype\": \"number\",\n        \"std\": 756853,\n        \"min\": 31017,\n        \"max\": 2107518,\n        \"num_unique_values\": 7,\n        \"samples\": [\n          258006,\n          181334,\n          31017\n        ],\n        \"semantic_type\": \"\",\n        \"description\": \"\"\n      }\n    }\n  ]\n}"
            }
          },
          "metadata": {},
          "execution_count": 119
        }
      ]
    },
    {
      "cell_type": "code",
      "source": [
        "age_sessions_summed.info()"
      ],
      "metadata": {
        "colab": {
          "base_uri": "https://localhost:8080/"
        },
        "id": "3bfkY_gr6nwO",
        "outputId": "64860769-a212-4044-90e4-cd9d90425921"
      },
      "execution_count": 120,
      "outputs": [
        {
          "output_type": "stream",
          "name": "stdout",
          "text": [
            "<class 'pandas.core.frame.DataFrame'>\n",
            "RangeIndex: 7 entries, 0 to 6\n",
            "Data columns (total 2 columns):\n",
            " #   Column    Non-Null Count  Dtype \n",
            "---  ------    --------------  ----- \n",
            " 0   Age       7 non-null      object\n",
            " 1   Sessions  7 non-null      int64 \n",
            "dtypes: int64(1), object(1)\n",
            "memory usage: 240.0+ bytes\n"
          ]
        }
      ]
    },
    {
      "cell_type": "code",
      "source": [
        "age_sessions_summed['Sessions'].describe()"
      ],
      "metadata": {
        "colab": {
          "base_uri": "https://localhost:8080/"
        },
        "id": "3RXj43aDJwhN",
        "outputId": "6906cfe1-a8f4-4a08-926d-e0851895ee77"
      },
      "execution_count": 121,
      "outputs": [
        {
          "output_type": "execute_result",
          "data": {
            "text/plain": [
              "count    7.000000e+00\n",
              "mean     4.008740e+05\n",
              "std      7.568532e+05\n",
              "min      3.101700e+04\n",
              "25%      5.726000e+04\n",
              "50%      1.137230e+05\n",
              "75%      2.196700e+05\n",
              "max      2.107518e+06\n",
              "Name: Sessions, dtype: float64"
            ]
          },
          "metadata": {},
          "execution_count": 121
        }
      ]
    },
    {
      "cell_type": "code",
      "source": [
        "print(f\"Mediana = {age_sessions_summed['Sessions'].median()}\")\n",
        "print(f\"Moda = {age_sessions_summed['Sessions'].mode()[0]}\")\n",
        "print(f\"Variância = {age_sessions_summed['Sessions'].var()}\")"
      ],
      "metadata": {
        "colab": {
          "base_uri": "https://localhost:8080/"
        },
        "id": "1l_qmxVbJWpK",
        "outputId": "4ab6833e-1b94-4b29-ecec-97c660effcfa"
      },
      "execution_count": 122,
      "outputs": [
        {
          "output_type": "stream",
          "name": "stdout",
          "text": [
            "Mediana = 113723.0\n",
            "Moda = 31017\n",
            "Variância = 572826832674.0\n"
          ]
        }
      ]
    },
    {
      "cell_type": "markdown",
      "source": [
        "### Análise Estatística Descritiva"
      ],
      "metadata": {
        "id": "g190RPsKAhrN"
      }
    },
    {
      "cell_type": "markdown",
      "source": [
        "- **Age**: Faixa etária analisada\n",
        "- **Sessions**: Número de sessões, entradas no site.\n",
        "\n",
        "\n",
        "- **Contagem**: Dados disponíveis para todas as faixa etárias.\n",
        "- **Média de Usuários Ativos**: 4.00874\n",
        "- **Mediana de Usuários Ativos**: 113,723\n",
        "- **Moda de Usuários Ativos**: 31,017\n",
        "- **Desvio Padrão**: 7.5685, indicando a variação no número de usuários ativos entre as sessões.\n",
        "- **Variância**: 572826832674\n",
        "- **Mínimo/Máximo**: O mínimo de usuários ativos foi 3.101700e+04 (sexta-feira), e o máximo foi 2.107518e+06 (quinta-feira)."
      ],
      "metadata": {
        "id": "5l1YEWsSJV6L"
      }
    },
    {
      "cell_type": "markdown",
      "source": [
        "### Visualização dos dados"
      ],
      "metadata": {
        "id": "LV-i4cFl_hFc"
      }
    },
    {
      "cell_type": "code",
      "source": [
        "# Criar um gráfico de barras com Plotly\n",
        "fig = px.bar(age_sessions_summed, x='Age', y='Sessions', title='Quantidade de sessões por faixa etária')\n",
        "\n",
        "# Mostrar o gráfico\n",
        "fig.show()"
      ],
      "metadata": {
        "colab": {
          "base_uri": "https://localhost:8080/",
          "height": 542
        },
        "id": "38MayOCj_jqR",
        "outputId": "f7524473-235a-418b-8655-c926742bbf69"
      },
      "execution_count": 123,
      "outputs": [
        {
          "output_type": "display_data",
          "data": {
            "text/html": [
              "<html>\n",
              "<head><meta charset=\"utf-8\" /></head>\n",
              "<body>\n",
              "    <div>            <script src=\"https://cdnjs.cloudflare.com/ajax/libs/mathjax/2.7.5/MathJax.js?config=TeX-AMS-MML_SVG\"></script><script type=\"text/javascript\">if (window.MathJax && window.MathJax.Hub && window.MathJax.Hub.Config) {window.MathJax.Hub.Config({SVG: {font: \"STIX-Web\"}});}</script>                <script type=\"text/javascript\">window.PlotlyConfig = {MathJaxConfig: 'local'};</script>\n",
              "        <script charset=\"utf-8\" src=\"https://cdn.plot.ly/plotly-2.24.1.min.js\"></script>                <div id=\"12fd52e7-8240-4670-b8b6-7033a9294e6f\" class=\"plotly-graph-div\" style=\"height:525px; width:100%;\"></div>            <script type=\"text/javascript\">                                    window.PLOTLYENV=window.PLOTLYENV || {};                                    if (document.getElementById(\"12fd52e7-8240-4670-b8b6-7033a9294e6f\")) {                    Plotly.newPlot(                        \"12fd52e7-8240-4670-b8b6-7033a9294e6f\",                        [{\"alignmentgroup\":\"True\",\"hovertemplate\":\"Age=%{x}\\u003cbr\\u003eSessions=%{y}\\u003cextra\\u003e\\u003c\\u002fextra\\u003e\",\"legendgroup\":\"\",\"marker\":{\"color\":\"#636efa\",\"pattern\":{\"shape\":\"\"}},\"name\":\"\",\"offsetgroup\":\"\",\"orientation\":\"v\",\"showlegend\":false,\"textposition\":\"auto\",\"x\":[\"18-24\",\"25-34\",\"35-44\",\"45-54\",\"55-64\",\"65+\",\"unknown\"],\"xaxis\":\"x\",\"y\":[258006,181334,113723,70049,44471,31017,2107518],\"yaxis\":\"y\",\"type\":\"bar\"}],                        {\"template\":{\"data\":{\"histogram2dcontour\":[{\"type\":\"histogram2dcontour\",\"colorbar\":{\"outlinewidth\":0,\"ticks\":\"\"},\"colorscale\":[[0.0,\"#0d0887\"],[0.1111111111111111,\"#46039f\"],[0.2222222222222222,\"#7201a8\"],[0.3333333333333333,\"#9c179e\"],[0.4444444444444444,\"#bd3786\"],[0.5555555555555556,\"#d8576b\"],[0.6666666666666666,\"#ed7953\"],[0.7777777777777778,\"#fb9f3a\"],[0.8888888888888888,\"#fdca26\"],[1.0,\"#f0f921\"]]}],\"choropleth\":[{\"type\":\"choropleth\",\"colorbar\":{\"outlinewidth\":0,\"ticks\":\"\"}}],\"histogram2d\":[{\"type\":\"histogram2d\",\"colorbar\":{\"outlinewidth\":0,\"ticks\":\"\"},\"colorscale\":[[0.0,\"#0d0887\"],[0.1111111111111111,\"#46039f\"],[0.2222222222222222,\"#7201a8\"],[0.3333333333333333,\"#9c179e\"],[0.4444444444444444,\"#bd3786\"],[0.5555555555555556,\"#d8576b\"],[0.6666666666666666,\"#ed7953\"],[0.7777777777777778,\"#fb9f3a\"],[0.8888888888888888,\"#fdca26\"],[1.0,\"#f0f921\"]]}],\"heatmap\":[{\"type\":\"heatmap\",\"colorbar\":{\"outlinewidth\":0,\"ticks\":\"\"},\"colorscale\":[[0.0,\"#0d0887\"],[0.1111111111111111,\"#46039f\"],[0.2222222222222222,\"#7201a8\"],[0.3333333333333333,\"#9c179e\"],[0.4444444444444444,\"#bd3786\"],[0.5555555555555556,\"#d8576b\"],[0.6666666666666666,\"#ed7953\"],[0.7777777777777778,\"#fb9f3a\"],[0.8888888888888888,\"#fdca26\"],[1.0,\"#f0f921\"]]}],\"heatmapgl\":[{\"type\":\"heatmapgl\",\"colorbar\":{\"outlinewidth\":0,\"ticks\":\"\"},\"colorscale\":[[0.0,\"#0d0887\"],[0.1111111111111111,\"#46039f\"],[0.2222222222222222,\"#7201a8\"],[0.3333333333333333,\"#9c179e\"],[0.4444444444444444,\"#bd3786\"],[0.5555555555555556,\"#d8576b\"],[0.6666666666666666,\"#ed7953\"],[0.7777777777777778,\"#fb9f3a\"],[0.8888888888888888,\"#fdca26\"],[1.0,\"#f0f921\"]]}],\"contourcarpet\":[{\"type\":\"contourcarpet\",\"colorbar\":{\"outlinewidth\":0,\"ticks\":\"\"}}],\"contour\":[{\"type\":\"contour\",\"colorbar\":{\"outlinewidth\":0,\"ticks\":\"\"},\"colorscale\":[[0.0,\"#0d0887\"],[0.1111111111111111,\"#46039f\"],[0.2222222222222222,\"#7201a8\"],[0.3333333333333333,\"#9c179e\"],[0.4444444444444444,\"#bd3786\"],[0.5555555555555556,\"#d8576b\"],[0.6666666666666666,\"#ed7953\"],[0.7777777777777778,\"#fb9f3a\"],[0.8888888888888888,\"#fdca26\"],[1.0,\"#f0f921\"]]}],\"surface\":[{\"type\":\"surface\",\"colorbar\":{\"outlinewidth\":0,\"ticks\":\"\"},\"colorscale\":[[0.0,\"#0d0887\"],[0.1111111111111111,\"#46039f\"],[0.2222222222222222,\"#7201a8\"],[0.3333333333333333,\"#9c179e\"],[0.4444444444444444,\"#bd3786\"],[0.5555555555555556,\"#d8576b\"],[0.6666666666666666,\"#ed7953\"],[0.7777777777777778,\"#fb9f3a\"],[0.8888888888888888,\"#fdca26\"],[1.0,\"#f0f921\"]]}],\"mesh3d\":[{\"type\":\"mesh3d\",\"colorbar\":{\"outlinewidth\":0,\"ticks\":\"\"}}],\"scatter\":[{\"fillpattern\":{\"fillmode\":\"overlay\",\"size\":10,\"solidity\":0.2},\"type\":\"scatter\"}],\"parcoords\":[{\"type\":\"parcoords\",\"line\":{\"colorbar\":{\"outlinewidth\":0,\"ticks\":\"\"}}}],\"scatterpolargl\":[{\"type\":\"scatterpolargl\",\"marker\":{\"colorbar\":{\"outlinewidth\":0,\"ticks\":\"\"}}}],\"bar\":[{\"error_x\":{\"color\":\"#2a3f5f\"},\"error_y\":{\"color\":\"#2a3f5f\"},\"marker\":{\"line\":{\"color\":\"#E5ECF6\",\"width\":0.5},\"pattern\":{\"fillmode\":\"overlay\",\"size\":10,\"solidity\":0.2}},\"type\":\"bar\"}],\"scattergeo\":[{\"type\":\"scattergeo\",\"marker\":{\"colorbar\":{\"outlinewidth\":0,\"ticks\":\"\"}}}],\"scatterpolar\":[{\"type\":\"scatterpolar\",\"marker\":{\"colorbar\":{\"outlinewidth\":0,\"ticks\":\"\"}}}],\"histogram\":[{\"marker\":{\"pattern\":{\"fillmode\":\"overlay\",\"size\":10,\"solidity\":0.2}},\"type\":\"histogram\"}],\"scattergl\":[{\"type\":\"scattergl\",\"marker\":{\"colorbar\":{\"outlinewidth\":0,\"ticks\":\"\"}}}],\"scatter3d\":[{\"type\":\"scatter3d\",\"line\":{\"colorbar\":{\"outlinewidth\":0,\"ticks\":\"\"}},\"marker\":{\"colorbar\":{\"outlinewidth\":0,\"ticks\":\"\"}}}],\"scattermapbox\":[{\"type\":\"scattermapbox\",\"marker\":{\"colorbar\":{\"outlinewidth\":0,\"ticks\":\"\"}}}],\"scatterternary\":[{\"type\":\"scatterternary\",\"marker\":{\"colorbar\":{\"outlinewidth\":0,\"ticks\":\"\"}}}],\"scattercarpet\":[{\"type\":\"scattercarpet\",\"marker\":{\"colorbar\":{\"outlinewidth\":0,\"ticks\":\"\"}}}],\"carpet\":[{\"aaxis\":{\"endlinecolor\":\"#2a3f5f\",\"gridcolor\":\"white\",\"linecolor\":\"white\",\"minorgridcolor\":\"white\",\"startlinecolor\":\"#2a3f5f\"},\"baxis\":{\"endlinecolor\":\"#2a3f5f\",\"gridcolor\":\"white\",\"linecolor\":\"white\",\"minorgridcolor\":\"white\",\"startlinecolor\":\"#2a3f5f\"},\"type\":\"carpet\"}],\"table\":[{\"cells\":{\"fill\":{\"color\":\"#EBF0F8\"},\"line\":{\"color\":\"white\"}},\"header\":{\"fill\":{\"color\":\"#C8D4E3\"},\"line\":{\"color\":\"white\"}},\"type\":\"table\"}],\"barpolar\":[{\"marker\":{\"line\":{\"color\":\"#E5ECF6\",\"width\":0.5},\"pattern\":{\"fillmode\":\"overlay\",\"size\":10,\"solidity\":0.2}},\"type\":\"barpolar\"}],\"pie\":[{\"automargin\":true,\"type\":\"pie\"}]},\"layout\":{\"autotypenumbers\":\"strict\",\"colorway\":[\"#636efa\",\"#EF553B\",\"#00cc96\",\"#ab63fa\",\"#FFA15A\",\"#19d3f3\",\"#FF6692\",\"#B6E880\",\"#FF97FF\",\"#FECB52\"],\"font\":{\"color\":\"#2a3f5f\"},\"hovermode\":\"closest\",\"hoverlabel\":{\"align\":\"left\"},\"paper_bgcolor\":\"white\",\"plot_bgcolor\":\"#E5ECF6\",\"polar\":{\"bgcolor\":\"#E5ECF6\",\"angularaxis\":{\"gridcolor\":\"white\",\"linecolor\":\"white\",\"ticks\":\"\"},\"radialaxis\":{\"gridcolor\":\"white\",\"linecolor\":\"white\",\"ticks\":\"\"}},\"ternary\":{\"bgcolor\":\"#E5ECF6\",\"aaxis\":{\"gridcolor\":\"white\",\"linecolor\":\"white\",\"ticks\":\"\"},\"baxis\":{\"gridcolor\":\"white\",\"linecolor\":\"white\",\"ticks\":\"\"},\"caxis\":{\"gridcolor\":\"white\",\"linecolor\":\"white\",\"ticks\":\"\"}},\"coloraxis\":{\"colorbar\":{\"outlinewidth\":0,\"ticks\":\"\"}},\"colorscale\":{\"sequential\":[[0.0,\"#0d0887\"],[0.1111111111111111,\"#46039f\"],[0.2222222222222222,\"#7201a8\"],[0.3333333333333333,\"#9c179e\"],[0.4444444444444444,\"#bd3786\"],[0.5555555555555556,\"#d8576b\"],[0.6666666666666666,\"#ed7953\"],[0.7777777777777778,\"#fb9f3a\"],[0.8888888888888888,\"#fdca26\"],[1.0,\"#f0f921\"]],\"sequentialminus\":[[0.0,\"#0d0887\"],[0.1111111111111111,\"#46039f\"],[0.2222222222222222,\"#7201a8\"],[0.3333333333333333,\"#9c179e\"],[0.4444444444444444,\"#bd3786\"],[0.5555555555555556,\"#d8576b\"],[0.6666666666666666,\"#ed7953\"],[0.7777777777777778,\"#fb9f3a\"],[0.8888888888888888,\"#fdca26\"],[1.0,\"#f0f921\"]],\"diverging\":[[0,\"#8e0152\"],[0.1,\"#c51b7d\"],[0.2,\"#de77ae\"],[0.3,\"#f1b6da\"],[0.4,\"#fde0ef\"],[0.5,\"#f7f7f7\"],[0.6,\"#e6f5d0\"],[0.7,\"#b8e186\"],[0.8,\"#7fbc41\"],[0.9,\"#4d9221\"],[1,\"#276419\"]]},\"xaxis\":{\"gridcolor\":\"white\",\"linecolor\":\"white\",\"ticks\":\"\",\"title\":{\"standoff\":15},\"zerolinecolor\":\"white\",\"automargin\":true,\"zerolinewidth\":2},\"yaxis\":{\"gridcolor\":\"white\",\"linecolor\":\"white\",\"ticks\":\"\",\"title\":{\"standoff\":15},\"zerolinecolor\":\"white\",\"automargin\":true,\"zerolinewidth\":2},\"scene\":{\"xaxis\":{\"backgroundcolor\":\"#E5ECF6\",\"gridcolor\":\"white\",\"linecolor\":\"white\",\"showbackground\":true,\"ticks\":\"\",\"zerolinecolor\":\"white\",\"gridwidth\":2},\"yaxis\":{\"backgroundcolor\":\"#E5ECF6\",\"gridcolor\":\"white\",\"linecolor\":\"white\",\"showbackground\":true,\"ticks\":\"\",\"zerolinecolor\":\"white\",\"gridwidth\":2},\"zaxis\":{\"backgroundcolor\":\"#E5ECF6\",\"gridcolor\":\"white\",\"linecolor\":\"white\",\"showbackground\":true,\"ticks\":\"\",\"zerolinecolor\":\"white\",\"gridwidth\":2}},\"shapedefaults\":{\"line\":{\"color\":\"#2a3f5f\"}},\"annotationdefaults\":{\"arrowcolor\":\"#2a3f5f\",\"arrowhead\":0,\"arrowwidth\":1},\"geo\":{\"bgcolor\":\"white\",\"landcolor\":\"#E5ECF6\",\"subunitcolor\":\"white\",\"showland\":true,\"showlakes\":true,\"lakecolor\":\"white\"},\"title\":{\"x\":0.05},\"mapbox\":{\"style\":\"light\"}}},\"xaxis\":{\"anchor\":\"y\",\"domain\":[0.0,1.0],\"title\":{\"text\":\"Age\"}},\"yaxis\":{\"anchor\":\"x\",\"domain\":[0.0,1.0],\"title\":{\"text\":\"Sessions\"}},\"legend\":{\"tracegroupgap\":0},\"title\":{\"text\":\"Quantidade de sess\\u00f5es por faixa et\\u00e1ria\"},\"barmode\":\"relative\"},                        {\"responsive\": true}                    ).then(function(){\n",
              "                            \n",
              "var gd = document.getElementById('12fd52e7-8240-4670-b8b6-7033a9294e6f');\n",
              "var x = new MutationObserver(function (mutations, observer) {{\n",
              "        var display = window.getComputedStyle(gd).display;\n",
              "        if (!display || display === 'none') {{\n",
              "            console.log([gd, 'removed!']);\n",
              "            Plotly.purge(gd);\n",
              "            observer.disconnect();\n",
              "        }}\n",
              "}});\n",
              "\n",
              "// Listen for the removal of the full notebook cells\n",
              "var notebookContainer = gd.closest('#notebook-container');\n",
              "if (notebookContainer) {{\n",
              "    x.observe(notebookContainer, {childList: true});\n",
              "}}\n",
              "\n",
              "// Listen for the clearing of the current output cell\n",
              "var outputEl = gd.closest('.output');\n",
              "if (outputEl) {{\n",
              "    x.observe(outputEl, {childList: true});\n",
              "}}\n",
              "\n",
              "                        })                };                            </script>        </div>\n",
              "</body>\n",
              "</html>"
            ]
          },
          "metadata": {}
        }
      ]
    },
    {
      "cell_type": "markdown",
      "source": [
        "### Identificação de Outliers"
      ],
      "metadata": {
        "id": "FK6T2SyB_j34"
      }
    },
    {
      "cell_type": "code",
      "source": [],
      "metadata": {
        "id": "Zf_K4d1-_mHj"
      },
      "execution_count": 123,
      "outputs": []
    },
    {
      "cell_type": "markdown",
      "source": [
        "## Usuários por hora"
      ],
      "metadata": {
        "id": "bJqrW5olly2G"
      }
    },
    {
      "cell_type": "code",
      "source": [
        "hour_users_combined = pd.concat([hour_users_big_numbers_2023, hour_users_big_numbers_2024])\n",
        "hour_users_summed = hour_users_combined.groupby('Hour', as_index=False).sum()\n",
        "hour_users_summed"
      ],
      "metadata": {
        "colab": {
          "base_uri": "https://localhost:8080/",
          "height": 802
        },
        "id": "JMxnKUGWmHEm",
        "outputId": "b7c5d30a-fb50-4924-e294-af2ac5d2e130"
      },
      "execution_count": 124,
      "outputs": [
        {
          "output_type": "execute_result",
          "data": {
            "text/plain": [
              "    Hour  Active users\n",
              "0      0         73786\n",
              "1      1         44045\n",
              "2      2         25456\n",
              "3      3         16641\n",
              "4      4         14109\n",
              "5      5         21488\n",
              "6      6         47136\n",
              "7      7         71611\n",
              "8      8         88756\n",
              "9      9        104255\n",
              "10    10        116518\n",
              "11    11        128718\n",
              "12    12        143894\n",
              "13    13        145191\n",
              "14    14        146481\n",
              "15    15        146348\n",
              "16    16        144898\n",
              "17    17        150960\n",
              "18    18        171317\n",
              "19    19        185201\n",
              "20    20        193222\n",
              "21    21        184531\n",
              "22    22        169823\n",
              "23    23        128883"
            ],
            "text/html": [
              "\n",
              "  <div id=\"df-9b27758a-922d-442b-85bb-505775717c0e\" class=\"colab-df-container\">\n",
              "    <div>\n",
              "<style scoped>\n",
              "    .dataframe tbody tr th:only-of-type {\n",
              "        vertical-align: middle;\n",
              "    }\n",
              "\n",
              "    .dataframe tbody tr th {\n",
              "        vertical-align: top;\n",
              "    }\n",
              "\n",
              "    .dataframe thead th {\n",
              "        text-align: right;\n",
              "    }\n",
              "</style>\n",
              "<table border=\"1\" class=\"dataframe\">\n",
              "  <thead>\n",
              "    <tr style=\"text-align: right;\">\n",
              "      <th></th>\n",
              "      <th>Hour</th>\n",
              "      <th>Active users</th>\n",
              "    </tr>\n",
              "  </thead>\n",
              "  <tbody>\n",
              "    <tr>\n",
              "      <th>0</th>\n",
              "      <td>0</td>\n",
              "      <td>73786</td>\n",
              "    </tr>\n",
              "    <tr>\n",
              "      <th>1</th>\n",
              "      <td>1</td>\n",
              "      <td>44045</td>\n",
              "    </tr>\n",
              "    <tr>\n",
              "      <th>2</th>\n",
              "      <td>2</td>\n",
              "      <td>25456</td>\n",
              "    </tr>\n",
              "    <tr>\n",
              "      <th>3</th>\n",
              "      <td>3</td>\n",
              "      <td>16641</td>\n",
              "    </tr>\n",
              "    <tr>\n",
              "      <th>4</th>\n",
              "      <td>4</td>\n",
              "      <td>14109</td>\n",
              "    </tr>\n",
              "    <tr>\n",
              "      <th>5</th>\n",
              "      <td>5</td>\n",
              "      <td>21488</td>\n",
              "    </tr>\n",
              "    <tr>\n",
              "      <th>6</th>\n",
              "      <td>6</td>\n",
              "      <td>47136</td>\n",
              "    </tr>\n",
              "    <tr>\n",
              "      <th>7</th>\n",
              "      <td>7</td>\n",
              "      <td>71611</td>\n",
              "    </tr>\n",
              "    <tr>\n",
              "      <th>8</th>\n",
              "      <td>8</td>\n",
              "      <td>88756</td>\n",
              "    </tr>\n",
              "    <tr>\n",
              "      <th>9</th>\n",
              "      <td>9</td>\n",
              "      <td>104255</td>\n",
              "    </tr>\n",
              "    <tr>\n",
              "      <th>10</th>\n",
              "      <td>10</td>\n",
              "      <td>116518</td>\n",
              "    </tr>\n",
              "    <tr>\n",
              "      <th>11</th>\n",
              "      <td>11</td>\n",
              "      <td>128718</td>\n",
              "    </tr>\n",
              "    <tr>\n",
              "      <th>12</th>\n",
              "      <td>12</td>\n",
              "      <td>143894</td>\n",
              "    </tr>\n",
              "    <tr>\n",
              "      <th>13</th>\n",
              "      <td>13</td>\n",
              "      <td>145191</td>\n",
              "    </tr>\n",
              "    <tr>\n",
              "      <th>14</th>\n",
              "      <td>14</td>\n",
              "      <td>146481</td>\n",
              "    </tr>\n",
              "    <tr>\n",
              "      <th>15</th>\n",
              "      <td>15</td>\n",
              "      <td>146348</td>\n",
              "    </tr>\n",
              "    <tr>\n",
              "      <th>16</th>\n",
              "      <td>16</td>\n",
              "      <td>144898</td>\n",
              "    </tr>\n",
              "    <tr>\n",
              "      <th>17</th>\n",
              "      <td>17</td>\n",
              "      <td>150960</td>\n",
              "    </tr>\n",
              "    <tr>\n",
              "      <th>18</th>\n",
              "      <td>18</td>\n",
              "      <td>171317</td>\n",
              "    </tr>\n",
              "    <tr>\n",
              "      <th>19</th>\n",
              "      <td>19</td>\n",
              "      <td>185201</td>\n",
              "    </tr>\n",
              "    <tr>\n",
              "      <th>20</th>\n",
              "      <td>20</td>\n",
              "      <td>193222</td>\n",
              "    </tr>\n",
              "    <tr>\n",
              "      <th>21</th>\n",
              "      <td>21</td>\n",
              "      <td>184531</td>\n",
              "    </tr>\n",
              "    <tr>\n",
              "      <th>22</th>\n",
              "      <td>22</td>\n",
              "      <td>169823</td>\n",
              "    </tr>\n",
              "    <tr>\n",
              "      <th>23</th>\n",
              "      <td>23</td>\n",
              "      <td>128883</td>\n",
              "    </tr>\n",
              "  </tbody>\n",
              "</table>\n",
              "</div>\n",
              "    <div class=\"colab-df-buttons\">\n",
              "\n",
              "  <div class=\"colab-df-container\">\n",
              "    <button class=\"colab-df-convert\" onclick=\"convertToInteractive('df-9b27758a-922d-442b-85bb-505775717c0e')\"\n",
              "            title=\"Convert this dataframe to an interactive table.\"\n",
              "            style=\"display:none;\">\n",
              "\n",
              "  <svg xmlns=\"http://www.w3.org/2000/svg\" height=\"24px\" viewBox=\"0 -960 960 960\">\n",
              "    <path d=\"M120-120v-720h720v720H120Zm60-500h600v-160H180v160Zm220 220h160v-160H400v160Zm0 220h160v-160H400v160ZM180-400h160v-160H180v160Zm440 0h160v-160H620v160ZM180-180h160v-160H180v160Zm440 0h160v-160H620v160Z\"/>\n",
              "  </svg>\n",
              "    </button>\n",
              "\n",
              "  <style>\n",
              "    .colab-df-container {\n",
              "      display:flex;\n",
              "      gap: 12px;\n",
              "    }\n",
              "\n",
              "    .colab-df-convert {\n",
              "      background-color: #E8F0FE;\n",
              "      border: none;\n",
              "      border-radius: 50%;\n",
              "      cursor: pointer;\n",
              "      display: none;\n",
              "      fill: #1967D2;\n",
              "      height: 32px;\n",
              "      padding: 0 0 0 0;\n",
              "      width: 32px;\n",
              "    }\n",
              "\n",
              "    .colab-df-convert:hover {\n",
              "      background-color: #E2EBFA;\n",
              "      box-shadow: 0px 1px 2px rgba(60, 64, 67, 0.3), 0px 1px 3px 1px rgba(60, 64, 67, 0.15);\n",
              "      fill: #174EA6;\n",
              "    }\n",
              "\n",
              "    .colab-df-buttons div {\n",
              "      margin-bottom: 4px;\n",
              "    }\n",
              "\n",
              "    [theme=dark] .colab-df-convert {\n",
              "      background-color: #3B4455;\n",
              "      fill: #D2E3FC;\n",
              "    }\n",
              "\n",
              "    [theme=dark] .colab-df-convert:hover {\n",
              "      background-color: #434B5C;\n",
              "      box-shadow: 0px 1px 3px 1px rgba(0, 0, 0, 0.15);\n",
              "      filter: drop-shadow(0px 1px 2px rgba(0, 0, 0, 0.3));\n",
              "      fill: #FFFFFF;\n",
              "    }\n",
              "  </style>\n",
              "\n",
              "    <script>\n",
              "      const buttonEl =\n",
              "        document.querySelector('#df-9b27758a-922d-442b-85bb-505775717c0e button.colab-df-convert');\n",
              "      buttonEl.style.display =\n",
              "        google.colab.kernel.accessAllowed ? 'block' : 'none';\n",
              "\n",
              "      async function convertToInteractive(key) {\n",
              "        const element = document.querySelector('#df-9b27758a-922d-442b-85bb-505775717c0e');\n",
              "        const dataTable =\n",
              "          await google.colab.kernel.invokeFunction('convertToInteractive',\n",
              "                                                    [key], {});\n",
              "        if (!dataTable) return;\n",
              "\n",
              "        const docLinkHtml = 'Like what you see? Visit the ' +\n",
              "          '<a target=\"_blank\" href=https://colab.research.google.com/notebooks/data_table.ipynb>data table notebook</a>'\n",
              "          + ' to learn more about interactive tables.';\n",
              "        element.innerHTML = '';\n",
              "        dataTable['output_type'] = 'display_data';\n",
              "        await google.colab.output.renderOutput(dataTable, element);\n",
              "        const docLink = document.createElement('div');\n",
              "        docLink.innerHTML = docLinkHtml;\n",
              "        element.appendChild(docLink);\n",
              "      }\n",
              "    </script>\n",
              "  </div>\n",
              "\n",
              "\n",
              "<div id=\"df-096689a1-6524-4ea7-af8b-1a94015e4a48\">\n",
              "  <button class=\"colab-df-quickchart\" onclick=\"quickchart('df-096689a1-6524-4ea7-af8b-1a94015e4a48')\"\n",
              "            title=\"Suggest charts\"\n",
              "            style=\"display:none;\">\n",
              "\n",
              "<svg xmlns=\"http://www.w3.org/2000/svg\" height=\"24px\"viewBox=\"0 0 24 24\"\n",
              "     width=\"24px\">\n",
              "    <g>\n",
              "        <path d=\"M19 3H5c-1.1 0-2 .9-2 2v14c0 1.1.9 2 2 2h14c1.1 0 2-.9 2-2V5c0-1.1-.9-2-2-2zM9 17H7v-7h2v7zm4 0h-2V7h2v10zm4 0h-2v-4h2v4z\"/>\n",
              "    </g>\n",
              "</svg>\n",
              "  </button>\n",
              "\n",
              "<style>\n",
              "  .colab-df-quickchart {\n",
              "      --bg-color: #E8F0FE;\n",
              "      --fill-color: #1967D2;\n",
              "      --hover-bg-color: #E2EBFA;\n",
              "      --hover-fill-color: #174EA6;\n",
              "      --disabled-fill-color: #AAA;\n",
              "      --disabled-bg-color: #DDD;\n",
              "  }\n",
              "\n",
              "  [theme=dark] .colab-df-quickchart {\n",
              "      --bg-color: #3B4455;\n",
              "      --fill-color: #D2E3FC;\n",
              "      --hover-bg-color: #434B5C;\n",
              "      --hover-fill-color: #FFFFFF;\n",
              "      --disabled-bg-color: #3B4455;\n",
              "      --disabled-fill-color: #666;\n",
              "  }\n",
              "\n",
              "  .colab-df-quickchart {\n",
              "    background-color: var(--bg-color);\n",
              "    border: none;\n",
              "    border-radius: 50%;\n",
              "    cursor: pointer;\n",
              "    display: none;\n",
              "    fill: var(--fill-color);\n",
              "    height: 32px;\n",
              "    padding: 0;\n",
              "    width: 32px;\n",
              "  }\n",
              "\n",
              "  .colab-df-quickchart:hover {\n",
              "    background-color: var(--hover-bg-color);\n",
              "    box-shadow: 0 1px 2px rgba(60, 64, 67, 0.3), 0 1px 3px 1px rgba(60, 64, 67, 0.15);\n",
              "    fill: var(--button-hover-fill-color);\n",
              "  }\n",
              "\n",
              "  .colab-df-quickchart-complete:disabled,\n",
              "  .colab-df-quickchart-complete:disabled:hover {\n",
              "    background-color: var(--disabled-bg-color);\n",
              "    fill: var(--disabled-fill-color);\n",
              "    box-shadow: none;\n",
              "  }\n",
              "\n",
              "  .colab-df-spinner {\n",
              "    border: 2px solid var(--fill-color);\n",
              "    border-color: transparent;\n",
              "    border-bottom-color: var(--fill-color);\n",
              "    animation:\n",
              "      spin 1s steps(1) infinite;\n",
              "  }\n",
              "\n",
              "  @keyframes spin {\n",
              "    0% {\n",
              "      border-color: transparent;\n",
              "      border-bottom-color: var(--fill-color);\n",
              "      border-left-color: var(--fill-color);\n",
              "    }\n",
              "    20% {\n",
              "      border-color: transparent;\n",
              "      border-left-color: var(--fill-color);\n",
              "      border-top-color: var(--fill-color);\n",
              "    }\n",
              "    30% {\n",
              "      border-color: transparent;\n",
              "      border-left-color: var(--fill-color);\n",
              "      border-top-color: var(--fill-color);\n",
              "      border-right-color: var(--fill-color);\n",
              "    }\n",
              "    40% {\n",
              "      border-color: transparent;\n",
              "      border-right-color: var(--fill-color);\n",
              "      border-top-color: var(--fill-color);\n",
              "    }\n",
              "    60% {\n",
              "      border-color: transparent;\n",
              "      border-right-color: var(--fill-color);\n",
              "    }\n",
              "    80% {\n",
              "      border-color: transparent;\n",
              "      border-right-color: var(--fill-color);\n",
              "      border-bottom-color: var(--fill-color);\n",
              "    }\n",
              "    90% {\n",
              "      border-color: transparent;\n",
              "      border-bottom-color: var(--fill-color);\n",
              "    }\n",
              "  }\n",
              "</style>\n",
              "\n",
              "  <script>\n",
              "    async function quickchart(key) {\n",
              "      const quickchartButtonEl =\n",
              "        document.querySelector('#' + key + ' button');\n",
              "      quickchartButtonEl.disabled = true;  // To prevent multiple clicks.\n",
              "      quickchartButtonEl.classList.add('colab-df-spinner');\n",
              "      try {\n",
              "        const charts = await google.colab.kernel.invokeFunction(\n",
              "            'suggestCharts', [key], {});\n",
              "      } catch (error) {\n",
              "        console.error('Error during call to suggestCharts:', error);\n",
              "      }\n",
              "      quickchartButtonEl.classList.remove('colab-df-spinner');\n",
              "      quickchartButtonEl.classList.add('colab-df-quickchart-complete');\n",
              "    }\n",
              "    (() => {\n",
              "      let quickchartButtonEl =\n",
              "        document.querySelector('#df-096689a1-6524-4ea7-af8b-1a94015e4a48 button');\n",
              "      quickchartButtonEl.style.display =\n",
              "        google.colab.kernel.accessAllowed ? 'block' : 'none';\n",
              "    })();\n",
              "  </script>\n",
              "</div>\n",
              "    </div>\n",
              "  </div>\n"
            ],
            "application/vnd.google.colaboratory.intrinsic+json": {
              "type": "dataframe",
              "variable_name": "hour_users_summed",
              "summary": "{\n  \"name\": \"hour_users_summed\",\n  \"rows\": 24,\n  \"fields\": [\n    {\n      \"column\": \"Hour\",\n      \"properties\": {\n        \"dtype\": \"number\",\n        \"std\": 7,\n        \"min\": 0,\n        \"max\": 23,\n        \"num_unique_values\": 24,\n        \"samples\": [\n          8,\n          16,\n          0\n        ],\n        \"semantic_type\": \"\",\n        \"description\": \"\"\n      }\n    },\n    {\n      \"column\": \"Active users\",\n      \"properties\": {\n        \"dtype\": \"number\",\n        \"std\": 58458,\n        \"min\": 14109,\n        \"max\": 193222,\n        \"num_unique_values\": 24,\n        \"samples\": [\n          88756,\n          144898,\n          73786\n        ],\n        \"semantic_type\": \"\",\n        \"description\": \"\"\n      }\n    }\n  ]\n}"
            }
          },
          "metadata": {},
          "execution_count": 124
        }
      ]
    },
    {
      "cell_type": "code",
      "source": [
        "hour_users_summed.info()"
      ],
      "metadata": {
        "colab": {
          "base_uri": "https://localhost:8080/"
        },
        "id": "T8q3EvJb6wrJ",
        "outputId": "57550664-5e62-4107-92d6-ab4aefc4b4cd"
      },
      "execution_count": 125,
      "outputs": [
        {
          "output_type": "stream",
          "name": "stdout",
          "text": [
            "<class 'pandas.core.frame.DataFrame'>\n",
            "RangeIndex: 24 entries, 0 to 23\n",
            "Data columns (total 2 columns):\n",
            " #   Column        Non-Null Count  Dtype\n",
            "---  ------        --------------  -----\n",
            " 0   Hour          24 non-null     int64\n",
            " 1   Active users  24 non-null     int64\n",
            "dtypes: int64(2)\n",
            "memory usage: 512.0 bytes\n"
          ]
        }
      ]
    },
    {
      "cell_type": "code",
      "source": [
        "hour_users_summed['Active users'].describe()"
      ],
      "metadata": {
        "colab": {
          "base_uri": "https://localhost:8080/"
        },
        "id": "FvE7sreH7yO0",
        "outputId": "acc6d2a2-752d-4abd-8c43-5aa87c6bb047"
      },
      "execution_count": 126,
      "outputs": [
        {
          "output_type": "execute_result",
          "data": {
            "text/plain": [
              "count        24.000000\n",
              "mean     110969.500000\n",
              "std       58458.718955\n",
              "min       14109.000000\n",
              "25%       65492.250000\n",
              "50%      128800.500000\n",
              "75%      147600.750000\n",
              "max      193222.000000\n",
              "Name: Active users, dtype: float64"
            ]
          },
          "metadata": {},
          "execution_count": 126
        }
      ]
    },
    {
      "cell_type": "code",
      "source": [
        "print(f\"Mediana = {hour_users_summed['Active users'].median()}\")\n",
        "print(f\"Moda = {hour_users_summed['Active users'].mode()[0]}\")\n",
        "print(f\"Variância = {hour_users_summed['Active users'].var()}\")\n",
        "\n",
        "q1 = hour_users_summed['Active users'].quantile(0.25)\n",
        "q3 = hour_users_summed['Active users'].quantile(0.75)\n",
        "iqr = q3 - q1\n",
        "print(f\"Diferença do primeiro para o terceiro quartil = {iqr}\")"
      ],
      "metadata": {
        "colab": {
          "base_uri": "https://localhost:8080/"
        },
        "id": "sx1OYw2nHxF5",
        "outputId": "e579e4ed-cab0-4fce-95e6-c136afbbaaa9"
      },
      "execution_count": 127,
      "outputs": [
        {
          "output_type": "stream",
          "name": "stdout",
          "text": [
            "Mediana = 128800.5\n",
            "Moda = 14109\n",
            "Variância = 3417421821.826087\n",
            "Diferença do primeiro para o terceiro quartil = 82108.5\n"
          ]
        }
      ]
    },
    {
      "cell_type": "markdown",
      "source": [
        "### Análise Estatística Descritiva"
      ],
      "metadata": {
        "id": "HlM-BraRAfwc"
      }
    },
    {
      "cell_type": "markdown",
      "source": [
        "- **Hour**: Representa os horários do dia, demonstrando momentos que o usuário pode logar\n",
        "- **Active Users**: Número de usuários ativos em cada hora.\n",
        "\n",
        "\n",
        "- **Contagem**: Dados disponíveis para todos as 24 horas do dia.\n",
        "- **Média de Usuários Ativos**: 110,969\n",
        "- **Mediana de Usuários Ativos**: 128,800\n",
        "- **Moda de Usuários Ativos**: 14109\n",
        "- **Desvio Padrão**: 58,458, indicando a variação no número de usuários ativos entre as horas.\n",
        "- **Variância**: 34174218\n",
        "- **Amplitude Interquartil:**: 82108.5 - útil para entender a dispersão do meio 50% dos dados.\n",
        "- **Mínimo/Máximo**: O mínimo de usuários ativos foi 14,109 (sexta-feira), e o máximo foi 193,222 (quinta-feira)."
      ],
      "metadata": {
        "id": "NuZgGwC9H3VE"
      }
    },
    {
      "cell_type": "markdown",
      "source": [
        "### Visualização dos dados"
      ],
      "metadata": {
        "id": "xT8S0E55_n00"
      }
    },
    {
      "cell_type": "code",
      "source": [
        "# Mapeamento dos números para as horas do dia\n",
        "horas = [0, 1, 2, 3, 4, 5, 6, 7, 8, 9, 10, 11, 12, 13, 14, 15, 16, 17, 18, 19, 20, 21, 22, 23]\n",
        "hour_users_summed['Hour'] = hour_users_summed['Hour'].apply(lambda x: horas[x-1])\n",
        "\n",
        "# Criar um gráfico de barras com Plotly\n",
        "fig = px.bar(hour_users_summed, x='Hour', y='Active users', title='Usuários Ativos por horas do dia')\n",
        "\n",
        "# Mostrar o gráfico\n",
        "fig.show()"
      ],
      "metadata": {
        "colab": {
          "base_uri": "https://localhost:8080/",
          "height": 0
        },
        "id": "8dUHt9Dl_onj",
        "outputId": "498befd8-5280-43fe-87a2-388896436534"
      },
      "execution_count": 128,
      "outputs": [
        {
          "output_type": "display_data",
          "data": {
            "text/html": [
              "<html>\n",
              "<head><meta charset=\"utf-8\" /></head>\n",
              "<body>\n",
              "    <div>            <script src=\"https://cdnjs.cloudflare.com/ajax/libs/mathjax/2.7.5/MathJax.js?config=TeX-AMS-MML_SVG\"></script><script type=\"text/javascript\">if (window.MathJax && window.MathJax.Hub && window.MathJax.Hub.Config) {window.MathJax.Hub.Config({SVG: {font: \"STIX-Web\"}});}</script>                <script type=\"text/javascript\">window.PlotlyConfig = {MathJaxConfig: 'local'};</script>\n",
              "        <script charset=\"utf-8\" src=\"https://cdn.plot.ly/plotly-2.24.1.min.js\"></script>                <div id=\"9e05032e-8f41-46dc-81be-56772b83ded1\" class=\"plotly-graph-div\" style=\"height:525px; width:100%;\"></div>            <script type=\"text/javascript\">                                    window.PLOTLYENV=window.PLOTLYENV || {};                                    if (document.getElementById(\"9e05032e-8f41-46dc-81be-56772b83ded1\")) {                    Plotly.newPlot(                        \"9e05032e-8f41-46dc-81be-56772b83ded1\",                        [{\"alignmentgroup\":\"True\",\"hovertemplate\":\"Hour=%{x}\\u003cbr\\u003eActive users=%{y}\\u003cextra\\u003e\\u003c\\u002fextra\\u003e\",\"legendgroup\":\"\",\"marker\":{\"color\":\"#636efa\",\"pattern\":{\"shape\":\"\"}},\"name\":\"\",\"offsetgroup\":\"\",\"orientation\":\"v\",\"showlegend\":false,\"textposition\":\"auto\",\"x\":[23,0,1,2,3,4,5,6,7,8,9,10,11,12,13,14,15,16,17,18,19,20,21,22],\"xaxis\":\"x\",\"y\":[73786,44045,25456,16641,14109,21488,47136,71611,88756,104255,116518,128718,143894,145191,146481,146348,144898,150960,171317,185201,193222,184531,169823,128883],\"yaxis\":\"y\",\"type\":\"bar\"}],                        {\"template\":{\"data\":{\"histogram2dcontour\":[{\"type\":\"histogram2dcontour\",\"colorbar\":{\"outlinewidth\":0,\"ticks\":\"\"},\"colorscale\":[[0.0,\"#0d0887\"],[0.1111111111111111,\"#46039f\"],[0.2222222222222222,\"#7201a8\"],[0.3333333333333333,\"#9c179e\"],[0.4444444444444444,\"#bd3786\"],[0.5555555555555556,\"#d8576b\"],[0.6666666666666666,\"#ed7953\"],[0.7777777777777778,\"#fb9f3a\"],[0.8888888888888888,\"#fdca26\"],[1.0,\"#f0f921\"]]}],\"choropleth\":[{\"type\":\"choropleth\",\"colorbar\":{\"outlinewidth\":0,\"ticks\":\"\"}}],\"histogram2d\":[{\"type\":\"histogram2d\",\"colorbar\":{\"outlinewidth\":0,\"ticks\":\"\"},\"colorscale\":[[0.0,\"#0d0887\"],[0.1111111111111111,\"#46039f\"],[0.2222222222222222,\"#7201a8\"],[0.3333333333333333,\"#9c179e\"],[0.4444444444444444,\"#bd3786\"],[0.5555555555555556,\"#d8576b\"],[0.6666666666666666,\"#ed7953\"],[0.7777777777777778,\"#fb9f3a\"],[0.8888888888888888,\"#fdca26\"],[1.0,\"#f0f921\"]]}],\"heatmap\":[{\"type\":\"heatmap\",\"colorbar\":{\"outlinewidth\":0,\"ticks\":\"\"},\"colorscale\":[[0.0,\"#0d0887\"],[0.1111111111111111,\"#46039f\"],[0.2222222222222222,\"#7201a8\"],[0.3333333333333333,\"#9c179e\"],[0.4444444444444444,\"#bd3786\"],[0.5555555555555556,\"#d8576b\"],[0.6666666666666666,\"#ed7953\"],[0.7777777777777778,\"#fb9f3a\"],[0.8888888888888888,\"#fdca26\"],[1.0,\"#f0f921\"]]}],\"heatmapgl\":[{\"type\":\"heatmapgl\",\"colorbar\":{\"outlinewidth\":0,\"ticks\":\"\"},\"colorscale\":[[0.0,\"#0d0887\"],[0.1111111111111111,\"#46039f\"],[0.2222222222222222,\"#7201a8\"],[0.3333333333333333,\"#9c179e\"],[0.4444444444444444,\"#bd3786\"],[0.5555555555555556,\"#d8576b\"],[0.6666666666666666,\"#ed7953\"],[0.7777777777777778,\"#fb9f3a\"],[0.8888888888888888,\"#fdca26\"],[1.0,\"#f0f921\"]]}],\"contourcarpet\":[{\"type\":\"contourcarpet\",\"colorbar\":{\"outlinewidth\":0,\"ticks\":\"\"}}],\"contour\":[{\"type\":\"contour\",\"colorbar\":{\"outlinewidth\":0,\"ticks\":\"\"},\"colorscale\":[[0.0,\"#0d0887\"],[0.1111111111111111,\"#46039f\"],[0.2222222222222222,\"#7201a8\"],[0.3333333333333333,\"#9c179e\"],[0.4444444444444444,\"#bd3786\"],[0.5555555555555556,\"#d8576b\"],[0.6666666666666666,\"#ed7953\"],[0.7777777777777778,\"#fb9f3a\"],[0.8888888888888888,\"#fdca26\"],[1.0,\"#f0f921\"]]}],\"surface\":[{\"type\":\"surface\",\"colorbar\":{\"outlinewidth\":0,\"ticks\":\"\"},\"colorscale\":[[0.0,\"#0d0887\"],[0.1111111111111111,\"#46039f\"],[0.2222222222222222,\"#7201a8\"],[0.3333333333333333,\"#9c179e\"],[0.4444444444444444,\"#bd3786\"],[0.5555555555555556,\"#d8576b\"],[0.6666666666666666,\"#ed7953\"],[0.7777777777777778,\"#fb9f3a\"],[0.8888888888888888,\"#fdca26\"],[1.0,\"#f0f921\"]]}],\"mesh3d\":[{\"type\":\"mesh3d\",\"colorbar\":{\"outlinewidth\":0,\"ticks\":\"\"}}],\"scatter\":[{\"fillpattern\":{\"fillmode\":\"overlay\",\"size\":10,\"solidity\":0.2},\"type\":\"scatter\"}],\"parcoords\":[{\"type\":\"parcoords\",\"line\":{\"colorbar\":{\"outlinewidth\":0,\"ticks\":\"\"}}}],\"scatterpolargl\":[{\"type\":\"scatterpolargl\",\"marker\":{\"colorbar\":{\"outlinewidth\":0,\"ticks\":\"\"}}}],\"bar\":[{\"error_x\":{\"color\":\"#2a3f5f\"},\"error_y\":{\"color\":\"#2a3f5f\"},\"marker\":{\"line\":{\"color\":\"#E5ECF6\",\"width\":0.5},\"pattern\":{\"fillmode\":\"overlay\",\"size\":10,\"solidity\":0.2}},\"type\":\"bar\"}],\"scattergeo\":[{\"type\":\"scattergeo\",\"marker\":{\"colorbar\":{\"outlinewidth\":0,\"ticks\":\"\"}}}],\"scatterpolar\":[{\"type\":\"scatterpolar\",\"marker\":{\"colorbar\":{\"outlinewidth\":0,\"ticks\":\"\"}}}],\"histogram\":[{\"marker\":{\"pattern\":{\"fillmode\":\"overlay\",\"size\":10,\"solidity\":0.2}},\"type\":\"histogram\"}],\"scattergl\":[{\"type\":\"scattergl\",\"marker\":{\"colorbar\":{\"outlinewidth\":0,\"ticks\":\"\"}}}],\"scatter3d\":[{\"type\":\"scatter3d\",\"line\":{\"colorbar\":{\"outlinewidth\":0,\"ticks\":\"\"}},\"marker\":{\"colorbar\":{\"outlinewidth\":0,\"ticks\":\"\"}}}],\"scattermapbox\":[{\"type\":\"scattermapbox\",\"marker\":{\"colorbar\":{\"outlinewidth\":0,\"ticks\":\"\"}}}],\"scatterternary\":[{\"type\":\"scatterternary\",\"marker\":{\"colorbar\":{\"outlinewidth\":0,\"ticks\":\"\"}}}],\"scattercarpet\":[{\"type\":\"scattercarpet\",\"marker\":{\"colorbar\":{\"outlinewidth\":0,\"ticks\":\"\"}}}],\"carpet\":[{\"aaxis\":{\"endlinecolor\":\"#2a3f5f\",\"gridcolor\":\"white\",\"linecolor\":\"white\",\"minorgridcolor\":\"white\",\"startlinecolor\":\"#2a3f5f\"},\"baxis\":{\"endlinecolor\":\"#2a3f5f\",\"gridcolor\":\"white\",\"linecolor\":\"white\",\"minorgridcolor\":\"white\",\"startlinecolor\":\"#2a3f5f\"},\"type\":\"carpet\"}],\"table\":[{\"cells\":{\"fill\":{\"color\":\"#EBF0F8\"},\"line\":{\"color\":\"white\"}},\"header\":{\"fill\":{\"color\":\"#C8D4E3\"},\"line\":{\"color\":\"white\"}},\"type\":\"table\"}],\"barpolar\":[{\"marker\":{\"line\":{\"color\":\"#E5ECF6\",\"width\":0.5},\"pattern\":{\"fillmode\":\"overlay\",\"size\":10,\"solidity\":0.2}},\"type\":\"barpolar\"}],\"pie\":[{\"automargin\":true,\"type\":\"pie\"}]},\"layout\":{\"autotypenumbers\":\"strict\",\"colorway\":[\"#636efa\",\"#EF553B\",\"#00cc96\",\"#ab63fa\",\"#FFA15A\",\"#19d3f3\",\"#FF6692\",\"#B6E880\",\"#FF97FF\",\"#FECB52\"],\"font\":{\"color\":\"#2a3f5f\"},\"hovermode\":\"closest\",\"hoverlabel\":{\"align\":\"left\"},\"paper_bgcolor\":\"white\",\"plot_bgcolor\":\"#E5ECF6\",\"polar\":{\"bgcolor\":\"#E5ECF6\",\"angularaxis\":{\"gridcolor\":\"white\",\"linecolor\":\"white\",\"ticks\":\"\"},\"radialaxis\":{\"gridcolor\":\"white\",\"linecolor\":\"white\",\"ticks\":\"\"}},\"ternary\":{\"bgcolor\":\"#E5ECF6\",\"aaxis\":{\"gridcolor\":\"white\",\"linecolor\":\"white\",\"ticks\":\"\"},\"baxis\":{\"gridcolor\":\"white\",\"linecolor\":\"white\",\"ticks\":\"\"},\"caxis\":{\"gridcolor\":\"white\",\"linecolor\":\"white\",\"ticks\":\"\"}},\"coloraxis\":{\"colorbar\":{\"outlinewidth\":0,\"ticks\":\"\"}},\"colorscale\":{\"sequential\":[[0.0,\"#0d0887\"],[0.1111111111111111,\"#46039f\"],[0.2222222222222222,\"#7201a8\"],[0.3333333333333333,\"#9c179e\"],[0.4444444444444444,\"#bd3786\"],[0.5555555555555556,\"#d8576b\"],[0.6666666666666666,\"#ed7953\"],[0.7777777777777778,\"#fb9f3a\"],[0.8888888888888888,\"#fdca26\"],[1.0,\"#f0f921\"]],\"sequentialminus\":[[0.0,\"#0d0887\"],[0.1111111111111111,\"#46039f\"],[0.2222222222222222,\"#7201a8\"],[0.3333333333333333,\"#9c179e\"],[0.4444444444444444,\"#bd3786\"],[0.5555555555555556,\"#d8576b\"],[0.6666666666666666,\"#ed7953\"],[0.7777777777777778,\"#fb9f3a\"],[0.8888888888888888,\"#fdca26\"],[1.0,\"#f0f921\"]],\"diverging\":[[0,\"#8e0152\"],[0.1,\"#c51b7d\"],[0.2,\"#de77ae\"],[0.3,\"#f1b6da\"],[0.4,\"#fde0ef\"],[0.5,\"#f7f7f7\"],[0.6,\"#e6f5d0\"],[0.7,\"#b8e186\"],[0.8,\"#7fbc41\"],[0.9,\"#4d9221\"],[1,\"#276419\"]]},\"xaxis\":{\"gridcolor\":\"white\",\"linecolor\":\"white\",\"ticks\":\"\",\"title\":{\"standoff\":15},\"zerolinecolor\":\"white\",\"automargin\":true,\"zerolinewidth\":2},\"yaxis\":{\"gridcolor\":\"white\",\"linecolor\":\"white\",\"ticks\":\"\",\"title\":{\"standoff\":15},\"zerolinecolor\":\"white\",\"automargin\":true,\"zerolinewidth\":2},\"scene\":{\"xaxis\":{\"backgroundcolor\":\"#E5ECF6\",\"gridcolor\":\"white\",\"linecolor\":\"white\",\"showbackground\":true,\"ticks\":\"\",\"zerolinecolor\":\"white\",\"gridwidth\":2},\"yaxis\":{\"backgroundcolor\":\"#E5ECF6\",\"gridcolor\":\"white\",\"linecolor\":\"white\",\"showbackground\":true,\"ticks\":\"\",\"zerolinecolor\":\"white\",\"gridwidth\":2},\"zaxis\":{\"backgroundcolor\":\"#E5ECF6\",\"gridcolor\":\"white\",\"linecolor\":\"white\",\"showbackground\":true,\"ticks\":\"\",\"zerolinecolor\":\"white\",\"gridwidth\":2}},\"shapedefaults\":{\"line\":{\"color\":\"#2a3f5f\"}},\"annotationdefaults\":{\"arrowcolor\":\"#2a3f5f\",\"arrowhead\":0,\"arrowwidth\":1},\"geo\":{\"bgcolor\":\"white\",\"landcolor\":\"#E5ECF6\",\"subunitcolor\":\"white\",\"showland\":true,\"showlakes\":true,\"lakecolor\":\"white\"},\"title\":{\"x\":0.05},\"mapbox\":{\"style\":\"light\"}}},\"xaxis\":{\"anchor\":\"y\",\"domain\":[0.0,1.0],\"title\":{\"text\":\"Hour\"}},\"yaxis\":{\"anchor\":\"x\",\"domain\":[0.0,1.0],\"title\":{\"text\":\"Active users\"}},\"legend\":{\"tracegroupgap\":0},\"title\":{\"text\":\"Usu\\u00e1rios Ativos por horas do dia\"},\"barmode\":\"relative\"},                        {\"responsive\": true}                    ).then(function(){\n",
              "                            \n",
              "var gd = document.getElementById('9e05032e-8f41-46dc-81be-56772b83ded1');\n",
              "var x = new MutationObserver(function (mutations, observer) {{\n",
              "        var display = window.getComputedStyle(gd).display;\n",
              "        if (!display || display === 'none') {{\n",
              "            console.log([gd, 'removed!']);\n",
              "            Plotly.purge(gd);\n",
              "            observer.disconnect();\n",
              "        }}\n",
              "}});\n",
              "\n",
              "// Listen for the removal of the full notebook cells\n",
              "var notebookContainer = gd.closest('#notebook-container');\n",
              "if (notebookContainer) {{\n",
              "    x.observe(notebookContainer, {childList: true});\n",
              "}}\n",
              "\n",
              "// Listen for the clearing of the current output cell\n",
              "var outputEl = gd.closest('.output');\n",
              "if (outputEl) {{\n",
              "    x.observe(outputEl, {childList: true});\n",
              "}}\n",
              "\n",
              "                        })                };                            </script>        </div>\n",
              "</body>\n",
              "</html>"
            ]
          },
          "metadata": {}
        }
      ]
    },
    {
      "cell_type": "markdown",
      "source": [
        "### Identificação de Outliers"
      ],
      "metadata": {
        "id": "yoSz0kk1_oSM"
      }
    },
    {
      "cell_type": "code",
      "source": [],
      "metadata": {
        "id": "y0ZhD-TU_o9l"
      },
      "execution_count": 128,
      "outputs": []
    },
    {
      "cell_type": "markdown",
      "source": [
        "## Usuários por semana"
      ],
      "metadata": {
        "id": "dJ57eNvel1e4"
      }
    },
    {
      "cell_type": "code",
      "source": [
        "week_users_combined = pd.concat([week_users_big_numbers_2023, week_users_big_numbers_2024])\n",
        "week_users_summed = week_users_combined.groupby('Day of week', as_index=False).sum()\n",
        "week_users_summed"
      ],
      "metadata": {
        "colab": {
          "base_uri": "https://localhost:8080/",
          "height": 269
        },
        "id": "gtK09QEsmGNi",
        "outputId": "45cb033d-1385-4d48-8041-d33291ee3a22"
      },
      "execution_count": 129,
      "outputs": [
        {
          "output_type": "execute_result",
          "data": {
            "text/plain": [
              "   Day of week  Active users\n",
              "0            1        332656\n",
              "1            2        334901\n",
              "2            3        345281\n",
              "3            4        345834\n",
              "4            5        351864\n",
              "5            6        328838\n",
              "6            7        339942"
            ],
            "text/html": [
              "\n",
              "  <div id=\"df-106d6200-50f6-4025-831f-8d0809721565\" class=\"colab-df-container\">\n",
              "    <div>\n",
              "<style scoped>\n",
              "    .dataframe tbody tr th:only-of-type {\n",
              "        vertical-align: middle;\n",
              "    }\n",
              "\n",
              "    .dataframe tbody tr th {\n",
              "        vertical-align: top;\n",
              "    }\n",
              "\n",
              "    .dataframe thead th {\n",
              "        text-align: right;\n",
              "    }\n",
              "</style>\n",
              "<table border=\"1\" class=\"dataframe\">\n",
              "  <thead>\n",
              "    <tr style=\"text-align: right;\">\n",
              "      <th></th>\n",
              "      <th>Day of week</th>\n",
              "      <th>Active users</th>\n",
              "    </tr>\n",
              "  </thead>\n",
              "  <tbody>\n",
              "    <tr>\n",
              "      <th>0</th>\n",
              "      <td>1</td>\n",
              "      <td>332656</td>\n",
              "    </tr>\n",
              "    <tr>\n",
              "      <th>1</th>\n",
              "      <td>2</td>\n",
              "      <td>334901</td>\n",
              "    </tr>\n",
              "    <tr>\n",
              "      <th>2</th>\n",
              "      <td>3</td>\n",
              "      <td>345281</td>\n",
              "    </tr>\n",
              "    <tr>\n",
              "      <th>3</th>\n",
              "      <td>4</td>\n",
              "      <td>345834</td>\n",
              "    </tr>\n",
              "    <tr>\n",
              "      <th>4</th>\n",
              "      <td>5</td>\n",
              "      <td>351864</td>\n",
              "    </tr>\n",
              "    <tr>\n",
              "      <th>5</th>\n",
              "      <td>6</td>\n",
              "      <td>328838</td>\n",
              "    </tr>\n",
              "    <tr>\n",
              "      <th>6</th>\n",
              "      <td>7</td>\n",
              "      <td>339942</td>\n",
              "    </tr>\n",
              "  </tbody>\n",
              "</table>\n",
              "</div>\n",
              "    <div class=\"colab-df-buttons\">\n",
              "\n",
              "  <div class=\"colab-df-container\">\n",
              "    <button class=\"colab-df-convert\" onclick=\"convertToInteractive('df-106d6200-50f6-4025-831f-8d0809721565')\"\n",
              "            title=\"Convert this dataframe to an interactive table.\"\n",
              "            style=\"display:none;\">\n",
              "\n",
              "  <svg xmlns=\"http://www.w3.org/2000/svg\" height=\"24px\" viewBox=\"0 -960 960 960\">\n",
              "    <path d=\"M120-120v-720h720v720H120Zm60-500h600v-160H180v160Zm220 220h160v-160H400v160Zm0 220h160v-160H400v160ZM180-400h160v-160H180v160Zm440 0h160v-160H620v160ZM180-180h160v-160H180v160Zm440 0h160v-160H620v160Z\"/>\n",
              "  </svg>\n",
              "    </button>\n",
              "\n",
              "  <style>\n",
              "    .colab-df-container {\n",
              "      display:flex;\n",
              "      gap: 12px;\n",
              "    }\n",
              "\n",
              "    .colab-df-convert {\n",
              "      background-color: #E8F0FE;\n",
              "      border: none;\n",
              "      border-radius: 50%;\n",
              "      cursor: pointer;\n",
              "      display: none;\n",
              "      fill: #1967D2;\n",
              "      height: 32px;\n",
              "      padding: 0 0 0 0;\n",
              "      width: 32px;\n",
              "    }\n",
              "\n",
              "    .colab-df-convert:hover {\n",
              "      background-color: #E2EBFA;\n",
              "      box-shadow: 0px 1px 2px rgba(60, 64, 67, 0.3), 0px 1px 3px 1px rgba(60, 64, 67, 0.15);\n",
              "      fill: #174EA6;\n",
              "    }\n",
              "\n",
              "    .colab-df-buttons div {\n",
              "      margin-bottom: 4px;\n",
              "    }\n",
              "\n",
              "    [theme=dark] .colab-df-convert {\n",
              "      background-color: #3B4455;\n",
              "      fill: #D2E3FC;\n",
              "    }\n",
              "\n",
              "    [theme=dark] .colab-df-convert:hover {\n",
              "      background-color: #434B5C;\n",
              "      box-shadow: 0px 1px 3px 1px rgba(0, 0, 0, 0.15);\n",
              "      filter: drop-shadow(0px 1px 2px rgba(0, 0, 0, 0.3));\n",
              "      fill: #FFFFFF;\n",
              "    }\n",
              "  </style>\n",
              "\n",
              "    <script>\n",
              "      const buttonEl =\n",
              "        document.querySelector('#df-106d6200-50f6-4025-831f-8d0809721565 button.colab-df-convert');\n",
              "      buttonEl.style.display =\n",
              "        google.colab.kernel.accessAllowed ? 'block' : 'none';\n",
              "\n",
              "      async function convertToInteractive(key) {\n",
              "        const element = document.querySelector('#df-106d6200-50f6-4025-831f-8d0809721565');\n",
              "        const dataTable =\n",
              "          await google.colab.kernel.invokeFunction('convertToInteractive',\n",
              "                                                    [key], {});\n",
              "        if (!dataTable) return;\n",
              "\n",
              "        const docLinkHtml = 'Like what you see? Visit the ' +\n",
              "          '<a target=\"_blank\" href=https://colab.research.google.com/notebooks/data_table.ipynb>data table notebook</a>'\n",
              "          + ' to learn more about interactive tables.';\n",
              "        element.innerHTML = '';\n",
              "        dataTable['output_type'] = 'display_data';\n",
              "        await google.colab.output.renderOutput(dataTable, element);\n",
              "        const docLink = document.createElement('div');\n",
              "        docLink.innerHTML = docLinkHtml;\n",
              "        element.appendChild(docLink);\n",
              "      }\n",
              "    </script>\n",
              "  </div>\n",
              "\n",
              "\n",
              "<div id=\"df-a6fda6e2-22e7-48a6-aee9-0db6040e824e\">\n",
              "  <button class=\"colab-df-quickchart\" onclick=\"quickchart('df-a6fda6e2-22e7-48a6-aee9-0db6040e824e')\"\n",
              "            title=\"Suggest charts\"\n",
              "            style=\"display:none;\">\n",
              "\n",
              "<svg xmlns=\"http://www.w3.org/2000/svg\" height=\"24px\"viewBox=\"0 0 24 24\"\n",
              "     width=\"24px\">\n",
              "    <g>\n",
              "        <path d=\"M19 3H5c-1.1 0-2 .9-2 2v14c0 1.1.9 2 2 2h14c1.1 0 2-.9 2-2V5c0-1.1-.9-2-2-2zM9 17H7v-7h2v7zm4 0h-2V7h2v10zm4 0h-2v-4h2v4z\"/>\n",
              "    </g>\n",
              "</svg>\n",
              "  </button>\n",
              "\n",
              "<style>\n",
              "  .colab-df-quickchart {\n",
              "      --bg-color: #E8F0FE;\n",
              "      --fill-color: #1967D2;\n",
              "      --hover-bg-color: #E2EBFA;\n",
              "      --hover-fill-color: #174EA6;\n",
              "      --disabled-fill-color: #AAA;\n",
              "      --disabled-bg-color: #DDD;\n",
              "  }\n",
              "\n",
              "  [theme=dark] .colab-df-quickchart {\n",
              "      --bg-color: #3B4455;\n",
              "      --fill-color: #D2E3FC;\n",
              "      --hover-bg-color: #434B5C;\n",
              "      --hover-fill-color: #FFFFFF;\n",
              "      --disabled-bg-color: #3B4455;\n",
              "      --disabled-fill-color: #666;\n",
              "  }\n",
              "\n",
              "  .colab-df-quickchart {\n",
              "    background-color: var(--bg-color);\n",
              "    border: none;\n",
              "    border-radius: 50%;\n",
              "    cursor: pointer;\n",
              "    display: none;\n",
              "    fill: var(--fill-color);\n",
              "    height: 32px;\n",
              "    padding: 0;\n",
              "    width: 32px;\n",
              "  }\n",
              "\n",
              "  .colab-df-quickchart:hover {\n",
              "    background-color: var(--hover-bg-color);\n",
              "    box-shadow: 0 1px 2px rgba(60, 64, 67, 0.3), 0 1px 3px 1px rgba(60, 64, 67, 0.15);\n",
              "    fill: var(--button-hover-fill-color);\n",
              "  }\n",
              "\n",
              "  .colab-df-quickchart-complete:disabled,\n",
              "  .colab-df-quickchart-complete:disabled:hover {\n",
              "    background-color: var(--disabled-bg-color);\n",
              "    fill: var(--disabled-fill-color);\n",
              "    box-shadow: none;\n",
              "  }\n",
              "\n",
              "  .colab-df-spinner {\n",
              "    border: 2px solid var(--fill-color);\n",
              "    border-color: transparent;\n",
              "    border-bottom-color: var(--fill-color);\n",
              "    animation:\n",
              "      spin 1s steps(1) infinite;\n",
              "  }\n",
              "\n",
              "  @keyframes spin {\n",
              "    0% {\n",
              "      border-color: transparent;\n",
              "      border-bottom-color: var(--fill-color);\n",
              "      border-left-color: var(--fill-color);\n",
              "    }\n",
              "    20% {\n",
              "      border-color: transparent;\n",
              "      border-left-color: var(--fill-color);\n",
              "      border-top-color: var(--fill-color);\n",
              "    }\n",
              "    30% {\n",
              "      border-color: transparent;\n",
              "      border-left-color: var(--fill-color);\n",
              "      border-top-color: var(--fill-color);\n",
              "      border-right-color: var(--fill-color);\n",
              "    }\n",
              "    40% {\n",
              "      border-color: transparent;\n",
              "      border-right-color: var(--fill-color);\n",
              "      border-top-color: var(--fill-color);\n",
              "    }\n",
              "    60% {\n",
              "      border-color: transparent;\n",
              "      border-right-color: var(--fill-color);\n",
              "    }\n",
              "    80% {\n",
              "      border-color: transparent;\n",
              "      border-right-color: var(--fill-color);\n",
              "      border-bottom-color: var(--fill-color);\n",
              "    }\n",
              "    90% {\n",
              "      border-color: transparent;\n",
              "      border-bottom-color: var(--fill-color);\n",
              "    }\n",
              "  }\n",
              "</style>\n",
              "\n",
              "  <script>\n",
              "    async function quickchart(key) {\n",
              "      const quickchartButtonEl =\n",
              "        document.querySelector('#' + key + ' button');\n",
              "      quickchartButtonEl.disabled = true;  // To prevent multiple clicks.\n",
              "      quickchartButtonEl.classList.add('colab-df-spinner');\n",
              "      try {\n",
              "        const charts = await google.colab.kernel.invokeFunction(\n",
              "            'suggestCharts', [key], {});\n",
              "      } catch (error) {\n",
              "        console.error('Error during call to suggestCharts:', error);\n",
              "      }\n",
              "      quickchartButtonEl.classList.remove('colab-df-spinner');\n",
              "      quickchartButtonEl.classList.add('colab-df-quickchart-complete');\n",
              "    }\n",
              "    (() => {\n",
              "      let quickchartButtonEl =\n",
              "        document.querySelector('#df-a6fda6e2-22e7-48a6-aee9-0db6040e824e button');\n",
              "      quickchartButtonEl.style.display =\n",
              "        google.colab.kernel.accessAllowed ? 'block' : 'none';\n",
              "    })();\n",
              "  </script>\n",
              "</div>\n",
              "    </div>\n",
              "  </div>\n"
            ],
            "application/vnd.google.colaboratory.intrinsic+json": {
              "type": "dataframe",
              "variable_name": "week_users_summed",
              "summary": "{\n  \"name\": \"week_users_summed\",\n  \"rows\": 7,\n  \"fields\": [\n    {\n      \"column\": \"Day of week\",\n      \"properties\": {\n        \"dtype\": \"number\",\n        \"std\": 2,\n        \"min\": 1,\n        \"max\": 7,\n        \"num_unique_values\": 7,\n        \"samples\": [\n          1,\n          2,\n          6\n        ],\n        \"semantic_type\": \"\",\n        \"description\": \"\"\n      }\n    },\n    {\n      \"column\": \"Active users\",\n      \"properties\": {\n        \"dtype\": \"number\",\n        \"std\": 8237,\n        \"min\": 328838,\n        \"max\": 351864,\n        \"num_unique_values\": 7,\n        \"samples\": [\n          332656,\n          334901,\n          328838\n        ],\n        \"semantic_type\": \"\",\n        \"description\": \"\"\n      }\n    }\n  ]\n}"
            }
          },
          "metadata": {},
          "execution_count": 129
        }
      ]
    },
    {
      "cell_type": "code",
      "source": [
        "week_users_summed.info()"
      ],
      "metadata": {
        "colab": {
          "base_uri": "https://localhost:8080/"
        },
        "id": "IfCz-afB62Cy",
        "outputId": "3c8c5f97-becf-4e3c-d89f-a7c22b7feeb4"
      },
      "execution_count": 130,
      "outputs": [
        {
          "output_type": "stream",
          "name": "stdout",
          "text": [
            "<class 'pandas.core.frame.DataFrame'>\n",
            "RangeIndex: 7 entries, 0 to 6\n",
            "Data columns (total 2 columns):\n",
            " #   Column        Non-Null Count  Dtype\n",
            "---  ------        --------------  -----\n",
            " 0   Day of week   7 non-null      int64\n",
            " 1   Active users  7 non-null      int64\n",
            "dtypes: int64(2)\n",
            "memory usage: 240.0 bytes\n"
          ]
        }
      ]
    },
    {
      "cell_type": "code",
      "source": [
        "week_users_summed['Active users'].describe()"
      ],
      "metadata": {
        "colab": {
          "base_uri": "https://localhost:8080/"
        },
        "id": "D_QghmaY7qyU",
        "outputId": "5771759f-ce71-4dc4-9a20-b1534ff4fbda"
      },
      "execution_count": 131,
      "outputs": [
        {
          "output_type": "execute_result",
          "data": {
            "text/plain": [
              "count         7.000000\n",
              "mean     339902.285714\n",
              "std        8237.515012\n",
              "min      328838.000000\n",
              "25%      333778.500000\n",
              "50%      339942.000000\n",
              "75%      345557.500000\n",
              "max      351864.000000\n",
              "Name: Active users, dtype: float64"
            ]
          },
          "metadata": {},
          "execution_count": 131
        }
      ]
    },
    {
      "cell_type": "code",
      "source": [
        "print(f\"Mediana = {week_users_summed['Active users'].median()}\")\n",
        "print(f\"Moda = {week_users_summed['Active users'].mode()[0]}\")\n",
        "print(f\"Variância = {week_users_summed['Active users'].var()}\")\n",
        "\n",
        "q1 = week_users_summed['Active users'].quantile(0.25)\n",
        "q3 = week_users_summed['Active users'].quantile(0.75)\n",
        "iqr = q3 - q1\n",
        "print(f\"Diferença do primeiro para o terceiro quartil = {iqr}\")"
      ],
      "metadata": {
        "colab": {
          "base_uri": "https://localhost:8080/"
        },
        "id": "9YMtWAPHCn7P",
        "outputId": "d7c1a2b6-8017-43b2-951e-c92cc6393589"
      },
      "execution_count": 132,
      "outputs": [
        {
          "output_type": "stream",
          "name": "stdout",
          "text": [
            "Mediana = 339942.0\n",
            "Moda = 328838\n",
            "Variância = 67856653.57142857\n",
            "Diferença do primeiro para o terceiro quartil = 11779.0\n"
          ]
        }
      ]
    },
    {
      "cell_type": "markdown",
      "source": [
        "### Análise Estatística Descritiva"
      ],
      "metadata": {
        "id": "I4bAcCAaAafE"
      }
    },
    {
      "cell_type": "markdown",
      "source": [
        "- **Day of Week**: Representa o dia da semana, onde 1 é domingo, 2 é segunda-feira, e assim por diante até 7 que é sábado.\n",
        "- **Active Users**: Número de usuários ativos em cada dia.\n",
        "\n",
        "\n",
        "- **Contagem**: Dados disponíveis para todos os 7 dias da semana.\n",
        "- **Média de Usuários Ativos**: 339,902\n",
        "- **Mediana de Usuários Ativos**: 339,942\n",
        "- **Moda de Usuários Ativos**: 328,838\n",
        "- **Desvio Padrão**: 8,237, indicando a variação no número de usuários ativos entre os dias.\n",
        "- **Variância**: 67856653.57\n",
        "- **Amplitude Interquartil:**: 11779.0 - útil para entender a dispersão do meio 50% dos dados.\n",
        "- **Mínimo/Máximo**: O mínimo de usuários ativos foi 328,838 (sexta-feira), e o máximo foi 351,864 (quinta-feira)."
      ],
      "metadata": {
        "id": "5SJmGl_tA8ge"
      }
    },
    {
      "cell_type": "markdown",
      "source": [
        "### Visualização dos dados"
      ],
      "metadata": {
        "id": "Kryqi6cE_yfi"
      }
    },
    {
      "cell_type": "code",
      "source": [
        "# Mapeamento dos números para os dias da semana\n",
        "dias = ['Domingo', 'Segunda', 'Terça', 'Quarta', 'Quinta', 'Sexta', 'Sábado']\n",
        "week_users_summed['Day of week'] = week_users_summed['Day of week'].apply(lambda x: dias[x-1])\n",
        "\n",
        "# Criar um gráfico de barras com Plotly\n",
        "fig = px.bar(week_users_summed, x='Day of week', y='Active users', title='Usuários Ativos por Dia da Semana')\n",
        "\n",
        "# Mostrar o gráfico\n",
        "fig.show()"
      ],
      "metadata": {
        "colab": {
          "base_uri": "https://localhost:8080/",
          "height": 542
        },
        "id": "HoWhqggh_ySH",
        "outputId": "04d95fdf-305c-497e-9060-6235d8f45161"
      },
      "execution_count": 133,
      "outputs": [
        {
          "output_type": "display_data",
          "data": {
            "text/html": [
              "<html>\n",
              "<head><meta charset=\"utf-8\" /></head>\n",
              "<body>\n",
              "    <div>            <script src=\"https://cdnjs.cloudflare.com/ajax/libs/mathjax/2.7.5/MathJax.js?config=TeX-AMS-MML_SVG\"></script><script type=\"text/javascript\">if (window.MathJax && window.MathJax.Hub && window.MathJax.Hub.Config) {window.MathJax.Hub.Config({SVG: {font: \"STIX-Web\"}});}</script>                <script type=\"text/javascript\">window.PlotlyConfig = {MathJaxConfig: 'local'};</script>\n",
              "        <script charset=\"utf-8\" src=\"https://cdn.plot.ly/plotly-2.24.1.min.js\"></script>                <div id=\"43285384-878a-4546-9bcc-3c7841a7cfba\" class=\"plotly-graph-div\" style=\"height:525px; width:100%;\"></div>            <script type=\"text/javascript\">                                    window.PLOTLYENV=window.PLOTLYENV || {};                                    if (document.getElementById(\"43285384-878a-4546-9bcc-3c7841a7cfba\")) {                    Plotly.newPlot(                        \"43285384-878a-4546-9bcc-3c7841a7cfba\",                        [{\"alignmentgroup\":\"True\",\"hovertemplate\":\"Day of week=%{x}\\u003cbr\\u003eActive users=%{y}\\u003cextra\\u003e\\u003c\\u002fextra\\u003e\",\"legendgroup\":\"\",\"marker\":{\"color\":\"#636efa\",\"pattern\":{\"shape\":\"\"}},\"name\":\"\",\"offsetgroup\":\"\",\"orientation\":\"v\",\"showlegend\":false,\"textposition\":\"auto\",\"x\":[\"Domingo\",\"Segunda\",\"Ter\\u00e7a\",\"Quarta\",\"Quinta\",\"Sexta\",\"S\\u00e1bado\"],\"xaxis\":\"x\",\"y\":[332656,334901,345281,345834,351864,328838,339942],\"yaxis\":\"y\",\"type\":\"bar\"}],                        {\"template\":{\"data\":{\"histogram2dcontour\":[{\"type\":\"histogram2dcontour\",\"colorbar\":{\"outlinewidth\":0,\"ticks\":\"\"},\"colorscale\":[[0.0,\"#0d0887\"],[0.1111111111111111,\"#46039f\"],[0.2222222222222222,\"#7201a8\"],[0.3333333333333333,\"#9c179e\"],[0.4444444444444444,\"#bd3786\"],[0.5555555555555556,\"#d8576b\"],[0.6666666666666666,\"#ed7953\"],[0.7777777777777778,\"#fb9f3a\"],[0.8888888888888888,\"#fdca26\"],[1.0,\"#f0f921\"]]}],\"choropleth\":[{\"type\":\"choropleth\",\"colorbar\":{\"outlinewidth\":0,\"ticks\":\"\"}}],\"histogram2d\":[{\"type\":\"histogram2d\",\"colorbar\":{\"outlinewidth\":0,\"ticks\":\"\"},\"colorscale\":[[0.0,\"#0d0887\"],[0.1111111111111111,\"#46039f\"],[0.2222222222222222,\"#7201a8\"],[0.3333333333333333,\"#9c179e\"],[0.4444444444444444,\"#bd3786\"],[0.5555555555555556,\"#d8576b\"],[0.6666666666666666,\"#ed7953\"],[0.7777777777777778,\"#fb9f3a\"],[0.8888888888888888,\"#fdca26\"],[1.0,\"#f0f921\"]]}],\"heatmap\":[{\"type\":\"heatmap\",\"colorbar\":{\"outlinewidth\":0,\"ticks\":\"\"},\"colorscale\":[[0.0,\"#0d0887\"],[0.1111111111111111,\"#46039f\"],[0.2222222222222222,\"#7201a8\"],[0.3333333333333333,\"#9c179e\"],[0.4444444444444444,\"#bd3786\"],[0.5555555555555556,\"#d8576b\"],[0.6666666666666666,\"#ed7953\"],[0.7777777777777778,\"#fb9f3a\"],[0.8888888888888888,\"#fdca26\"],[1.0,\"#f0f921\"]]}],\"heatmapgl\":[{\"type\":\"heatmapgl\",\"colorbar\":{\"outlinewidth\":0,\"ticks\":\"\"},\"colorscale\":[[0.0,\"#0d0887\"],[0.1111111111111111,\"#46039f\"],[0.2222222222222222,\"#7201a8\"],[0.3333333333333333,\"#9c179e\"],[0.4444444444444444,\"#bd3786\"],[0.5555555555555556,\"#d8576b\"],[0.6666666666666666,\"#ed7953\"],[0.7777777777777778,\"#fb9f3a\"],[0.8888888888888888,\"#fdca26\"],[1.0,\"#f0f921\"]]}],\"contourcarpet\":[{\"type\":\"contourcarpet\",\"colorbar\":{\"outlinewidth\":0,\"ticks\":\"\"}}],\"contour\":[{\"type\":\"contour\",\"colorbar\":{\"outlinewidth\":0,\"ticks\":\"\"},\"colorscale\":[[0.0,\"#0d0887\"],[0.1111111111111111,\"#46039f\"],[0.2222222222222222,\"#7201a8\"],[0.3333333333333333,\"#9c179e\"],[0.4444444444444444,\"#bd3786\"],[0.5555555555555556,\"#d8576b\"],[0.6666666666666666,\"#ed7953\"],[0.7777777777777778,\"#fb9f3a\"],[0.8888888888888888,\"#fdca26\"],[1.0,\"#f0f921\"]]}],\"surface\":[{\"type\":\"surface\",\"colorbar\":{\"outlinewidth\":0,\"ticks\":\"\"},\"colorscale\":[[0.0,\"#0d0887\"],[0.1111111111111111,\"#46039f\"],[0.2222222222222222,\"#7201a8\"],[0.3333333333333333,\"#9c179e\"],[0.4444444444444444,\"#bd3786\"],[0.5555555555555556,\"#d8576b\"],[0.6666666666666666,\"#ed7953\"],[0.7777777777777778,\"#fb9f3a\"],[0.8888888888888888,\"#fdca26\"],[1.0,\"#f0f921\"]]}],\"mesh3d\":[{\"type\":\"mesh3d\",\"colorbar\":{\"outlinewidth\":0,\"ticks\":\"\"}}],\"scatter\":[{\"fillpattern\":{\"fillmode\":\"overlay\",\"size\":10,\"solidity\":0.2},\"type\":\"scatter\"}],\"parcoords\":[{\"type\":\"parcoords\",\"line\":{\"colorbar\":{\"outlinewidth\":0,\"ticks\":\"\"}}}],\"scatterpolargl\":[{\"type\":\"scatterpolargl\",\"marker\":{\"colorbar\":{\"outlinewidth\":0,\"ticks\":\"\"}}}],\"bar\":[{\"error_x\":{\"color\":\"#2a3f5f\"},\"error_y\":{\"color\":\"#2a3f5f\"},\"marker\":{\"line\":{\"color\":\"#E5ECF6\",\"width\":0.5},\"pattern\":{\"fillmode\":\"overlay\",\"size\":10,\"solidity\":0.2}},\"type\":\"bar\"}],\"scattergeo\":[{\"type\":\"scattergeo\",\"marker\":{\"colorbar\":{\"outlinewidth\":0,\"ticks\":\"\"}}}],\"scatterpolar\":[{\"type\":\"scatterpolar\",\"marker\":{\"colorbar\":{\"outlinewidth\":0,\"ticks\":\"\"}}}],\"histogram\":[{\"marker\":{\"pattern\":{\"fillmode\":\"overlay\",\"size\":10,\"solidity\":0.2}},\"type\":\"histogram\"}],\"scattergl\":[{\"type\":\"scattergl\",\"marker\":{\"colorbar\":{\"outlinewidth\":0,\"ticks\":\"\"}}}],\"scatter3d\":[{\"type\":\"scatter3d\",\"line\":{\"colorbar\":{\"outlinewidth\":0,\"ticks\":\"\"}},\"marker\":{\"colorbar\":{\"outlinewidth\":0,\"ticks\":\"\"}}}],\"scattermapbox\":[{\"type\":\"scattermapbox\",\"marker\":{\"colorbar\":{\"outlinewidth\":0,\"ticks\":\"\"}}}],\"scatterternary\":[{\"type\":\"scatterternary\",\"marker\":{\"colorbar\":{\"outlinewidth\":0,\"ticks\":\"\"}}}],\"scattercarpet\":[{\"type\":\"scattercarpet\",\"marker\":{\"colorbar\":{\"outlinewidth\":0,\"ticks\":\"\"}}}],\"carpet\":[{\"aaxis\":{\"endlinecolor\":\"#2a3f5f\",\"gridcolor\":\"white\",\"linecolor\":\"white\",\"minorgridcolor\":\"white\",\"startlinecolor\":\"#2a3f5f\"},\"baxis\":{\"endlinecolor\":\"#2a3f5f\",\"gridcolor\":\"white\",\"linecolor\":\"white\",\"minorgridcolor\":\"white\",\"startlinecolor\":\"#2a3f5f\"},\"type\":\"carpet\"}],\"table\":[{\"cells\":{\"fill\":{\"color\":\"#EBF0F8\"},\"line\":{\"color\":\"white\"}},\"header\":{\"fill\":{\"color\":\"#C8D4E3\"},\"line\":{\"color\":\"white\"}},\"type\":\"table\"}],\"barpolar\":[{\"marker\":{\"line\":{\"color\":\"#E5ECF6\",\"width\":0.5},\"pattern\":{\"fillmode\":\"overlay\",\"size\":10,\"solidity\":0.2}},\"type\":\"barpolar\"}],\"pie\":[{\"automargin\":true,\"type\":\"pie\"}]},\"layout\":{\"autotypenumbers\":\"strict\",\"colorway\":[\"#636efa\",\"#EF553B\",\"#00cc96\",\"#ab63fa\",\"#FFA15A\",\"#19d3f3\",\"#FF6692\",\"#B6E880\",\"#FF97FF\",\"#FECB52\"],\"font\":{\"color\":\"#2a3f5f\"},\"hovermode\":\"closest\",\"hoverlabel\":{\"align\":\"left\"},\"paper_bgcolor\":\"white\",\"plot_bgcolor\":\"#E5ECF6\",\"polar\":{\"bgcolor\":\"#E5ECF6\",\"angularaxis\":{\"gridcolor\":\"white\",\"linecolor\":\"white\",\"ticks\":\"\"},\"radialaxis\":{\"gridcolor\":\"white\",\"linecolor\":\"white\",\"ticks\":\"\"}},\"ternary\":{\"bgcolor\":\"#E5ECF6\",\"aaxis\":{\"gridcolor\":\"white\",\"linecolor\":\"white\",\"ticks\":\"\"},\"baxis\":{\"gridcolor\":\"white\",\"linecolor\":\"white\",\"ticks\":\"\"},\"caxis\":{\"gridcolor\":\"white\",\"linecolor\":\"white\",\"ticks\":\"\"}},\"coloraxis\":{\"colorbar\":{\"outlinewidth\":0,\"ticks\":\"\"}},\"colorscale\":{\"sequential\":[[0.0,\"#0d0887\"],[0.1111111111111111,\"#46039f\"],[0.2222222222222222,\"#7201a8\"],[0.3333333333333333,\"#9c179e\"],[0.4444444444444444,\"#bd3786\"],[0.5555555555555556,\"#d8576b\"],[0.6666666666666666,\"#ed7953\"],[0.7777777777777778,\"#fb9f3a\"],[0.8888888888888888,\"#fdca26\"],[1.0,\"#f0f921\"]],\"sequentialminus\":[[0.0,\"#0d0887\"],[0.1111111111111111,\"#46039f\"],[0.2222222222222222,\"#7201a8\"],[0.3333333333333333,\"#9c179e\"],[0.4444444444444444,\"#bd3786\"],[0.5555555555555556,\"#d8576b\"],[0.6666666666666666,\"#ed7953\"],[0.7777777777777778,\"#fb9f3a\"],[0.8888888888888888,\"#fdca26\"],[1.0,\"#f0f921\"]],\"diverging\":[[0,\"#8e0152\"],[0.1,\"#c51b7d\"],[0.2,\"#de77ae\"],[0.3,\"#f1b6da\"],[0.4,\"#fde0ef\"],[0.5,\"#f7f7f7\"],[0.6,\"#e6f5d0\"],[0.7,\"#b8e186\"],[0.8,\"#7fbc41\"],[0.9,\"#4d9221\"],[1,\"#276419\"]]},\"xaxis\":{\"gridcolor\":\"white\",\"linecolor\":\"white\",\"ticks\":\"\",\"title\":{\"standoff\":15},\"zerolinecolor\":\"white\",\"automargin\":true,\"zerolinewidth\":2},\"yaxis\":{\"gridcolor\":\"white\",\"linecolor\":\"white\",\"ticks\":\"\",\"title\":{\"standoff\":15},\"zerolinecolor\":\"white\",\"automargin\":true,\"zerolinewidth\":2},\"scene\":{\"xaxis\":{\"backgroundcolor\":\"#E5ECF6\",\"gridcolor\":\"white\",\"linecolor\":\"white\",\"showbackground\":true,\"ticks\":\"\",\"zerolinecolor\":\"white\",\"gridwidth\":2},\"yaxis\":{\"backgroundcolor\":\"#E5ECF6\",\"gridcolor\":\"white\",\"linecolor\":\"white\",\"showbackground\":true,\"ticks\":\"\",\"zerolinecolor\":\"white\",\"gridwidth\":2},\"zaxis\":{\"backgroundcolor\":\"#E5ECF6\",\"gridcolor\":\"white\",\"linecolor\":\"white\",\"showbackground\":true,\"ticks\":\"\",\"zerolinecolor\":\"white\",\"gridwidth\":2}},\"shapedefaults\":{\"line\":{\"color\":\"#2a3f5f\"}},\"annotationdefaults\":{\"arrowcolor\":\"#2a3f5f\",\"arrowhead\":0,\"arrowwidth\":1},\"geo\":{\"bgcolor\":\"white\",\"landcolor\":\"#E5ECF6\",\"subunitcolor\":\"white\",\"showland\":true,\"showlakes\":true,\"lakecolor\":\"white\"},\"title\":{\"x\":0.05},\"mapbox\":{\"style\":\"light\"}}},\"xaxis\":{\"anchor\":\"y\",\"domain\":[0.0,1.0],\"title\":{\"text\":\"Day of week\"}},\"yaxis\":{\"anchor\":\"x\",\"domain\":[0.0,1.0],\"title\":{\"text\":\"Active users\"}},\"legend\":{\"tracegroupgap\":0},\"title\":{\"text\":\"Usu\\u00e1rios Ativos por Dia da Semana\"},\"barmode\":\"relative\"},                        {\"responsive\": true}                    ).then(function(){\n",
              "                            \n",
              "var gd = document.getElementById('43285384-878a-4546-9bcc-3c7841a7cfba');\n",
              "var x = new MutationObserver(function (mutations, observer) {{\n",
              "        var display = window.getComputedStyle(gd).display;\n",
              "        if (!display || display === 'none') {{\n",
              "            console.log([gd, 'removed!']);\n",
              "            Plotly.purge(gd);\n",
              "            observer.disconnect();\n",
              "        }}\n",
              "}});\n",
              "\n",
              "// Listen for the removal of the full notebook cells\n",
              "var notebookContainer = gd.closest('#notebook-container');\n",
              "if (notebookContainer) {{\n",
              "    x.observe(notebookContainer, {childList: true});\n",
              "}}\n",
              "\n",
              "// Listen for the clearing of the current output cell\n",
              "var outputEl = gd.closest('.output');\n",
              "if (outputEl) {{\n",
              "    x.observe(outputEl, {childList: true});\n",
              "}}\n",
              "\n",
              "                        })                };                            </script>        </div>\n",
              "</body>\n",
              "</html>"
            ]
          },
          "metadata": {}
        }
      ]
    },
    {
      "cell_type": "markdown",
      "source": [
        "### Identificação de Outliers"
      ],
      "metadata": {
        "id": "lrmOE1kp_y0s"
      }
    },
    {
      "cell_type": "code",
      "source": [],
      "metadata": {
        "id": "sFcRyzmQ_yO7"
      },
      "execution_count": 133,
      "outputs": []
    },
    {
      "cell_type": "markdown",
      "source": [
        "## Usuários por país"
      ],
      "metadata": {
        "id": "4isfTspAl4OQ"
      }
    },
    {
      "cell_type": "code",
      "source": [
        "users_country_combined = pd.concat([users_country_big_numbers_geo_2023, users_country_big_numbers_geo_2024])\n",
        "users_country_summed = users_country_combined.groupby('Country', as_index=False).sum()\n",
        "users_country_summed"
      ],
      "metadata": {
        "colab": {
          "base_uri": "https://localhost:8080/",
          "height": 424
        },
        "id": "YggW_ovimF9Z",
        "outputId": "e08b750c-3a14-4b83-9261-880d1d56ff58"
      },
      "execution_count": 134,
      "outputs": [
        {
          "output_type": "execute_result",
          "data": {
            "text/plain": [
              "           Country  Active users\n",
              "0        (not set)           781\n",
              "1      Afghanistan             1\n",
              "2          Albania             4\n",
              "3          Algeria             3\n",
              "4           Angola           197\n",
              "..             ...           ...\n",
              "134  United States          7668\n",
              "135        Uruguay            81\n",
              "136     Uzbekistan             1\n",
              "137      Venezuela            44\n",
              "138        Vietnam            14\n",
              "\n",
              "[139 rows x 2 columns]"
            ],
            "text/html": [
              "\n",
              "  <div id=\"df-525322d5-0dbc-4b47-ac3e-1d9e713daeeb\" class=\"colab-df-container\">\n",
              "    <div>\n",
              "<style scoped>\n",
              "    .dataframe tbody tr th:only-of-type {\n",
              "        vertical-align: middle;\n",
              "    }\n",
              "\n",
              "    .dataframe tbody tr th {\n",
              "        vertical-align: top;\n",
              "    }\n",
              "\n",
              "    .dataframe thead th {\n",
              "        text-align: right;\n",
              "    }\n",
              "</style>\n",
              "<table border=\"1\" class=\"dataframe\">\n",
              "  <thead>\n",
              "    <tr style=\"text-align: right;\">\n",
              "      <th></th>\n",
              "      <th>Country</th>\n",
              "      <th>Active users</th>\n",
              "    </tr>\n",
              "  </thead>\n",
              "  <tbody>\n",
              "    <tr>\n",
              "      <th>0</th>\n",
              "      <td>(not set)</td>\n",
              "      <td>781</td>\n",
              "    </tr>\n",
              "    <tr>\n",
              "      <th>1</th>\n",
              "      <td>Afghanistan</td>\n",
              "      <td>1</td>\n",
              "    </tr>\n",
              "    <tr>\n",
              "      <th>2</th>\n",
              "      <td>Albania</td>\n",
              "      <td>4</td>\n",
              "    </tr>\n",
              "    <tr>\n",
              "      <th>3</th>\n",
              "      <td>Algeria</td>\n",
              "      <td>3</td>\n",
              "    </tr>\n",
              "    <tr>\n",
              "      <th>4</th>\n",
              "      <td>Angola</td>\n",
              "      <td>197</td>\n",
              "    </tr>\n",
              "    <tr>\n",
              "      <th>...</th>\n",
              "      <td>...</td>\n",
              "      <td>...</td>\n",
              "    </tr>\n",
              "    <tr>\n",
              "      <th>134</th>\n",
              "      <td>United States</td>\n",
              "      <td>7668</td>\n",
              "    </tr>\n",
              "    <tr>\n",
              "      <th>135</th>\n",
              "      <td>Uruguay</td>\n",
              "      <td>81</td>\n",
              "    </tr>\n",
              "    <tr>\n",
              "      <th>136</th>\n",
              "      <td>Uzbekistan</td>\n",
              "      <td>1</td>\n",
              "    </tr>\n",
              "    <tr>\n",
              "      <th>137</th>\n",
              "      <td>Venezuela</td>\n",
              "      <td>44</td>\n",
              "    </tr>\n",
              "    <tr>\n",
              "      <th>138</th>\n",
              "      <td>Vietnam</td>\n",
              "      <td>14</td>\n",
              "    </tr>\n",
              "  </tbody>\n",
              "</table>\n",
              "<p>139 rows × 2 columns</p>\n",
              "</div>\n",
              "    <div class=\"colab-df-buttons\">\n",
              "\n",
              "  <div class=\"colab-df-container\">\n",
              "    <button class=\"colab-df-convert\" onclick=\"convertToInteractive('df-525322d5-0dbc-4b47-ac3e-1d9e713daeeb')\"\n",
              "            title=\"Convert this dataframe to an interactive table.\"\n",
              "            style=\"display:none;\">\n",
              "\n",
              "  <svg xmlns=\"http://www.w3.org/2000/svg\" height=\"24px\" viewBox=\"0 -960 960 960\">\n",
              "    <path d=\"M120-120v-720h720v720H120Zm60-500h600v-160H180v160Zm220 220h160v-160H400v160Zm0 220h160v-160H400v160ZM180-400h160v-160H180v160Zm440 0h160v-160H620v160ZM180-180h160v-160H180v160Zm440 0h160v-160H620v160Z\"/>\n",
              "  </svg>\n",
              "    </button>\n",
              "\n",
              "  <style>\n",
              "    .colab-df-container {\n",
              "      display:flex;\n",
              "      gap: 12px;\n",
              "    }\n",
              "\n",
              "    .colab-df-convert {\n",
              "      background-color: #E8F0FE;\n",
              "      border: none;\n",
              "      border-radius: 50%;\n",
              "      cursor: pointer;\n",
              "      display: none;\n",
              "      fill: #1967D2;\n",
              "      height: 32px;\n",
              "      padding: 0 0 0 0;\n",
              "      width: 32px;\n",
              "    }\n",
              "\n",
              "    .colab-df-convert:hover {\n",
              "      background-color: #E2EBFA;\n",
              "      box-shadow: 0px 1px 2px rgba(60, 64, 67, 0.3), 0px 1px 3px 1px rgba(60, 64, 67, 0.15);\n",
              "      fill: #174EA6;\n",
              "    }\n",
              "\n",
              "    .colab-df-buttons div {\n",
              "      margin-bottom: 4px;\n",
              "    }\n",
              "\n",
              "    [theme=dark] .colab-df-convert {\n",
              "      background-color: #3B4455;\n",
              "      fill: #D2E3FC;\n",
              "    }\n",
              "\n",
              "    [theme=dark] .colab-df-convert:hover {\n",
              "      background-color: #434B5C;\n",
              "      box-shadow: 0px 1px 3px 1px rgba(0, 0, 0, 0.15);\n",
              "      filter: drop-shadow(0px 1px 2px rgba(0, 0, 0, 0.3));\n",
              "      fill: #FFFFFF;\n",
              "    }\n",
              "  </style>\n",
              "\n",
              "    <script>\n",
              "      const buttonEl =\n",
              "        document.querySelector('#df-525322d5-0dbc-4b47-ac3e-1d9e713daeeb button.colab-df-convert');\n",
              "      buttonEl.style.display =\n",
              "        google.colab.kernel.accessAllowed ? 'block' : 'none';\n",
              "\n",
              "      async function convertToInteractive(key) {\n",
              "        const element = document.querySelector('#df-525322d5-0dbc-4b47-ac3e-1d9e713daeeb');\n",
              "        const dataTable =\n",
              "          await google.colab.kernel.invokeFunction('convertToInteractive',\n",
              "                                                    [key], {});\n",
              "        if (!dataTable) return;\n",
              "\n",
              "        const docLinkHtml = 'Like what you see? Visit the ' +\n",
              "          '<a target=\"_blank\" href=https://colab.research.google.com/notebooks/data_table.ipynb>data table notebook</a>'\n",
              "          + ' to learn more about interactive tables.';\n",
              "        element.innerHTML = '';\n",
              "        dataTable['output_type'] = 'display_data';\n",
              "        await google.colab.output.renderOutput(dataTable, element);\n",
              "        const docLink = document.createElement('div');\n",
              "        docLink.innerHTML = docLinkHtml;\n",
              "        element.appendChild(docLink);\n",
              "      }\n",
              "    </script>\n",
              "  </div>\n",
              "\n",
              "\n",
              "<div id=\"df-1b4b674b-5a47-462a-80b9-701e0d7e9c83\">\n",
              "  <button class=\"colab-df-quickchart\" onclick=\"quickchart('df-1b4b674b-5a47-462a-80b9-701e0d7e9c83')\"\n",
              "            title=\"Suggest charts\"\n",
              "            style=\"display:none;\">\n",
              "\n",
              "<svg xmlns=\"http://www.w3.org/2000/svg\" height=\"24px\"viewBox=\"0 0 24 24\"\n",
              "     width=\"24px\">\n",
              "    <g>\n",
              "        <path d=\"M19 3H5c-1.1 0-2 .9-2 2v14c0 1.1.9 2 2 2h14c1.1 0 2-.9 2-2V5c0-1.1-.9-2-2-2zM9 17H7v-7h2v7zm4 0h-2V7h2v10zm4 0h-2v-4h2v4z\"/>\n",
              "    </g>\n",
              "</svg>\n",
              "  </button>\n",
              "\n",
              "<style>\n",
              "  .colab-df-quickchart {\n",
              "      --bg-color: #E8F0FE;\n",
              "      --fill-color: #1967D2;\n",
              "      --hover-bg-color: #E2EBFA;\n",
              "      --hover-fill-color: #174EA6;\n",
              "      --disabled-fill-color: #AAA;\n",
              "      --disabled-bg-color: #DDD;\n",
              "  }\n",
              "\n",
              "  [theme=dark] .colab-df-quickchart {\n",
              "      --bg-color: #3B4455;\n",
              "      --fill-color: #D2E3FC;\n",
              "      --hover-bg-color: #434B5C;\n",
              "      --hover-fill-color: #FFFFFF;\n",
              "      --disabled-bg-color: #3B4455;\n",
              "      --disabled-fill-color: #666;\n",
              "  }\n",
              "\n",
              "  .colab-df-quickchart {\n",
              "    background-color: var(--bg-color);\n",
              "    border: none;\n",
              "    border-radius: 50%;\n",
              "    cursor: pointer;\n",
              "    display: none;\n",
              "    fill: var(--fill-color);\n",
              "    height: 32px;\n",
              "    padding: 0;\n",
              "    width: 32px;\n",
              "  }\n",
              "\n",
              "  .colab-df-quickchart:hover {\n",
              "    background-color: var(--hover-bg-color);\n",
              "    box-shadow: 0 1px 2px rgba(60, 64, 67, 0.3), 0 1px 3px 1px rgba(60, 64, 67, 0.15);\n",
              "    fill: var(--button-hover-fill-color);\n",
              "  }\n",
              "\n",
              "  .colab-df-quickchart-complete:disabled,\n",
              "  .colab-df-quickchart-complete:disabled:hover {\n",
              "    background-color: var(--disabled-bg-color);\n",
              "    fill: var(--disabled-fill-color);\n",
              "    box-shadow: none;\n",
              "  }\n",
              "\n",
              "  .colab-df-spinner {\n",
              "    border: 2px solid var(--fill-color);\n",
              "    border-color: transparent;\n",
              "    border-bottom-color: var(--fill-color);\n",
              "    animation:\n",
              "      spin 1s steps(1) infinite;\n",
              "  }\n",
              "\n",
              "  @keyframes spin {\n",
              "    0% {\n",
              "      border-color: transparent;\n",
              "      border-bottom-color: var(--fill-color);\n",
              "      border-left-color: var(--fill-color);\n",
              "    }\n",
              "    20% {\n",
              "      border-color: transparent;\n",
              "      border-left-color: var(--fill-color);\n",
              "      border-top-color: var(--fill-color);\n",
              "    }\n",
              "    30% {\n",
              "      border-color: transparent;\n",
              "      border-left-color: var(--fill-color);\n",
              "      border-top-color: var(--fill-color);\n",
              "      border-right-color: var(--fill-color);\n",
              "    }\n",
              "    40% {\n",
              "      border-color: transparent;\n",
              "      border-right-color: var(--fill-color);\n",
              "      border-top-color: var(--fill-color);\n",
              "    }\n",
              "    60% {\n",
              "      border-color: transparent;\n",
              "      border-right-color: var(--fill-color);\n",
              "    }\n",
              "    80% {\n",
              "      border-color: transparent;\n",
              "      border-right-color: var(--fill-color);\n",
              "      border-bottom-color: var(--fill-color);\n",
              "    }\n",
              "    90% {\n",
              "      border-color: transparent;\n",
              "      border-bottom-color: var(--fill-color);\n",
              "    }\n",
              "  }\n",
              "</style>\n",
              "\n",
              "  <script>\n",
              "    async function quickchart(key) {\n",
              "      const quickchartButtonEl =\n",
              "        document.querySelector('#' + key + ' button');\n",
              "      quickchartButtonEl.disabled = true;  // To prevent multiple clicks.\n",
              "      quickchartButtonEl.classList.add('colab-df-spinner');\n",
              "      try {\n",
              "        const charts = await google.colab.kernel.invokeFunction(\n",
              "            'suggestCharts', [key], {});\n",
              "      } catch (error) {\n",
              "        console.error('Error during call to suggestCharts:', error);\n",
              "      }\n",
              "      quickchartButtonEl.classList.remove('colab-df-spinner');\n",
              "      quickchartButtonEl.classList.add('colab-df-quickchart-complete');\n",
              "    }\n",
              "    (() => {\n",
              "      let quickchartButtonEl =\n",
              "        document.querySelector('#df-1b4b674b-5a47-462a-80b9-701e0d7e9c83 button');\n",
              "      quickchartButtonEl.style.display =\n",
              "        google.colab.kernel.accessAllowed ? 'block' : 'none';\n",
              "    })();\n",
              "  </script>\n",
              "</div>\n",
              "    </div>\n",
              "  </div>\n"
            ],
            "application/vnd.google.colaboratory.intrinsic+json": {
              "type": "dataframe",
              "variable_name": "users_country_summed",
              "summary": "{\n  \"name\": \"users_country_summed\",\n  \"rows\": 139,\n  \"fields\": [\n    {\n      \"column\": \"Country\",\n      \"properties\": {\n        \"dtype\": \"string\",\n        \"num_unique_values\": 139,\n        \"samples\": [\n          \"Uruguay\",\n          \"Kenya\",\n          \"Cyprus\"\n        ],\n        \"semantic_type\": \"\",\n        \"description\": \"\"\n      }\n    },\n    {\n      \"column\": \"Active users\",\n      \"properties\": {\n        \"dtype\": \"number\",\n        \"std\": 171266,\n        \"min\": 1,\n        \"max\": 2019361,\n        \"num_unique_values\": 58,\n        \"samples\": [\n          781,\n          513,\n          769\n        ],\n        \"semantic_type\": \"\",\n        \"description\": \"\"\n      }\n    }\n  ]\n}"
            }
          },
          "metadata": {},
          "execution_count": 134
        }
      ]
    },
    {
      "cell_type": "code",
      "source": [
        "users_country_summed.info()"
      ],
      "metadata": {
        "colab": {
          "base_uri": "https://localhost:8080/"
        },
        "id": "cj4sI5fF65RL",
        "outputId": "4f5486ed-d36a-413a-ec9c-21bcdeb734e1"
      },
      "execution_count": 135,
      "outputs": [
        {
          "output_type": "stream",
          "name": "stdout",
          "text": [
            "<class 'pandas.core.frame.DataFrame'>\n",
            "RangeIndex: 139 entries, 0 to 138\n",
            "Data columns (total 2 columns):\n",
            " #   Column        Non-Null Count  Dtype \n",
            "---  ------        --------------  ----- \n",
            " 0   Country       139 non-null    object\n",
            " 1   Active users  139 non-null    int64 \n",
            "dtypes: int64(1), object(1)\n",
            "memory usage: 2.3+ KB\n"
          ]
        }
      ]
    },
    {
      "cell_type": "code",
      "source": [
        "users_country_summed['Active users'].describe()"
      ],
      "metadata": {
        "colab": {
          "base_uri": "https://localhost:8080/"
        },
        "id": "VIMs0m84O_mz",
        "outputId": "538e5020-748e-4910-874b-0cc019743234"
      },
      "execution_count": 152,
      "outputs": [
        {
          "output_type": "execute_result",
          "data": {
            "text/plain": [
              "count    1.390000e+02\n",
              "mean     1.470701e+04\n",
              "std      1.712663e+05\n",
              "min      1.000000e+00\n",
              "25%      2.000000e+00\n",
              "50%      6.000000e+00\n",
              "75%      6.350000e+01\n",
              "max      2.019361e+06\n",
              "Name: Active users, dtype: float64"
            ]
          },
          "metadata": {},
          "execution_count": 152
        }
      ]
    },
    {
      "cell_type": "code",
      "source": [
        "print(f\"Mediana = {users_country_summed['Active users'].median()}\")\n",
        "print(f\"Moda = {users_country_summed['Active users'].mode()[0]}\")\n",
        "print(f\"Variância = {users_country_summed['Active users'].var()}\")\n",
        "\n",
        "q1 = users_country_summed['Active users'].quantile(0.25)\n",
        "q3 = users_country_summed['Active users'].quantile(0.75)\n",
        "iqr = q3 - q1\n",
        "print(f\"Diferença do primeiro para o terceiro quartil = {iqr}\")"
      ],
      "metadata": {
        "colab": {
          "base_uri": "https://localhost:8080/"
        },
        "id": "B7_mY8_cOgKq",
        "outputId": "54a15dae-9479-4cc2-b4e4-895c81e26dbb"
      },
      "execution_count": 151,
      "outputs": [
        {
          "output_type": "stream",
          "name": "stdout",
          "text": [
            "Mediana = 6.0\n",
            "Moda = 1\n",
            "Variância = 29332133309.13763\n",
            "Diferença do primeiro para o terceiro quartil = 61.5\n"
          ]
        }
      ]
    },
    {
      "cell_type": "markdown",
      "source": [
        "### Análise Estatística Descritiva"
      ],
      "metadata": {
        "id": "DCFhdVA-Ajmf"
      }
    },
    {
      "cell_type": "markdown",
      "source": [
        "- **Country**: Representa os países que possuem usuários.\n",
        "- **Active Users**: Número de usuários ativos em cada país.\n",
        "\n",
        "\n",
        "- **Contagem**: Dados disponíveis para todos os países que possuem usuários.\n",
        "- **Média de Usuários Ativos**: 1.470701e+04\n",
        "- **Mediana de Usuários Ativos**: 6.0\n",
        "- **Moda de Usuários Ativos**: 1\n",
        "- **Desvio Padrão**: 1.712663e+05, indicando a variação no número de usuários ativos entre os países.\n",
        "- **Variância**: 29332133309.13763\n",
        "- **Amplitude Interquartil:**: 61.5 - útil para entender a dispersão do meio 50% dos dados."
      ],
      "metadata": {
        "id": "RS1reCiQOeHP"
      }
    },
    {
      "cell_type": "markdown",
      "source": [
        "### Visualização dos dados"
      ],
      "metadata": {
        "id": "lxtDzMs-_4Vw"
      }
    },
    {
      "cell_type": "code",
      "source": [
        "# Criar um gráfico de barras com Plotly\n",
        "fig = px.bar(users_country_summed, x='Country', y='Active users', title='Quantidade de usuários por país')\n",
        "\n",
        "# Mostrar o gráfico\n",
        "fig.show()"
      ],
      "metadata": {
        "colab": {
          "base_uri": "https://localhost:8080/",
          "height": 542
        },
        "id": "PjQPRau__4J2",
        "outputId": "dc5f6870-7d6f-434f-9fdb-9c64c7fc179a"
      },
      "execution_count": 153,
      "outputs": [
        {
          "output_type": "display_data",
          "data": {
            "text/html": [
              "<html>\n",
              "<head><meta charset=\"utf-8\" /></head>\n",
              "<body>\n",
              "    <div>            <script src=\"https://cdnjs.cloudflare.com/ajax/libs/mathjax/2.7.5/MathJax.js?config=TeX-AMS-MML_SVG\"></script><script type=\"text/javascript\">if (window.MathJax && window.MathJax.Hub && window.MathJax.Hub.Config) {window.MathJax.Hub.Config({SVG: {font: \"STIX-Web\"}});}</script>                <script type=\"text/javascript\">window.PlotlyConfig = {MathJaxConfig: 'local'};</script>\n",
              "        <script charset=\"utf-8\" src=\"https://cdn.plot.ly/plotly-2.24.1.min.js\"></script>                <div id=\"c2f49346-c3c0-45c6-94ac-b448b1b60023\" class=\"plotly-graph-div\" style=\"height:525px; width:100%;\"></div>            <script type=\"text/javascript\">                                    window.PLOTLYENV=window.PLOTLYENV || {};                                    if (document.getElementById(\"c2f49346-c3c0-45c6-94ac-b448b1b60023\")) {                    Plotly.newPlot(                        \"c2f49346-c3c0-45c6-94ac-b448b1b60023\",                        [{\"alignmentgroup\":\"True\",\"hovertemplate\":\"Country=%{x}\\u003cbr\\u003eActive users=%{y}\\u003cextra\\u003e\\u003c\\u002fextra\\u003e\",\"legendgroup\":\"\",\"marker\":{\"color\":\"#636efa\",\"pattern\":{\"shape\":\"\"}},\"name\":\"\",\"offsetgroup\":\"\",\"orientation\":\"v\",\"showlegend\":false,\"textposition\":\"auto\",\"x\":[\"(not set)\",\"Afghanistan\",\"Albania\",\"Algeria\",\"Angola\",\"Argentina\",\"Armenia\",\"Aruba\",\"Australia\",\"Austria\",\"Azerbaijan\",\"Bahamas\",\"Bangladesh\",\"Barbados\",\"Belarus\",\"Belgium\",\"Bolivia\",\"Bosnia & Herzegovina\",\"Brazil\",\"Bulgaria\",\"Cambodia\",\"Cameroon\",\"Canada\",\"Cape Verde\",\"Chile\",\"China\",\"Colombia\",\"Costa Rica\",\"Croatia\",\"Cuba\",\"Cura\\u00e7ao\",\"Cyprus\",\"Czechia\",\"C\\u00f4te d\\u2019Ivoire\",\"Denmark\",\"Dominican Republic\",\"Ecuador\",\"Egypt\",\"El Salvador\",\"Estonia\",\"Ethiopia\",\"Finland\",\"France\",\"French Guiana\",\"Germany\",\"Ghana\",\"Greece\",\"Guam\",\"Guatemala\",\"Guinea\",\"Guinea-Bissau\",\"Guyana\",\"Haiti\",\"Honduras\",\"Hong Kong\",\"Hungary\",\"India\",\"Indonesia\",\"Iran\",\"Iraq\",\"Ireland\",\"Israel\",\"Italy\",\"Japan\",\"Jersey\",\"Jordan\",\"Kenya\",\"Kosovo\",\"Kyrgyzstan\",\"Laos\",\"Latvia\",\"Lebanon\",\"Lithuania\",\"Luxembourg\",\"Macao\",\"Malta\",\"Martinique\",\"Mayotte\",\"Mexico\",\"Monaco\",\"Montenegro\",\"Morocco\",\"Mozambique\",\"Myanmar (Burma)\",\"Namibia\",\"Netherlands\",\"New Zealand\",\"Nicaragua\",\"Niger\",\"Nigeria\",\"Norway\",\"Pakistan\",\"Palestine\",\"Panama\",\"Paraguay\",\"Peru\",\"Philippines\",\"Poland\",\"Portugal\",\"Qatar\",\"Romania\",\"Russia\",\"Rwanda\",\"Saudi Arabia\",\"Senegal\",\"Serbia\",\"Singapore\",\"Sint Maarten\",\"Slovakia\",\"Slovenia\",\"Somalia\",\"South Africa\",\"South Korea\",\"Spain\",\"Sri Lanka\",\"St. Barth\\u00e9lemy\",\"St. Pierre & Miquelon\",\"St. Vincent & Grenadines\",\"Suriname\",\"Sweden\",\"Switzerland\",\"S\\u00e3o Tom\\u00e9 & Pr\\u00edncipe\",\"Taiwan\",\"Tanzania\",\"Thailand\",\"Timor-Leste\",\"Togo\",\"Trinidad & Tobago\",\"Turkmenistan\",\"T\\u00fcrkiye\",\"U.S. Virgin Islands\",\"Ukraine\",\"United Arab Emirates\",\"United Kingdom\",\"United States\",\"Uruguay\",\"Uzbekistan\",\"Venezuela\",\"Vietnam\"],\"xaxis\":\"x\",\"y\":[781,1,4,3,197,513,1,1,83,23,2,1,7,1,1,58,196,3,2019361,2,3,2,198,14,230,100,81,26,5,3,9,2,6,1,19,25,23,9,4,1,2,18,1113,9,1311,1,9,1,4,1,8,13,5,1,12,1407,157,3321,73,1,769,6,174,196,1,2,2,2,1,1,1,5,2,18,3,15,4,4,102,2,203,5,63,3,1,1136,137,5,1,9,35,3,2,5,771,64,18,13,1229,8,4,10,2,10,6,2,323,1,4,2,6,11,20,200,1,2,103,112,11,599,95,1,3,2,6,1,1,1,5,12,3,6,25,388,7668,81,1,44,14],\"yaxis\":\"y\",\"type\":\"bar\"}],                        {\"template\":{\"data\":{\"histogram2dcontour\":[{\"type\":\"histogram2dcontour\",\"colorbar\":{\"outlinewidth\":0,\"ticks\":\"\"},\"colorscale\":[[0.0,\"#0d0887\"],[0.1111111111111111,\"#46039f\"],[0.2222222222222222,\"#7201a8\"],[0.3333333333333333,\"#9c179e\"],[0.4444444444444444,\"#bd3786\"],[0.5555555555555556,\"#d8576b\"],[0.6666666666666666,\"#ed7953\"],[0.7777777777777778,\"#fb9f3a\"],[0.8888888888888888,\"#fdca26\"],[1.0,\"#f0f921\"]]}],\"choropleth\":[{\"type\":\"choropleth\",\"colorbar\":{\"outlinewidth\":0,\"ticks\":\"\"}}],\"histogram2d\":[{\"type\":\"histogram2d\",\"colorbar\":{\"outlinewidth\":0,\"ticks\":\"\"},\"colorscale\":[[0.0,\"#0d0887\"],[0.1111111111111111,\"#46039f\"],[0.2222222222222222,\"#7201a8\"],[0.3333333333333333,\"#9c179e\"],[0.4444444444444444,\"#bd3786\"],[0.5555555555555556,\"#d8576b\"],[0.6666666666666666,\"#ed7953\"],[0.7777777777777778,\"#fb9f3a\"],[0.8888888888888888,\"#fdca26\"],[1.0,\"#f0f921\"]]}],\"heatmap\":[{\"type\":\"heatmap\",\"colorbar\":{\"outlinewidth\":0,\"ticks\":\"\"},\"colorscale\":[[0.0,\"#0d0887\"],[0.1111111111111111,\"#46039f\"],[0.2222222222222222,\"#7201a8\"],[0.3333333333333333,\"#9c179e\"],[0.4444444444444444,\"#bd3786\"],[0.5555555555555556,\"#d8576b\"],[0.6666666666666666,\"#ed7953\"],[0.7777777777777778,\"#fb9f3a\"],[0.8888888888888888,\"#fdca26\"],[1.0,\"#f0f921\"]]}],\"heatmapgl\":[{\"type\":\"heatmapgl\",\"colorbar\":{\"outlinewidth\":0,\"ticks\":\"\"},\"colorscale\":[[0.0,\"#0d0887\"],[0.1111111111111111,\"#46039f\"],[0.2222222222222222,\"#7201a8\"],[0.3333333333333333,\"#9c179e\"],[0.4444444444444444,\"#bd3786\"],[0.5555555555555556,\"#d8576b\"],[0.6666666666666666,\"#ed7953\"],[0.7777777777777778,\"#fb9f3a\"],[0.8888888888888888,\"#fdca26\"],[1.0,\"#f0f921\"]]}],\"contourcarpet\":[{\"type\":\"contourcarpet\",\"colorbar\":{\"outlinewidth\":0,\"ticks\":\"\"}}],\"contour\":[{\"type\":\"contour\",\"colorbar\":{\"outlinewidth\":0,\"ticks\":\"\"},\"colorscale\":[[0.0,\"#0d0887\"],[0.1111111111111111,\"#46039f\"],[0.2222222222222222,\"#7201a8\"],[0.3333333333333333,\"#9c179e\"],[0.4444444444444444,\"#bd3786\"],[0.5555555555555556,\"#d8576b\"],[0.6666666666666666,\"#ed7953\"],[0.7777777777777778,\"#fb9f3a\"],[0.8888888888888888,\"#fdca26\"],[1.0,\"#f0f921\"]]}],\"surface\":[{\"type\":\"surface\",\"colorbar\":{\"outlinewidth\":0,\"ticks\":\"\"},\"colorscale\":[[0.0,\"#0d0887\"],[0.1111111111111111,\"#46039f\"],[0.2222222222222222,\"#7201a8\"],[0.3333333333333333,\"#9c179e\"],[0.4444444444444444,\"#bd3786\"],[0.5555555555555556,\"#d8576b\"],[0.6666666666666666,\"#ed7953\"],[0.7777777777777778,\"#fb9f3a\"],[0.8888888888888888,\"#fdca26\"],[1.0,\"#f0f921\"]]}],\"mesh3d\":[{\"type\":\"mesh3d\",\"colorbar\":{\"outlinewidth\":0,\"ticks\":\"\"}}],\"scatter\":[{\"fillpattern\":{\"fillmode\":\"overlay\",\"size\":10,\"solidity\":0.2},\"type\":\"scatter\"}],\"parcoords\":[{\"type\":\"parcoords\",\"line\":{\"colorbar\":{\"outlinewidth\":0,\"ticks\":\"\"}}}],\"scatterpolargl\":[{\"type\":\"scatterpolargl\",\"marker\":{\"colorbar\":{\"outlinewidth\":0,\"ticks\":\"\"}}}],\"bar\":[{\"error_x\":{\"color\":\"#2a3f5f\"},\"error_y\":{\"color\":\"#2a3f5f\"},\"marker\":{\"line\":{\"color\":\"#E5ECF6\",\"width\":0.5},\"pattern\":{\"fillmode\":\"overlay\",\"size\":10,\"solidity\":0.2}},\"type\":\"bar\"}],\"scattergeo\":[{\"type\":\"scattergeo\",\"marker\":{\"colorbar\":{\"outlinewidth\":0,\"ticks\":\"\"}}}],\"scatterpolar\":[{\"type\":\"scatterpolar\",\"marker\":{\"colorbar\":{\"outlinewidth\":0,\"ticks\":\"\"}}}],\"histogram\":[{\"marker\":{\"pattern\":{\"fillmode\":\"overlay\",\"size\":10,\"solidity\":0.2}},\"type\":\"histogram\"}],\"scattergl\":[{\"type\":\"scattergl\",\"marker\":{\"colorbar\":{\"outlinewidth\":0,\"ticks\":\"\"}}}],\"scatter3d\":[{\"type\":\"scatter3d\",\"line\":{\"colorbar\":{\"outlinewidth\":0,\"ticks\":\"\"}},\"marker\":{\"colorbar\":{\"outlinewidth\":0,\"ticks\":\"\"}}}],\"scattermapbox\":[{\"type\":\"scattermapbox\",\"marker\":{\"colorbar\":{\"outlinewidth\":0,\"ticks\":\"\"}}}],\"scatterternary\":[{\"type\":\"scatterternary\",\"marker\":{\"colorbar\":{\"outlinewidth\":0,\"ticks\":\"\"}}}],\"scattercarpet\":[{\"type\":\"scattercarpet\",\"marker\":{\"colorbar\":{\"outlinewidth\":0,\"ticks\":\"\"}}}],\"carpet\":[{\"aaxis\":{\"endlinecolor\":\"#2a3f5f\",\"gridcolor\":\"white\",\"linecolor\":\"white\",\"minorgridcolor\":\"white\",\"startlinecolor\":\"#2a3f5f\"},\"baxis\":{\"endlinecolor\":\"#2a3f5f\",\"gridcolor\":\"white\",\"linecolor\":\"white\",\"minorgridcolor\":\"white\",\"startlinecolor\":\"#2a3f5f\"},\"type\":\"carpet\"}],\"table\":[{\"cells\":{\"fill\":{\"color\":\"#EBF0F8\"},\"line\":{\"color\":\"white\"}},\"header\":{\"fill\":{\"color\":\"#C8D4E3\"},\"line\":{\"color\":\"white\"}},\"type\":\"table\"}],\"barpolar\":[{\"marker\":{\"line\":{\"color\":\"#E5ECF6\",\"width\":0.5},\"pattern\":{\"fillmode\":\"overlay\",\"size\":10,\"solidity\":0.2}},\"type\":\"barpolar\"}],\"pie\":[{\"automargin\":true,\"type\":\"pie\"}]},\"layout\":{\"autotypenumbers\":\"strict\",\"colorway\":[\"#636efa\",\"#EF553B\",\"#00cc96\",\"#ab63fa\",\"#FFA15A\",\"#19d3f3\",\"#FF6692\",\"#B6E880\",\"#FF97FF\",\"#FECB52\"],\"font\":{\"color\":\"#2a3f5f\"},\"hovermode\":\"closest\",\"hoverlabel\":{\"align\":\"left\"},\"paper_bgcolor\":\"white\",\"plot_bgcolor\":\"#E5ECF6\",\"polar\":{\"bgcolor\":\"#E5ECF6\",\"angularaxis\":{\"gridcolor\":\"white\",\"linecolor\":\"white\",\"ticks\":\"\"},\"radialaxis\":{\"gridcolor\":\"white\",\"linecolor\":\"white\",\"ticks\":\"\"}},\"ternary\":{\"bgcolor\":\"#E5ECF6\",\"aaxis\":{\"gridcolor\":\"white\",\"linecolor\":\"white\",\"ticks\":\"\"},\"baxis\":{\"gridcolor\":\"white\",\"linecolor\":\"white\",\"ticks\":\"\"},\"caxis\":{\"gridcolor\":\"white\",\"linecolor\":\"white\",\"ticks\":\"\"}},\"coloraxis\":{\"colorbar\":{\"outlinewidth\":0,\"ticks\":\"\"}},\"colorscale\":{\"sequential\":[[0.0,\"#0d0887\"],[0.1111111111111111,\"#46039f\"],[0.2222222222222222,\"#7201a8\"],[0.3333333333333333,\"#9c179e\"],[0.4444444444444444,\"#bd3786\"],[0.5555555555555556,\"#d8576b\"],[0.6666666666666666,\"#ed7953\"],[0.7777777777777778,\"#fb9f3a\"],[0.8888888888888888,\"#fdca26\"],[1.0,\"#f0f921\"]],\"sequentialminus\":[[0.0,\"#0d0887\"],[0.1111111111111111,\"#46039f\"],[0.2222222222222222,\"#7201a8\"],[0.3333333333333333,\"#9c179e\"],[0.4444444444444444,\"#bd3786\"],[0.5555555555555556,\"#d8576b\"],[0.6666666666666666,\"#ed7953\"],[0.7777777777777778,\"#fb9f3a\"],[0.8888888888888888,\"#fdca26\"],[1.0,\"#f0f921\"]],\"diverging\":[[0,\"#8e0152\"],[0.1,\"#c51b7d\"],[0.2,\"#de77ae\"],[0.3,\"#f1b6da\"],[0.4,\"#fde0ef\"],[0.5,\"#f7f7f7\"],[0.6,\"#e6f5d0\"],[0.7,\"#b8e186\"],[0.8,\"#7fbc41\"],[0.9,\"#4d9221\"],[1,\"#276419\"]]},\"xaxis\":{\"gridcolor\":\"white\",\"linecolor\":\"white\",\"ticks\":\"\",\"title\":{\"standoff\":15},\"zerolinecolor\":\"white\",\"automargin\":true,\"zerolinewidth\":2},\"yaxis\":{\"gridcolor\":\"white\",\"linecolor\":\"white\",\"ticks\":\"\",\"title\":{\"standoff\":15},\"zerolinecolor\":\"white\",\"automargin\":true,\"zerolinewidth\":2},\"scene\":{\"xaxis\":{\"backgroundcolor\":\"#E5ECF6\",\"gridcolor\":\"white\",\"linecolor\":\"white\",\"showbackground\":true,\"ticks\":\"\",\"zerolinecolor\":\"white\",\"gridwidth\":2},\"yaxis\":{\"backgroundcolor\":\"#E5ECF6\",\"gridcolor\":\"white\",\"linecolor\":\"white\",\"showbackground\":true,\"ticks\":\"\",\"zerolinecolor\":\"white\",\"gridwidth\":2},\"zaxis\":{\"backgroundcolor\":\"#E5ECF6\",\"gridcolor\":\"white\",\"linecolor\":\"white\",\"showbackground\":true,\"ticks\":\"\",\"zerolinecolor\":\"white\",\"gridwidth\":2}},\"shapedefaults\":{\"line\":{\"color\":\"#2a3f5f\"}},\"annotationdefaults\":{\"arrowcolor\":\"#2a3f5f\",\"arrowhead\":0,\"arrowwidth\":1},\"geo\":{\"bgcolor\":\"white\",\"landcolor\":\"#E5ECF6\",\"subunitcolor\":\"white\",\"showland\":true,\"showlakes\":true,\"lakecolor\":\"white\"},\"title\":{\"x\":0.05},\"mapbox\":{\"style\":\"light\"}}},\"xaxis\":{\"anchor\":\"y\",\"domain\":[0.0,1.0],\"title\":{\"text\":\"Country\"}},\"yaxis\":{\"anchor\":\"x\",\"domain\":[0.0,1.0],\"title\":{\"text\":\"Active users\"}},\"legend\":{\"tracegroupgap\":0},\"title\":{\"text\":\"Quantidade de usu\\u00e1rios por pa\\u00eds\"},\"barmode\":\"relative\"},                        {\"responsive\": true}                    ).then(function(){\n",
              "                            \n",
              "var gd = document.getElementById('c2f49346-c3c0-45c6-94ac-b448b1b60023');\n",
              "var x = new MutationObserver(function (mutations, observer) {{\n",
              "        var display = window.getComputedStyle(gd).display;\n",
              "        if (!display || display === 'none') {{\n",
              "            console.log([gd, 'removed!']);\n",
              "            Plotly.purge(gd);\n",
              "            observer.disconnect();\n",
              "        }}\n",
              "}});\n",
              "\n",
              "// Listen for the removal of the full notebook cells\n",
              "var notebookContainer = gd.closest('#notebook-container');\n",
              "if (notebookContainer) {{\n",
              "    x.observe(notebookContainer, {childList: true});\n",
              "}}\n",
              "\n",
              "// Listen for the clearing of the current output cell\n",
              "var outputEl = gd.closest('.output');\n",
              "if (outputEl) {{\n",
              "    x.observe(outputEl, {childList: true});\n",
              "}}\n",
              "\n",
              "                        })                };                            </script>        </div>\n",
              "</body>\n",
              "</html>"
            ]
          },
          "metadata": {}
        }
      ]
    },
    {
      "cell_type": "markdown",
      "source": [
        "### Identificação de Outliers"
      ],
      "metadata": {
        "id": "iNi26RaN_4py"
      }
    },
    {
      "cell_type": "code",
      "source": [],
      "metadata": {
        "id": "zRU5Ac12_4HL"
      },
      "execution_count": 135,
      "outputs": []
    },
    {
      "cell_type": "markdown",
      "source": [
        "## Visualizações por país e cidade"
      ],
      "metadata": {
        "id": "mhp0t9mbl8JE"
      }
    },
    {
      "cell_type": "code",
      "source": [
        "country_city_views_combined = pd.concat([country_city_views_big_numbers_2023, country_city_views_big_numbers_2024])\n",
        "country_city_views_summed = country_city_views_combined.groupby(['Country', 'City'], as_index=False).sum()\n",
        "country_city_views_summed"
      ],
      "metadata": {
        "id": "KoEzV9lEqFtF",
        "colab": {
          "base_uri": "https://localhost:8080/",
          "height": 424
        },
        "outputId": "395369be-6e33-4673-d850-7c896ba00530"
      },
      "execution_count": 169,
      "outputs": [
        {
          "output_type": "execute_result",
          "data": {
            "text/plain": [
              "          Country       City  Views\n",
              "0       (not set)  (not set)    106\n",
              "1     Afghanistan      Kabul      0\n",
              "2         Albania  (not set)      3\n",
              "3         Albania     Tirana      2\n",
              "4         Algeria  (not set)      5\n",
              "...           ...        ...    ...\n",
              "2748      Vietnam   Bien Hoa      1\n",
              "2749      Vietnam    Da Nang      2\n",
              "2750      Vietnam      Dalat      5\n",
              "2751      Vietnam      Hanoi      6\n",
              "2752      Vietnam   Vung Tau      1\n",
              "\n",
              "[2753 rows x 3 columns]"
            ],
            "text/html": [
              "\n",
              "  <div id=\"df-38cfc5c0-d9ef-4a92-863b-6e4ad1804060\" class=\"colab-df-container\">\n",
              "    <div>\n",
              "<style scoped>\n",
              "    .dataframe tbody tr th:only-of-type {\n",
              "        vertical-align: middle;\n",
              "    }\n",
              "\n",
              "    .dataframe tbody tr th {\n",
              "        vertical-align: top;\n",
              "    }\n",
              "\n",
              "    .dataframe thead th {\n",
              "        text-align: right;\n",
              "    }\n",
              "</style>\n",
              "<table border=\"1\" class=\"dataframe\">\n",
              "  <thead>\n",
              "    <tr style=\"text-align: right;\">\n",
              "      <th></th>\n",
              "      <th>Country</th>\n",
              "      <th>City</th>\n",
              "      <th>Views</th>\n",
              "    </tr>\n",
              "  </thead>\n",
              "  <tbody>\n",
              "    <tr>\n",
              "      <th>0</th>\n",
              "      <td>(not set)</td>\n",
              "      <td>(not set)</td>\n",
              "      <td>106</td>\n",
              "    </tr>\n",
              "    <tr>\n",
              "      <th>1</th>\n",
              "      <td>Afghanistan</td>\n",
              "      <td>Kabul</td>\n",
              "      <td>0</td>\n",
              "    </tr>\n",
              "    <tr>\n",
              "      <th>2</th>\n",
              "      <td>Albania</td>\n",
              "      <td>(not set)</td>\n",
              "      <td>3</td>\n",
              "    </tr>\n",
              "    <tr>\n",
              "      <th>3</th>\n",
              "      <td>Albania</td>\n",
              "      <td>Tirana</td>\n",
              "      <td>2</td>\n",
              "    </tr>\n",
              "    <tr>\n",
              "      <th>4</th>\n",
              "      <td>Algeria</td>\n",
              "      <td>(not set)</td>\n",
              "      <td>5</td>\n",
              "    </tr>\n",
              "    <tr>\n",
              "      <th>...</th>\n",
              "      <td>...</td>\n",
              "      <td>...</td>\n",
              "      <td>...</td>\n",
              "    </tr>\n",
              "    <tr>\n",
              "      <th>2748</th>\n",
              "      <td>Vietnam</td>\n",
              "      <td>Bien Hoa</td>\n",
              "      <td>1</td>\n",
              "    </tr>\n",
              "    <tr>\n",
              "      <th>2749</th>\n",
              "      <td>Vietnam</td>\n",
              "      <td>Da Nang</td>\n",
              "      <td>2</td>\n",
              "    </tr>\n",
              "    <tr>\n",
              "      <th>2750</th>\n",
              "      <td>Vietnam</td>\n",
              "      <td>Dalat</td>\n",
              "      <td>5</td>\n",
              "    </tr>\n",
              "    <tr>\n",
              "      <th>2751</th>\n",
              "      <td>Vietnam</td>\n",
              "      <td>Hanoi</td>\n",
              "      <td>6</td>\n",
              "    </tr>\n",
              "    <tr>\n",
              "      <th>2752</th>\n",
              "      <td>Vietnam</td>\n",
              "      <td>Vung Tau</td>\n",
              "      <td>1</td>\n",
              "    </tr>\n",
              "  </tbody>\n",
              "</table>\n",
              "<p>2753 rows × 3 columns</p>\n",
              "</div>\n",
              "    <div class=\"colab-df-buttons\">\n",
              "\n",
              "  <div class=\"colab-df-container\">\n",
              "    <button class=\"colab-df-convert\" onclick=\"convertToInteractive('df-38cfc5c0-d9ef-4a92-863b-6e4ad1804060')\"\n",
              "            title=\"Convert this dataframe to an interactive table.\"\n",
              "            style=\"display:none;\">\n",
              "\n",
              "  <svg xmlns=\"http://www.w3.org/2000/svg\" height=\"24px\" viewBox=\"0 -960 960 960\">\n",
              "    <path d=\"M120-120v-720h720v720H120Zm60-500h600v-160H180v160Zm220 220h160v-160H400v160Zm0 220h160v-160H400v160ZM180-400h160v-160H180v160Zm440 0h160v-160H620v160ZM180-180h160v-160H180v160Zm440 0h160v-160H620v160Z\"/>\n",
              "  </svg>\n",
              "    </button>\n",
              "\n",
              "  <style>\n",
              "    .colab-df-container {\n",
              "      display:flex;\n",
              "      gap: 12px;\n",
              "    }\n",
              "\n",
              "    .colab-df-convert {\n",
              "      background-color: #E8F0FE;\n",
              "      border: none;\n",
              "      border-radius: 50%;\n",
              "      cursor: pointer;\n",
              "      display: none;\n",
              "      fill: #1967D2;\n",
              "      height: 32px;\n",
              "      padding: 0 0 0 0;\n",
              "      width: 32px;\n",
              "    }\n",
              "\n",
              "    .colab-df-convert:hover {\n",
              "      background-color: #E2EBFA;\n",
              "      box-shadow: 0px 1px 2px rgba(60, 64, 67, 0.3), 0px 1px 3px 1px rgba(60, 64, 67, 0.15);\n",
              "      fill: #174EA6;\n",
              "    }\n",
              "\n",
              "    .colab-df-buttons div {\n",
              "      margin-bottom: 4px;\n",
              "    }\n",
              "\n",
              "    [theme=dark] .colab-df-convert {\n",
              "      background-color: #3B4455;\n",
              "      fill: #D2E3FC;\n",
              "    }\n",
              "\n",
              "    [theme=dark] .colab-df-convert:hover {\n",
              "      background-color: #434B5C;\n",
              "      box-shadow: 0px 1px 3px 1px rgba(0, 0, 0, 0.15);\n",
              "      filter: drop-shadow(0px 1px 2px rgba(0, 0, 0, 0.3));\n",
              "      fill: #FFFFFF;\n",
              "    }\n",
              "  </style>\n",
              "\n",
              "    <script>\n",
              "      const buttonEl =\n",
              "        document.querySelector('#df-38cfc5c0-d9ef-4a92-863b-6e4ad1804060 button.colab-df-convert');\n",
              "      buttonEl.style.display =\n",
              "        google.colab.kernel.accessAllowed ? 'block' : 'none';\n",
              "\n",
              "      async function convertToInteractive(key) {\n",
              "        const element = document.querySelector('#df-38cfc5c0-d9ef-4a92-863b-6e4ad1804060');\n",
              "        const dataTable =\n",
              "          await google.colab.kernel.invokeFunction('convertToInteractive',\n",
              "                                                    [key], {});\n",
              "        if (!dataTable) return;\n",
              "\n",
              "        const docLinkHtml = 'Like what you see? Visit the ' +\n",
              "          '<a target=\"_blank\" href=https://colab.research.google.com/notebooks/data_table.ipynb>data table notebook</a>'\n",
              "          + ' to learn more about interactive tables.';\n",
              "        element.innerHTML = '';\n",
              "        dataTable['output_type'] = 'display_data';\n",
              "        await google.colab.output.renderOutput(dataTable, element);\n",
              "        const docLink = document.createElement('div');\n",
              "        docLink.innerHTML = docLinkHtml;\n",
              "        element.appendChild(docLink);\n",
              "      }\n",
              "    </script>\n",
              "  </div>\n",
              "\n",
              "\n",
              "<div id=\"df-21166486-bbd9-4147-8e21-a40c1f2f0411\">\n",
              "  <button class=\"colab-df-quickchart\" onclick=\"quickchart('df-21166486-bbd9-4147-8e21-a40c1f2f0411')\"\n",
              "            title=\"Suggest charts\"\n",
              "            style=\"display:none;\">\n",
              "\n",
              "<svg xmlns=\"http://www.w3.org/2000/svg\" height=\"24px\"viewBox=\"0 0 24 24\"\n",
              "     width=\"24px\">\n",
              "    <g>\n",
              "        <path d=\"M19 3H5c-1.1 0-2 .9-2 2v14c0 1.1.9 2 2 2h14c1.1 0 2-.9 2-2V5c0-1.1-.9-2-2-2zM9 17H7v-7h2v7zm4 0h-2V7h2v10zm4 0h-2v-4h2v4z\"/>\n",
              "    </g>\n",
              "</svg>\n",
              "  </button>\n",
              "\n",
              "<style>\n",
              "  .colab-df-quickchart {\n",
              "      --bg-color: #E8F0FE;\n",
              "      --fill-color: #1967D2;\n",
              "      --hover-bg-color: #E2EBFA;\n",
              "      --hover-fill-color: #174EA6;\n",
              "      --disabled-fill-color: #AAA;\n",
              "      --disabled-bg-color: #DDD;\n",
              "  }\n",
              "\n",
              "  [theme=dark] .colab-df-quickchart {\n",
              "      --bg-color: #3B4455;\n",
              "      --fill-color: #D2E3FC;\n",
              "      --hover-bg-color: #434B5C;\n",
              "      --hover-fill-color: #FFFFFF;\n",
              "      --disabled-bg-color: #3B4455;\n",
              "      --disabled-fill-color: #666;\n",
              "  }\n",
              "\n",
              "  .colab-df-quickchart {\n",
              "    background-color: var(--bg-color);\n",
              "    border: none;\n",
              "    border-radius: 50%;\n",
              "    cursor: pointer;\n",
              "    display: none;\n",
              "    fill: var(--fill-color);\n",
              "    height: 32px;\n",
              "    padding: 0;\n",
              "    width: 32px;\n",
              "  }\n",
              "\n",
              "  .colab-df-quickchart:hover {\n",
              "    background-color: var(--hover-bg-color);\n",
              "    box-shadow: 0 1px 2px rgba(60, 64, 67, 0.3), 0 1px 3px 1px rgba(60, 64, 67, 0.15);\n",
              "    fill: var(--button-hover-fill-color);\n",
              "  }\n",
              "\n",
              "  .colab-df-quickchart-complete:disabled,\n",
              "  .colab-df-quickchart-complete:disabled:hover {\n",
              "    background-color: var(--disabled-bg-color);\n",
              "    fill: var(--disabled-fill-color);\n",
              "    box-shadow: none;\n",
              "  }\n",
              "\n",
              "  .colab-df-spinner {\n",
              "    border: 2px solid var(--fill-color);\n",
              "    border-color: transparent;\n",
              "    border-bottom-color: var(--fill-color);\n",
              "    animation:\n",
              "      spin 1s steps(1) infinite;\n",
              "  }\n",
              "\n",
              "  @keyframes spin {\n",
              "    0% {\n",
              "      border-color: transparent;\n",
              "      border-bottom-color: var(--fill-color);\n",
              "      border-left-color: var(--fill-color);\n",
              "    }\n",
              "    20% {\n",
              "      border-color: transparent;\n",
              "      border-left-color: var(--fill-color);\n",
              "      border-top-color: var(--fill-color);\n",
              "    }\n",
              "    30% {\n",
              "      border-color: transparent;\n",
              "      border-left-color: var(--fill-color);\n",
              "      border-top-color: var(--fill-color);\n",
              "      border-right-color: var(--fill-color);\n",
              "    }\n",
              "    40% {\n",
              "      border-color: transparent;\n",
              "      border-right-color: var(--fill-color);\n",
              "      border-top-color: var(--fill-color);\n",
              "    }\n",
              "    60% {\n",
              "      border-color: transparent;\n",
              "      border-right-color: var(--fill-color);\n",
              "    }\n",
              "    80% {\n",
              "      border-color: transparent;\n",
              "      border-right-color: var(--fill-color);\n",
              "      border-bottom-color: var(--fill-color);\n",
              "    }\n",
              "    90% {\n",
              "      border-color: transparent;\n",
              "      border-bottom-color: var(--fill-color);\n",
              "    }\n",
              "  }\n",
              "</style>\n",
              "\n",
              "  <script>\n",
              "    async function quickchart(key) {\n",
              "      const quickchartButtonEl =\n",
              "        document.querySelector('#' + key + ' button');\n",
              "      quickchartButtonEl.disabled = true;  // To prevent multiple clicks.\n",
              "      quickchartButtonEl.classList.add('colab-df-spinner');\n",
              "      try {\n",
              "        const charts = await google.colab.kernel.invokeFunction(\n",
              "            'suggestCharts', [key], {});\n",
              "      } catch (error) {\n",
              "        console.error('Error during call to suggestCharts:', error);\n",
              "      }\n",
              "      quickchartButtonEl.classList.remove('colab-df-spinner');\n",
              "      quickchartButtonEl.classList.add('colab-df-quickchart-complete');\n",
              "    }\n",
              "    (() => {\n",
              "      let quickchartButtonEl =\n",
              "        document.querySelector('#df-21166486-bbd9-4147-8e21-a40c1f2f0411 button');\n",
              "      quickchartButtonEl.style.display =\n",
              "        google.colab.kernel.accessAllowed ? 'block' : 'none';\n",
              "    })();\n",
              "  </script>\n",
              "</div>\n",
              "    </div>\n",
              "  </div>\n"
            ],
            "application/vnd.google.colaboratory.intrinsic+json": {
              "type": "dataframe",
              "variable_name": "country_city_views_summed",
              "summary": "{\n  \"name\": \"country_city_views_summed\",\n  \"rows\": 2753,\n  \"fields\": [\n    {\n      \"column\": \"Country\",\n      \"properties\": {\n        \"dtype\": \"category\",\n        \"num_unique_values\": 139,\n        \"samples\": [\n          \"Uruguay\",\n          \"Kenya\",\n          \"Cyprus\"\n        ],\n        \"semantic_type\": \"\",\n        \"description\": \"\"\n      }\n    },\n    {\n      \"column\": \"City\",\n      \"properties\": {\n        \"dtype\": \"string\",\n        \"num_unique_values\": 2631,\n        \"samples\": [\n          \"Baixo Guandu\",\n          \"Campina Grande do Sul\",\n          \"Recife\"\n        ],\n        \"semantic_type\": \"\",\n        \"description\": \"\"\n      }\n    },\n    {\n      \"column\": \"Views\",\n      \"properties\": {\n        \"dtype\": \"number\",\n        \"std\": 10040,\n        \"min\": 0,\n        \"max\": 388839,\n        \"num_unique_values\": 958,\n        \"samples\": [\n          1322,\n          814,\n          509\n        ],\n        \"semantic_type\": \"\",\n        \"description\": \"\"\n      }\n    }\n  ]\n}"
            }
          },
          "metadata": {},
          "execution_count": 169
        }
      ]
    },
    {
      "cell_type": "code",
      "source": [
        "country_city_views_summed.info()"
      ],
      "metadata": {
        "colab": {
          "base_uri": "https://localhost:8080/"
        },
        "id": "zUS0_Ge768G1",
        "outputId": "f2243989-f4df-45d3-f38d-2582fdd79f58"
      },
      "execution_count": 170,
      "outputs": [
        {
          "output_type": "stream",
          "name": "stdout",
          "text": [
            "<class 'pandas.core.frame.DataFrame'>\n",
            "RangeIndex: 2753 entries, 0 to 2752\n",
            "Data columns (total 3 columns):\n",
            " #   Column   Non-Null Count  Dtype \n",
            "---  ------   --------------  ----- \n",
            " 0   Country  2753 non-null   object\n",
            " 1   City     2753 non-null   object\n",
            " 2   Views    2753 non-null   int64 \n",
            "dtypes: int64(1), object(2)\n",
            "memory usage: 64.6+ KB\n"
          ]
        }
      ]
    },
    {
      "cell_type": "code",
      "source": [
        "country_city_views_summed['Views'].describe()"
      ],
      "metadata": {
        "colab": {
          "base_uri": "https://localhost:8080/"
        },
        "id": "N1Lju9mmZoQf",
        "outputId": "b643cd65-913e-4ce9-9bba-fb640f15be69"
      },
      "execution_count": 171,
      "outputs": [
        {
          "output_type": "execute_result",
          "data": {
            "text/plain": [
              "count      2753.000000\n",
              "mean       1138.732655\n",
              "std       10040.785775\n",
              "min           0.000000\n",
              "25%           1.000000\n",
              "50%           5.000000\n",
              "75%         620.000000\n",
              "max      388839.000000\n",
              "Name: Views, dtype: float64"
            ]
          },
          "metadata": {},
          "execution_count": 171
        }
      ]
    },
    {
      "cell_type": "code",
      "source": [
        "print(f\"Mediana = {country_city_views_summed['Views'].median()}\")\n",
        "print(f\"Moda = {country_city_views_summed['Views'].mode()[0]}\")\n",
        "print(f\"Variância = {country_city_views_summed['Views'].var()}\")\n",
        "\n",
        "q1 = country_city_views_summed['Views'].quantile(0.25)\n",
        "q3 = country_city_views_summed['Views'].quantile(0.75)\n",
        "iqr = q3 - q1\n",
        "print(f\"Diferença do primeiro para o terceiro quartil = {iqr}\")"
      ],
      "metadata": {
        "colab": {
          "base_uri": "https://localhost:8080/"
        },
        "id": "w0CWq_rEZvwP",
        "outputId": "8e6ade02-ca25-4e17-bc60-62de4f92bc1e"
      },
      "execution_count": 172,
      "outputs": [
        {
          "output_type": "stream",
          "name": "stdout",
          "text": [
            "Mediana = 5.0\n",
            "Moda = 1\n",
            "Variância = 100817378.98227987\n",
            "Diferença do primeiro para o terceiro quartil = 619.0\n"
          ]
        }
      ]
    },
    {
      "cell_type": "markdown",
      "source": [
        "### Análise Estatística Descritiva"
      ],
      "metadata": {
        "id": "HCKw1gzNAlaF"
      }
    },
    {
      "cell_type": "markdown",
      "source": [
        "- **Country**: países\n",
        "- **City**: cidades\n",
        "- **Views**: Número de visualizações ao site.\n",
        "\n",
        "\n",
        "- **Contagem**: Visualizações disponíveis para diversos países e cidades.\n",
        "- **Média**: 1,138\n",
        "- **Mediana**: 5.0\n",
        "- **Moda**: 1\n",
        "- **Desvio Padrão**: 8,237, indicando a variação no número de usuários ativos entre os dias.\n",
        "- **Variância**: 100817379\n",
        "- **Amplitude Interquartil:**: 619 - útil para entender a dispersão do meio 50% dos dados.\n",
        "- **Mínimo/Máximo**: O mínimo de visualizações foi 0, e o máximo foi 388,839.\n"
      ],
      "metadata": {
        "id": "ErTgl2VkZm6D"
      }
    },
    {
      "cell_type": "markdown",
      "source": [
        "### Visualização dos dados"
      ],
      "metadata": {
        "id": "CKReEhaA_9JP"
      }
    },
    {
      "cell_type": "code",
      "source": [
        "top_countries_df = country_city_views_summed.groupby('Country')['Views'].sum().nlargest(5).reset_index()\n",
        "fig_countries = px.bar(top_countries_df, x='Country', y='Views', title='Top 5 Países com Maior Número de Visualizações')\n",
        "fig_countries.show()"
      ],
      "metadata": {
        "colab": {
          "base_uri": "https://localhost:8080/",
          "height": 542
        },
        "id": "EynUt6RV_8_x",
        "outputId": "41a7c74b-9436-4066-cdca-881b23fa74a1"
      },
      "execution_count": 176,
      "outputs": [
        {
          "output_type": "display_data",
          "data": {
            "text/html": [
              "<html>\n",
              "<head><meta charset=\"utf-8\" /></head>\n",
              "<body>\n",
              "    <div>            <script src=\"https://cdnjs.cloudflare.com/ajax/libs/mathjax/2.7.5/MathJax.js?config=TeX-AMS-MML_SVG\"></script><script type=\"text/javascript\">if (window.MathJax && window.MathJax.Hub && window.MathJax.Hub.Config) {window.MathJax.Hub.Config({SVG: {font: \"STIX-Web\"}});}</script>                <script type=\"text/javascript\">window.PlotlyConfig = {MathJaxConfig: 'local'};</script>\n",
              "        <script charset=\"utf-8\" src=\"https://cdn.plot.ly/plotly-2.24.1.min.js\"></script>                <div id=\"b42dd30d-d4ca-487f-b083-6003e2a40615\" class=\"plotly-graph-div\" style=\"height:525px; width:100%;\"></div>            <script type=\"text/javascript\">                                    window.PLOTLYENV=window.PLOTLYENV || {};                                    if (document.getElementById(\"b42dd30d-d4ca-487f-b083-6003e2a40615\")) {                    Plotly.newPlot(                        \"b42dd30d-d4ca-487f-b083-6003e2a40615\",                        [{\"alignmentgroup\":\"True\",\"hovertemplate\":\"Country=%{x}\\u003cbr\\u003eViews=%{y}\\u003cextra\\u003e\\u003c\\u002fextra\\u003e\",\"legendgroup\":\"\",\"marker\":{\"color\":\"#636efa\",\"pattern\":{\"shape\":\"\"}},\"name\":\"\",\"offsetgroup\":\"\",\"orientation\":\"v\",\"showlegend\":false,\"textposition\":\"auto\",\"x\":[\"Brazil\",\"United States\",\"Indonesia\",\"Hungary\",\"Germany\"],\"xaxis\":\"x\",\"y\":[3105291,8530,4648,2044,1932],\"yaxis\":\"y\",\"type\":\"bar\"}],                        {\"template\":{\"data\":{\"histogram2dcontour\":[{\"type\":\"histogram2dcontour\",\"colorbar\":{\"outlinewidth\":0,\"ticks\":\"\"},\"colorscale\":[[0.0,\"#0d0887\"],[0.1111111111111111,\"#46039f\"],[0.2222222222222222,\"#7201a8\"],[0.3333333333333333,\"#9c179e\"],[0.4444444444444444,\"#bd3786\"],[0.5555555555555556,\"#d8576b\"],[0.6666666666666666,\"#ed7953\"],[0.7777777777777778,\"#fb9f3a\"],[0.8888888888888888,\"#fdca26\"],[1.0,\"#f0f921\"]]}],\"choropleth\":[{\"type\":\"choropleth\",\"colorbar\":{\"outlinewidth\":0,\"ticks\":\"\"}}],\"histogram2d\":[{\"type\":\"histogram2d\",\"colorbar\":{\"outlinewidth\":0,\"ticks\":\"\"},\"colorscale\":[[0.0,\"#0d0887\"],[0.1111111111111111,\"#46039f\"],[0.2222222222222222,\"#7201a8\"],[0.3333333333333333,\"#9c179e\"],[0.4444444444444444,\"#bd3786\"],[0.5555555555555556,\"#d8576b\"],[0.6666666666666666,\"#ed7953\"],[0.7777777777777778,\"#fb9f3a\"],[0.8888888888888888,\"#fdca26\"],[1.0,\"#f0f921\"]]}],\"heatmap\":[{\"type\":\"heatmap\",\"colorbar\":{\"outlinewidth\":0,\"ticks\":\"\"},\"colorscale\":[[0.0,\"#0d0887\"],[0.1111111111111111,\"#46039f\"],[0.2222222222222222,\"#7201a8\"],[0.3333333333333333,\"#9c179e\"],[0.4444444444444444,\"#bd3786\"],[0.5555555555555556,\"#d8576b\"],[0.6666666666666666,\"#ed7953\"],[0.7777777777777778,\"#fb9f3a\"],[0.8888888888888888,\"#fdca26\"],[1.0,\"#f0f921\"]]}],\"heatmapgl\":[{\"type\":\"heatmapgl\",\"colorbar\":{\"outlinewidth\":0,\"ticks\":\"\"},\"colorscale\":[[0.0,\"#0d0887\"],[0.1111111111111111,\"#46039f\"],[0.2222222222222222,\"#7201a8\"],[0.3333333333333333,\"#9c179e\"],[0.4444444444444444,\"#bd3786\"],[0.5555555555555556,\"#d8576b\"],[0.6666666666666666,\"#ed7953\"],[0.7777777777777778,\"#fb9f3a\"],[0.8888888888888888,\"#fdca26\"],[1.0,\"#f0f921\"]]}],\"contourcarpet\":[{\"type\":\"contourcarpet\",\"colorbar\":{\"outlinewidth\":0,\"ticks\":\"\"}}],\"contour\":[{\"type\":\"contour\",\"colorbar\":{\"outlinewidth\":0,\"ticks\":\"\"},\"colorscale\":[[0.0,\"#0d0887\"],[0.1111111111111111,\"#46039f\"],[0.2222222222222222,\"#7201a8\"],[0.3333333333333333,\"#9c179e\"],[0.4444444444444444,\"#bd3786\"],[0.5555555555555556,\"#d8576b\"],[0.6666666666666666,\"#ed7953\"],[0.7777777777777778,\"#fb9f3a\"],[0.8888888888888888,\"#fdca26\"],[1.0,\"#f0f921\"]]}],\"surface\":[{\"type\":\"surface\",\"colorbar\":{\"outlinewidth\":0,\"ticks\":\"\"},\"colorscale\":[[0.0,\"#0d0887\"],[0.1111111111111111,\"#46039f\"],[0.2222222222222222,\"#7201a8\"],[0.3333333333333333,\"#9c179e\"],[0.4444444444444444,\"#bd3786\"],[0.5555555555555556,\"#d8576b\"],[0.6666666666666666,\"#ed7953\"],[0.7777777777777778,\"#fb9f3a\"],[0.8888888888888888,\"#fdca26\"],[1.0,\"#f0f921\"]]}],\"mesh3d\":[{\"type\":\"mesh3d\",\"colorbar\":{\"outlinewidth\":0,\"ticks\":\"\"}}],\"scatter\":[{\"fillpattern\":{\"fillmode\":\"overlay\",\"size\":10,\"solidity\":0.2},\"type\":\"scatter\"}],\"parcoords\":[{\"type\":\"parcoords\",\"line\":{\"colorbar\":{\"outlinewidth\":0,\"ticks\":\"\"}}}],\"scatterpolargl\":[{\"type\":\"scatterpolargl\",\"marker\":{\"colorbar\":{\"outlinewidth\":0,\"ticks\":\"\"}}}],\"bar\":[{\"error_x\":{\"color\":\"#2a3f5f\"},\"error_y\":{\"color\":\"#2a3f5f\"},\"marker\":{\"line\":{\"color\":\"#E5ECF6\",\"width\":0.5},\"pattern\":{\"fillmode\":\"overlay\",\"size\":10,\"solidity\":0.2}},\"type\":\"bar\"}],\"scattergeo\":[{\"type\":\"scattergeo\",\"marker\":{\"colorbar\":{\"outlinewidth\":0,\"ticks\":\"\"}}}],\"scatterpolar\":[{\"type\":\"scatterpolar\",\"marker\":{\"colorbar\":{\"outlinewidth\":0,\"ticks\":\"\"}}}],\"histogram\":[{\"marker\":{\"pattern\":{\"fillmode\":\"overlay\",\"size\":10,\"solidity\":0.2}},\"type\":\"histogram\"}],\"scattergl\":[{\"type\":\"scattergl\",\"marker\":{\"colorbar\":{\"outlinewidth\":0,\"ticks\":\"\"}}}],\"scatter3d\":[{\"type\":\"scatter3d\",\"line\":{\"colorbar\":{\"outlinewidth\":0,\"ticks\":\"\"}},\"marker\":{\"colorbar\":{\"outlinewidth\":0,\"ticks\":\"\"}}}],\"scattermapbox\":[{\"type\":\"scattermapbox\",\"marker\":{\"colorbar\":{\"outlinewidth\":0,\"ticks\":\"\"}}}],\"scatterternary\":[{\"type\":\"scatterternary\",\"marker\":{\"colorbar\":{\"outlinewidth\":0,\"ticks\":\"\"}}}],\"scattercarpet\":[{\"type\":\"scattercarpet\",\"marker\":{\"colorbar\":{\"outlinewidth\":0,\"ticks\":\"\"}}}],\"carpet\":[{\"aaxis\":{\"endlinecolor\":\"#2a3f5f\",\"gridcolor\":\"white\",\"linecolor\":\"white\",\"minorgridcolor\":\"white\",\"startlinecolor\":\"#2a3f5f\"},\"baxis\":{\"endlinecolor\":\"#2a3f5f\",\"gridcolor\":\"white\",\"linecolor\":\"white\",\"minorgridcolor\":\"white\",\"startlinecolor\":\"#2a3f5f\"},\"type\":\"carpet\"}],\"table\":[{\"cells\":{\"fill\":{\"color\":\"#EBF0F8\"},\"line\":{\"color\":\"white\"}},\"header\":{\"fill\":{\"color\":\"#C8D4E3\"},\"line\":{\"color\":\"white\"}},\"type\":\"table\"}],\"barpolar\":[{\"marker\":{\"line\":{\"color\":\"#E5ECF6\",\"width\":0.5},\"pattern\":{\"fillmode\":\"overlay\",\"size\":10,\"solidity\":0.2}},\"type\":\"barpolar\"}],\"pie\":[{\"automargin\":true,\"type\":\"pie\"}]},\"layout\":{\"autotypenumbers\":\"strict\",\"colorway\":[\"#636efa\",\"#EF553B\",\"#00cc96\",\"#ab63fa\",\"#FFA15A\",\"#19d3f3\",\"#FF6692\",\"#B6E880\",\"#FF97FF\",\"#FECB52\"],\"font\":{\"color\":\"#2a3f5f\"},\"hovermode\":\"closest\",\"hoverlabel\":{\"align\":\"left\"},\"paper_bgcolor\":\"white\",\"plot_bgcolor\":\"#E5ECF6\",\"polar\":{\"bgcolor\":\"#E5ECF6\",\"angularaxis\":{\"gridcolor\":\"white\",\"linecolor\":\"white\",\"ticks\":\"\"},\"radialaxis\":{\"gridcolor\":\"white\",\"linecolor\":\"white\",\"ticks\":\"\"}},\"ternary\":{\"bgcolor\":\"#E5ECF6\",\"aaxis\":{\"gridcolor\":\"white\",\"linecolor\":\"white\",\"ticks\":\"\"},\"baxis\":{\"gridcolor\":\"white\",\"linecolor\":\"white\",\"ticks\":\"\"},\"caxis\":{\"gridcolor\":\"white\",\"linecolor\":\"white\",\"ticks\":\"\"}},\"coloraxis\":{\"colorbar\":{\"outlinewidth\":0,\"ticks\":\"\"}},\"colorscale\":{\"sequential\":[[0.0,\"#0d0887\"],[0.1111111111111111,\"#46039f\"],[0.2222222222222222,\"#7201a8\"],[0.3333333333333333,\"#9c179e\"],[0.4444444444444444,\"#bd3786\"],[0.5555555555555556,\"#d8576b\"],[0.6666666666666666,\"#ed7953\"],[0.7777777777777778,\"#fb9f3a\"],[0.8888888888888888,\"#fdca26\"],[1.0,\"#f0f921\"]],\"sequentialminus\":[[0.0,\"#0d0887\"],[0.1111111111111111,\"#46039f\"],[0.2222222222222222,\"#7201a8\"],[0.3333333333333333,\"#9c179e\"],[0.4444444444444444,\"#bd3786\"],[0.5555555555555556,\"#d8576b\"],[0.6666666666666666,\"#ed7953\"],[0.7777777777777778,\"#fb9f3a\"],[0.8888888888888888,\"#fdca26\"],[1.0,\"#f0f921\"]],\"diverging\":[[0,\"#8e0152\"],[0.1,\"#c51b7d\"],[0.2,\"#de77ae\"],[0.3,\"#f1b6da\"],[0.4,\"#fde0ef\"],[0.5,\"#f7f7f7\"],[0.6,\"#e6f5d0\"],[0.7,\"#b8e186\"],[0.8,\"#7fbc41\"],[0.9,\"#4d9221\"],[1,\"#276419\"]]},\"xaxis\":{\"gridcolor\":\"white\",\"linecolor\":\"white\",\"ticks\":\"\",\"title\":{\"standoff\":15},\"zerolinecolor\":\"white\",\"automargin\":true,\"zerolinewidth\":2},\"yaxis\":{\"gridcolor\":\"white\",\"linecolor\":\"white\",\"ticks\":\"\",\"title\":{\"standoff\":15},\"zerolinecolor\":\"white\",\"automargin\":true,\"zerolinewidth\":2},\"scene\":{\"xaxis\":{\"backgroundcolor\":\"#E5ECF6\",\"gridcolor\":\"white\",\"linecolor\":\"white\",\"showbackground\":true,\"ticks\":\"\",\"zerolinecolor\":\"white\",\"gridwidth\":2},\"yaxis\":{\"backgroundcolor\":\"#E5ECF6\",\"gridcolor\":\"white\",\"linecolor\":\"white\",\"showbackground\":true,\"ticks\":\"\",\"zerolinecolor\":\"white\",\"gridwidth\":2},\"zaxis\":{\"backgroundcolor\":\"#E5ECF6\",\"gridcolor\":\"white\",\"linecolor\":\"white\",\"showbackground\":true,\"ticks\":\"\",\"zerolinecolor\":\"white\",\"gridwidth\":2}},\"shapedefaults\":{\"line\":{\"color\":\"#2a3f5f\"}},\"annotationdefaults\":{\"arrowcolor\":\"#2a3f5f\",\"arrowhead\":0,\"arrowwidth\":1},\"geo\":{\"bgcolor\":\"white\",\"landcolor\":\"#E5ECF6\",\"subunitcolor\":\"white\",\"showland\":true,\"showlakes\":true,\"lakecolor\":\"white\"},\"title\":{\"x\":0.05},\"mapbox\":{\"style\":\"light\"}}},\"xaxis\":{\"anchor\":\"y\",\"domain\":[0.0,1.0],\"title\":{\"text\":\"Country\"}},\"yaxis\":{\"anchor\":\"x\",\"domain\":[0.0,1.0],\"title\":{\"text\":\"Views\"}},\"legend\":{\"tracegroupgap\":0},\"title\":{\"text\":\"Top 5 Pa\\u00edses com Maior N\\u00famero de Visualiza\\u00e7\\u00f5es\"},\"barmode\":\"relative\"},                        {\"responsive\": true}                    ).then(function(){\n",
              "                            \n",
              "var gd = document.getElementById('b42dd30d-d4ca-487f-b083-6003e2a40615');\n",
              "var x = new MutationObserver(function (mutations, observer) {{\n",
              "        var display = window.getComputedStyle(gd).display;\n",
              "        if (!display || display === 'none') {{\n",
              "            console.log([gd, 'removed!']);\n",
              "            Plotly.purge(gd);\n",
              "            observer.disconnect();\n",
              "        }}\n",
              "}});\n",
              "\n",
              "// Listen for the removal of the full notebook cells\n",
              "var notebookContainer = gd.closest('#notebook-container');\n",
              "if (notebookContainer) {{\n",
              "    x.observe(notebookContainer, {childList: true});\n",
              "}}\n",
              "\n",
              "// Listen for the clearing of the current output cell\n",
              "var outputEl = gd.closest('.output');\n",
              "if (outputEl) {{\n",
              "    x.observe(outputEl, {childList: true});\n",
              "}}\n",
              "\n",
              "                        })                };                            </script>        </div>\n",
              "</body>\n",
              "</html>"
            ]
          },
          "metadata": {}
        }
      ]
    },
    {
      "cell_type": "code",
      "source": [
        "top_cities_df = country_city_views_summed.groupby('City')['Views'].sum().nlargest(10).reset_index()\n",
        "fig_cities = px.bar(top_cities_df, x='City', y='Views', title='Top 10 Cidades com Maior Número de Visualizações')\n",
        "fig_cities.show()"
      ],
      "metadata": {
        "colab": {
          "base_uri": "https://localhost:8080/",
          "height": 542
        },
        "id": "hppqdhV8cUDp",
        "outputId": "a10e3ffd-b6ed-41c7-b614-d075325e7c42"
      },
      "execution_count": 177,
      "outputs": [
        {
          "output_type": "display_data",
          "data": {
            "text/html": [
              "<html>\n",
              "<head><meta charset=\"utf-8\" /></head>\n",
              "<body>\n",
              "    <div>            <script src=\"https://cdnjs.cloudflare.com/ajax/libs/mathjax/2.7.5/MathJax.js?config=TeX-AMS-MML_SVG\"></script><script type=\"text/javascript\">if (window.MathJax && window.MathJax.Hub && window.MathJax.Hub.Config) {window.MathJax.Hub.Config({SVG: {font: \"STIX-Web\"}});}</script>                <script type=\"text/javascript\">window.PlotlyConfig = {MathJaxConfig: 'local'};</script>\n",
              "        <script charset=\"utf-8\" src=\"https://cdn.plot.ly/plotly-2.24.1.min.js\"></script>                <div id=\"371069ee-004a-493e-b6ba-34993be61f7a\" class=\"plotly-graph-div\" style=\"height:525px; width:100%;\"></div>            <script type=\"text/javascript\">                                    window.PLOTLYENV=window.PLOTLYENV || {};                                    if (document.getElementById(\"371069ee-004a-493e-b6ba-34993be61f7a\")) {                    Plotly.newPlot(                        \"371069ee-004a-493e-b6ba-34993be61f7a\",                        [{\"alignmentgroup\":\"True\",\"hovertemplate\":\"City=%{x}\\u003cbr\\u003eViews=%{y}\\u003cextra\\u003e\\u003c\\u002fextra\\u003e\",\"legendgroup\":\"\",\"marker\":{\"color\":\"#636efa\",\"pattern\":{\"shape\":\"\"}},\"name\":\"\",\"offsetgroup\":\"\",\"orientation\":\"v\",\"showlegend\":false,\"textposition\":\"auto\",\"x\":[\"(not set)\",\"Sao Paulo\",\"Rio de Janeiro\",\"Belo Horizonte\",\"Salvador\",\"Campinas\",\"Curitiba\",\"Fortaleza\",\"Manaus\",\"Porto Alegre\"],\"xaxis\":\"x\",\"y\":[393309,279120,145879,64188,61963,52340,47597,42305,38992,35223],\"yaxis\":\"y\",\"type\":\"bar\"}],                        {\"template\":{\"data\":{\"histogram2dcontour\":[{\"type\":\"histogram2dcontour\",\"colorbar\":{\"outlinewidth\":0,\"ticks\":\"\"},\"colorscale\":[[0.0,\"#0d0887\"],[0.1111111111111111,\"#46039f\"],[0.2222222222222222,\"#7201a8\"],[0.3333333333333333,\"#9c179e\"],[0.4444444444444444,\"#bd3786\"],[0.5555555555555556,\"#d8576b\"],[0.6666666666666666,\"#ed7953\"],[0.7777777777777778,\"#fb9f3a\"],[0.8888888888888888,\"#fdca26\"],[1.0,\"#f0f921\"]]}],\"choropleth\":[{\"type\":\"choropleth\",\"colorbar\":{\"outlinewidth\":0,\"ticks\":\"\"}}],\"histogram2d\":[{\"type\":\"histogram2d\",\"colorbar\":{\"outlinewidth\":0,\"ticks\":\"\"},\"colorscale\":[[0.0,\"#0d0887\"],[0.1111111111111111,\"#46039f\"],[0.2222222222222222,\"#7201a8\"],[0.3333333333333333,\"#9c179e\"],[0.4444444444444444,\"#bd3786\"],[0.5555555555555556,\"#d8576b\"],[0.6666666666666666,\"#ed7953\"],[0.7777777777777778,\"#fb9f3a\"],[0.8888888888888888,\"#fdca26\"],[1.0,\"#f0f921\"]]}],\"heatmap\":[{\"type\":\"heatmap\",\"colorbar\":{\"outlinewidth\":0,\"ticks\":\"\"},\"colorscale\":[[0.0,\"#0d0887\"],[0.1111111111111111,\"#46039f\"],[0.2222222222222222,\"#7201a8\"],[0.3333333333333333,\"#9c179e\"],[0.4444444444444444,\"#bd3786\"],[0.5555555555555556,\"#d8576b\"],[0.6666666666666666,\"#ed7953\"],[0.7777777777777778,\"#fb9f3a\"],[0.8888888888888888,\"#fdca26\"],[1.0,\"#f0f921\"]]}],\"heatmapgl\":[{\"type\":\"heatmapgl\",\"colorbar\":{\"outlinewidth\":0,\"ticks\":\"\"},\"colorscale\":[[0.0,\"#0d0887\"],[0.1111111111111111,\"#46039f\"],[0.2222222222222222,\"#7201a8\"],[0.3333333333333333,\"#9c179e\"],[0.4444444444444444,\"#bd3786\"],[0.5555555555555556,\"#d8576b\"],[0.6666666666666666,\"#ed7953\"],[0.7777777777777778,\"#fb9f3a\"],[0.8888888888888888,\"#fdca26\"],[1.0,\"#f0f921\"]]}],\"contourcarpet\":[{\"type\":\"contourcarpet\",\"colorbar\":{\"outlinewidth\":0,\"ticks\":\"\"}}],\"contour\":[{\"type\":\"contour\",\"colorbar\":{\"outlinewidth\":0,\"ticks\":\"\"},\"colorscale\":[[0.0,\"#0d0887\"],[0.1111111111111111,\"#46039f\"],[0.2222222222222222,\"#7201a8\"],[0.3333333333333333,\"#9c179e\"],[0.4444444444444444,\"#bd3786\"],[0.5555555555555556,\"#d8576b\"],[0.6666666666666666,\"#ed7953\"],[0.7777777777777778,\"#fb9f3a\"],[0.8888888888888888,\"#fdca26\"],[1.0,\"#f0f921\"]]}],\"surface\":[{\"type\":\"surface\",\"colorbar\":{\"outlinewidth\":0,\"ticks\":\"\"},\"colorscale\":[[0.0,\"#0d0887\"],[0.1111111111111111,\"#46039f\"],[0.2222222222222222,\"#7201a8\"],[0.3333333333333333,\"#9c179e\"],[0.4444444444444444,\"#bd3786\"],[0.5555555555555556,\"#d8576b\"],[0.6666666666666666,\"#ed7953\"],[0.7777777777777778,\"#fb9f3a\"],[0.8888888888888888,\"#fdca26\"],[1.0,\"#f0f921\"]]}],\"mesh3d\":[{\"type\":\"mesh3d\",\"colorbar\":{\"outlinewidth\":0,\"ticks\":\"\"}}],\"scatter\":[{\"fillpattern\":{\"fillmode\":\"overlay\",\"size\":10,\"solidity\":0.2},\"type\":\"scatter\"}],\"parcoords\":[{\"type\":\"parcoords\",\"line\":{\"colorbar\":{\"outlinewidth\":0,\"ticks\":\"\"}}}],\"scatterpolargl\":[{\"type\":\"scatterpolargl\",\"marker\":{\"colorbar\":{\"outlinewidth\":0,\"ticks\":\"\"}}}],\"bar\":[{\"error_x\":{\"color\":\"#2a3f5f\"},\"error_y\":{\"color\":\"#2a3f5f\"},\"marker\":{\"line\":{\"color\":\"#E5ECF6\",\"width\":0.5},\"pattern\":{\"fillmode\":\"overlay\",\"size\":10,\"solidity\":0.2}},\"type\":\"bar\"}],\"scattergeo\":[{\"type\":\"scattergeo\",\"marker\":{\"colorbar\":{\"outlinewidth\":0,\"ticks\":\"\"}}}],\"scatterpolar\":[{\"type\":\"scatterpolar\",\"marker\":{\"colorbar\":{\"outlinewidth\":0,\"ticks\":\"\"}}}],\"histogram\":[{\"marker\":{\"pattern\":{\"fillmode\":\"overlay\",\"size\":10,\"solidity\":0.2}},\"type\":\"histogram\"}],\"scattergl\":[{\"type\":\"scattergl\",\"marker\":{\"colorbar\":{\"outlinewidth\":0,\"ticks\":\"\"}}}],\"scatter3d\":[{\"type\":\"scatter3d\",\"line\":{\"colorbar\":{\"outlinewidth\":0,\"ticks\":\"\"}},\"marker\":{\"colorbar\":{\"outlinewidth\":0,\"ticks\":\"\"}}}],\"scattermapbox\":[{\"type\":\"scattermapbox\",\"marker\":{\"colorbar\":{\"outlinewidth\":0,\"ticks\":\"\"}}}],\"scatterternary\":[{\"type\":\"scatterternary\",\"marker\":{\"colorbar\":{\"outlinewidth\":0,\"ticks\":\"\"}}}],\"scattercarpet\":[{\"type\":\"scattercarpet\",\"marker\":{\"colorbar\":{\"outlinewidth\":0,\"ticks\":\"\"}}}],\"carpet\":[{\"aaxis\":{\"endlinecolor\":\"#2a3f5f\",\"gridcolor\":\"white\",\"linecolor\":\"white\",\"minorgridcolor\":\"white\",\"startlinecolor\":\"#2a3f5f\"},\"baxis\":{\"endlinecolor\":\"#2a3f5f\",\"gridcolor\":\"white\",\"linecolor\":\"white\",\"minorgridcolor\":\"white\",\"startlinecolor\":\"#2a3f5f\"},\"type\":\"carpet\"}],\"table\":[{\"cells\":{\"fill\":{\"color\":\"#EBF0F8\"},\"line\":{\"color\":\"white\"}},\"header\":{\"fill\":{\"color\":\"#C8D4E3\"},\"line\":{\"color\":\"white\"}},\"type\":\"table\"}],\"barpolar\":[{\"marker\":{\"line\":{\"color\":\"#E5ECF6\",\"width\":0.5},\"pattern\":{\"fillmode\":\"overlay\",\"size\":10,\"solidity\":0.2}},\"type\":\"barpolar\"}],\"pie\":[{\"automargin\":true,\"type\":\"pie\"}]},\"layout\":{\"autotypenumbers\":\"strict\",\"colorway\":[\"#636efa\",\"#EF553B\",\"#00cc96\",\"#ab63fa\",\"#FFA15A\",\"#19d3f3\",\"#FF6692\",\"#B6E880\",\"#FF97FF\",\"#FECB52\"],\"font\":{\"color\":\"#2a3f5f\"},\"hovermode\":\"closest\",\"hoverlabel\":{\"align\":\"left\"},\"paper_bgcolor\":\"white\",\"plot_bgcolor\":\"#E5ECF6\",\"polar\":{\"bgcolor\":\"#E5ECF6\",\"angularaxis\":{\"gridcolor\":\"white\",\"linecolor\":\"white\",\"ticks\":\"\"},\"radialaxis\":{\"gridcolor\":\"white\",\"linecolor\":\"white\",\"ticks\":\"\"}},\"ternary\":{\"bgcolor\":\"#E5ECF6\",\"aaxis\":{\"gridcolor\":\"white\",\"linecolor\":\"white\",\"ticks\":\"\"},\"baxis\":{\"gridcolor\":\"white\",\"linecolor\":\"white\",\"ticks\":\"\"},\"caxis\":{\"gridcolor\":\"white\",\"linecolor\":\"white\",\"ticks\":\"\"}},\"coloraxis\":{\"colorbar\":{\"outlinewidth\":0,\"ticks\":\"\"}},\"colorscale\":{\"sequential\":[[0.0,\"#0d0887\"],[0.1111111111111111,\"#46039f\"],[0.2222222222222222,\"#7201a8\"],[0.3333333333333333,\"#9c179e\"],[0.4444444444444444,\"#bd3786\"],[0.5555555555555556,\"#d8576b\"],[0.6666666666666666,\"#ed7953\"],[0.7777777777777778,\"#fb9f3a\"],[0.8888888888888888,\"#fdca26\"],[1.0,\"#f0f921\"]],\"sequentialminus\":[[0.0,\"#0d0887\"],[0.1111111111111111,\"#46039f\"],[0.2222222222222222,\"#7201a8\"],[0.3333333333333333,\"#9c179e\"],[0.4444444444444444,\"#bd3786\"],[0.5555555555555556,\"#d8576b\"],[0.6666666666666666,\"#ed7953\"],[0.7777777777777778,\"#fb9f3a\"],[0.8888888888888888,\"#fdca26\"],[1.0,\"#f0f921\"]],\"diverging\":[[0,\"#8e0152\"],[0.1,\"#c51b7d\"],[0.2,\"#de77ae\"],[0.3,\"#f1b6da\"],[0.4,\"#fde0ef\"],[0.5,\"#f7f7f7\"],[0.6,\"#e6f5d0\"],[0.7,\"#b8e186\"],[0.8,\"#7fbc41\"],[0.9,\"#4d9221\"],[1,\"#276419\"]]},\"xaxis\":{\"gridcolor\":\"white\",\"linecolor\":\"white\",\"ticks\":\"\",\"title\":{\"standoff\":15},\"zerolinecolor\":\"white\",\"automargin\":true,\"zerolinewidth\":2},\"yaxis\":{\"gridcolor\":\"white\",\"linecolor\":\"white\",\"ticks\":\"\",\"title\":{\"standoff\":15},\"zerolinecolor\":\"white\",\"automargin\":true,\"zerolinewidth\":2},\"scene\":{\"xaxis\":{\"backgroundcolor\":\"#E5ECF6\",\"gridcolor\":\"white\",\"linecolor\":\"white\",\"showbackground\":true,\"ticks\":\"\",\"zerolinecolor\":\"white\",\"gridwidth\":2},\"yaxis\":{\"backgroundcolor\":\"#E5ECF6\",\"gridcolor\":\"white\",\"linecolor\":\"white\",\"showbackground\":true,\"ticks\":\"\",\"zerolinecolor\":\"white\",\"gridwidth\":2},\"zaxis\":{\"backgroundcolor\":\"#E5ECF6\",\"gridcolor\":\"white\",\"linecolor\":\"white\",\"showbackground\":true,\"ticks\":\"\",\"zerolinecolor\":\"white\",\"gridwidth\":2}},\"shapedefaults\":{\"line\":{\"color\":\"#2a3f5f\"}},\"annotationdefaults\":{\"arrowcolor\":\"#2a3f5f\",\"arrowhead\":0,\"arrowwidth\":1},\"geo\":{\"bgcolor\":\"white\",\"landcolor\":\"#E5ECF6\",\"subunitcolor\":\"white\",\"showland\":true,\"showlakes\":true,\"lakecolor\":\"white\"},\"title\":{\"x\":0.05},\"mapbox\":{\"style\":\"light\"}}},\"xaxis\":{\"anchor\":\"y\",\"domain\":[0.0,1.0],\"title\":{\"text\":\"City\"}},\"yaxis\":{\"anchor\":\"x\",\"domain\":[0.0,1.0],\"title\":{\"text\":\"Views\"}},\"legend\":{\"tracegroupgap\":0},\"title\":{\"text\":\"Top 10 Cidades com Maior N\\u00famero de Visualiza\\u00e7\\u00f5es\"},\"barmode\":\"relative\"},                        {\"responsive\": true}                    ).then(function(){\n",
              "                            \n",
              "var gd = document.getElementById('371069ee-004a-493e-b6ba-34993be61f7a');\n",
              "var x = new MutationObserver(function (mutations, observer) {{\n",
              "        var display = window.getComputedStyle(gd).display;\n",
              "        if (!display || display === 'none') {{\n",
              "            console.log([gd, 'removed!']);\n",
              "            Plotly.purge(gd);\n",
              "            observer.disconnect();\n",
              "        }}\n",
              "}});\n",
              "\n",
              "// Listen for the removal of the full notebook cells\n",
              "var notebookContainer = gd.closest('#notebook-container');\n",
              "if (notebookContainer) {{\n",
              "    x.observe(notebookContainer, {childList: true});\n",
              "}}\n",
              "\n",
              "// Listen for the clearing of the current output cell\n",
              "var outputEl = gd.closest('.output');\n",
              "if (outputEl) {{\n",
              "    x.observe(outputEl, {childList: true});\n",
              "}}\n",
              "\n",
              "                        })                };                            </script>        </div>\n",
              "</body>\n",
              "</html>"
            ]
          },
          "metadata": {}
        }
      ]
    },
    {
      "cell_type": "markdown",
      "source": [
        "### Identificação de Outliers"
      ],
      "metadata": {
        "id": "vcMh1adX_9Yp"
      }
    },
    {
      "cell_type": "code",
      "source": [],
      "metadata": {
        "id": "MT28dxmA_88g"
      },
      "execution_count": 137,
      "outputs": []
    },
    {
      "cell_type": "markdown",
      "source": [
        "# Acessos"
      ],
      "metadata": {
        "id": "wlh0gYKAptmo"
      }
    },
    {
      "cell_type": "markdown",
      "source": [
        "## Leitura dos dados"
      ],
      "metadata": {
        "id": "U6ByDORfqGLP"
      }
    },
    {
      "cell_type": "code",
      "source": [
        "acessos_geral_combined = pd.concat([acessos_geral_2023, acessos_geral_2024])\n",
        "acessos_geral_summed = acessos_geral_combined.groupby(['Hostname', 'Page path and screen class'], as_index=False).sum()\n",
        "\n",
        "# Padronização dos caminhos de página usando regex para remover barras extras e converter tudo para minúsculas\n",
        "acessos_geral_summed['Page path and screen class'] = acessos_geral_summed['Page path and screen class'].str.lower().str.rstrip('/')\n",
        "\n",
        "# Agrupa por 'Hostname' e 'Page path and screen class' e soma os valores das outras colunas\n",
        "df_grouped = acessos_geral_summed.groupby(['Hostname', 'Page path and screen class'], as_index=False).sum()\n",
        "\n",
        "df_grouped"
      ],
      "metadata": {
        "id": "4CfmHkaZqGoU",
        "colab": {
          "base_uri": "https://localhost:8080/",
          "height": 1000
        },
        "outputId": "16ba21c6-d4ad-40e4-ae3b-80f0695e5e5b"
      },
      "execution_count": 188,
      "outputs": [
        {
          "output_type": "execute_result",
          "data": {
            "text/plain": [
              "                   Hostname  \\\n",
              "0   promocoes.wizard.com.br   \n",
              "1   promocoes.wizard.com.br   \n",
              "2   promocoes.wizard.com.br   \n",
              "3   promocoes.wizard.com.br   \n",
              "4   promocoes.wizard.com.br   \n",
              "5   promocoes.wizard.com.br   \n",
              "6   promocoes.wizard.com.br   \n",
              "7   promocoes.wizard.com.br   \n",
              "8   promocoes.wizard.com.br   \n",
              "9   promocoes.wizard.com.br   \n",
              "10  promocoes.wizard.com.br   \n",
              "11  promocoes.wizard.com.br   \n",
              "12  promocoes.wizard.com.br   \n",
              "13  promocoes.wizard.com.br   \n",
              "14  promocoes.wizard.com.br   \n",
              "15  promocoes.wizard.com.br   \n",
              "16  promocoes.wizard.com.br   \n",
              "17  promocoes.wizard.com.br   \n",
              "18  promocoes.wizard.com.br   \n",
              "19  promocoes.wizard.com.br   \n",
              "20  promocoes.wizard.com.br   \n",
              "21  promocoes.wizard.com.br   \n",
              "22  promocoes.wizard.com.br   \n",
              "23  promocoes.wizard.com.br   \n",
              "24  promocoes.wizard.com.br   \n",
              "25  promocoes.wizard.com.br   \n",
              "26  promocoes.wizard.com.br   \n",
              "27  promocoes.wizard.com.br   \n",
              "28  promocoes.wizard.com.br   \n",
              "29  promocoes.wizard.com.br   \n",
              "30  promocoes.wizard.com.br   \n",
              "31  promocoes.wizard.com.br   \n",
              "32  promocoes.wizard.com.br   \n",
              "33  promocoes.wizard.com.br   \n",
              "34  promocoes.wizard.com.br   \n",
              "35  promocoes.wizard.com.br   \n",
              "36  promocoes.wizard.com.br   \n",
              "37  promocoes.wizard.com.br   \n",
              "38  promocoes.wizard.com.br   \n",
              "39  promocoes.wizard.com.br   \n",
              "40  promocoes.wizard.com.br   \n",
              "41  promocoes.wizard.com.br   \n",
              "42  promocoes.wizard.com.br   \n",
              "43  promocoes.wizard.com.br   \n",
              "44  promocoes.wizard.com.br   \n",
              "45  promocoes.wizard.com.br   \n",
              "46  promocoes.wizard.com.br   \n",
              "47  promocoes.wizard.com.br   \n",
              "48  promocoes.wizard.com.br   \n",
              "\n",
              "                           Page path and screen class  Active users  Sessions  \\\n",
              "0                                        /blue-friday          4962      5446   \n",
              "1                          /blue-friday/agradecimento           472       519   \n",
              "2                               /blue-friday/obrigado           355       395   \n",
              "3                                    /bolsa-de-estudo         46691     51186   \n",
              "4   /bolsa-de-estudo/&h=at2ku0qii5ue9oejrwvw8oygkn...             1         1   \n",
              "5                      /bolsa-de-estudo/agradecimento         15592     16523   \n",
              "6                     /campanha-ingles-que-te-garante        180383    266003   \n",
              "7       /campanha-ingles-que-te-garante/agradecimento           299       302   \n",
              "8                         /compromisso-de-aprendizado        434655    503542   \n",
              "9           /compromisso-de-aprendizado/agradecimento          1782      1896   \n",
              "10                          /compromissodeaprendizado           188       294   \n",
              "11            /compromissodeaprendizado/agradecimento             8        13   \n",
              "12                                     /curso-express        306254    399427   \n",
              "13  /curso-express/&h=at0rcet7jokaij3ycmjsbzbj2zil...             1         1   \n",
              "14  /curso-express/&h=at2lmdiyndn7epzkpwuaufqnzq3y...             1         1   \n",
              "15                       /curso-express/agradecimento         32591     35025   \n",
              "16                                  /grupo-cavalheiro          5340      6609   \n",
              "17                    /grupo-cavalheiro/agradecimento            52        62   \n",
              "18                                           /itabira          1199      1326   \n",
              "19                             /itabira/agradecimento            53        54   \n",
              "20                                           /litoral           266       341   \n",
              "21                             /litoral/agradecimento            17        18   \n",
              "22                                    /matricula-zero         22720     24415   \n",
              "23  /matricula-zero/&h=at0wkm8dsw55gffl5wpflk7ympm...             1         1   \n",
              "24                      /matricula-zero/agradecimento          4314      4501   \n",
              "25              /microinfluenciadores/patrickpeixotos             5         5   \n",
              "26                  /microinfluenciadores/prazerlaize             2         2   \n",
              "27                                    /saia-na-frente            35        39   \n",
              "28                                    /turmas-abertas          2969      3404   \n",
              "29                      /turmas-abertas/agradecimento           886       920   \n",
              "30                                         /wizard-on        880066   1306504   \n",
              "31                               /wizard-on-afiliados          1087      1364   \n",
              "32                 /wizard-on-afiliados/agradecimento           438       503   \n",
              "33         /wizard-on-afiliados/view/images/no-x.svg\"             1         1   \n",
              "34                                  /wizard-on-livelo           994      1391   \n",
              "35                    /wizard-on-livelo/agradecimento           123       128   \n",
              "36  /wizard-on-livelo/themes/web/uploads/regulamen...             2         5   \n",
              "37                                /wizard-on-positivo         35079     65400   \n",
              "38                          /wizard-on-positivo-ebook         36889     69921   \n",
              "39            /wizard-on-positivo-ebook/agradecimento             1         1   \n",
              "40                                   /wizard-on-promo         19077     23909   \n",
              "41                     /wizard-on-promo/agradecimento           977      1061   \n",
              "42                         /wizard-on-promo/https://p             3         3   \n",
              "43                      /wizard-on/%20para%20criancas             1         1   \n",
              "44                           /wizard-on/agradecimento         37755     41552   \n",
              "45                                           /wizkids         23078     23254   \n",
              "46                             /wizkids/agradecimento          2302      2358   \n",
              "47                                            /wizpen        101673    107395   \n",
              "48                              /wizpen/agradecimento           165       172   \n",
              "\n",
              "    Conversions  \n",
              "0             0  \n",
              "1          1059  \n",
              "2             0  \n",
              "3          2554  \n",
              "4             0  \n",
              "5         27803  \n",
              "6             0  \n",
              "7           640  \n",
              "8         43308  \n",
              "9          1987  \n",
              "10            4  \n",
              "11            3  \n",
              "12         4392  \n",
              "13            0  \n",
              "14            0  \n",
              "15         8024  \n",
              "16          907  \n",
              "17           23  \n",
              "18            0  \n",
              "19           99  \n",
              "20            0  \n",
              "21           40  \n",
              "22            0  \n",
              "23            0  \n",
              "24         9271  \n",
              "25            0  \n",
              "26            0  \n",
              "27            0  \n",
              "28            0  \n",
              "29         1924  \n",
              "30         8329  \n",
              "31            0  \n",
              "32          131  \n",
              "33            0  \n",
              "34            0  \n",
              "35          276  \n",
              "36            0  \n",
              "37            0  \n",
              "38            0  \n",
              "39            2  \n",
              "40          877  \n",
              "41         1191  \n",
              "42            0  \n",
              "43            0  \n",
              "44        62151  \n",
              "45            0  \n",
              "46         4868  \n",
              "47            0  \n",
              "48          344  "
            ],
            "text/html": [
              "\n",
              "  <div id=\"df-3266f7c9-1458-4451-8606-8f6112694828\" class=\"colab-df-container\">\n",
              "    <div>\n",
              "<style scoped>\n",
              "    .dataframe tbody tr th:only-of-type {\n",
              "        vertical-align: middle;\n",
              "    }\n",
              "\n",
              "    .dataframe tbody tr th {\n",
              "        vertical-align: top;\n",
              "    }\n",
              "\n",
              "    .dataframe thead th {\n",
              "        text-align: right;\n",
              "    }\n",
              "</style>\n",
              "<table border=\"1\" class=\"dataframe\">\n",
              "  <thead>\n",
              "    <tr style=\"text-align: right;\">\n",
              "      <th></th>\n",
              "      <th>Hostname</th>\n",
              "      <th>Page path and screen class</th>\n",
              "      <th>Active users</th>\n",
              "      <th>Sessions</th>\n",
              "      <th>Conversions</th>\n",
              "    </tr>\n",
              "  </thead>\n",
              "  <tbody>\n",
              "    <tr>\n",
              "      <th>0</th>\n",
              "      <td>promocoes.wizard.com.br</td>\n",
              "      <td>/blue-friday</td>\n",
              "      <td>4962</td>\n",
              "      <td>5446</td>\n",
              "      <td>0</td>\n",
              "    </tr>\n",
              "    <tr>\n",
              "      <th>1</th>\n",
              "      <td>promocoes.wizard.com.br</td>\n",
              "      <td>/blue-friday/agradecimento</td>\n",
              "      <td>472</td>\n",
              "      <td>519</td>\n",
              "      <td>1059</td>\n",
              "    </tr>\n",
              "    <tr>\n",
              "      <th>2</th>\n",
              "      <td>promocoes.wizard.com.br</td>\n",
              "      <td>/blue-friday/obrigado</td>\n",
              "      <td>355</td>\n",
              "      <td>395</td>\n",
              "      <td>0</td>\n",
              "    </tr>\n",
              "    <tr>\n",
              "      <th>3</th>\n",
              "      <td>promocoes.wizard.com.br</td>\n",
              "      <td>/bolsa-de-estudo</td>\n",
              "      <td>46691</td>\n",
              "      <td>51186</td>\n",
              "      <td>2554</td>\n",
              "    </tr>\n",
              "    <tr>\n",
              "      <th>4</th>\n",
              "      <td>promocoes.wizard.com.br</td>\n",
              "      <td>/bolsa-de-estudo/&amp;h=at2ku0qii5ue9oejrwvw8oygkn...</td>\n",
              "      <td>1</td>\n",
              "      <td>1</td>\n",
              "      <td>0</td>\n",
              "    </tr>\n",
              "    <tr>\n",
              "      <th>5</th>\n",
              "      <td>promocoes.wizard.com.br</td>\n",
              "      <td>/bolsa-de-estudo/agradecimento</td>\n",
              "      <td>15592</td>\n",
              "      <td>16523</td>\n",
              "      <td>27803</td>\n",
              "    </tr>\n",
              "    <tr>\n",
              "      <th>6</th>\n",
              "      <td>promocoes.wizard.com.br</td>\n",
              "      <td>/campanha-ingles-que-te-garante</td>\n",
              "      <td>180383</td>\n",
              "      <td>266003</td>\n",
              "      <td>0</td>\n",
              "    </tr>\n",
              "    <tr>\n",
              "      <th>7</th>\n",
              "      <td>promocoes.wizard.com.br</td>\n",
              "      <td>/campanha-ingles-que-te-garante/agradecimento</td>\n",
              "      <td>299</td>\n",
              "      <td>302</td>\n",
              "      <td>640</td>\n",
              "    </tr>\n",
              "    <tr>\n",
              "      <th>8</th>\n",
              "      <td>promocoes.wizard.com.br</td>\n",
              "      <td>/compromisso-de-aprendizado</td>\n",
              "      <td>434655</td>\n",
              "      <td>503542</td>\n",
              "      <td>43308</td>\n",
              "    </tr>\n",
              "    <tr>\n",
              "      <th>9</th>\n",
              "      <td>promocoes.wizard.com.br</td>\n",
              "      <td>/compromisso-de-aprendizado/agradecimento</td>\n",
              "      <td>1782</td>\n",
              "      <td>1896</td>\n",
              "      <td>1987</td>\n",
              "    </tr>\n",
              "    <tr>\n",
              "      <th>10</th>\n",
              "      <td>promocoes.wizard.com.br</td>\n",
              "      <td>/compromissodeaprendizado</td>\n",
              "      <td>188</td>\n",
              "      <td>294</td>\n",
              "      <td>4</td>\n",
              "    </tr>\n",
              "    <tr>\n",
              "      <th>11</th>\n",
              "      <td>promocoes.wizard.com.br</td>\n",
              "      <td>/compromissodeaprendizado/agradecimento</td>\n",
              "      <td>8</td>\n",
              "      <td>13</td>\n",
              "      <td>3</td>\n",
              "    </tr>\n",
              "    <tr>\n",
              "      <th>12</th>\n",
              "      <td>promocoes.wizard.com.br</td>\n",
              "      <td>/curso-express</td>\n",
              "      <td>306254</td>\n",
              "      <td>399427</td>\n",
              "      <td>4392</td>\n",
              "    </tr>\n",
              "    <tr>\n",
              "      <th>13</th>\n",
              "      <td>promocoes.wizard.com.br</td>\n",
              "      <td>/curso-express/&amp;h=at0rcet7jokaij3ycmjsbzbj2zil...</td>\n",
              "      <td>1</td>\n",
              "      <td>1</td>\n",
              "      <td>0</td>\n",
              "    </tr>\n",
              "    <tr>\n",
              "      <th>14</th>\n",
              "      <td>promocoes.wizard.com.br</td>\n",
              "      <td>/curso-express/&amp;h=at2lmdiyndn7epzkpwuaufqnzq3y...</td>\n",
              "      <td>1</td>\n",
              "      <td>1</td>\n",
              "      <td>0</td>\n",
              "    </tr>\n",
              "    <tr>\n",
              "      <th>15</th>\n",
              "      <td>promocoes.wizard.com.br</td>\n",
              "      <td>/curso-express/agradecimento</td>\n",
              "      <td>32591</td>\n",
              "      <td>35025</td>\n",
              "      <td>8024</td>\n",
              "    </tr>\n",
              "    <tr>\n",
              "      <th>16</th>\n",
              "      <td>promocoes.wizard.com.br</td>\n",
              "      <td>/grupo-cavalheiro</td>\n",
              "      <td>5340</td>\n",
              "      <td>6609</td>\n",
              "      <td>907</td>\n",
              "    </tr>\n",
              "    <tr>\n",
              "      <th>17</th>\n",
              "      <td>promocoes.wizard.com.br</td>\n",
              "      <td>/grupo-cavalheiro/agradecimento</td>\n",
              "      <td>52</td>\n",
              "      <td>62</td>\n",
              "      <td>23</td>\n",
              "    </tr>\n",
              "    <tr>\n",
              "      <th>18</th>\n",
              "      <td>promocoes.wizard.com.br</td>\n",
              "      <td>/itabira</td>\n",
              "      <td>1199</td>\n",
              "      <td>1326</td>\n",
              "      <td>0</td>\n",
              "    </tr>\n",
              "    <tr>\n",
              "      <th>19</th>\n",
              "      <td>promocoes.wizard.com.br</td>\n",
              "      <td>/itabira/agradecimento</td>\n",
              "      <td>53</td>\n",
              "      <td>54</td>\n",
              "      <td>99</td>\n",
              "    </tr>\n",
              "    <tr>\n",
              "      <th>20</th>\n",
              "      <td>promocoes.wizard.com.br</td>\n",
              "      <td>/litoral</td>\n",
              "      <td>266</td>\n",
              "      <td>341</td>\n",
              "      <td>0</td>\n",
              "    </tr>\n",
              "    <tr>\n",
              "      <th>21</th>\n",
              "      <td>promocoes.wizard.com.br</td>\n",
              "      <td>/litoral/agradecimento</td>\n",
              "      <td>17</td>\n",
              "      <td>18</td>\n",
              "      <td>40</td>\n",
              "    </tr>\n",
              "    <tr>\n",
              "      <th>22</th>\n",
              "      <td>promocoes.wizard.com.br</td>\n",
              "      <td>/matricula-zero</td>\n",
              "      <td>22720</td>\n",
              "      <td>24415</td>\n",
              "      <td>0</td>\n",
              "    </tr>\n",
              "    <tr>\n",
              "      <th>23</th>\n",
              "      <td>promocoes.wizard.com.br</td>\n",
              "      <td>/matricula-zero/&amp;h=at0wkm8dsw55gffl5wpflk7ympm...</td>\n",
              "      <td>1</td>\n",
              "      <td>1</td>\n",
              "      <td>0</td>\n",
              "    </tr>\n",
              "    <tr>\n",
              "      <th>24</th>\n",
              "      <td>promocoes.wizard.com.br</td>\n",
              "      <td>/matricula-zero/agradecimento</td>\n",
              "      <td>4314</td>\n",
              "      <td>4501</td>\n",
              "      <td>9271</td>\n",
              "    </tr>\n",
              "    <tr>\n",
              "      <th>25</th>\n",
              "      <td>promocoes.wizard.com.br</td>\n",
              "      <td>/microinfluenciadores/patrickpeixotos</td>\n",
              "      <td>5</td>\n",
              "      <td>5</td>\n",
              "      <td>0</td>\n",
              "    </tr>\n",
              "    <tr>\n",
              "      <th>26</th>\n",
              "      <td>promocoes.wizard.com.br</td>\n",
              "      <td>/microinfluenciadores/prazerlaize</td>\n",
              "      <td>2</td>\n",
              "      <td>2</td>\n",
              "      <td>0</td>\n",
              "    </tr>\n",
              "    <tr>\n",
              "      <th>27</th>\n",
              "      <td>promocoes.wizard.com.br</td>\n",
              "      <td>/saia-na-frente</td>\n",
              "      <td>35</td>\n",
              "      <td>39</td>\n",
              "      <td>0</td>\n",
              "    </tr>\n",
              "    <tr>\n",
              "      <th>28</th>\n",
              "      <td>promocoes.wizard.com.br</td>\n",
              "      <td>/turmas-abertas</td>\n",
              "      <td>2969</td>\n",
              "      <td>3404</td>\n",
              "      <td>0</td>\n",
              "    </tr>\n",
              "    <tr>\n",
              "      <th>29</th>\n",
              "      <td>promocoes.wizard.com.br</td>\n",
              "      <td>/turmas-abertas/agradecimento</td>\n",
              "      <td>886</td>\n",
              "      <td>920</td>\n",
              "      <td>1924</td>\n",
              "    </tr>\n",
              "    <tr>\n",
              "      <th>30</th>\n",
              "      <td>promocoes.wizard.com.br</td>\n",
              "      <td>/wizard-on</td>\n",
              "      <td>880066</td>\n",
              "      <td>1306504</td>\n",
              "      <td>8329</td>\n",
              "    </tr>\n",
              "    <tr>\n",
              "      <th>31</th>\n",
              "      <td>promocoes.wizard.com.br</td>\n",
              "      <td>/wizard-on-afiliados</td>\n",
              "      <td>1087</td>\n",
              "      <td>1364</td>\n",
              "      <td>0</td>\n",
              "    </tr>\n",
              "    <tr>\n",
              "      <th>32</th>\n",
              "      <td>promocoes.wizard.com.br</td>\n",
              "      <td>/wizard-on-afiliados/agradecimento</td>\n",
              "      <td>438</td>\n",
              "      <td>503</td>\n",
              "      <td>131</td>\n",
              "    </tr>\n",
              "    <tr>\n",
              "      <th>33</th>\n",
              "      <td>promocoes.wizard.com.br</td>\n",
              "      <td>/wizard-on-afiliados/view/images/no-x.svg\"</td>\n",
              "      <td>1</td>\n",
              "      <td>1</td>\n",
              "      <td>0</td>\n",
              "    </tr>\n",
              "    <tr>\n",
              "      <th>34</th>\n",
              "      <td>promocoes.wizard.com.br</td>\n",
              "      <td>/wizard-on-livelo</td>\n",
              "      <td>994</td>\n",
              "      <td>1391</td>\n",
              "      <td>0</td>\n",
              "    </tr>\n",
              "    <tr>\n",
              "      <th>35</th>\n",
              "      <td>promocoes.wizard.com.br</td>\n",
              "      <td>/wizard-on-livelo/agradecimento</td>\n",
              "      <td>123</td>\n",
              "      <td>128</td>\n",
              "      <td>276</td>\n",
              "    </tr>\n",
              "    <tr>\n",
              "      <th>36</th>\n",
              "      <td>promocoes.wizard.com.br</td>\n",
              "      <td>/wizard-on-livelo/themes/web/uploads/regulamen...</td>\n",
              "      <td>2</td>\n",
              "      <td>5</td>\n",
              "      <td>0</td>\n",
              "    </tr>\n",
              "    <tr>\n",
              "      <th>37</th>\n",
              "      <td>promocoes.wizard.com.br</td>\n",
              "      <td>/wizard-on-positivo</td>\n",
              "      <td>35079</td>\n",
              "      <td>65400</td>\n",
              "      <td>0</td>\n",
              "    </tr>\n",
              "    <tr>\n",
              "      <th>38</th>\n",
              "      <td>promocoes.wizard.com.br</td>\n",
              "      <td>/wizard-on-positivo-ebook</td>\n",
              "      <td>36889</td>\n",
              "      <td>69921</td>\n",
              "      <td>0</td>\n",
              "    </tr>\n",
              "    <tr>\n",
              "      <th>39</th>\n",
              "      <td>promocoes.wizard.com.br</td>\n",
              "      <td>/wizard-on-positivo-ebook/agradecimento</td>\n",
              "      <td>1</td>\n",
              "      <td>1</td>\n",
              "      <td>2</td>\n",
              "    </tr>\n",
              "    <tr>\n",
              "      <th>40</th>\n",
              "      <td>promocoes.wizard.com.br</td>\n",
              "      <td>/wizard-on-promo</td>\n",
              "      <td>19077</td>\n",
              "      <td>23909</td>\n",
              "      <td>877</td>\n",
              "    </tr>\n",
              "    <tr>\n",
              "      <th>41</th>\n",
              "      <td>promocoes.wizard.com.br</td>\n",
              "      <td>/wizard-on-promo/agradecimento</td>\n",
              "      <td>977</td>\n",
              "      <td>1061</td>\n",
              "      <td>1191</td>\n",
              "    </tr>\n",
              "    <tr>\n",
              "      <th>42</th>\n",
              "      <td>promocoes.wizard.com.br</td>\n",
              "      <td>/wizard-on-promo/https://p</td>\n",
              "      <td>3</td>\n",
              "      <td>3</td>\n",
              "      <td>0</td>\n",
              "    </tr>\n",
              "    <tr>\n",
              "      <th>43</th>\n",
              "      <td>promocoes.wizard.com.br</td>\n",
              "      <td>/wizard-on/%20para%20criancas</td>\n",
              "      <td>1</td>\n",
              "      <td>1</td>\n",
              "      <td>0</td>\n",
              "    </tr>\n",
              "    <tr>\n",
              "      <th>44</th>\n",
              "      <td>promocoes.wizard.com.br</td>\n",
              "      <td>/wizard-on/agradecimento</td>\n",
              "      <td>37755</td>\n",
              "      <td>41552</td>\n",
              "      <td>62151</td>\n",
              "    </tr>\n",
              "    <tr>\n",
              "      <th>45</th>\n",
              "      <td>promocoes.wizard.com.br</td>\n",
              "      <td>/wizkids</td>\n",
              "      <td>23078</td>\n",
              "      <td>23254</td>\n",
              "      <td>0</td>\n",
              "    </tr>\n",
              "    <tr>\n",
              "      <th>46</th>\n",
              "      <td>promocoes.wizard.com.br</td>\n",
              "      <td>/wizkids/agradecimento</td>\n",
              "      <td>2302</td>\n",
              "      <td>2358</td>\n",
              "      <td>4868</td>\n",
              "    </tr>\n",
              "    <tr>\n",
              "      <th>47</th>\n",
              "      <td>promocoes.wizard.com.br</td>\n",
              "      <td>/wizpen</td>\n",
              "      <td>101673</td>\n",
              "      <td>107395</td>\n",
              "      <td>0</td>\n",
              "    </tr>\n",
              "    <tr>\n",
              "      <th>48</th>\n",
              "      <td>promocoes.wizard.com.br</td>\n",
              "      <td>/wizpen/agradecimento</td>\n",
              "      <td>165</td>\n",
              "      <td>172</td>\n",
              "      <td>344</td>\n",
              "    </tr>\n",
              "  </tbody>\n",
              "</table>\n",
              "</div>\n",
              "    <div class=\"colab-df-buttons\">\n",
              "\n",
              "  <div class=\"colab-df-container\">\n",
              "    <button class=\"colab-df-convert\" onclick=\"convertToInteractive('df-3266f7c9-1458-4451-8606-8f6112694828')\"\n",
              "            title=\"Convert this dataframe to an interactive table.\"\n",
              "            style=\"display:none;\">\n",
              "\n",
              "  <svg xmlns=\"http://www.w3.org/2000/svg\" height=\"24px\" viewBox=\"0 -960 960 960\">\n",
              "    <path d=\"M120-120v-720h720v720H120Zm60-500h600v-160H180v160Zm220 220h160v-160H400v160Zm0 220h160v-160H400v160ZM180-400h160v-160H180v160Zm440 0h160v-160H620v160ZM180-180h160v-160H180v160Zm440 0h160v-160H620v160Z\"/>\n",
              "  </svg>\n",
              "    </button>\n",
              "\n",
              "  <style>\n",
              "    .colab-df-container {\n",
              "      display:flex;\n",
              "      gap: 12px;\n",
              "    }\n",
              "\n",
              "    .colab-df-convert {\n",
              "      background-color: #E8F0FE;\n",
              "      border: none;\n",
              "      border-radius: 50%;\n",
              "      cursor: pointer;\n",
              "      display: none;\n",
              "      fill: #1967D2;\n",
              "      height: 32px;\n",
              "      padding: 0 0 0 0;\n",
              "      width: 32px;\n",
              "    }\n",
              "\n",
              "    .colab-df-convert:hover {\n",
              "      background-color: #E2EBFA;\n",
              "      box-shadow: 0px 1px 2px rgba(60, 64, 67, 0.3), 0px 1px 3px 1px rgba(60, 64, 67, 0.15);\n",
              "      fill: #174EA6;\n",
              "    }\n",
              "\n",
              "    .colab-df-buttons div {\n",
              "      margin-bottom: 4px;\n",
              "    }\n",
              "\n",
              "    [theme=dark] .colab-df-convert {\n",
              "      background-color: #3B4455;\n",
              "      fill: #D2E3FC;\n",
              "    }\n",
              "\n",
              "    [theme=dark] .colab-df-convert:hover {\n",
              "      background-color: #434B5C;\n",
              "      box-shadow: 0px 1px 3px 1px rgba(0, 0, 0, 0.15);\n",
              "      filter: drop-shadow(0px 1px 2px rgba(0, 0, 0, 0.3));\n",
              "      fill: #FFFFFF;\n",
              "    }\n",
              "  </style>\n",
              "\n",
              "    <script>\n",
              "      const buttonEl =\n",
              "        document.querySelector('#df-3266f7c9-1458-4451-8606-8f6112694828 button.colab-df-convert');\n",
              "      buttonEl.style.display =\n",
              "        google.colab.kernel.accessAllowed ? 'block' : 'none';\n",
              "\n",
              "      async function convertToInteractive(key) {\n",
              "        const element = document.querySelector('#df-3266f7c9-1458-4451-8606-8f6112694828');\n",
              "        const dataTable =\n",
              "          await google.colab.kernel.invokeFunction('convertToInteractive',\n",
              "                                                    [key], {});\n",
              "        if (!dataTable) return;\n",
              "\n",
              "        const docLinkHtml = 'Like what you see? Visit the ' +\n",
              "          '<a target=\"_blank\" href=https://colab.research.google.com/notebooks/data_table.ipynb>data table notebook</a>'\n",
              "          + ' to learn more about interactive tables.';\n",
              "        element.innerHTML = '';\n",
              "        dataTable['output_type'] = 'display_data';\n",
              "        await google.colab.output.renderOutput(dataTable, element);\n",
              "        const docLink = document.createElement('div');\n",
              "        docLink.innerHTML = docLinkHtml;\n",
              "        element.appendChild(docLink);\n",
              "      }\n",
              "    </script>\n",
              "  </div>\n",
              "\n",
              "\n",
              "<div id=\"df-32e0c0ff-e24a-42af-a002-1ed6706a2289\">\n",
              "  <button class=\"colab-df-quickchart\" onclick=\"quickchart('df-32e0c0ff-e24a-42af-a002-1ed6706a2289')\"\n",
              "            title=\"Suggest charts\"\n",
              "            style=\"display:none;\">\n",
              "\n",
              "<svg xmlns=\"http://www.w3.org/2000/svg\" height=\"24px\"viewBox=\"0 0 24 24\"\n",
              "     width=\"24px\">\n",
              "    <g>\n",
              "        <path d=\"M19 3H5c-1.1 0-2 .9-2 2v14c0 1.1.9 2 2 2h14c1.1 0 2-.9 2-2V5c0-1.1-.9-2-2-2zM9 17H7v-7h2v7zm4 0h-2V7h2v10zm4 0h-2v-4h2v4z\"/>\n",
              "    </g>\n",
              "</svg>\n",
              "  </button>\n",
              "\n",
              "<style>\n",
              "  .colab-df-quickchart {\n",
              "      --bg-color: #E8F0FE;\n",
              "      --fill-color: #1967D2;\n",
              "      --hover-bg-color: #E2EBFA;\n",
              "      --hover-fill-color: #174EA6;\n",
              "      --disabled-fill-color: #AAA;\n",
              "      --disabled-bg-color: #DDD;\n",
              "  }\n",
              "\n",
              "  [theme=dark] .colab-df-quickchart {\n",
              "      --bg-color: #3B4455;\n",
              "      --fill-color: #D2E3FC;\n",
              "      --hover-bg-color: #434B5C;\n",
              "      --hover-fill-color: #FFFFFF;\n",
              "      --disabled-bg-color: #3B4455;\n",
              "      --disabled-fill-color: #666;\n",
              "  }\n",
              "\n",
              "  .colab-df-quickchart {\n",
              "    background-color: var(--bg-color);\n",
              "    border: none;\n",
              "    border-radius: 50%;\n",
              "    cursor: pointer;\n",
              "    display: none;\n",
              "    fill: var(--fill-color);\n",
              "    height: 32px;\n",
              "    padding: 0;\n",
              "    width: 32px;\n",
              "  }\n",
              "\n",
              "  .colab-df-quickchart:hover {\n",
              "    background-color: var(--hover-bg-color);\n",
              "    box-shadow: 0 1px 2px rgba(60, 64, 67, 0.3), 0 1px 3px 1px rgba(60, 64, 67, 0.15);\n",
              "    fill: var(--button-hover-fill-color);\n",
              "  }\n",
              "\n",
              "  .colab-df-quickchart-complete:disabled,\n",
              "  .colab-df-quickchart-complete:disabled:hover {\n",
              "    background-color: var(--disabled-bg-color);\n",
              "    fill: var(--disabled-fill-color);\n",
              "    box-shadow: none;\n",
              "  }\n",
              "\n",
              "  .colab-df-spinner {\n",
              "    border: 2px solid var(--fill-color);\n",
              "    border-color: transparent;\n",
              "    border-bottom-color: var(--fill-color);\n",
              "    animation:\n",
              "      spin 1s steps(1) infinite;\n",
              "  }\n",
              "\n",
              "  @keyframes spin {\n",
              "    0% {\n",
              "      border-color: transparent;\n",
              "      border-bottom-color: var(--fill-color);\n",
              "      border-left-color: var(--fill-color);\n",
              "    }\n",
              "    20% {\n",
              "      border-color: transparent;\n",
              "      border-left-color: var(--fill-color);\n",
              "      border-top-color: var(--fill-color);\n",
              "    }\n",
              "    30% {\n",
              "      border-color: transparent;\n",
              "      border-left-color: var(--fill-color);\n",
              "      border-top-color: var(--fill-color);\n",
              "      border-right-color: var(--fill-color);\n",
              "    }\n",
              "    40% {\n",
              "      border-color: transparent;\n",
              "      border-right-color: var(--fill-color);\n",
              "      border-top-color: var(--fill-color);\n",
              "    }\n",
              "    60% {\n",
              "      border-color: transparent;\n",
              "      border-right-color: var(--fill-color);\n",
              "    }\n",
              "    80% {\n",
              "      border-color: transparent;\n",
              "      border-right-color: var(--fill-color);\n",
              "      border-bottom-color: var(--fill-color);\n",
              "    }\n",
              "    90% {\n",
              "      border-color: transparent;\n",
              "      border-bottom-color: var(--fill-color);\n",
              "    }\n",
              "  }\n",
              "</style>\n",
              "\n",
              "  <script>\n",
              "    async function quickchart(key) {\n",
              "      const quickchartButtonEl =\n",
              "        document.querySelector('#' + key + ' button');\n",
              "      quickchartButtonEl.disabled = true;  // To prevent multiple clicks.\n",
              "      quickchartButtonEl.classList.add('colab-df-spinner');\n",
              "      try {\n",
              "        const charts = await google.colab.kernel.invokeFunction(\n",
              "            'suggestCharts', [key], {});\n",
              "      } catch (error) {\n",
              "        console.error('Error during call to suggestCharts:', error);\n",
              "      }\n",
              "      quickchartButtonEl.classList.remove('colab-df-spinner');\n",
              "      quickchartButtonEl.classList.add('colab-df-quickchart-complete');\n",
              "    }\n",
              "    (() => {\n",
              "      let quickchartButtonEl =\n",
              "        document.querySelector('#df-32e0c0ff-e24a-42af-a002-1ed6706a2289 button');\n",
              "      quickchartButtonEl.style.display =\n",
              "        google.colab.kernel.accessAllowed ? 'block' : 'none';\n",
              "    })();\n",
              "  </script>\n",
              "</div>\n",
              "    </div>\n",
              "  </div>\n"
            ],
            "application/vnd.google.colaboratory.intrinsic+json": {
              "type": "dataframe",
              "variable_name": "df_grouped",
              "summary": "{\n  \"name\": \"df_grouped\",\n  \"rows\": 49,\n  \"fields\": [\n    {\n      \"column\": \"Hostname\",\n      \"properties\": {\n        \"dtype\": \"category\",\n        \"num_unique_values\": 1,\n        \"samples\": [\n          \"promocoes.wizard.com.br\"\n        ],\n        \"semantic_type\": \"\",\n        \"description\": \"\"\n      }\n    },\n    {\n      \"column\": \"Page path and screen class\",\n      \"properties\": {\n        \"dtype\": \"string\",\n        \"num_unique_values\": 49,\n        \"samples\": [\n          \"/curso-express/&h=at0rcet7jokaij3ycmjsbzbj2zilias0bjdwmjewel6lg9gfsl9yj9q_qrbxswny_zfzs-ls23txxunrhyvjhcnwnyyb6_zerbp8khtj7mc15ab3_dg74effoxubbvrteupbn94rwjbikpfq&s=1\"\n        ],\n        \"semantic_type\": \"\",\n        \"description\": \"\"\n      }\n    },\n    {\n      \"column\": \"Active users\",\n      \"properties\": {\n        \"dtype\": \"number\",\n        \"std\": 145070,\n        \"min\": 1,\n        \"max\": 880066,\n        \"num_unique_values\": 42,\n        \"samples\": [\n          2969\n        ],\n        \"semantic_type\": \"\",\n        \"description\": \"\"\n      }\n    },\n    {\n      \"column\": \"Sessions\",\n      \"properties\": {\n        \"dtype\": \"number\",\n        \"std\": 206130,\n        \"min\": 1,\n        \"max\": 1306504,\n        \"num_unique_values\": 42,\n        \"samples\": [\n          3404\n        ],\n        \"semantic_type\": \"\",\n        \"description\": \"\"\n      }\n    },\n    {\n      \"column\": \"Conversions\",\n      \"properties\": {\n        \"dtype\": \"number\",\n        \"std\": 11301,\n        \"min\": 0,\n        \"max\": 62151,\n        \"num_unique_values\": 26,\n        \"samples\": [\n          3\n        ],\n        \"semantic_type\": \"\",\n        \"description\": \"\"\n      }\n    }\n  ]\n}"
            }
          },
          "metadata": {},
          "execution_count": 188
        }
      ]
    },
    {
      "cell_type": "code",
      "source": [
        "df_grouped.info()"
      ],
      "metadata": {
        "colab": {
          "base_uri": "https://localhost:8080/"
        },
        "id": "76XeTP-97BH0",
        "outputId": "55f45f2d-0dc7-4426-8e8a-31d7dc2d3498"
      },
      "execution_count": 190,
      "outputs": [
        {
          "output_type": "stream",
          "name": "stdout",
          "text": [
            "<class 'pandas.core.frame.DataFrame'>\n",
            "RangeIndex: 49 entries, 0 to 48\n",
            "Data columns (total 5 columns):\n",
            " #   Column                      Non-Null Count  Dtype \n",
            "---  ------                      --------------  ----- \n",
            " 0   Hostname                    49 non-null     object\n",
            " 1   Page path and screen class  49 non-null     object\n",
            " 2   Active users                49 non-null     int64 \n",
            " 3   Sessions                    49 non-null     int64 \n",
            " 4   Conversions                 49 non-null     int64 \n",
            "dtypes: int64(3), object(2)\n",
            "memory usage: 2.0+ KB\n"
          ]
        }
      ]
    },
    {
      "cell_type": "code",
      "source": [
        "paths = df_grouped['Page path and screen class']\n",
        "wizard_on_paths = [path for path in paths if re.search(r'wizard-on', path)]\n",
        "wizard_on_paths"
      ],
      "metadata": {
        "colab": {
          "base_uri": "https://localhost:8080/"
        },
        "id": "r-JoLSVxh2jU",
        "outputId": "6315a42b-89b4-427a-9c08-68fba2641fb8"
      },
      "execution_count": 198,
      "outputs": [
        {
          "output_type": "execute_result",
          "data": {
            "text/plain": [
              "['/wizard-on',\n",
              " '/wizard-on-afiliados',\n",
              " '/wizard-on-afiliados/agradecimento',\n",
              " '/wizard-on-afiliados/view/images/no-x.svg\"',\n",
              " '/wizard-on-livelo',\n",
              " '/wizard-on-livelo/agradecimento',\n",
              " '/wizard-on-livelo/themes/web/uploads/regulamento.pdf',\n",
              " '/wizard-on-positivo',\n",
              " '/wizard-on-positivo-ebook',\n",
              " '/wizard-on-positivo-ebook/agradecimento',\n",
              " '/wizard-on-promo',\n",
              " '/wizard-on-promo/agradecimento',\n",
              " '/wizard-on-promo/https://p',\n",
              " '/wizard-on/%20para%20criancas',\n",
              " '/wizard-on/agradecimento']"
            ]
          },
          "metadata": {},
          "execution_count": 198
        }
      ]
    },
    {
      "cell_type": "markdown",
      "source": [
        "## Análise Estatística Descritiva"
      ],
      "metadata": {
        "id": "R6zsEaj0AnZh"
      }
    },
    {
      "cell_type": "code",
      "source": [
        "df_grouped['Sessions'].describe()"
      ],
      "metadata": {
        "colab": {
          "base_uri": "https://localhost:8080/"
        },
        "id": "N2XIajhR7El4",
        "outputId": "1d581c95-3847-4da1-dab6-11eaada7c44c"
      },
      "execution_count": 191,
      "outputs": [
        {
          "output_type": "execute_result",
          "data": {
            "text/plain": [
              "count    4.900000e+01\n",
              "mean     6.055498e+04\n",
              "std      2.061303e+05\n",
              "min      1.000000e+00\n",
              "25%      1.800000e+01\n",
              "50%      9.200000e+02\n",
              "75%      2.325400e+04\n",
              "max      1.306504e+06\n",
              "Name: Sessions, dtype: float64"
            ]
          },
          "metadata": {},
          "execution_count": 191
        }
      ]
    },
    {
      "cell_type": "code",
      "source": [
        "df_grouped['Active users'].describe()"
      ],
      "metadata": {
        "colab": {
          "base_uri": "https://localhost:8080/"
        },
        "id": "ECdhbbdA7QKu",
        "outputId": "db189ac7-f6b0-47a6-f718-70e630b07992"
      },
      "execution_count": 192,
      "outputs": [
        {
          "output_type": "execute_result",
          "data": {
            "text/plain": [
              "count        49.000000\n",
              "mean      44934.795918\n",
              "std      145070.415023\n",
              "min           1.000000\n",
              "25%          17.000000\n",
              "50%         886.000000\n",
              "75%       19077.000000\n",
              "max      880066.000000\n",
              "Name: Active users, dtype: float64"
            ]
          },
          "metadata": {},
          "execution_count": 192
        }
      ]
    },
    {
      "cell_type": "code",
      "source": [
        "df_grouped['Conversions'].describe()"
      ],
      "metadata": {
        "colab": {
          "base_uri": "https://localhost:8080/"
        },
        "id": "atDZo6wb7QGj",
        "outputId": "fe5e6745-c0dd-4d8a-a55f-b41ff1e3e5ff"
      },
      "execution_count": 193,
      "outputs": [
        {
          "output_type": "execute_result",
          "data": {
            "text/plain": [
              "count       49.000000\n",
              "mean      3677.693878\n",
              "std      11301.017167\n",
              "min          0.000000\n",
              "25%          0.000000\n",
              "50%          2.000000\n",
              "75%       1059.000000\n",
              "max      62151.000000\n",
              "Name: Conversions, dtype: float64"
            ]
          },
          "metadata": {},
          "execution_count": 193
        }
      ]
    },
    {
      "cell_type": "code",
      "source": [
        "print(f\"Mediana = {df_grouped['Sessions'].median()}\")\n",
        "print(f\"Moda = {df_grouped['Sessions'].mode()[0]}\")\n",
        "print(f\"Variância = {df_grouped['Sessions'].var()}\")\n",
        "\n",
        "q1 = df_grouped['Sessions'].quantile(0.25)\n",
        "q3 = df_grouped['Sessions'].quantile(0.75)\n",
        "iqr = q3 - q1\n",
        "print(f\"Diferença do primeiro para o terceiro quartil = {iqr}\")"
      ],
      "metadata": {
        "colab": {
          "base_uri": "https://localhost:8080/"
        },
        "id": "WX8Yfq2yeLZH",
        "outputId": "d3bc6af4-7c5f-4385-ccfa-294366450171"
      },
      "execution_count": 194,
      "outputs": [
        {
          "output_type": "stream",
          "name": "stdout",
          "text": [
            "Mediana = 920.0\n",
            "Moda = 1\n",
            "Variância = 42489706263.35374\n",
            "Diferença do primeiro para o terceiro quartil = 23236.0\n"
          ]
        }
      ]
    },
    {
      "cell_type": "code",
      "source": [
        "print(f\"Mediana = {df_grouped['Active users'].median()}\")\n",
        "print(f\"Moda = {df_grouped['Active users'].mode()[0]}\")\n",
        "print(f\"Variância = {df_grouped['Active users'].var()}\")\n",
        "\n",
        "q1 = df_grouped['Active users'].quantile(0.25)\n",
        "q3 = df_grouped['Active users'].quantile(0.75)\n",
        "iqr = q3 - q1\n",
        "print(f\"Diferença do primeiro para o terceiro quartil = {iqr}\")"
      ],
      "metadata": {
        "colab": {
          "base_uri": "https://localhost:8080/"
        },
        "id": "oK0lzzfFeLUs",
        "outputId": "6315d87f-aa3e-454b-db48-495550ee0f11"
      },
      "execution_count": 195,
      "outputs": [
        {
          "output_type": "stream",
          "name": "stdout",
          "text": [
            "Mediana = 886.0\n",
            "Moda = 1\n",
            "Variância = 21045425315.040813\n",
            "Diferença do primeiro para o terceiro quartil = 19060.0\n"
          ]
        }
      ]
    },
    {
      "cell_type": "code",
      "source": [
        "print(f\"Mediana = {df_grouped['Conversions'].median()}\")\n",
        "print(f\"Moda = {df_grouped['Conversions'].mode()[0]}\")\n",
        "print(f\"Variância = {df_grouped['Conversions'].var()}\")\n",
        "\n",
        "q1 = df_grouped['Conversions'].quantile(0.25)\n",
        "q3 = df_grouped['Conversions'].quantile(0.75)\n",
        "iqr = q3 - q1\n",
        "print(f\"Diferença do primeiro para o terceiro quartil = {iqr}\")"
      ],
      "metadata": {
        "colab": {
          "base_uri": "https://localhost:8080/"
        },
        "id": "Li8dtudIeBkB",
        "outputId": "8126bd61-eb8a-4a2f-e798-4f9523541973"
      },
      "execution_count": 196,
      "outputs": [
        {
          "output_type": "stream",
          "name": "stdout",
          "text": [
            "Mediana = 2.0\n",
            "Moda = 0\n",
            "Variância = 127712989.00850339\n",
            "Diferença do primeiro para o terceiro quartil = 1059.0\n"
          ]
        }
      ]
    },
    {
      "cell_type": "markdown",
      "source": [
        "## Visualização dos dados"
      ],
      "metadata": {
        "id": "Lj2y1Xi2_VnY"
      }
    },
    {
      "cell_type": "markdown",
      "source": [
        "- todos os valores do dataset"
      ],
      "metadata": {
        "id": "V7-1tVp4i76X"
      }
    },
    {
      "cell_type": "code",
      "source": [
        "# Soma das colunas 'Active users' e 'Conversions'\n",
        "total_usuarios_ativos = sum(df_grouped['Active users'])\n",
        "total_conversoes = sum(df_grouped['Conversions'])\n",
        "\n",
        "# Soma da coluna 'Sessions'\n",
        "total_sessoes = sum(df_grouped['Sessions'])\n",
        "\n",
        "# Dados para o gráfico de barras\n",
        "data = [go.Bar(x=['Usuários Ativos', 'Conversões'], y=[total_usuarios_ativos, total_conversoes])]\n",
        "\n",
        "# Layout do gráfico\n",
        "layout = go.Layout(\n",
        "    title='Total de Usuários Ativos e Conversões',\n",
        "    xaxis=dict(title=''),\n",
        "    yaxis=dict(title='Total'),\n",
        "    barmode='group'\n",
        ")\n",
        "\n",
        "# Criação do gráfico\n",
        "fig = go.Figure(data=data, layout=layout)\n",
        "\n",
        "# Anotação com o total de sessões\n",
        "fig.add_annotation(\n",
        "    x=0, y=total_sessoes,\n",
        "    text=f\"Total de Sessões: {total_sessoes}\",\n",
        "    showarrow=True,\n",
        "    arrowhead=1,\n",
        "    ax=0, ay=-50\n",
        ")\n",
        "\n",
        "# Exibição do gráfico\n",
        "fig.show()"
      ],
      "metadata": {
        "colab": {
          "base_uri": "https://localhost:8080/",
          "height": 542
        },
        "id": "aJfjTpve_aIC",
        "outputId": "48f31df5-6884-4421-8284-89ad5d7d5096"
      },
      "execution_count": 200,
      "outputs": [
        {
          "output_type": "display_data",
          "data": {
            "text/html": [
              "<html>\n",
              "<head><meta charset=\"utf-8\" /></head>\n",
              "<body>\n",
              "    <div>            <script src=\"https://cdnjs.cloudflare.com/ajax/libs/mathjax/2.7.5/MathJax.js?config=TeX-AMS-MML_SVG\"></script><script type=\"text/javascript\">if (window.MathJax && window.MathJax.Hub && window.MathJax.Hub.Config) {window.MathJax.Hub.Config({SVG: {font: \"STIX-Web\"}});}</script>                <script type=\"text/javascript\">window.PlotlyConfig = {MathJaxConfig: 'local'};</script>\n",
              "        <script charset=\"utf-8\" src=\"https://cdn.plot.ly/plotly-2.24.1.min.js\"></script>                <div id=\"36173a4f-6d93-473f-8f05-68594a9e4a1f\" class=\"plotly-graph-div\" style=\"height:525px; width:100%;\"></div>            <script type=\"text/javascript\">                                    window.PLOTLYENV=window.PLOTLYENV || {};                                    if (document.getElementById(\"36173a4f-6d93-473f-8f05-68594a9e4a1f\")) {                    Plotly.newPlot(                        \"36173a4f-6d93-473f-8f05-68594a9e4a1f\",                        [{\"x\":[\"Usu\\u00e1rios Ativos\",\"Convers\\u00f5es\"],\"y\":[2201805,180207],\"type\":\"bar\"}],                        {\"barmode\":\"group\",\"title\":{\"text\":\"Total de Usu\\u00e1rios Ativos e Convers\\u00f5es\"},\"xaxis\":{\"title\":{\"text\":\"\"}},\"yaxis\":{\"title\":{\"text\":\"Total\"}},\"template\":{\"data\":{\"histogram2dcontour\":[{\"type\":\"histogram2dcontour\",\"colorbar\":{\"outlinewidth\":0,\"ticks\":\"\"},\"colorscale\":[[0.0,\"#0d0887\"],[0.1111111111111111,\"#46039f\"],[0.2222222222222222,\"#7201a8\"],[0.3333333333333333,\"#9c179e\"],[0.4444444444444444,\"#bd3786\"],[0.5555555555555556,\"#d8576b\"],[0.6666666666666666,\"#ed7953\"],[0.7777777777777778,\"#fb9f3a\"],[0.8888888888888888,\"#fdca26\"],[1.0,\"#f0f921\"]]}],\"choropleth\":[{\"type\":\"choropleth\",\"colorbar\":{\"outlinewidth\":0,\"ticks\":\"\"}}],\"histogram2d\":[{\"type\":\"histogram2d\",\"colorbar\":{\"outlinewidth\":0,\"ticks\":\"\"},\"colorscale\":[[0.0,\"#0d0887\"],[0.1111111111111111,\"#46039f\"],[0.2222222222222222,\"#7201a8\"],[0.3333333333333333,\"#9c179e\"],[0.4444444444444444,\"#bd3786\"],[0.5555555555555556,\"#d8576b\"],[0.6666666666666666,\"#ed7953\"],[0.7777777777777778,\"#fb9f3a\"],[0.8888888888888888,\"#fdca26\"],[1.0,\"#f0f921\"]]}],\"heatmap\":[{\"type\":\"heatmap\",\"colorbar\":{\"outlinewidth\":0,\"ticks\":\"\"},\"colorscale\":[[0.0,\"#0d0887\"],[0.1111111111111111,\"#46039f\"],[0.2222222222222222,\"#7201a8\"],[0.3333333333333333,\"#9c179e\"],[0.4444444444444444,\"#bd3786\"],[0.5555555555555556,\"#d8576b\"],[0.6666666666666666,\"#ed7953\"],[0.7777777777777778,\"#fb9f3a\"],[0.8888888888888888,\"#fdca26\"],[1.0,\"#f0f921\"]]}],\"heatmapgl\":[{\"type\":\"heatmapgl\",\"colorbar\":{\"outlinewidth\":0,\"ticks\":\"\"},\"colorscale\":[[0.0,\"#0d0887\"],[0.1111111111111111,\"#46039f\"],[0.2222222222222222,\"#7201a8\"],[0.3333333333333333,\"#9c179e\"],[0.4444444444444444,\"#bd3786\"],[0.5555555555555556,\"#d8576b\"],[0.6666666666666666,\"#ed7953\"],[0.7777777777777778,\"#fb9f3a\"],[0.8888888888888888,\"#fdca26\"],[1.0,\"#f0f921\"]]}],\"contourcarpet\":[{\"type\":\"contourcarpet\",\"colorbar\":{\"outlinewidth\":0,\"ticks\":\"\"}}],\"contour\":[{\"type\":\"contour\",\"colorbar\":{\"outlinewidth\":0,\"ticks\":\"\"},\"colorscale\":[[0.0,\"#0d0887\"],[0.1111111111111111,\"#46039f\"],[0.2222222222222222,\"#7201a8\"],[0.3333333333333333,\"#9c179e\"],[0.4444444444444444,\"#bd3786\"],[0.5555555555555556,\"#d8576b\"],[0.6666666666666666,\"#ed7953\"],[0.7777777777777778,\"#fb9f3a\"],[0.8888888888888888,\"#fdca26\"],[1.0,\"#f0f921\"]]}],\"surface\":[{\"type\":\"surface\",\"colorbar\":{\"outlinewidth\":0,\"ticks\":\"\"},\"colorscale\":[[0.0,\"#0d0887\"],[0.1111111111111111,\"#46039f\"],[0.2222222222222222,\"#7201a8\"],[0.3333333333333333,\"#9c179e\"],[0.4444444444444444,\"#bd3786\"],[0.5555555555555556,\"#d8576b\"],[0.6666666666666666,\"#ed7953\"],[0.7777777777777778,\"#fb9f3a\"],[0.8888888888888888,\"#fdca26\"],[1.0,\"#f0f921\"]]}],\"mesh3d\":[{\"type\":\"mesh3d\",\"colorbar\":{\"outlinewidth\":0,\"ticks\":\"\"}}],\"scatter\":[{\"fillpattern\":{\"fillmode\":\"overlay\",\"size\":10,\"solidity\":0.2},\"type\":\"scatter\"}],\"parcoords\":[{\"type\":\"parcoords\",\"line\":{\"colorbar\":{\"outlinewidth\":0,\"ticks\":\"\"}}}],\"scatterpolargl\":[{\"type\":\"scatterpolargl\",\"marker\":{\"colorbar\":{\"outlinewidth\":0,\"ticks\":\"\"}}}],\"bar\":[{\"error_x\":{\"color\":\"#2a3f5f\"},\"error_y\":{\"color\":\"#2a3f5f\"},\"marker\":{\"line\":{\"color\":\"#E5ECF6\",\"width\":0.5},\"pattern\":{\"fillmode\":\"overlay\",\"size\":10,\"solidity\":0.2}},\"type\":\"bar\"}],\"scattergeo\":[{\"type\":\"scattergeo\",\"marker\":{\"colorbar\":{\"outlinewidth\":0,\"ticks\":\"\"}}}],\"scatterpolar\":[{\"type\":\"scatterpolar\",\"marker\":{\"colorbar\":{\"outlinewidth\":0,\"ticks\":\"\"}}}],\"histogram\":[{\"marker\":{\"pattern\":{\"fillmode\":\"overlay\",\"size\":10,\"solidity\":0.2}},\"type\":\"histogram\"}],\"scattergl\":[{\"type\":\"scattergl\",\"marker\":{\"colorbar\":{\"outlinewidth\":0,\"ticks\":\"\"}}}],\"scatter3d\":[{\"type\":\"scatter3d\",\"line\":{\"colorbar\":{\"outlinewidth\":0,\"ticks\":\"\"}},\"marker\":{\"colorbar\":{\"outlinewidth\":0,\"ticks\":\"\"}}}],\"scattermapbox\":[{\"type\":\"scattermapbox\",\"marker\":{\"colorbar\":{\"outlinewidth\":0,\"ticks\":\"\"}}}],\"scatterternary\":[{\"type\":\"scatterternary\",\"marker\":{\"colorbar\":{\"outlinewidth\":0,\"ticks\":\"\"}}}],\"scattercarpet\":[{\"type\":\"scattercarpet\",\"marker\":{\"colorbar\":{\"outlinewidth\":0,\"ticks\":\"\"}}}],\"carpet\":[{\"aaxis\":{\"endlinecolor\":\"#2a3f5f\",\"gridcolor\":\"white\",\"linecolor\":\"white\",\"minorgridcolor\":\"white\",\"startlinecolor\":\"#2a3f5f\"},\"baxis\":{\"endlinecolor\":\"#2a3f5f\",\"gridcolor\":\"white\",\"linecolor\":\"white\",\"minorgridcolor\":\"white\",\"startlinecolor\":\"#2a3f5f\"},\"type\":\"carpet\"}],\"table\":[{\"cells\":{\"fill\":{\"color\":\"#EBF0F8\"},\"line\":{\"color\":\"white\"}},\"header\":{\"fill\":{\"color\":\"#C8D4E3\"},\"line\":{\"color\":\"white\"}},\"type\":\"table\"}],\"barpolar\":[{\"marker\":{\"line\":{\"color\":\"#E5ECF6\",\"width\":0.5},\"pattern\":{\"fillmode\":\"overlay\",\"size\":10,\"solidity\":0.2}},\"type\":\"barpolar\"}],\"pie\":[{\"automargin\":true,\"type\":\"pie\"}]},\"layout\":{\"autotypenumbers\":\"strict\",\"colorway\":[\"#636efa\",\"#EF553B\",\"#00cc96\",\"#ab63fa\",\"#FFA15A\",\"#19d3f3\",\"#FF6692\",\"#B6E880\",\"#FF97FF\",\"#FECB52\"],\"font\":{\"color\":\"#2a3f5f\"},\"hovermode\":\"closest\",\"hoverlabel\":{\"align\":\"left\"},\"paper_bgcolor\":\"white\",\"plot_bgcolor\":\"#E5ECF6\",\"polar\":{\"bgcolor\":\"#E5ECF6\",\"angularaxis\":{\"gridcolor\":\"white\",\"linecolor\":\"white\",\"ticks\":\"\"},\"radialaxis\":{\"gridcolor\":\"white\",\"linecolor\":\"white\",\"ticks\":\"\"}},\"ternary\":{\"bgcolor\":\"#E5ECF6\",\"aaxis\":{\"gridcolor\":\"white\",\"linecolor\":\"white\",\"ticks\":\"\"},\"baxis\":{\"gridcolor\":\"white\",\"linecolor\":\"white\",\"ticks\":\"\"},\"caxis\":{\"gridcolor\":\"white\",\"linecolor\":\"white\",\"ticks\":\"\"}},\"coloraxis\":{\"colorbar\":{\"outlinewidth\":0,\"ticks\":\"\"}},\"colorscale\":{\"sequential\":[[0.0,\"#0d0887\"],[0.1111111111111111,\"#46039f\"],[0.2222222222222222,\"#7201a8\"],[0.3333333333333333,\"#9c179e\"],[0.4444444444444444,\"#bd3786\"],[0.5555555555555556,\"#d8576b\"],[0.6666666666666666,\"#ed7953\"],[0.7777777777777778,\"#fb9f3a\"],[0.8888888888888888,\"#fdca26\"],[1.0,\"#f0f921\"]],\"sequentialminus\":[[0.0,\"#0d0887\"],[0.1111111111111111,\"#46039f\"],[0.2222222222222222,\"#7201a8\"],[0.3333333333333333,\"#9c179e\"],[0.4444444444444444,\"#bd3786\"],[0.5555555555555556,\"#d8576b\"],[0.6666666666666666,\"#ed7953\"],[0.7777777777777778,\"#fb9f3a\"],[0.8888888888888888,\"#fdca26\"],[1.0,\"#f0f921\"]],\"diverging\":[[0,\"#8e0152\"],[0.1,\"#c51b7d\"],[0.2,\"#de77ae\"],[0.3,\"#f1b6da\"],[0.4,\"#fde0ef\"],[0.5,\"#f7f7f7\"],[0.6,\"#e6f5d0\"],[0.7,\"#b8e186\"],[0.8,\"#7fbc41\"],[0.9,\"#4d9221\"],[1,\"#276419\"]]},\"xaxis\":{\"gridcolor\":\"white\",\"linecolor\":\"white\",\"ticks\":\"\",\"title\":{\"standoff\":15},\"zerolinecolor\":\"white\",\"automargin\":true,\"zerolinewidth\":2},\"yaxis\":{\"gridcolor\":\"white\",\"linecolor\":\"white\",\"ticks\":\"\",\"title\":{\"standoff\":15},\"zerolinecolor\":\"white\",\"automargin\":true,\"zerolinewidth\":2},\"scene\":{\"xaxis\":{\"backgroundcolor\":\"#E5ECF6\",\"gridcolor\":\"white\",\"linecolor\":\"white\",\"showbackground\":true,\"ticks\":\"\",\"zerolinecolor\":\"white\",\"gridwidth\":2},\"yaxis\":{\"backgroundcolor\":\"#E5ECF6\",\"gridcolor\":\"white\",\"linecolor\":\"white\",\"showbackground\":true,\"ticks\":\"\",\"zerolinecolor\":\"white\",\"gridwidth\":2},\"zaxis\":{\"backgroundcolor\":\"#E5ECF6\",\"gridcolor\":\"white\",\"linecolor\":\"white\",\"showbackground\":true,\"ticks\":\"\",\"zerolinecolor\":\"white\",\"gridwidth\":2}},\"shapedefaults\":{\"line\":{\"color\":\"#2a3f5f\"}},\"annotationdefaults\":{\"arrowcolor\":\"#2a3f5f\",\"arrowhead\":0,\"arrowwidth\":1},\"geo\":{\"bgcolor\":\"white\",\"landcolor\":\"#E5ECF6\",\"subunitcolor\":\"white\",\"showland\":true,\"showlakes\":true,\"lakecolor\":\"white\"},\"title\":{\"x\":0.05},\"mapbox\":{\"style\":\"light\"}}},\"annotations\":[{\"arrowhead\":1,\"ax\":0,\"ay\":-50,\"showarrow\":true,\"text\":\"Total de Sess\\u00f5es: 2967194\",\"x\":0,\"y\":2967194}]},                        {\"responsive\": true}                    ).then(function(){\n",
              "                            \n",
              "var gd = document.getElementById('36173a4f-6d93-473f-8f05-68594a9e4a1f');\n",
              "var x = new MutationObserver(function (mutations, observer) {{\n",
              "        var display = window.getComputedStyle(gd).display;\n",
              "        if (!display || display === 'none') {{\n",
              "            console.log([gd, 'removed!']);\n",
              "            Plotly.purge(gd);\n",
              "            observer.disconnect();\n",
              "        }}\n",
              "}});\n",
              "\n",
              "// Listen for the removal of the full notebook cells\n",
              "var notebookContainer = gd.closest('#notebook-container');\n",
              "if (notebookContainer) {{\n",
              "    x.observe(notebookContainer, {childList: true});\n",
              "}}\n",
              "\n",
              "// Listen for the clearing of the current output cell\n",
              "var outputEl = gd.closest('.output');\n",
              "if (outputEl) {{\n",
              "    x.observe(outputEl, {childList: true});\n",
              "}}\n",
              "\n",
              "                        })                };                            </script>        </div>\n",
              "</body>\n",
              "</html>"
            ]
          },
          "metadata": {}
        }
      ]
    },
    {
      "cell_type": "markdown",
      "source": [
        "- Analisando somente a wizard-on"
      ],
      "metadata": {
        "id": "AhG2UhhRi_eX"
      }
    },
    {
      "cell_type": "code",
      "source": [
        "# Filtra o dataframe para incluir apenas as linhas que têm caminhos da página correspondentes\n",
        "df_filtered = df_grouped[df_grouped['Page path and screen class'].str.lower().isin([path.lower().rstrip('/') for path in wizard_on_paths])]\n",
        "\n",
        "# Normaliza a coluna 'Page path and screen class'\n",
        "df_filtered['Page path and screen class'] = df_filtered['Page path and screen class'].str.lower().str.rstrip('/')\n",
        "\n",
        "# Agrupa o dataframe filtrado e normalizado\n",
        "df_grouped = df_filtered.groupby('Page path and screen class', as_index=False).sum()\n",
        "\n",
        "# Soma das colunas 'Active users', 'Sessions' e 'Conversions'\n",
        "total_usuarios_ativos = df_grouped['Active users'].sum()\n",
        "total_sessoes = df_grouped['Sessions'].sum()\n",
        "total_conversoes = df_grouped['Conversions'].sum()\n",
        "\n",
        "# Dados para o gráfico de barras\n",
        "data = [go.Bar(x=['Usuários Ativos', 'Conversões'], y=[total_usuarios_ativos, total_conversoes])]\n",
        "\n",
        "# Layout do gráfico\n",
        "layout = go.Layout(\n",
        "    title='Total de Usuários Ativos e Conversões',\n",
        "    xaxis=dict(title=''),\n",
        "    yaxis=dict(title='Total'),\n",
        "    barmode='group'\n",
        ")\n",
        "\n",
        "# Criação do gráfico\n",
        "fig = go.Figure(data=data, layout=layout)\n",
        "\n",
        "# Anotação com o total de sessões\n",
        "fig.add_annotation(\n",
        "    x=0, y=total_sessoes,\n",
        "    text=f\"Total de Sessões: {total_sessoes}\",\n",
        "    showarrow=True,\n",
        "    arrowhead=1,\n",
        "    ax=0, ay=-50\n",
        ")"
      ],
      "metadata": {
        "colab": {
          "base_uri": "https://localhost:8080/",
          "height": 681
        },
        "id": "EWl4h49wiZOx",
        "outputId": "615cf175-9c6f-4445-c664-1064d84bdadf"
      },
      "execution_count": 201,
      "outputs": [
        {
          "output_type": "stream",
          "name": "stderr",
          "text": [
            "<ipython-input-201-6b184fc7fc98>:5: SettingWithCopyWarning:\n",
            "\n",
            "\n",
            "A value is trying to be set on a copy of a slice from a DataFrame.\n",
            "Try using .loc[row_indexer,col_indexer] = value instead\n",
            "\n",
            "See the caveats in the documentation: https://pandas.pydata.org/pandas-docs/stable/user_guide/indexing.html#returning-a-view-versus-a-copy\n",
            "\n"
          ]
        },
        {
          "output_type": "display_data",
          "data": {
            "text/html": [
              "<html>\n",
              "<head><meta charset=\"utf-8\" /></head>\n",
              "<body>\n",
              "    <div>            <script src=\"https://cdnjs.cloudflare.com/ajax/libs/mathjax/2.7.5/MathJax.js?config=TeX-AMS-MML_SVG\"></script><script type=\"text/javascript\">if (window.MathJax && window.MathJax.Hub && window.MathJax.Hub.Config) {window.MathJax.Hub.Config({SVG: {font: \"STIX-Web\"}});}</script>                <script type=\"text/javascript\">window.PlotlyConfig = {MathJaxConfig: 'local'};</script>\n",
              "        <script charset=\"utf-8\" src=\"https://cdn.plot.ly/plotly-2.24.1.min.js\"></script>                <div id=\"480408cd-cef6-42e6-98b7-9f77279a2f4d\" class=\"plotly-graph-div\" style=\"height:525px; width:100%;\"></div>            <script type=\"text/javascript\">                                    window.PLOTLYENV=window.PLOTLYENV || {};                                    if (document.getElementById(\"480408cd-cef6-42e6-98b7-9f77279a2f4d\")) {                    Plotly.newPlot(                        \"480408cd-cef6-42e6-98b7-9f77279a2f4d\",                        [{\"x\":[\"Usu\\u00e1rios Ativos\",\"Convers\\u00f5es\"],\"y\":[1012493,72957],\"type\":\"bar\"}],                        {\"barmode\":\"group\",\"title\":{\"text\":\"Total de Usu\\u00e1rios Ativos e Convers\\u00f5es\"},\"xaxis\":{\"title\":{\"text\":\"\"}},\"yaxis\":{\"title\":{\"text\":\"Total\"}},\"template\":{\"data\":{\"histogram2dcontour\":[{\"type\":\"histogram2dcontour\",\"colorbar\":{\"outlinewidth\":0,\"ticks\":\"\"},\"colorscale\":[[0.0,\"#0d0887\"],[0.1111111111111111,\"#46039f\"],[0.2222222222222222,\"#7201a8\"],[0.3333333333333333,\"#9c179e\"],[0.4444444444444444,\"#bd3786\"],[0.5555555555555556,\"#d8576b\"],[0.6666666666666666,\"#ed7953\"],[0.7777777777777778,\"#fb9f3a\"],[0.8888888888888888,\"#fdca26\"],[1.0,\"#f0f921\"]]}],\"choropleth\":[{\"type\":\"choropleth\",\"colorbar\":{\"outlinewidth\":0,\"ticks\":\"\"}}],\"histogram2d\":[{\"type\":\"histogram2d\",\"colorbar\":{\"outlinewidth\":0,\"ticks\":\"\"},\"colorscale\":[[0.0,\"#0d0887\"],[0.1111111111111111,\"#46039f\"],[0.2222222222222222,\"#7201a8\"],[0.3333333333333333,\"#9c179e\"],[0.4444444444444444,\"#bd3786\"],[0.5555555555555556,\"#d8576b\"],[0.6666666666666666,\"#ed7953\"],[0.7777777777777778,\"#fb9f3a\"],[0.8888888888888888,\"#fdca26\"],[1.0,\"#f0f921\"]]}],\"heatmap\":[{\"type\":\"heatmap\",\"colorbar\":{\"outlinewidth\":0,\"ticks\":\"\"},\"colorscale\":[[0.0,\"#0d0887\"],[0.1111111111111111,\"#46039f\"],[0.2222222222222222,\"#7201a8\"],[0.3333333333333333,\"#9c179e\"],[0.4444444444444444,\"#bd3786\"],[0.5555555555555556,\"#d8576b\"],[0.6666666666666666,\"#ed7953\"],[0.7777777777777778,\"#fb9f3a\"],[0.8888888888888888,\"#fdca26\"],[1.0,\"#f0f921\"]]}],\"heatmapgl\":[{\"type\":\"heatmapgl\",\"colorbar\":{\"outlinewidth\":0,\"ticks\":\"\"},\"colorscale\":[[0.0,\"#0d0887\"],[0.1111111111111111,\"#46039f\"],[0.2222222222222222,\"#7201a8\"],[0.3333333333333333,\"#9c179e\"],[0.4444444444444444,\"#bd3786\"],[0.5555555555555556,\"#d8576b\"],[0.6666666666666666,\"#ed7953\"],[0.7777777777777778,\"#fb9f3a\"],[0.8888888888888888,\"#fdca26\"],[1.0,\"#f0f921\"]]}],\"contourcarpet\":[{\"type\":\"contourcarpet\",\"colorbar\":{\"outlinewidth\":0,\"ticks\":\"\"}}],\"contour\":[{\"type\":\"contour\",\"colorbar\":{\"outlinewidth\":0,\"ticks\":\"\"},\"colorscale\":[[0.0,\"#0d0887\"],[0.1111111111111111,\"#46039f\"],[0.2222222222222222,\"#7201a8\"],[0.3333333333333333,\"#9c179e\"],[0.4444444444444444,\"#bd3786\"],[0.5555555555555556,\"#d8576b\"],[0.6666666666666666,\"#ed7953\"],[0.7777777777777778,\"#fb9f3a\"],[0.8888888888888888,\"#fdca26\"],[1.0,\"#f0f921\"]]}],\"surface\":[{\"type\":\"surface\",\"colorbar\":{\"outlinewidth\":0,\"ticks\":\"\"},\"colorscale\":[[0.0,\"#0d0887\"],[0.1111111111111111,\"#46039f\"],[0.2222222222222222,\"#7201a8\"],[0.3333333333333333,\"#9c179e\"],[0.4444444444444444,\"#bd3786\"],[0.5555555555555556,\"#d8576b\"],[0.6666666666666666,\"#ed7953\"],[0.7777777777777778,\"#fb9f3a\"],[0.8888888888888888,\"#fdca26\"],[1.0,\"#f0f921\"]]}],\"mesh3d\":[{\"type\":\"mesh3d\",\"colorbar\":{\"outlinewidth\":0,\"ticks\":\"\"}}],\"scatter\":[{\"fillpattern\":{\"fillmode\":\"overlay\",\"size\":10,\"solidity\":0.2},\"type\":\"scatter\"}],\"parcoords\":[{\"type\":\"parcoords\",\"line\":{\"colorbar\":{\"outlinewidth\":0,\"ticks\":\"\"}}}],\"scatterpolargl\":[{\"type\":\"scatterpolargl\",\"marker\":{\"colorbar\":{\"outlinewidth\":0,\"ticks\":\"\"}}}],\"bar\":[{\"error_x\":{\"color\":\"#2a3f5f\"},\"error_y\":{\"color\":\"#2a3f5f\"},\"marker\":{\"line\":{\"color\":\"#E5ECF6\",\"width\":0.5},\"pattern\":{\"fillmode\":\"overlay\",\"size\":10,\"solidity\":0.2}},\"type\":\"bar\"}],\"scattergeo\":[{\"type\":\"scattergeo\",\"marker\":{\"colorbar\":{\"outlinewidth\":0,\"ticks\":\"\"}}}],\"scatterpolar\":[{\"type\":\"scatterpolar\",\"marker\":{\"colorbar\":{\"outlinewidth\":0,\"ticks\":\"\"}}}],\"histogram\":[{\"marker\":{\"pattern\":{\"fillmode\":\"overlay\",\"size\":10,\"solidity\":0.2}},\"type\":\"histogram\"}],\"scattergl\":[{\"type\":\"scattergl\",\"marker\":{\"colorbar\":{\"outlinewidth\":0,\"ticks\":\"\"}}}],\"scatter3d\":[{\"type\":\"scatter3d\",\"line\":{\"colorbar\":{\"outlinewidth\":0,\"ticks\":\"\"}},\"marker\":{\"colorbar\":{\"outlinewidth\":0,\"ticks\":\"\"}}}],\"scattermapbox\":[{\"type\":\"scattermapbox\",\"marker\":{\"colorbar\":{\"outlinewidth\":0,\"ticks\":\"\"}}}],\"scatterternary\":[{\"type\":\"scatterternary\",\"marker\":{\"colorbar\":{\"outlinewidth\":0,\"ticks\":\"\"}}}],\"scattercarpet\":[{\"type\":\"scattercarpet\",\"marker\":{\"colorbar\":{\"outlinewidth\":0,\"ticks\":\"\"}}}],\"carpet\":[{\"aaxis\":{\"endlinecolor\":\"#2a3f5f\",\"gridcolor\":\"white\",\"linecolor\":\"white\",\"minorgridcolor\":\"white\",\"startlinecolor\":\"#2a3f5f\"},\"baxis\":{\"endlinecolor\":\"#2a3f5f\",\"gridcolor\":\"white\",\"linecolor\":\"white\",\"minorgridcolor\":\"white\",\"startlinecolor\":\"#2a3f5f\"},\"type\":\"carpet\"}],\"table\":[{\"cells\":{\"fill\":{\"color\":\"#EBF0F8\"},\"line\":{\"color\":\"white\"}},\"header\":{\"fill\":{\"color\":\"#C8D4E3\"},\"line\":{\"color\":\"white\"}},\"type\":\"table\"}],\"barpolar\":[{\"marker\":{\"line\":{\"color\":\"#E5ECF6\",\"width\":0.5},\"pattern\":{\"fillmode\":\"overlay\",\"size\":10,\"solidity\":0.2}},\"type\":\"barpolar\"}],\"pie\":[{\"automargin\":true,\"type\":\"pie\"}]},\"layout\":{\"autotypenumbers\":\"strict\",\"colorway\":[\"#636efa\",\"#EF553B\",\"#00cc96\",\"#ab63fa\",\"#FFA15A\",\"#19d3f3\",\"#FF6692\",\"#B6E880\",\"#FF97FF\",\"#FECB52\"],\"font\":{\"color\":\"#2a3f5f\"},\"hovermode\":\"closest\",\"hoverlabel\":{\"align\":\"left\"},\"paper_bgcolor\":\"white\",\"plot_bgcolor\":\"#E5ECF6\",\"polar\":{\"bgcolor\":\"#E5ECF6\",\"angularaxis\":{\"gridcolor\":\"white\",\"linecolor\":\"white\",\"ticks\":\"\"},\"radialaxis\":{\"gridcolor\":\"white\",\"linecolor\":\"white\",\"ticks\":\"\"}},\"ternary\":{\"bgcolor\":\"#E5ECF6\",\"aaxis\":{\"gridcolor\":\"white\",\"linecolor\":\"white\",\"ticks\":\"\"},\"baxis\":{\"gridcolor\":\"white\",\"linecolor\":\"white\",\"ticks\":\"\"},\"caxis\":{\"gridcolor\":\"white\",\"linecolor\":\"white\",\"ticks\":\"\"}},\"coloraxis\":{\"colorbar\":{\"outlinewidth\":0,\"ticks\":\"\"}},\"colorscale\":{\"sequential\":[[0.0,\"#0d0887\"],[0.1111111111111111,\"#46039f\"],[0.2222222222222222,\"#7201a8\"],[0.3333333333333333,\"#9c179e\"],[0.4444444444444444,\"#bd3786\"],[0.5555555555555556,\"#d8576b\"],[0.6666666666666666,\"#ed7953\"],[0.7777777777777778,\"#fb9f3a\"],[0.8888888888888888,\"#fdca26\"],[1.0,\"#f0f921\"]],\"sequentialminus\":[[0.0,\"#0d0887\"],[0.1111111111111111,\"#46039f\"],[0.2222222222222222,\"#7201a8\"],[0.3333333333333333,\"#9c179e\"],[0.4444444444444444,\"#bd3786\"],[0.5555555555555556,\"#d8576b\"],[0.6666666666666666,\"#ed7953\"],[0.7777777777777778,\"#fb9f3a\"],[0.8888888888888888,\"#fdca26\"],[1.0,\"#f0f921\"]],\"diverging\":[[0,\"#8e0152\"],[0.1,\"#c51b7d\"],[0.2,\"#de77ae\"],[0.3,\"#f1b6da\"],[0.4,\"#fde0ef\"],[0.5,\"#f7f7f7\"],[0.6,\"#e6f5d0\"],[0.7,\"#b8e186\"],[0.8,\"#7fbc41\"],[0.9,\"#4d9221\"],[1,\"#276419\"]]},\"xaxis\":{\"gridcolor\":\"white\",\"linecolor\":\"white\",\"ticks\":\"\",\"title\":{\"standoff\":15},\"zerolinecolor\":\"white\",\"automargin\":true,\"zerolinewidth\":2},\"yaxis\":{\"gridcolor\":\"white\",\"linecolor\":\"white\",\"ticks\":\"\",\"title\":{\"standoff\":15},\"zerolinecolor\":\"white\",\"automargin\":true,\"zerolinewidth\":2},\"scene\":{\"xaxis\":{\"backgroundcolor\":\"#E5ECF6\",\"gridcolor\":\"white\",\"linecolor\":\"white\",\"showbackground\":true,\"ticks\":\"\",\"zerolinecolor\":\"white\",\"gridwidth\":2},\"yaxis\":{\"backgroundcolor\":\"#E5ECF6\",\"gridcolor\":\"white\",\"linecolor\":\"white\",\"showbackground\":true,\"ticks\":\"\",\"zerolinecolor\":\"white\",\"gridwidth\":2},\"zaxis\":{\"backgroundcolor\":\"#E5ECF6\",\"gridcolor\":\"white\",\"linecolor\":\"white\",\"showbackground\":true,\"ticks\":\"\",\"zerolinecolor\":\"white\",\"gridwidth\":2}},\"shapedefaults\":{\"line\":{\"color\":\"#2a3f5f\"}},\"annotationdefaults\":{\"arrowcolor\":\"#2a3f5f\",\"arrowhead\":0,\"arrowwidth\":1},\"geo\":{\"bgcolor\":\"white\",\"landcolor\":\"#E5ECF6\",\"subunitcolor\":\"white\",\"showland\":true,\"showlakes\":true,\"lakecolor\":\"white\"},\"title\":{\"x\":0.05},\"mapbox\":{\"style\":\"light\"}}},\"annotations\":[{\"arrowhead\":1,\"ax\":0,\"ay\":-50,\"showarrow\":true,\"text\":\"Total de Sess\\u00f5es: 1511744\",\"x\":0,\"y\":1511744}]},                        {\"responsive\": true}                    ).then(function(){\n",
              "                            \n",
              "var gd = document.getElementById('480408cd-cef6-42e6-98b7-9f77279a2f4d');\n",
              "var x = new MutationObserver(function (mutations, observer) {{\n",
              "        var display = window.getComputedStyle(gd).display;\n",
              "        if (!display || display === 'none') {{\n",
              "            console.log([gd, 'removed!']);\n",
              "            Plotly.purge(gd);\n",
              "            observer.disconnect();\n",
              "        }}\n",
              "}});\n",
              "\n",
              "// Listen for the removal of the full notebook cells\n",
              "var notebookContainer = gd.closest('#notebook-container');\n",
              "if (notebookContainer) {{\n",
              "    x.observe(notebookContainer, {childList: true});\n",
              "}}\n",
              "\n",
              "// Listen for the clearing of the current output cell\n",
              "var outputEl = gd.closest('.output');\n",
              "if (outputEl) {{\n",
              "    x.observe(outputEl, {childList: true});\n",
              "}}\n",
              "\n",
              "                        })                };                            </script>        </div>\n",
              "</body>\n",
              "</html>"
            ]
          },
          "metadata": {}
        }
      ]
    },
    {
      "cell_type": "markdown",
      "source": [
        "## Identificação de Outliers"
      ],
      "metadata": {
        "id": "Yi7vfK78_WCw"
      }
    },
    {
      "cell_type": "code",
      "source": [],
      "metadata": {
        "id": "B2RZoED4_aiA"
      },
      "execution_count": 142,
      "outputs": []
    },
    {
      "cell_type": "markdown",
      "source": [
        "# Eventos"
      ],
      "metadata": {
        "id": "lHM_n2fMpvGk"
      }
    },
    {
      "cell_type": "markdown",
      "source": [
        "## Leitura dos dados - Eventos"
      ],
      "metadata": {
        "id": "JQE4LOnJ3pnc"
      }
    },
    {
      "cell_type": "code",
      "source": [
        "acesso_eventos_combined = pd.concat([acesso_eventos_2023, acesso_eventos_2024])\n",
        "acesso_eventos_summed = acesso_eventos_combined.groupby('Event name', as_index=False).sum()\n",
        "acesso_eventos_summed"
      ],
      "metadata": {
        "colab": {
          "base_uri": "https://localhost:8080/",
          "height": 802
        },
        "id": "o19thXkN3nYi",
        "outputId": "d56b9074-b846-4bda-b1d8-7a27ea52f89a"
      },
      "execution_count": 143,
      "outputs": [
        {
          "output_type": "execute_result",
          "data": {
            "text/plain": [
              "                    Event name  Event count\n",
              "0               Click-WhatsApp         1787\n",
              "1          carregamento_pagina     26677553\n",
              "2                        click        63860\n",
              "3              erro_formulario           11\n",
              "4                file_download        13846\n",
              "5                  first_visit      2010778\n",
              "6                 form_contato         9227\n",
              "7                   form_start        70077\n",
              "8                  form_submit           43\n",
              "9                  interaction       320333\n",
              "10                lead_enviado        74449\n",
              "11   lead_enviado_bolsa_estudo          187\n",
              "12          lead_landing_pages        60696\n",
              "13            lead_todos_forms        55143\n",
              "14  lead_todos_forms_promocoes         1060\n",
              "15                   page_view      3188114\n",
              "16                  play_video       121375\n",
              "17                      scroll       344544\n",
              "18               session_start      2822129\n",
              "19             user_engagement       558788\n",
              "20              video_complete        15508\n",
              "21              video_progress        80137\n",
              "22                 video_start        25611\n",
              "23         view_search_results            3"
            ],
            "text/html": [
              "\n",
              "  <div id=\"df-8c9e217c-86c1-4e03-958f-2aa4f5b0631b\" class=\"colab-df-container\">\n",
              "    <div>\n",
              "<style scoped>\n",
              "    .dataframe tbody tr th:only-of-type {\n",
              "        vertical-align: middle;\n",
              "    }\n",
              "\n",
              "    .dataframe tbody tr th {\n",
              "        vertical-align: top;\n",
              "    }\n",
              "\n",
              "    .dataframe thead th {\n",
              "        text-align: right;\n",
              "    }\n",
              "</style>\n",
              "<table border=\"1\" class=\"dataframe\">\n",
              "  <thead>\n",
              "    <tr style=\"text-align: right;\">\n",
              "      <th></th>\n",
              "      <th>Event name</th>\n",
              "      <th>Event count</th>\n",
              "    </tr>\n",
              "  </thead>\n",
              "  <tbody>\n",
              "    <tr>\n",
              "      <th>0</th>\n",
              "      <td>Click-WhatsApp</td>\n",
              "      <td>1787</td>\n",
              "    </tr>\n",
              "    <tr>\n",
              "      <th>1</th>\n",
              "      <td>carregamento_pagina</td>\n",
              "      <td>26677553</td>\n",
              "    </tr>\n",
              "    <tr>\n",
              "      <th>2</th>\n",
              "      <td>click</td>\n",
              "      <td>63860</td>\n",
              "    </tr>\n",
              "    <tr>\n",
              "      <th>3</th>\n",
              "      <td>erro_formulario</td>\n",
              "      <td>11</td>\n",
              "    </tr>\n",
              "    <tr>\n",
              "      <th>4</th>\n",
              "      <td>file_download</td>\n",
              "      <td>13846</td>\n",
              "    </tr>\n",
              "    <tr>\n",
              "      <th>5</th>\n",
              "      <td>first_visit</td>\n",
              "      <td>2010778</td>\n",
              "    </tr>\n",
              "    <tr>\n",
              "      <th>6</th>\n",
              "      <td>form_contato</td>\n",
              "      <td>9227</td>\n",
              "    </tr>\n",
              "    <tr>\n",
              "      <th>7</th>\n",
              "      <td>form_start</td>\n",
              "      <td>70077</td>\n",
              "    </tr>\n",
              "    <tr>\n",
              "      <th>8</th>\n",
              "      <td>form_submit</td>\n",
              "      <td>43</td>\n",
              "    </tr>\n",
              "    <tr>\n",
              "      <th>9</th>\n",
              "      <td>interaction</td>\n",
              "      <td>320333</td>\n",
              "    </tr>\n",
              "    <tr>\n",
              "      <th>10</th>\n",
              "      <td>lead_enviado</td>\n",
              "      <td>74449</td>\n",
              "    </tr>\n",
              "    <tr>\n",
              "      <th>11</th>\n",
              "      <td>lead_enviado_bolsa_estudo</td>\n",
              "      <td>187</td>\n",
              "    </tr>\n",
              "    <tr>\n",
              "      <th>12</th>\n",
              "      <td>lead_landing_pages</td>\n",
              "      <td>60696</td>\n",
              "    </tr>\n",
              "    <tr>\n",
              "      <th>13</th>\n",
              "      <td>lead_todos_forms</td>\n",
              "      <td>55143</td>\n",
              "    </tr>\n",
              "    <tr>\n",
              "      <th>14</th>\n",
              "      <td>lead_todos_forms_promocoes</td>\n",
              "      <td>1060</td>\n",
              "    </tr>\n",
              "    <tr>\n",
              "      <th>15</th>\n",
              "      <td>page_view</td>\n",
              "      <td>3188114</td>\n",
              "    </tr>\n",
              "    <tr>\n",
              "      <th>16</th>\n",
              "      <td>play_video</td>\n",
              "      <td>121375</td>\n",
              "    </tr>\n",
              "    <tr>\n",
              "      <th>17</th>\n",
              "      <td>scroll</td>\n",
              "      <td>344544</td>\n",
              "    </tr>\n",
              "    <tr>\n",
              "      <th>18</th>\n",
              "      <td>session_start</td>\n",
              "      <td>2822129</td>\n",
              "    </tr>\n",
              "    <tr>\n",
              "      <th>19</th>\n",
              "      <td>user_engagement</td>\n",
              "      <td>558788</td>\n",
              "    </tr>\n",
              "    <tr>\n",
              "      <th>20</th>\n",
              "      <td>video_complete</td>\n",
              "      <td>15508</td>\n",
              "    </tr>\n",
              "    <tr>\n",
              "      <th>21</th>\n",
              "      <td>video_progress</td>\n",
              "      <td>80137</td>\n",
              "    </tr>\n",
              "    <tr>\n",
              "      <th>22</th>\n",
              "      <td>video_start</td>\n",
              "      <td>25611</td>\n",
              "    </tr>\n",
              "    <tr>\n",
              "      <th>23</th>\n",
              "      <td>view_search_results</td>\n",
              "      <td>3</td>\n",
              "    </tr>\n",
              "  </tbody>\n",
              "</table>\n",
              "</div>\n",
              "    <div class=\"colab-df-buttons\">\n",
              "\n",
              "  <div class=\"colab-df-container\">\n",
              "    <button class=\"colab-df-convert\" onclick=\"convertToInteractive('df-8c9e217c-86c1-4e03-958f-2aa4f5b0631b')\"\n",
              "            title=\"Convert this dataframe to an interactive table.\"\n",
              "            style=\"display:none;\">\n",
              "\n",
              "  <svg xmlns=\"http://www.w3.org/2000/svg\" height=\"24px\" viewBox=\"0 -960 960 960\">\n",
              "    <path d=\"M120-120v-720h720v720H120Zm60-500h600v-160H180v160Zm220 220h160v-160H400v160Zm0 220h160v-160H400v160ZM180-400h160v-160H180v160Zm440 0h160v-160H620v160ZM180-180h160v-160H180v160Zm440 0h160v-160H620v160Z\"/>\n",
              "  </svg>\n",
              "    </button>\n",
              "\n",
              "  <style>\n",
              "    .colab-df-container {\n",
              "      display:flex;\n",
              "      gap: 12px;\n",
              "    }\n",
              "\n",
              "    .colab-df-convert {\n",
              "      background-color: #E8F0FE;\n",
              "      border: none;\n",
              "      border-radius: 50%;\n",
              "      cursor: pointer;\n",
              "      display: none;\n",
              "      fill: #1967D2;\n",
              "      height: 32px;\n",
              "      padding: 0 0 0 0;\n",
              "      width: 32px;\n",
              "    }\n",
              "\n",
              "    .colab-df-convert:hover {\n",
              "      background-color: #E2EBFA;\n",
              "      box-shadow: 0px 1px 2px rgba(60, 64, 67, 0.3), 0px 1px 3px 1px rgba(60, 64, 67, 0.15);\n",
              "      fill: #174EA6;\n",
              "    }\n",
              "\n",
              "    .colab-df-buttons div {\n",
              "      margin-bottom: 4px;\n",
              "    }\n",
              "\n",
              "    [theme=dark] .colab-df-convert {\n",
              "      background-color: #3B4455;\n",
              "      fill: #D2E3FC;\n",
              "    }\n",
              "\n",
              "    [theme=dark] .colab-df-convert:hover {\n",
              "      background-color: #434B5C;\n",
              "      box-shadow: 0px 1px 3px 1px rgba(0, 0, 0, 0.15);\n",
              "      filter: drop-shadow(0px 1px 2px rgba(0, 0, 0, 0.3));\n",
              "      fill: #FFFFFF;\n",
              "    }\n",
              "  </style>\n",
              "\n",
              "    <script>\n",
              "      const buttonEl =\n",
              "        document.querySelector('#df-8c9e217c-86c1-4e03-958f-2aa4f5b0631b button.colab-df-convert');\n",
              "      buttonEl.style.display =\n",
              "        google.colab.kernel.accessAllowed ? 'block' : 'none';\n",
              "\n",
              "      async function convertToInteractive(key) {\n",
              "        const element = document.querySelector('#df-8c9e217c-86c1-4e03-958f-2aa4f5b0631b');\n",
              "        const dataTable =\n",
              "          await google.colab.kernel.invokeFunction('convertToInteractive',\n",
              "                                                    [key], {});\n",
              "        if (!dataTable) return;\n",
              "\n",
              "        const docLinkHtml = 'Like what you see? Visit the ' +\n",
              "          '<a target=\"_blank\" href=https://colab.research.google.com/notebooks/data_table.ipynb>data table notebook</a>'\n",
              "          + ' to learn more about interactive tables.';\n",
              "        element.innerHTML = '';\n",
              "        dataTable['output_type'] = 'display_data';\n",
              "        await google.colab.output.renderOutput(dataTable, element);\n",
              "        const docLink = document.createElement('div');\n",
              "        docLink.innerHTML = docLinkHtml;\n",
              "        element.appendChild(docLink);\n",
              "      }\n",
              "    </script>\n",
              "  </div>\n",
              "\n",
              "\n",
              "<div id=\"df-6007a11e-8585-4fc5-b97f-87b4fa95c2d2\">\n",
              "  <button class=\"colab-df-quickchart\" onclick=\"quickchart('df-6007a11e-8585-4fc5-b97f-87b4fa95c2d2')\"\n",
              "            title=\"Suggest charts\"\n",
              "            style=\"display:none;\">\n",
              "\n",
              "<svg xmlns=\"http://www.w3.org/2000/svg\" height=\"24px\"viewBox=\"0 0 24 24\"\n",
              "     width=\"24px\">\n",
              "    <g>\n",
              "        <path d=\"M19 3H5c-1.1 0-2 .9-2 2v14c0 1.1.9 2 2 2h14c1.1 0 2-.9 2-2V5c0-1.1-.9-2-2-2zM9 17H7v-7h2v7zm4 0h-2V7h2v10zm4 0h-2v-4h2v4z\"/>\n",
              "    </g>\n",
              "</svg>\n",
              "  </button>\n",
              "\n",
              "<style>\n",
              "  .colab-df-quickchart {\n",
              "      --bg-color: #E8F0FE;\n",
              "      --fill-color: #1967D2;\n",
              "      --hover-bg-color: #E2EBFA;\n",
              "      --hover-fill-color: #174EA6;\n",
              "      --disabled-fill-color: #AAA;\n",
              "      --disabled-bg-color: #DDD;\n",
              "  }\n",
              "\n",
              "  [theme=dark] .colab-df-quickchart {\n",
              "      --bg-color: #3B4455;\n",
              "      --fill-color: #D2E3FC;\n",
              "      --hover-bg-color: #434B5C;\n",
              "      --hover-fill-color: #FFFFFF;\n",
              "      --disabled-bg-color: #3B4455;\n",
              "      --disabled-fill-color: #666;\n",
              "  }\n",
              "\n",
              "  .colab-df-quickchart {\n",
              "    background-color: var(--bg-color);\n",
              "    border: none;\n",
              "    border-radius: 50%;\n",
              "    cursor: pointer;\n",
              "    display: none;\n",
              "    fill: var(--fill-color);\n",
              "    height: 32px;\n",
              "    padding: 0;\n",
              "    width: 32px;\n",
              "  }\n",
              "\n",
              "  .colab-df-quickchart:hover {\n",
              "    background-color: var(--hover-bg-color);\n",
              "    box-shadow: 0 1px 2px rgba(60, 64, 67, 0.3), 0 1px 3px 1px rgba(60, 64, 67, 0.15);\n",
              "    fill: var(--button-hover-fill-color);\n",
              "  }\n",
              "\n",
              "  .colab-df-quickchart-complete:disabled,\n",
              "  .colab-df-quickchart-complete:disabled:hover {\n",
              "    background-color: var(--disabled-bg-color);\n",
              "    fill: var(--disabled-fill-color);\n",
              "    box-shadow: none;\n",
              "  }\n",
              "\n",
              "  .colab-df-spinner {\n",
              "    border: 2px solid var(--fill-color);\n",
              "    border-color: transparent;\n",
              "    border-bottom-color: var(--fill-color);\n",
              "    animation:\n",
              "      spin 1s steps(1) infinite;\n",
              "  }\n",
              "\n",
              "  @keyframes spin {\n",
              "    0% {\n",
              "      border-color: transparent;\n",
              "      border-bottom-color: var(--fill-color);\n",
              "      border-left-color: var(--fill-color);\n",
              "    }\n",
              "    20% {\n",
              "      border-color: transparent;\n",
              "      border-left-color: var(--fill-color);\n",
              "      border-top-color: var(--fill-color);\n",
              "    }\n",
              "    30% {\n",
              "      border-color: transparent;\n",
              "      border-left-color: var(--fill-color);\n",
              "      border-top-color: var(--fill-color);\n",
              "      border-right-color: var(--fill-color);\n",
              "    }\n",
              "    40% {\n",
              "      border-color: transparent;\n",
              "      border-right-color: var(--fill-color);\n",
              "      border-top-color: var(--fill-color);\n",
              "    }\n",
              "    60% {\n",
              "      border-color: transparent;\n",
              "      border-right-color: var(--fill-color);\n",
              "    }\n",
              "    80% {\n",
              "      border-color: transparent;\n",
              "      border-right-color: var(--fill-color);\n",
              "      border-bottom-color: var(--fill-color);\n",
              "    }\n",
              "    90% {\n",
              "      border-color: transparent;\n",
              "      border-bottom-color: var(--fill-color);\n",
              "    }\n",
              "  }\n",
              "</style>\n",
              "\n",
              "  <script>\n",
              "    async function quickchart(key) {\n",
              "      const quickchartButtonEl =\n",
              "        document.querySelector('#' + key + ' button');\n",
              "      quickchartButtonEl.disabled = true;  // To prevent multiple clicks.\n",
              "      quickchartButtonEl.classList.add('colab-df-spinner');\n",
              "      try {\n",
              "        const charts = await google.colab.kernel.invokeFunction(\n",
              "            'suggestCharts', [key], {});\n",
              "      } catch (error) {\n",
              "        console.error('Error during call to suggestCharts:', error);\n",
              "      }\n",
              "      quickchartButtonEl.classList.remove('colab-df-spinner');\n",
              "      quickchartButtonEl.classList.add('colab-df-quickchart-complete');\n",
              "    }\n",
              "    (() => {\n",
              "      let quickchartButtonEl =\n",
              "        document.querySelector('#df-6007a11e-8585-4fc5-b97f-87b4fa95c2d2 button');\n",
              "      quickchartButtonEl.style.display =\n",
              "        google.colab.kernel.accessAllowed ? 'block' : 'none';\n",
              "    })();\n",
              "  </script>\n",
              "</div>\n",
              "    </div>\n",
              "  </div>\n"
            ],
            "application/vnd.google.colaboratory.intrinsic+json": {
              "type": "dataframe",
              "variable_name": "acesso_eventos_summed",
              "summary": "{\n  \"name\": \"acesso_eventos_summed\",\n  \"rows\": 24,\n  \"fields\": [\n    {\n      \"column\": \"Event name\",\n      \"properties\": {\n        \"dtype\": \"string\",\n        \"num_unique_values\": 24,\n        \"samples\": [\n          \"form_submit\",\n          \"play_video\",\n          \"Click-WhatsApp\"\n        ],\n        \"semantic_type\": \"\",\n        \"description\": \"\"\n      }\n    },\n    {\n      \"column\": \"Event count\",\n      \"properties\": {\n        \"dtype\": \"number\",\n        \"std\": 5432926,\n        \"min\": 3,\n        \"max\": 26677553,\n        \"num_unique_values\": 24,\n        \"samples\": [\n          43,\n          121375,\n          1787\n        ],\n        \"semantic_type\": \"\",\n        \"description\": \"\"\n      }\n    }\n  ]\n}"
            }
          },
          "metadata": {},
          "execution_count": 143
        }
      ]
    },
    {
      "cell_type": "code",
      "source": [
        "acesso_eventos_summed.info()"
      ],
      "metadata": {
        "colab": {
          "base_uri": "https://localhost:8080/"
        },
        "id": "6Aui1UE08CTn",
        "outputId": "51feaa16-0013-4e71-b5c4-4d06d3c1fd6a"
      },
      "execution_count": 144,
      "outputs": [
        {
          "output_type": "stream",
          "name": "stdout",
          "text": [
            "<class 'pandas.core.frame.DataFrame'>\n",
            "RangeIndex: 24 entries, 0 to 23\n",
            "Data columns (total 2 columns):\n",
            " #   Column       Non-Null Count  Dtype \n",
            "---  ------       --------------  ----- \n",
            " 0   Event name   24 non-null     object\n",
            " 1   Event count  24 non-null     int64 \n",
            "dtypes: int64(1), object(1)\n",
            "memory usage: 512.0+ bytes\n"
          ]
        }
      ]
    },
    {
      "cell_type": "markdown",
      "source": [
        "### Análise Estatística Descritiva"
      ],
      "metadata": {
        "id": "iq3LYVKkAr7S"
      }
    },
    {
      "cell_type": "code",
      "source": [
        "acesso_eventos_summed['Event count'].describe()"
      ],
      "metadata": {
        "colab": {
          "base_uri": "https://localhost:8080/"
        },
        "id": "CgxeLDpbj7Bd",
        "outputId": "a60b0e6b-2f56-43ab-b9b2-3ac26377c2ef"
      },
      "execution_count": 202,
      "outputs": [
        {
          "output_type": "execute_result",
          "data": {
            "text/plain": [
              "count    2.400000e+01\n",
              "mean     1.521469e+06\n",
              "std      5.432926e+06\n",
              "min      3.000000e+00\n",
              "25%      7.367000e+03\n",
              "50%      6.227800e+04\n",
              "75%      3.263858e+05\n",
              "max      2.667755e+07\n",
              "Name: Event count, dtype: float64"
            ]
          },
          "metadata": {},
          "execution_count": 202
        }
      ]
    },
    {
      "cell_type": "code",
      "source": [
        "print(f\"Mediana = {acesso_eventos_summed['Event count'].median()}\")\n",
        "print(f\"Moda = {acesso_eventos_summed['Event count'].mode()[0]}\")\n",
        "print(f\"Variância = {acesso_eventos_summed['Event count'].var()}\")\n",
        "\n",
        "q1 = acesso_eventos_summed['Event count'].quantile(0.25)\n",
        "q3 = acesso_eventos_summed['Event count'].quantile(0.75)\n",
        "iqr = q3 - q1\n",
        "print(f\"Diferença do primeiro para o terceiro quartil = {iqr}\")"
      ],
      "metadata": {
        "colab": {
          "base_uri": "https://localhost:8080/"
        },
        "id": "dBt1-NwFAsb0",
        "outputId": "21c5c797-9b2c-4ffa-86e1-b440ce41d7e8"
      },
      "execution_count": 204,
      "outputs": [
        {
          "output_type": "stream",
          "name": "stdout",
          "text": [
            "Mediana = 62278.0\n",
            "Moda = 3\n",
            "Variância = 29516689635589.414\n",
            "Diferença do primeiro para o terceiro quartil = 319018.75\n"
          ]
        }
      ]
    },
    {
      "cell_type": "markdown",
      "source": [
        "### Visualização dos dados"
      ],
      "metadata": {
        "id": "Ahhe6s67-9B8"
      }
    },
    {
      "cell_type": "code",
      "source": [
        "top_events_df = acesso_eventos_summed.groupby('Event name')['Event count'].sum().nlargest(5).reset_index()\n",
        "\n",
        "# Criar um gráfico de barras com Plotly\n",
        "fig = px.bar(top_events_df, x='Event name', y='Event count', title='Contagem por evento dentro do site')\n",
        "\n",
        "# Mostrar o gráfico\n",
        "fig.show()"
      ],
      "metadata": {
        "colab": {
          "base_uri": "https://localhost:8080/",
          "height": 542
        },
        "id": "PEuY0AiM_A9X",
        "outputId": "204c11de-a5a7-48dc-ee4c-429812bddf74"
      },
      "execution_count": 207,
      "outputs": [
        {
          "output_type": "display_data",
          "data": {
            "text/html": [
              "<html>\n",
              "<head><meta charset=\"utf-8\" /></head>\n",
              "<body>\n",
              "    <div>            <script src=\"https://cdnjs.cloudflare.com/ajax/libs/mathjax/2.7.5/MathJax.js?config=TeX-AMS-MML_SVG\"></script><script type=\"text/javascript\">if (window.MathJax && window.MathJax.Hub && window.MathJax.Hub.Config) {window.MathJax.Hub.Config({SVG: {font: \"STIX-Web\"}});}</script>                <script type=\"text/javascript\">window.PlotlyConfig = {MathJaxConfig: 'local'};</script>\n",
              "        <script charset=\"utf-8\" src=\"https://cdn.plot.ly/plotly-2.24.1.min.js\"></script>                <div id=\"adac5f56-ff2d-44fd-9ad0-b2d854d8acff\" class=\"plotly-graph-div\" style=\"height:525px; width:100%;\"></div>            <script type=\"text/javascript\">                                    window.PLOTLYENV=window.PLOTLYENV || {};                                    if (document.getElementById(\"adac5f56-ff2d-44fd-9ad0-b2d854d8acff\")) {                    Plotly.newPlot(                        \"adac5f56-ff2d-44fd-9ad0-b2d854d8acff\",                        [{\"alignmentgroup\":\"True\",\"hovertemplate\":\"Event name=%{x}\\u003cbr\\u003eEvent count=%{y}\\u003cextra\\u003e\\u003c\\u002fextra\\u003e\",\"legendgroup\":\"\",\"marker\":{\"color\":\"#636efa\",\"pattern\":{\"shape\":\"\"}},\"name\":\"\",\"offsetgroup\":\"\",\"orientation\":\"v\",\"showlegend\":false,\"textposition\":\"auto\",\"x\":[\"carregamento_pagina\",\"page_view\",\"session_start\",\"first_visit\",\"user_engagement\"],\"xaxis\":\"x\",\"y\":[26677553,3188114,2822129,2010778,558788],\"yaxis\":\"y\",\"type\":\"bar\"}],                        {\"template\":{\"data\":{\"histogram2dcontour\":[{\"type\":\"histogram2dcontour\",\"colorbar\":{\"outlinewidth\":0,\"ticks\":\"\"},\"colorscale\":[[0.0,\"#0d0887\"],[0.1111111111111111,\"#46039f\"],[0.2222222222222222,\"#7201a8\"],[0.3333333333333333,\"#9c179e\"],[0.4444444444444444,\"#bd3786\"],[0.5555555555555556,\"#d8576b\"],[0.6666666666666666,\"#ed7953\"],[0.7777777777777778,\"#fb9f3a\"],[0.8888888888888888,\"#fdca26\"],[1.0,\"#f0f921\"]]}],\"choropleth\":[{\"type\":\"choropleth\",\"colorbar\":{\"outlinewidth\":0,\"ticks\":\"\"}}],\"histogram2d\":[{\"type\":\"histogram2d\",\"colorbar\":{\"outlinewidth\":0,\"ticks\":\"\"},\"colorscale\":[[0.0,\"#0d0887\"],[0.1111111111111111,\"#46039f\"],[0.2222222222222222,\"#7201a8\"],[0.3333333333333333,\"#9c179e\"],[0.4444444444444444,\"#bd3786\"],[0.5555555555555556,\"#d8576b\"],[0.6666666666666666,\"#ed7953\"],[0.7777777777777778,\"#fb9f3a\"],[0.8888888888888888,\"#fdca26\"],[1.0,\"#f0f921\"]]}],\"heatmap\":[{\"type\":\"heatmap\",\"colorbar\":{\"outlinewidth\":0,\"ticks\":\"\"},\"colorscale\":[[0.0,\"#0d0887\"],[0.1111111111111111,\"#46039f\"],[0.2222222222222222,\"#7201a8\"],[0.3333333333333333,\"#9c179e\"],[0.4444444444444444,\"#bd3786\"],[0.5555555555555556,\"#d8576b\"],[0.6666666666666666,\"#ed7953\"],[0.7777777777777778,\"#fb9f3a\"],[0.8888888888888888,\"#fdca26\"],[1.0,\"#f0f921\"]]}],\"heatmapgl\":[{\"type\":\"heatmapgl\",\"colorbar\":{\"outlinewidth\":0,\"ticks\":\"\"},\"colorscale\":[[0.0,\"#0d0887\"],[0.1111111111111111,\"#46039f\"],[0.2222222222222222,\"#7201a8\"],[0.3333333333333333,\"#9c179e\"],[0.4444444444444444,\"#bd3786\"],[0.5555555555555556,\"#d8576b\"],[0.6666666666666666,\"#ed7953\"],[0.7777777777777778,\"#fb9f3a\"],[0.8888888888888888,\"#fdca26\"],[1.0,\"#f0f921\"]]}],\"contourcarpet\":[{\"type\":\"contourcarpet\",\"colorbar\":{\"outlinewidth\":0,\"ticks\":\"\"}}],\"contour\":[{\"type\":\"contour\",\"colorbar\":{\"outlinewidth\":0,\"ticks\":\"\"},\"colorscale\":[[0.0,\"#0d0887\"],[0.1111111111111111,\"#46039f\"],[0.2222222222222222,\"#7201a8\"],[0.3333333333333333,\"#9c179e\"],[0.4444444444444444,\"#bd3786\"],[0.5555555555555556,\"#d8576b\"],[0.6666666666666666,\"#ed7953\"],[0.7777777777777778,\"#fb9f3a\"],[0.8888888888888888,\"#fdca26\"],[1.0,\"#f0f921\"]]}],\"surface\":[{\"type\":\"surface\",\"colorbar\":{\"outlinewidth\":0,\"ticks\":\"\"},\"colorscale\":[[0.0,\"#0d0887\"],[0.1111111111111111,\"#46039f\"],[0.2222222222222222,\"#7201a8\"],[0.3333333333333333,\"#9c179e\"],[0.4444444444444444,\"#bd3786\"],[0.5555555555555556,\"#d8576b\"],[0.6666666666666666,\"#ed7953\"],[0.7777777777777778,\"#fb9f3a\"],[0.8888888888888888,\"#fdca26\"],[1.0,\"#f0f921\"]]}],\"mesh3d\":[{\"type\":\"mesh3d\",\"colorbar\":{\"outlinewidth\":0,\"ticks\":\"\"}}],\"scatter\":[{\"fillpattern\":{\"fillmode\":\"overlay\",\"size\":10,\"solidity\":0.2},\"type\":\"scatter\"}],\"parcoords\":[{\"type\":\"parcoords\",\"line\":{\"colorbar\":{\"outlinewidth\":0,\"ticks\":\"\"}}}],\"scatterpolargl\":[{\"type\":\"scatterpolargl\",\"marker\":{\"colorbar\":{\"outlinewidth\":0,\"ticks\":\"\"}}}],\"bar\":[{\"error_x\":{\"color\":\"#2a3f5f\"},\"error_y\":{\"color\":\"#2a3f5f\"},\"marker\":{\"line\":{\"color\":\"#E5ECF6\",\"width\":0.5},\"pattern\":{\"fillmode\":\"overlay\",\"size\":10,\"solidity\":0.2}},\"type\":\"bar\"}],\"scattergeo\":[{\"type\":\"scattergeo\",\"marker\":{\"colorbar\":{\"outlinewidth\":0,\"ticks\":\"\"}}}],\"scatterpolar\":[{\"type\":\"scatterpolar\",\"marker\":{\"colorbar\":{\"outlinewidth\":0,\"ticks\":\"\"}}}],\"histogram\":[{\"marker\":{\"pattern\":{\"fillmode\":\"overlay\",\"size\":10,\"solidity\":0.2}},\"type\":\"histogram\"}],\"scattergl\":[{\"type\":\"scattergl\",\"marker\":{\"colorbar\":{\"outlinewidth\":0,\"ticks\":\"\"}}}],\"scatter3d\":[{\"type\":\"scatter3d\",\"line\":{\"colorbar\":{\"outlinewidth\":0,\"ticks\":\"\"}},\"marker\":{\"colorbar\":{\"outlinewidth\":0,\"ticks\":\"\"}}}],\"scattermapbox\":[{\"type\":\"scattermapbox\",\"marker\":{\"colorbar\":{\"outlinewidth\":0,\"ticks\":\"\"}}}],\"scatterternary\":[{\"type\":\"scatterternary\",\"marker\":{\"colorbar\":{\"outlinewidth\":0,\"ticks\":\"\"}}}],\"scattercarpet\":[{\"type\":\"scattercarpet\",\"marker\":{\"colorbar\":{\"outlinewidth\":0,\"ticks\":\"\"}}}],\"carpet\":[{\"aaxis\":{\"endlinecolor\":\"#2a3f5f\",\"gridcolor\":\"white\",\"linecolor\":\"white\",\"minorgridcolor\":\"white\",\"startlinecolor\":\"#2a3f5f\"},\"baxis\":{\"endlinecolor\":\"#2a3f5f\",\"gridcolor\":\"white\",\"linecolor\":\"white\",\"minorgridcolor\":\"white\",\"startlinecolor\":\"#2a3f5f\"},\"type\":\"carpet\"}],\"table\":[{\"cells\":{\"fill\":{\"color\":\"#EBF0F8\"},\"line\":{\"color\":\"white\"}},\"header\":{\"fill\":{\"color\":\"#C8D4E3\"},\"line\":{\"color\":\"white\"}},\"type\":\"table\"}],\"barpolar\":[{\"marker\":{\"line\":{\"color\":\"#E5ECF6\",\"width\":0.5},\"pattern\":{\"fillmode\":\"overlay\",\"size\":10,\"solidity\":0.2}},\"type\":\"barpolar\"}],\"pie\":[{\"automargin\":true,\"type\":\"pie\"}]},\"layout\":{\"autotypenumbers\":\"strict\",\"colorway\":[\"#636efa\",\"#EF553B\",\"#00cc96\",\"#ab63fa\",\"#FFA15A\",\"#19d3f3\",\"#FF6692\",\"#B6E880\",\"#FF97FF\",\"#FECB52\"],\"font\":{\"color\":\"#2a3f5f\"},\"hovermode\":\"closest\",\"hoverlabel\":{\"align\":\"left\"},\"paper_bgcolor\":\"white\",\"plot_bgcolor\":\"#E5ECF6\",\"polar\":{\"bgcolor\":\"#E5ECF6\",\"angularaxis\":{\"gridcolor\":\"white\",\"linecolor\":\"white\",\"ticks\":\"\"},\"radialaxis\":{\"gridcolor\":\"white\",\"linecolor\":\"white\",\"ticks\":\"\"}},\"ternary\":{\"bgcolor\":\"#E5ECF6\",\"aaxis\":{\"gridcolor\":\"white\",\"linecolor\":\"white\",\"ticks\":\"\"},\"baxis\":{\"gridcolor\":\"white\",\"linecolor\":\"white\",\"ticks\":\"\"},\"caxis\":{\"gridcolor\":\"white\",\"linecolor\":\"white\",\"ticks\":\"\"}},\"coloraxis\":{\"colorbar\":{\"outlinewidth\":0,\"ticks\":\"\"}},\"colorscale\":{\"sequential\":[[0.0,\"#0d0887\"],[0.1111111111111111,\"#46039f\"],[0.2222222222222222,\"#7201a8\"],[0.3333333333333333,\"#9c179e\"],[0.4444444444444444,\"#bd3786\"],[0.5555555555555556,\"#d8576b\"],[0.6666666666666666,\"#ed7953\"],[0.7777777777777778,\"#fb9f3a\"],[0.8888888888888888,\"#fdca26\"],[1.0,\"#f0f921\"]],\"sequentialminus\":[[0.0,\"#0d0887\"],[0.1111111111111111,\"#46039f\"],[0.2222222222222222,\"#7201a8\"],[0.3333333333333333,\"#9c179e\"],[0.4444444444444444,\"#bd3786\"],[0.5555555555555556,\"#d8576b\"],[0.6666666666666666,\"#ed7953\"],[0.7777777777777778,\"#fb9f3a\"],[0.8888888888888888,\"#fdca26\"],[1.0,\"#f0f921\"]],\"diverging\":[[0,\"#8e0152\"],[0.1,\"#c51b7d\"],[0.2,\"#de77ae\"],[0.3,\"#f1b6da\"],[0.4,\"#fde0ef\"],[0.5,\"#f7f7f7\"],[0.6,\"#e6f5d0\"],[0.7,\"#b8e186\"],[0.8,\"#7fbc41\"],[0.9,\"#4d9221\"],[1,\"#276419\"]]},\"xaxis\":{\"gridcolor\":\"white\",\"linecolor\":\"white\",\"ticks\":\"\",\"title\":{\"standoff\":15},\"zerolinecolor\":\"white\",\"automargin\":true,\"zerolinewidth\":2},\"yaxis\":{\"gridcolor\":\"white\",\"linecolor\":\"white\",\"ticks\":\"\",\"title\":{\"standoff\":15},\"zerolinecolor\":\"white\",\"automargin\":true,\"zerolinewidth\":2},\"scene\":{\"xaxis\":{\"backgroundcolor\":\"#E5ECF6\",\"gridcolor\":\"white\",\"linecolor\":\"white\",\"showbackground\":true,\"ticks\":\"\",\"zerolinecolor\":\"white\",\"gridwidth\":2},\"yaxis\":{\"backgroundcolor\":\"#E5ECF6\",\"gridcolor\":\"white\",\"linecolor\":\"white\",\"showbackground\":true,\"ticks\":\"\",\"zerolinecolor\":\"white\",\"gridwidth\":2},\"zaxis\":{\"backgroundcolor\":\"#E5ECF6\",\"gridcolor\":\"white\",\"linecolor\":\"white\",\"showbackground\":true,\"ticks\":\"\",\"zerolinecolor\":\"white\",\"gridwidth\":2}},\"shapedefaults\":{\"line\":{\"color\":\"#2a3f5f\"}},\"annotationdefaults\":{\"arrowcolor\":\"#2a3f5f\",\"arrowhead\":0,\"arrowwidth\":1},\"geo\":{\"bgcolor\":\"white\",\"landcolor\":\"#E5ECF6\",\"subunitcolor\":\"white\",\"showland\":true,\"showlakes\":true,\"lakecolor\":\"white\"},\"title\":{\"x\":0.05},\"mapbox\":{\"style\":\"light\"}}},\"xaxis\":{\"anchor\":\"y\",\"domain\":[0.0,1.0],\"title\":{\"text\":\"Event name\"}},\"yaxis\":{\"anchor\":\"x\",\"domain\":[0.0,1.0],\"title\":{\"text\":\"Event count\"}},\"legend\":{\"tracegroupgap\":0},\"title\":{\"text\":\"Contagem por evento dentro do site\"},\"barmode\":\"relative\"},                        {\"responsive\": true}                    ).then(function(){\n",
              "                            \n",
              "var gd = document.getElementById('adac5f56-ff2d-44fd-9ad0-b2d854d8acff');\n",
              "var x = new MutationObserver(function (mutations, observer) {{\n",
              "        var display = window.getComputedStyle(gd).display;\n",
              "        if (!display || display === 'none') {{\n",
              "            console.log([gd, 'removed!']);\n",
              "            Plotly.purge(gd);\n",
              "            observer.disconnect();\n",
              "        }}\n",
              "}});\n",
              "\n",
              "// Listen for the removal of the full notebook cells\n",
              "var notebookContainer = gd.closest('#notebook-container');\n",
              "if (notebookContainer) {{\n",
              "    x.observe(notebookContainer, {childList: true});\n",
              "}}\n",
              "\n",
              "// Listen for the clearing of the current output cell\n",
              "var outputEl = gd.closest('.output');\n",
              "if (outputEl) {{\n",
              "    x.observe(outputEl, {childList: true});\n",
              "}}\n",
              "\n",
              "                        })                };                            </script>        </div>\n",
              "</body>\n",
              "</html>"
            ]
          },
          "metadata": {}
        }
      ]
    },
    {
      "cell_type": "markdown",
      "source": [
        "### Identificação de Outliers"
      ],
      "metadata": {
        "id": "tMIb09hE-_ql"
      }
    },
    {
      "cell_type": "code",
      "source": [],
      "metadata": {
        "id": "a6OcTkSR_BTM"
      },
      "execution_count": 144,
      "outputs": []
    },
    {
      "cell_type": "markdown",
      "source": [
        "## Leitura dos dados - Fontes"
      ],
      "metadata": {
        "id": "5ZEHszOEqHZo"
      }
    },
    {
      "cell_type": "code",
      "source": [
        "acessos_fontes_combined = pd.concat([acessos_fontes_2023, acessos_fontes_2024])\n",
        "acessos_fontes_summed = acessos_fontes_combined.groupby('Operating system', as_index=False).sum()\n",
        "acessos_fontes_summed"
      ],
      "metadata": {
        "id": "0FTcS-sMqIB_",
        "colab": {
          "base_uri": "https://localhost:8080/",
          "height": 0
        },
        "outputId": "0ce46f3b-db10-4fca-8e98-25ea3f920c66"
      },
      "execution_count": 145,
      "outputs": [
        {
          "output_type": "execute_result",
          "data": {
            "text/plain": [
              "  Operating system  Event count\n",
              "0        (not set)         6470\n",
              "1          Android     29147318\n",
              "2       BlackBerry           12\n",
              "3        Chrome OS        40612\n",
              "4            Linux       167876\n",
              "5        Macintosh        57219\n",
              "6    Playstation 4           17\n",
              "7            Tizen          411\n",
              "8          Windows      1855641\n",
              "9              iOS      4822963"
            ],
            "text/html": [
              "\n",
              "  <div id=\"df-c29309a5-67bd-4cb3-ad22-ed5b05b0020b\" class=\"colab-df-container\">\n",
              "    <div>\n",
              "<style scoped>\n",
              "    .dataframe tbody tr th:only-of-type {\n",
              "        vertical-align: middle;\n",
              "    }\n",
              "\n",
              "    .dataframe tbody tr th {\n",
              "        vertical-align: top;\n",
              "    }\n",
              "\n",
              "    .dataframe thead th {\n",
              "        text-align: right;\n",
              "    }\n",
              "</style>\n",
              "<table border=\"1\" class=\"dataframe\">\n",
              "  <thead>\n",
              "    <tr style=\"text-align: right;\">\n",
              "      <th></th>\n",
              "      <th>Operating system</th>\n",
              "      <th>Event count</th>\n",
              "    </tr>\n",
              "  </thead>\n",
              "  <tbody>\n",
              "    <tr>\n",
              "      <th>0</th>\n",
              "      <td>(not set)</td>\n",
              "      <td>6470</td>\n",
              "    </tr>\n",
              "    <tr>\n",
              "      <th>1</th>\n",
              "      <td>Android</td>\n",
              "      <td>29147318</td>\n",
              "    </tr>\n",
              "    <tr>\n",
              "      <th>2</th>\n",
              "      <td>BlackBerry</td>\n",
              "      <td>12</td>\n",
              "    </tr>\n",
              "    <tr>\n",
              "      <th>3</th>\n",
              "      <td>Chrome OS</td>\n",
              "      <td>40612</td>\n",
              "    </tr>\n",
              "    <tr>\n",
              "      <th>4</th>\n",
              "      <td>Linux</td>\n",
              "      <td>167876</td>\n",
              "    </tr>\n",
              "    <tr>\n",
              "      <th>5</th>\n",
              "      <td>Macintosh</td>\n",
              "      <td>57219</td>\n",
              "    </tr>\n",
              "    <tr>\n",
              "      <th>6</th>\n",
              "      <td>Playstation 4</td>\n",
              "      <td>17</td>\n",
              "    </tr>\n",
              "    <tr>\n",
              "      <th>7</th>\n",
              "      <td>Tizen</td>\n",
              "      <td>411</td>\n",
              "    </tr>\n",
              "    <tr>\n",
              "      <th>8</th>\n",
              "      <td>Windows</td>\n",
              "      <td>1855641</td>\n",
              "    </tr>\n",
              "    <tr>\n",
              "      <th>9</th>\n",
              "      <td>iOS</td>\n",
              "      <td>4822963</td>\n",
              "    </tr>\n",
              "  </tbody>\n",
              "</table>\n",
              "</div>\n",
              "    <div class=\"colab-df-buttons\">\n",
              "\n",
              "  <div class=\"colab-df-container\">\n",
              "    <button class=\"colab-df-convert\" onclick=\"convertToInteractive('df-c29309a5-67bd-4cb3-ad22-ed5b05b0020b')\"\n",
              "            title=\"Convert this dataframe to an interactive table.\"\n",
              "            style=\"display:none;\">\n",
              "\n",
              "  <svg xmlns=\"http://www.w3.org/2000/svg\" height=\"24px\" viewBox=\"0 -960 960 960\">\n",
              "    <path d=\"M120-120v-720h720v720H120Zm60-500h600v-160H180v160Zm220 220h160v-160H400v160Zm0 220h160v-160H400v160ZM180-400h160v-160H180v160Zm440 0h160v-160H620v160ZM180-180h160v-160H180v160Zm440 0h160v-160H620v160Z\"/>\n",
              "  </svg>\n",
              "    </button>\n",
              "\n",
              "  <style>\n",
              "    .colab-df-container {\n",
              "      display:flex;\n",
              "      gap: 12px;\n",
              "    }\n",
              "\n",
              "    .colab-df-convert {\n",
              "      background-color: #E8F0FE;\n",
              "      border: none;\n",
              "      border-radius: 50%;\n",
              "      cursor: pointer;\n",
              "      display: none;\n",
              "      fill: #1967D2;\n",
              "      height: 32px;\n",
              "      padding: 0 0 0 0;\n",
              "      width: 32px;\n",
              "    }\n",
              "\n",
              "    .colab-df-convert:hover {\n",
              "      background-color: #E2EBFA;\n",
              "      box-shadow: 0px 1px 2px rgba(60, 64, 67, 0.3), 0px 1px 3px 1px rgba(60, 64, 67, 0.15);\n",
              "      fill: #174EA6;\n",
              "    }\n",
              "\n",
              "    .colab-df-buttons div {\n",
              "      margin-bottom: 4px;\n",
              "    }\n",
              "\n",
              "    [theme=dark] .colab-df-convert {\n",
              "      background-color: #3B4455;\n",
              "      fill: #D2E3FC;\n",
              "    }\n",
              "\n",
              "    [theme=dark] .colab-df-convert:hover {\n",
              "      background-color: #434B5C;\n",
              "      box-shadow: 0px 1px 3px 1px rgba(0, 0, 0, 0.15);\n",
              "      filter: drop-shadow(0px 1px 2px rgba(0, 0, 0, 0.3));\n",
              "      fill: #FFFFFF;\n",
              "    }\n",
              "  </style>\n",
              "\n",
              "    <script>\n",
              "      const buttonEl =\n",
              "        document.querySelector('#df-c29309a5-67bd-4cb3-ad22-ed5b05b0020b button.colab-df-convert');\n",
              "      buttonEl.style.display =\n",
              "        google.colab.kernel.accessAllowed ? 'block' : 'none';\n",
              "\n",
              "      async function convertToInteractive(key) {\n",
              "        const element = document.querySelector('#df-c29309a5-67bd-4cb3-ad22-ed5b05b0020b');\n",
              "        const dataTable =\n",
              "          await google.colab.kernel.invokeFunction('convertToInteractive',\n",
              "                                                    [key], {});\n",
              "        if (!dataTable) return;\n",
              "\n",
              "        const docLinkHtml = 'Like what you see? Visit the ' +\n",
              "          '<a target=\"_blank\" href=https://colab.research.google.com/notebooks/data_table.ipynb>data table notebook</a>'\n",
              "          + ' to learn more about interactive tables.';\n",
              "        element.innerHTML = '';\n",
              "        dataTable['output_type'] = 'display_data';\n",
              "        await google.colab.output.renderOutput(dataTable, element);\n",
              "        const docLink = document.createElement('div');\n",
              "        docLink.innerHTML = docLinkHtml;\n",
              "        element.appendChild(docLink);\n",
              "      }\n",
              "    </script>\n",
              "  </div>\n",
              "\n",
              "\n",
              "<div id=\"df-3d4b5c6c-9de2-4076-8fb8-4da5f39a4574\">\n",
              "  <button class=\"colab-df-quickchart\" onclick=\"quickchart('df-3d4b5c6c-9de2-4076-8fb8-4da5f39a4574')\"\n",
              "            title=\"Suggest charts\"\n",
              "            style=\"display:none;\">\n",
              "\n",
              "<svg xmlns=\"http://www.w3.org/2000/svg\" height=\"24px\"viewBox=\"0 0 24 24\"\n",
              "     width=\"24px\">\n",
              "    <g>\n",
              "        <path d=\"M19 3H5c-1.1 0-2 .9-2 2v14c0 1.1.9 2 2 2h14c1.1 0 2-.9 2-2V5c0-1.1-.9-2-2-2zM9 17H7v-7h2v7zm4 0h-2V7h2v10zm4 0h-2v-4h2v4z\"/>\n",
              "    </g>\n",
              "</svg>\n",
              "  </button>\n",
              "\n",
              "<style>\n",
              "  .colab-df-quickchart {\n",
              "      --bg-color: #E8F0FE;\n",
              "      --fill-color: #1967D2;\n",
              "      --hover-bg-color: #E2EBFA;\n",
              "      --hover-fill-color: #174EA6;\n",
              "      --disabled-fill-color: #AAA;\n",
              "      --disabled-bg-color: #DDD;\n",
              "  }\n",
              "\n",
              "  [theme=dark] .colab-df-quickchart {\n",
              "      --bg-color: #3B4455;\n",
              "      --fill-color: #D2E3FC;\n",
              "      --hover-bg-color: #434B5C;\n",
              "      --hover-fill-color: #FFFFFF;\n",
              "      --disabled-bg-color: #3B4455;\n",
              "      --disabled-fill-color: #666;\n",
              "  }\n",
              "\n",
              "  .colab-df-quickchart {\n",
              "    background-color: var(--bg-color);\n",
              "    border: none;\n",
              "    border-radius: 50%;\n",
              "    cursor: pointer;\n",
              "    display: none;\n",
              "    fill: var(--fill-color);\n",
              "    height: 32px;\n",
              "    padding: 0;\n",
              "    width: 32px;\n",
              "  }\n",
              "\n",
              "  .colab-df-quickchart:hover {\n",
              "    background-color: var(--hover-bg-color);\n",
              "    box-shadow: 0 1px 2px rgba(60, 64, 67, 0.3), 0 1px 3px 1px rgba(60, 64, 67, 0.15);\n",
              "    fill: var(--button-hover-fill-color);\n",
              "  }\n",
              "\n",
              "  .colab-df-quickchart-complete:disabled,\n",
              "  .colab-df-quickchart-complete:disabled:hover {\n",
              "    background-color: var(--disabled-bg-color);\n",
              "    fill: var(--disabled-fill-color);\n",
              "    box-shadow: none;\n",
              "  }\n",
              "\n",
              "  .colab-df-spinner {\n",
              "    border: 2px solid var(--fill-color);\n",
              "    border-color: transparent;\n",
              "    border-bottom-color: var(--fill-color);\n",
              "    animation:\n",
              "      spin 1s steps(1) infinite;\n",
              "  }\n",
              "\n",
              "  @keyframes spin {\n",
              "    0% {\n",
              "      border-color: transparent;\n",
              "      border-bottom-color: var(--fill-color);\n",
              "      border-left-color: var(--fill-color);\n",
              "    }\n",
              "    20% {\n",
              "      border-color: transparent;\n",
              "      border-left-color: var(--fill-color);\n",
              "      border-top-color: var(--fill-color);\n",
              "    }\n",
              "    30% {\n",
              "      border-color: transparent;\n",
              "      border-left-color: var(--fill-color);\n",
              "      border-top-color: var(--fill-color);\n",
              "      border-right-color: var(--fill-color);\n",
              "    }\n",
              "    40% {\n",
              "      border-color: transparent;\n",
              "      border-right-color: var(--fill-color);\n",
              "      border-top-color: var(--fill-color);\n",
              "    }\n",
              "    60% {\n",
              "      border-color: transparent;\n",
              "      border-right-color: var(--fill-color);\n",
              "    }\n",
              "    80% {\n",
              "      border-color: transparent;\n",
              "      border-right-color: var(--fill-color);\n",
              "      border-bottom-color: var(--fill-color);\n",
              "    }\n",
              "    90% {\n",
              "      border-color: transparent;\n",
              "      border-bottom-color: var(--fill-color);\n",
              "    }\n",
              "  }\n",
              "</style>\n",
              "\n",
              "  <script>\n",
              "    async function quickchart(key) {\n",
              "      const quickchartButtonEl =\n",
              "        document.querySelector('#' + key + ' button');\n",
              "      quickchartButtonEl.disabled = true;  // To prevent multiple clicks.\n",
              "      quickchartButtonEl.classList.add('colab-df-spinner');\n",
              "      try {\n",
              "        const charts = await google.colab.kernel.invokeFunction(\n",
              "            'suggestCharts', [key], {});\n",
              "      } catch (error) {\n",
              "        console.error('Error during call to suggestCharts:', error);\n",
              "      }\n",
              "      quickchartButtonEl.classList.remove('colab-df-spinner');\n",
              "      quickchartButtonEl.classList.add('colab-df-quickchart-complete');\n",
              "    }\n",
              "    (() => {\n",
              "      let quickchartButtonEl =\n",
              "        document.querySelector('#df-3d4b5c6c-9de2-4076-8fb8-4da5f39a4574 button');\n",
              "      quickchartButtonEl.style.display =\n",
              "        google.colab.kernel.accessAllowed ? 'block' : 'none';\n",
              "    })();\n",
              "  </script>\n",
              "</div>\n",
              "    </div>\n",
              "  </div>\n"
            ],
            "application/vnd.google.colaboratory.intrinsic+json": {
              "type": "dataframe",
              "variable_name": "acessos_fontes_summed",
              "summary": "{\n  \"name\": \"acessos_fontes_summed\",\n  \"rows\": 10,\n  \"fields\": [\n    {\n      \"column\": \"Operating system\",\n      \"properties\": {\n        \"dtype\": \"string\",\n        \"num_unique_values\": 10,\n        \"samples\": [\n          \"Windows\",\n          \"Android\",\n          \"Macintosh\"\n        ],\n        \"semantic_type\": \"\",\n        \"description\": \"\"\n      }\n    },\n    {\n      \"column\": \"Event count\",\n      \"properties\": {\n        \"dtype\": \"number\",\n        \"std\": 9104292,\n        \"min\": 12,\n        \"max\": 29147318,\n        \"num_unique_values\": 10,\n        \"samples\": [\n          1855641,\n          29147318,\n          57219\n        ],\n        \"semantic_type\": \"\",\n        \"description\": \"\"\n      }\n    }\n  ]\n}"
            }
          },
          "metadata": {},
          "execution_count": 145
        }
      ]
    },
    {
      "cell_type": "code",
      "source": [
        "acessos_fontes_summed.info()"
      ],
      "metadata": {
        "colab": {
          "base_uri": "https://localhost:8080/"
        },
        "id": "ahHtNU6h8FZW",
        "outputId": "c8d4e4a2-50b3-4175-ac06-338d1d34ced2"
      },
      "execution_count": 146,
      "outputs": [
        {
          "output_type": "stream",
          "name": "stdout",
          "text": [
            "<class 'pandas.core.frame.DataFrame'>\n",
            "RangeIndex: 10 entries, 0 to 9\n",
            "Data columns (total 2 columns):\n",
            " #   Column            Non-Null Count  Dtype \n",
            "---  ------            --------------  ----- \n",
            " 0   Operating system  10 non-null     object\n",
            " 1   Event count       10 non-null     int64 \n",
            "dtypes: int64(1), object(1)\n",
            "memory usage: 288.0+ bytes\n"
          ]
        }
      ]
    },
    {
      "cell_type": "markdown",
      "source": [
        "### Análise Estatística Descritiva"
      ],
      "metadata": {
        "id": "Un44uWJ4AuXV"
      }
    },
    {
      "cell_type": "code",
      "source": [],
      "metadata": {
        "id": "C1i9CAVeAu9r"
      },
      "execution_count": 146,
      "outputs": []
    },
    {
      "cell_type": "markdown",
      "source": [
        "### Visualização dos dados"
      ],
      "metadata": {
        "id": "EusRnnrJ_C83"
      }
    },
    {
      "cell_type": "code",
      "source": [],
      "metadata": {
        "id": "yZrFp7EM_F2m"
      },
      "execution_count": 146,
      "outputs": []
    },
    {
      "cell_type": "markdown",
      "source": [
        "### Identificação de Outliers"
      ],
      "metadata": {
        "id": "kctWdHU8_Dfn"
      }
    },
    {
      "cell_type": "code",
      "source": [],
      "metadata": {
        "id": "Cr-cxiYB_GRP"
      },
      "execution_count": 146,
      "outputs": []
    },
    {
      "cell_type": "markdown",
      "source": [
        "# GA Universal"
      ],
      "metadata": {
        "id": "UcrZTbHlpxSF"
      }
    },
    {
      "cell_type": "markdown",
      "source": [
        "## Leitura dos dados"
      ],
      "metadata": {
        "id": "F40DxjzbqJe6"
      }
    },
    {
      "cell_type": "code",
      "source": [
        "ga_universal_combined = pd.concat([ga_universal_2019a2022, ga_universal_2023])\n",
        "ga_universal_summed = ga_universal_combined.groupby('Page Title', as_index=False).sum()\n",
        "ga_universal_summed"
      ],
      "metadata": {
        "id": "uVPpkJ-YqKEO",
        "colab": {
          "base_uri": "https://localhost:8080/",
          "height": 424
        },
        "outputId": "8e1b3719-27f6-4040-f8e0-85da6d4aaa5b"
      },
      "execution_count": 147,
      "outputs": [
        {
          "output_type": "execute_result",
          "data": {
            "text/plain": [
              "                                            Page Title  Users  Sessions\n",
              "0                                            (not set)  10079     10001\n",
              "1    - Escola de Idiomas em Guaratinguetá, Vila Par...     11        11\n",
              "2                 20% OFF Interactive – Wizard Idiomas     50         0\n",
              "3    20% OFF na matrícula para aprender inglês no s...   1380       243\n",
              "4    35 hits dos anos 2000 para aprender inglês - W...     22        34\n",
              "..                                                 ...    ...       ...\n",
              "363  ▷ Curso de Inglês -【Básico ao Avançado】| Promo...    545        99\n",
              "364  ▷ Curso de Inglês Online: A Melhor Escola de I...   2513       149\n",
              "365  ▷ Curso de Inglês Wizard - A melhor escola de ...    446        99\n",
              "366  ▷ Curso de Inglês em São Paulo - Básico ao Ava...     50         0\n",
              "367  ▷ Curso de Inglês: [Conquiste Sua Fluência] em...  20833     15800\n",
              "\n",
              "[368 rows x 3 columns]"
            ],
            "text/html": [
              "\n",
              "  <div id=\"df-4626fcf0-6fce-4a3d-b60d-3a67a8f32d41\" class=\"colab-df-container\">\n",
              "    <div>\n",
              "<style scoped>\n",
              "    .dataframe tbody tr th:only-of-type {\n",
              "        vertical-align: middle;\n",
              "    }\n",
              "\n",
              "    .dataframe tbody tr th {\n",
              "        vertical-align: top;\n",
              "    }\n",
              "\n",
              "    .dataframe thead th {\n",
              "        text-align: right;\n",
              "    }\n",
              "</style>\n",
              "<table border=\"1\" class=\"dataframe\">\n",
              "  <thead>\n",
              "    <tr style=\"text-align: right;\">\n",
              "      <th></th>\n",
              "      <th>Page Title</th>\n",
              "      <th>Users</th>\n",
              "      <th>Sessions</th>\n",
              "    </tr>\n",
              "  </thead>\n",
              "  <tbody>\n",
              "    <tr>\n",
              "      <th>0</th>\n",
              "      <td>(not set)</td>\n",
              "      <td>10079</td>\n",
              "      <td>10001</td>\n",
              "    </tr>\n",
              "    <tr>\n",
              "      <th>1</th>\n",
              "      <td>- Escola de Idiomas em Guaratinguetá, Vila Par...</td>\n",
              "      <td>11</td>\n",
              "      <td>11</td>\n",
              "    </tr>\n",
              "    <tr>\n",
              "      <th>2</th>\n",
              "      <td>20% OFF Interactive – Wizard Idiomas</td>\n",
              "      <td>50</td>\n",
              "      <td>0</td>\n",
              "    </tr>\n",
              "    <tr>\n",
              "      <th>3</th>\n",
              "      <td>20% OFF na matrícula para aprender inglês no s...</td>\n",
              "      <td>1380</td>\n",
              "      <td>243</td>\n",
              "    </tr>\n",
              "    <tr>\n",
              "      <th>4</th>\n",
              "      <td>35 hits dos anos 2000 para aprender inglês - W...</td>\n",
              "      <td>22</td>\n",
              "      <td>34</td>\n",
              "    </tr>\n",
              "    <tr>\n",
              "      <th>...</th>\n",
              "      <td>...</td>\n",
              "      <td>...</td>\n",
              "      <td>...</td>\n",
              "    </tr>\n",
              "    <tr>\n",
              "      <th>363</th>\n",
              "      <td>▷ Curso de Inglês -【Básico ao Avançado】| Promo...</td>\n",
              "      <td>545</td>\n",
              "      <td>99</td>\n",
              "    </tr>\n",
              "    <tr>\n",
              "      <th>364</th>\n",
              "      <td>▷ Curso de Inglês Online: A Melhor Escola de I...</td>\n",
              "      <td>2513</td>\n",
              "      <td>149</td>\n",
              "    </tr>\n",
              "    <tr>\n",
              "      <th>365</th>\n",
              "      <td>▷ Curso de Inglês Wizard - A melhor escola de ...</td>\n",
              "      <td>446</td>\n",
              "      <td>99</td>\n",
              "    </tr>\n",
              "    <tr>\n",
              "      <th>366</th>\n",
              "      <td>▷ Curso de Inglês em São Paulo - Básico ao Ava...</td>\n",
              "      <td>50</td>\n",
              "      <td>0</td>\n",
              "    </tr>\n",
              "    <tr>\n",
              "      <th>367</th>\n",
              "      <td>▷ Curso de Inglês: [Conquiste Sua Fluência] em...</td>\n",
              "      <td>20833</td>\n",
              "      <td>15800</td>\n",
              "    </tr>\n",
              "  </tbody>\n",
              "</table>\n",
              "<p>368 rows × 3 columns</p>\n",
              "</div>\n",
              "    <div class=\"colab-df-buttons\">\n",
              "\n",
              "  <div class=\"colab-df-container\">\n",
              "    <button class=\"colab-df-convert\" onclick=\"convertToInteractive('df-4626fcf0-6fce-4a3d-b60d-3a67a8f32d41')\"\n",
              "            title=\"Convert this dataframe to an interactive table.\"\n",
              "            style=\"display:none;\">\n",
              "\n",
              "  <svg xmlns=\"http://www.w3.org/2000/svg\" height=\"24px\" viewBox=\"0 -960 960 960\">\n",
              "    <path d=\"M120-120v-720h720v720H120Zm60-500h600v-160H180v160Zm220 220h160v-160H400v160Zm0 220h160v-160H400v160ZM180-400h160v-160H180v160Zm440 0h160v-160H620v160ZM180-180h160v-160H180v160Zm440 0h160v-160H620v160Z\"/>\n",
              "  </svg>\n",
              "    </button>\n",
              "\n",
              "  <style>\n",
              "    .colab-df-container {\n",
              "      display:flex;\n",
              "      gap: 12px;\n",
              "    }\n",
              "\n",
              "    .colab-df-convert {\n",
              "      background-color: #E8F0FE;\n",
              "      border: none;\n",
              "      border-radius: 50%;\n",
              "      cursor: pointer;\n",
              "      display: none;\n",
              "      fill: #1967D2;\n",
              "      height: 32px;\n",
              "      padding: 0 0 0 0;\n",
              "      width: 32px;\n",
              "    }\n",
              "\n",
              "    .colab-df-convert:hover {\n",
              "      background-color: #E2EBFA;\n",
              "      box-shadow: 0px 1px 2px rgba(60, 64, 67, 0.3), 0px 1px 3px 1px rgba(60, 64, 67, 0.15);\n",
              "      fill: #174EA6;\n",
              "    }\n",
              "\n",
              "    .colab-df-buttons div {\n",
              "      margin-bottom: 4px;\n",
              "    }\n",
              "\n",
              "    [theme=dark] .colab-df-convert {\n",
              "      background-color: #3B4455;\n",
              "      fill: #D2E3FC;\n",
              "    }\n",
              "\n",
              "    [theme=dark] .colab-df-convert:hover {\n",
              "      background-color: #434B5C;\n",
              "      box-shadow: 0px 1px 3px 1px rgba(0, 0, 0, 0.15);\n",
              "      filter: drop-shadow(0px 1px 2px rgba(0, 0, 0, 0.3));\n",
              "      fill: #FFFFFF;\n",
              "    }\n",
              "  </style>\n",
              "\n",
              "    <script>\n",
              "      const buttonEl =\n",
              "        document.querySelector('#df-4626fcf0-6fce-4a3d-b60d-3a67a8f32d41 button.colab-df-convert');\n",
              "      buttonEl.style.display =\n",
              "        google.colab.kernel.accessAllowed ? 'block' : 'none';\n",
              "\n",
              "      async function convertToInteractive(key) {\n",
              "        const element = document.querySelector('#df-4626fcf0-6fce-4a3d-b60d-3a67a8f32d41');\n",
              "        const dataTable =\n",
              "          await google.colab.kernel.invokeFunction('convertToInteractive',\n",
              "                                                    [key], {});\n",
              "        if (!dataTable) return;\n",
              "\n",
              "        const docLinkHtml = 'Like what you see? Visit the ' +\n",
              "          '<a target=\"_blank\" href=https://colab.research.google.com/notebooks/data_table.ipynb>data table notebook</a>'\n",
              "          + ' to learn more about interactive tables.';\n",
              "        element.innerHTML = '';\n",
              "        dataTable['output_type'] = 'display_data';\n",
              "        await google.colab.output.renderOutput(dataTable, element);\n",
              "        const docLink = document.createElement('div');\n",
              "        docLink.innerHTML = docLinkHtml;\n",
              "        element.appendChild(docLink);\n",
              "      }\n",
              "    </script>\n",
              "  </div>\n",
              "\n",
              "\n",
              "<div id=\"df-c69c2157-b509-4dfe-b8fb-9026594383ee\">\n",
              "  <button class=\"colab-df-quickchart\" onclick=\"quickchart('df-c69c2157-b509-4dfe-b8fb-9026594383ee')\"\n",
              "            title=\"Suggest charts\"\n",
              "            style=\"display:none;\">\n",
              "\n",
              "<svg xmlns=\"http://www.w3.org/2000/svg\" height=\"24px\"viewBox=\"0 0 24 24\"\n",
              "     width=\"24px\">\n",
              "    <g>\n",
              "        <path d=\"M19 3H5c-1.1 0-2 .9-2 2v14c0 1.1.9 2 2 2h14c1.1 0 2-.9 2-2V5c0-1.1-.9-2-2-2zM9 17H7v-7h2v7zm4 0h-2V7h2v10zm4 0h-2v-4h2v4z\"/>\n",
              "    </g>\n",
              "</svg>\n",
              "  </button>\n",
              "\n",
              "<style>\n",
              "  .colab-df-quickchart {\n",
              "      --bg-color: #E8F0FE;\n",
              "      --fill-color: #1967D2;\n",
              "      --hover-bg-color: #E2EBFA;\n",
              "      --hover-fill-color: #174EA6;\n",
              "      --disabled-fill-color: #AAA;\n",
              "      --disabled-bg-color: #DDD;\n",
              "  }\n",
              "\n",
              "  [theme=dark] .colab-df-quickchart {\n",
              "      --bg-color: #3B4455;\n",
              "      --fill-color: #D2E3FC;\n",
              "      --hover-bg-color: #434B5C;\n",
              "      --hover-fill-color: #FFFFFF;\n",
              "      --disabled-bg-color: #3B4455;\n",
              "      --disabled-fill-color: #666;\n",
              "  }\n",
              "\n",
              "  .colab-df-quickchart {\n",
              "    background-color: var(--bg-color);\n",
              "    border: none;\n",
              "    border-radius: 50%;\n",
              "    cursor: pointer;\n",
              "    display: none;\n",
              "    fill: var(--fill-color);\n",
              "    height: 32px;\n",
              "    padding: 0;\n",
              "    width: 32px;\n",
              "  }\n",
              "\n",
              "  .colab-df-quickchart:hover {\n",
              "    background-color: var(--hover-bg-color);\n",
              "    box-shadow: 0 1px 2px rgba(60, 64, 67, 0.3), 0 1px 3px 1px rgba(60, 64, 67, 0.15);\n",
              "    fill: var(--button-hover-fill-color);\n",
              "  }\n",
              "\n",
              "  .colab-df-quickchart-complete:disabled,\n",
              "  .colab-df-quickchart-complete:disabled:hover {\n",
              "    background-color: var(--disabled-bg-color);\n",
              "    fill: var(--disabled-fill-color);\n",
              "    box-shadow: none;\n",
              "  }\n",
              "\n",
              "  .colab-df-spinner {\n",
              "    border: 2px solid var(--fill-color);\n",
              "    border-color: transparent;\n",
              "    border-bottom-color: var(--fill-color);\n",
              "    animation:\n",
              "      spin 1s steps(1) infinite;\n",
              "  }\n",
              "\n",
              "  @keyframes spin {\n",
              "    0% {\n",
              "      border-color: transparent;\n",
              "      border-bottom-color: var(--fill-color);\n",
              "      border-left-color: var(--fill-color);\n",
              "    }\n",
              "    20% {\n",
              "      border-color: transparent;\n",
              "      border-left-color: var(--fill-color);\n",
              "      border-top-color: var(--fill-color);\n",
              "    }\n",
              "    30% {\n",
              "      border-color: transparent;\n",
              "      border-left-color: var(--fill-color);\n",
              "      border-top-color: var(--fill-color);\n",
              "      border-right-color: var(--fill-color);\n",
              "    }\n",
              "    40% {\n",
              "      border-color: transparent;\n",
              "      border-right-color: var(--fill-color);\n",
              "      border-top-color: var(--fill-color);\n",
              "    }\n",
              "    60% {\n",
              "      border-color: transparent;\n",
              "      border-right-color: var(--fill-color);\n",
              "    }\n",
              "    80% {\n",
              "      border-color: transparent;\n",
              "      border-right-color: var(--fill-color);\n",
              "      border-bottom-color: var(--fill-color);\n",
              "    }\n",
              "    90% {\n",
              "      border-color: transparent;\n",
              "      border-bottom-color: var(--fill-color);\n",
              "    }\n",
              "  }\n",
              "</style>\n",
              "\n",
              "  <script>\n",
              "    async function quickchart(key) {\n",
              "      const quickchartButtonEl =\n",
              "        document.querySelector('#' + key + ' button');\n",
              "      quickchartButtonEl.disabled = true;  // To prevent multiple clicks.\n",
              "      quickchartButtonEl.classList.add('colab-df-spinner');\n",
              "      try {\n",
              "        const charts = await google.colab.kernel.invokeFunction(\n",
              "            'suggestCharts', [key], {});\n",
              "      } catch (error) {\n",
              "        console.error('Error during call to suggestCharts:', error);\n",
              "      }\n",
              "      quickchartButtonEl.classList.remove('colab-df-spinner');\n",
              "      quickchartButtonEl.classList.add('colab-df-quickchart-complete');\n",
              "    }\n",
              "    (() => {\n",
              "      let quickchartButtonEl =\n",
              "        document.querySelector('#df-c69c2157-b509-4dfe-b8fb-9026594383ee button');\n",
              "      quickchartButtonEl.style.display =\n",
              "        google.colab.kernel.accessAllowed ? 'block' : 'none';\n",
              "    })();\n",
              "  </script>\n",
              "</div>\n",
              "    </div>\n",
              "  </div>\n"
            ],
            "application/vnd.google.colaboratory.intrinsic+json": {
              "type": "dataframe",
              "variable_name": "ga_universal_summed",
              "summary": "{\n  \"name\": \"ga_universal_summed\",\n  \"rows\": 368,\n  \"fields\": [\n    {\n      \"column\": \"Page Title\",\n      \"properties\": {\n        \"dtype\": \"string\",\n        \"num_unique_values\": 368,\n        \"samples\": [\n          \"Idioms do ingl\\u00eas: aprenda j\\u00e1 as 8 express\\u00f5es mais usadas - Wizard Idiomas\",\n          \"Certificado de Profici\\u00eancia em Ingl\\u00eas: Fa\\u00e7a o exame | Wizard\",\n          \"Aprendendo os animais em ingl\\u00eas com o Little Wiz - Wizard Idiomas\"\n        ],\n        \"semantic_type\": \"\",\n        \"description\": \"\"\n      }\n    },\n    {\n      \"column\": \"Users\",\n      \"properties\": {\n        \"dtype\": \"number\",\n        \"std\": 25292,\n        \"min\": 11,\n        \"max\": 451382,\n        \"num_unique_values\": 78,\n        \"samples\": [\n          468,\n          10079,\n          1366\n        ],\n        \"semantic_type\": \"\",\n        \"description\": \"\"\n      }\n    },\n    {\n      \"column\": \"Sessions\",\n      \"properties\": {\n        \"dtype\": \"number\",\n        \"std\": 35285,\n        \"min\": 0,\n        \"max\": 640895,\n        \"num_unique_values\": 42,\n        \"samples\": [\n          491,\n          22,\n          446\n        ],\n        \"semantic_type\": \"\",\n        \"description\": \"\"\n      }\n    }\n  ]\n}"
            }
          },
          "metadata": {},
          "execution_count": 147
        }
      ]
    },
    {
      "cell_type": "code",
      "source": [
        "ga_universal_summed.info()"
      ],
      "metadata": {
        "colab": {
          "base_uri": "https://localhost:8080/"
        },
        "id": "e8ai1pOj8KHf",
        "outputId": "5c5d6e04-edf5-412c-e5d7-b2085cdbeb7c"
      },
      "execution_count": 148,
      "outputs": [
        {
          "output_type": "stream",
          "name": "stdout",
          "text": [
            "<class 'pandas.core.frame.DataFrame'>\n",
            "RangeIndex: 368 entries, 0 to 367\n",
            "Data columns (total 3 columns):\n",
            " #   Column      Non-Null Count  Dtype \n",
            "---  ------      --------------  ----- \n",
            " 0   Page Title  368 non-null    object\n",
            " 1   Users       368 non-null    int64 \n",
            " 2   Sessions    368 non-null    int64 \n",
            "dtypes: int64(2), object(1)\n",
            "memory usage: 8.8+ KB\n"
          ]
        }
      ]
    },
    {
      "cell_type": "markdown",
      "source": [
        "## Análise Estatística Descritiva"
      ],
      "metadata": {
        "id": "pW0FwBQtAwVd"
      }
    },
    {
      "cell_type": "code",
      "source": [
        "ga_universal_summed['Users'].describe()"
      ],
      "metadata": {
        "colab": {
          "base_uri": "https://localhost:8080/"
        },
        "id": "OnEn74t-8Mue",
        "outputId": "20e38e5d-196d-4473-d570-aa79617a7605"
      },
      "execution_count": 149,
      "outputs": [
        {
          "output_type": "execute_result",
          "data": {
            "text/plain": [
              "count       368.000000\n",
              "mean       2914.423913\n",
              "std       25292.804492\n",
              "min          11.000000\n",
              "25%          11.000000\n",
              "50%          50.000000\n",
              "75%          50.000000\n",
              "max      451382.000000\n",
              "Name: Users, dtype: float64"
            ]
          },
          "metadata": {},
          "execution_count": 149
        }
      ]
    },
    {
      "cell_type": "code",
      "source": [
        "ga_universal_summed['Sessions'].describe()"
      ],
      "metadata": {
        "colab": {
          "base_uri": "https://localhost:8080/"
        },
        "id": "ZMJl7ajWmIlv",
        "outputId": "7ecf5b3a-f79c-41fb-f471-7964f7e2f689"
      },
      "execution_count": 208,
      "outputs": [
        {
          "output_type": "execute_result",
          "data": {
            "text/plain": [
              "count       368.000000\n",
              "mean       3418.149457\n",
              "std       35285.951877\n",
              "min           0.000000\n",
              "25%           0.000000\n",
              "50%           0.000000\n",
              "75%          11.000000\n",
              "max      640895.000000\n",
              "Name: Sessions, dtype: float64"
            ]
          },
          "metadata": {},
          "execution_count": 208
        }
      ]
    },
    {
      "cell_type": "code",
      "source": [
        "print(f\"Mediana = {ga_universal_summed['Sessions'].median()}\")\n",
        "print(f\"Moda = {ga_universal_summed['Sessions'].mode()[0]}\")\n",
        "print(f\"Variância = {ga_universal_summed['Sessions'].var()}\")\n",
        "\n",
        "q1 = ga_universal_summed['Sessions'].quantile(0.25)\n",
        "q3 = ga_universal_summed['Sessions'].quantile(0.75)\n",
        "iqr = q3 - q1\n",
        "print(f\"Diferença do primeiro para o terceiro quartil = {iqr}\")"
      ],
      "metadata": {
        "colab": {
          "base_uri": "https://localhost:8080/"
        },
        "id": "EgFMZR1KAxYY",
        "outputId": "b0797077-4f35-45d1-f1d9-d2ad797a55b5"
      },
      "execution_count": 209,
      "outputs": [
        {
          "output_type": "stream",
          "name": "stdout",
          "text": [
            "Mediana = 0.0\n",
            "Moda = 0\n",
            "Variância = 1245098399.8440866\n",
            "Diferença do primeiro para o terceiro quartil = 11.0\n"
          ]
        }
      ]
    },
    {
      "cell_type": "code",
      "source": [
        "print(f\"Mediana = {ga_universal_summed['Users'].median()}\")\n",
        "print(f\"Moda = {ga_universal_summed['Users'].mode()[0]}\")\n",
        "print(f\"Variância = {ga_universal_summed['Users'].var()}\")\n",
        "\n",
        "q1 = ga_universal_summed['Users'].quantile(0.25)\n",
        "q3 = ga_universal_summed['Users'].quantile(0.75)\n",
        "iqr = q3 - q1\n",
        "print(f\"Diferença do primeiro para o terceiro quartil = {iqr}\")"
      ],
      "metadata": {
        "colab": {
          "base_uri": "https://localhost:8080/"
        },
        "id": "qh3VzaE8mOMO",
        "outputId": "d7527632-6e8d-49f3-b0a2-3d584be1471f"
      },
      "execution_count": 210,
      "outputs": [
        {
          "output_type": "stream",
          "name": "stdout",
          "text": [
            "Mediana = 50.0\n",
            "Moda = 50\n",
            "Variância = 639725959.0841132\n",
            "Diferença do primeiro para o terceiro quartil = 39.0\n"
          ]
        }
      ]
    },
    {
      "cell_type": "markdown",
      "source": [
        "- As páginas com títulos relacionados a ofertas promocionais ou cursos específicos parecem ter um número significativamente mais alto de usuários e sessões.\n",
        "- Existe uma grande disparidade entre as páginas mais e menos visitadas, sugerindo áreas de alto engajamento versus áreas que podem precisar de melhorias ou promoção."
      ],
      "metadata": {
        "id": "ZQh0eMC0miFl"
      }
    },
    {
      "cell_type": "markdown",
      "source": [
        "## Visualização dos dados"
      ],
      "metadata": {
        "id": "mv04JqBl-0zf"
      }
    },
    {
      "cell_type": "code",
      "source": [
        "top_pages = ga_universal_summed.nlargest(5, 'Sessions')\n",
        "\n",
        "# Criar gráfico de barras com Plotly\n",
        "fig = go.Figure(data=[\n",
        "    go.Bar(name='Usuários', x=top_pages['Page Title'], y=top_pages['Users'], marker_color='blue'),\n",
        "    go.Bar(name='Sessões', x=top_pages['Page Title'], y=top_pages['Sessions'], marker_color='red')\n",
        "])\n",
        "\n",
        "# Personalizando o layout do gráfico\n",
        "fig.update_layout(\n",
        "    title_text='Top 5 Páginas por Número de Usuários e Sessões',\n",
        "    xaxis=dict(\n",
        "        title='Título da Página'\n",
        "        # tickangle=-40  # Inclinar os títulos das páginas para melhor visualização\n",
        "    ),\n",
        "    yaxis=dict(\n",
        "        title='Número'\n",
        "    ),\n",
        "    barmode='group'\n",
        ")\n",
        "\n",
        "fig.show()"
      ],
      "metadata": {
        "colab": {
          "base_uri": "https://localhost:8080/",
          "height": 542
        },
        "id": "58iZDJ-b-1-U",
        "outputId": "ab4355c3-4d77-48d7-c1ae-7589d39d9a29"
      },
      "execution_count": 214,
      "outputs": [
        {
          "output_type": "display_data",
          "data": {
            "text/html": [
              "<html>\n",
              "<head><meta charset=\"utf-8\" /></head>\n",
              "<body>\n",
              "    <div>            <script src=\"https://cdnjs.cloudflare.com/ajax/libs/mathjax/2.7.5/MathJax.js?config=TeX-AMS-MML_SVG\"></script><script type=\"text/javascript\">if (window.MathJax && window.MathJax.Hub && window.MathJax.Hub.Config) {window.MathJax.Hub.Config({SVG: {font: \"STIX-Web\"}});}</script>                <script type=\"text/javascript\">window.PlotlyConfig = {MathJaxConfig: 'local'};</script>\n",
              "        <script charset=\"utf-8\" src=\"https://cdn.plot.ly/plotly-2.24.1.min.js\"></script>                <div id=\"40901723-8e9f-4cad-9329-5297adb0405c\" class=\"plotly-graph-div\" style=\"height:525px; width:100%;\"></div>            <script type=\"text/javascript\">                                    window.PLOTLYENV=window.PLOTLYENV || {};                                    if (document.getElementById(\"40901723-8e9f-4cad-9329-5297adb0405c\")) {                    Plotly.newPlot(                        \"40901723-8e9f-4cad-9329-5297adb0405c\",                        [{\"marker\":{\"color\":\"blue\"},\"name\":\"Usu\\u00e1rios\",\"x\":[\"Wizard ONLIFE\",\"Wizard On\",\"Blue Wizard\",\"Blue Friday Wizard\",\"Cursos de Ingl\\u00eas, Espanhol e mais, matr\\u00edculas abertas! - Wizard Idiomas\"],\"y\":[451382,121336,72653,81376,44431],\"type\":\"bar\"},{\"marker\":{\"color\":\"red\"},\"name\":\"Sess\\u00f5es\",\"x\":[\"Wizard ONLIFE\",\"Wizard On\",\"Blue Wizard\",\"Blue Friday Wizard\",\"Cursos de Ingl\\u00eas, Espanhol e mais, matr\\u00edculas abertas! - Wizard Idiomas\"],\"y\":[640895,133375,114332,99762,64403],\"type\":\"bar\"}],                        {\"template\":{\"data\":{\"histogram2dcontour\":[{\"type\":\"histogram2dcontour\",\"colorbar\":{\"outlinewidth\":0,\"ticks\":\"\"},\"colorscale\":[[0.0,\"#0d0887\"],[0.1111111111111111,\"#46039f\"],[0.2222222222222222,\"#7201a8\"],[0.3333333333333333,\"#9c179e\"],[0.4444444444444444,\"#bd3786\"],[0.5555555555555556,\"#d8576b\"],[0.6666666666666666,\"#ed7953\"],[0.7777777777777778,\"#fb9f3a\"],[0.8888888888888888,\"#fdca26\"],[1.0,\"#f0f921\"]]}],\"choropleth\":[{\"type\":\"choropleth\",\"colorbar\":{\"outlinewidth\":0,\"ticks\":\"\"}}],\"histogram2d\":[{\"type\":\"histogram2d\",\"colorbar\":{\"outlinewidth\":0,\"ticks\":\"\"},\"colorscale\":[[0.0,\"#0d0887\"],[0.1111111111111111,\"#46039f\"],[0.2222222222222222,\"#7201a8\"],[0.3333333333333333,\"#9c179e\"],[0.4444444444444444,\"#bd3786\"],[0.5555555555555556,\"#d8576b\"],[0.6666666666666666,\"#ed7953\"],[0.7777777777777778,\"#fb9f3a\"],[0.8888888888888888,\"#fdca26\"],[1.0,\"#f0f921\"]]}],\"heatmap\":[{\"type\":\"heatmap\",\"colorbar\":{\"outlinewidth\":0,\"ticks\":\"\"},\"colorscale\":[[0.0,\"#0d0887\"],[0.1111111111111111,\"#46039f\"],[0.2222222222222222,\"#7201a8\"],[0.3333333333333333,\"#9c179e\"],[0.4444444444444444,\"#bd3786\"],[0.5555555555555556,\"#d8576b\"],[0.6666666666666666,\"#ed7953\"],[0.7777777777777778,\"#fb9f3a\"],[0.8888888888888888,\"#fdca26\"],[1.0,\"#f0f921\"]]}],\"heatmapgl\":[{\"type\":\"heatmapgl\",\"colorbar\":{\"outlinewidth\":0,\"ticks\":\"\"},\"colorscale\":[[0.0,\"#0d0887\"],[0.1111111111111111,\"#46039f\"],[0.2222222222222222,\"#7201a8\"],[0.3333333333333333,\"#9c179e\"],[0.4444444444444444,\"#bd3786\"],[0.5555555555555556,\"#d8576b\"],[0.6666666666666666,\"#ed7953\"],[0.7777777777777778,\"#fb9f3a\"],[0.8888888888888888,\"#fdca26\"],[1.0,\"#f0f921\"]]}],\"contourcarpet\":[{\"type\":\"contourcarpet\",\"colorbar\":{\"outlinewidth\":0,\"ticks\":\"\"}}],\"contour\":[{\"type\":\"contour\",\"colorbar\":{\"outlinewidth\":0,\"ticks\":\"\"},\"colorscale\":[[0.0,\"#0d0887\"],[0.1111111111111111,\"#46039f\"],[0.2222222222222222,\"#7201a8\"],[0.3333333333333333,\"#9c179e\"],[0.4444444444444444,\"#bd3786\"],[0.5555555555555556,\"#d8576b\"],[0.6666666666666666,\"#ed7953\"],[0.7777777777777778,\"#fb9f3a\"],[0.8888888888888888,\"#fdca26\"],[1.0,\"#f0f921\"]]}],\"surface\":[{\"type\":\"surface\",\"colorbar\":{\"outlinewidth\":0,\"ticks\":\"\"},\"colorscale\":[[0.0,\"#0d0887\"],[0.1111111111111111,\"#46039f\"],[0.2222222222222222,\"#7201a8\"],[0.3333333333333333,\"#9c179e\"],[0.4444444444444444,\"#bd3786\"],[0.5555555555555556,\"#d8576b\"],[0.6666666666666666,\"#ed7953\"],[0.7777777777777778,\"#fb9f3a\"],[0.8888888888888888,\"#fdca26\"],[1.0,\"#f0f921\"]]}],\"mesh3d\":[{\"type\":\"mesh3d\",\"colorbar\":{\"outlinewidth\":0,\"ticks\":\"\"}}],\"scatter\":[{\"fillpattern\":{\"fillmode\":\"overlay\",\"size\":10,\"solidity\":0.2},\"type\":\"scatter\"}],\"parcoords\":[{\"type\":\"parcoords\",\"line\":{\"colorbar\":{\"outlinewidth\":0,\"ticks\":\"\"}}}],\"scatterpolargl\":[{\"type\":\"scatterpolargl\",\"marker\":{\"colorbar\":{\"outlinewidth\":0,\"ticks\":\"\"}}}],\"bar\":[{\"error_x\":{\"color\":\"#2a3f5f\"},\"error_y\":{\"color\":\"#2a3f5f\"},\"marker\":{\"line\":{\"color\":\"#E5ECF6\",\"width\":0.5},\"pattern\":{\"fillmode\":\"overlay\",\"size\":10,\"solidity\":0.2}},\"type\":\"bar\"}],\"scattergeo\":[{\"type\":\"scattergeo\",\"marker\":{\"colorbar\":{\"outlinewidth\":0,\"ticks\":\"\"}}}],\"scatterpolar\":[{\"type\":\"scatterpolar\",\"marker\":{\"colorbar\":{\"outlinewidth\":0,\"ticks\":\"\"}}}],\"histogram\":[{\"marker\":{\"pattern\":{\"fillmode\":\"overlay\",\"size\":10,\"solidity\":0.2}},\"type\":\"histogram\"}],\"scattergl\":[{\"type\":\"scattergl\",\"marker\":{\"colorbar\":{\"outlinewidth\":0,\"ticks\":\"\"}}}],\"scatter3d\":[{\"type\":\"scatter3d\",\"line\":{\"colorbar\":{\"outlinewidth\":0,\"ticks\":\"\"}},\"marker\":{\"colorbar\":{\"outlinewidth\":0,\"ticks\":\"\"}}}],\"scattermapbox\":[{\"type\":\"scattermapbox\",\"marker\":{\"colorbar\":{\"outlinewidth\":0,\"ticks\":\"\"}}}],\"scatterternary\":[{\"type\":\"scatterternary\",\"marker\":{\"colorbar\":{\"outlinewidth\":0,\"ticks\":\"\"}}}],\"scattercarpet\":[{\"type\":\"scattercarpet\",\"marker\":{\"colorbar\":{\"outlinewidth\":0,\"ticks\":\"\"}}}],\"carpet\":[{\"aaxis\":{\"endlinecolor\":\"#2a3f5f\",\"gridcolor\":\"white\",\"linecolor\":\"white\",\"minorgridcolor\":\"white\",\"startlinecolor\":\"#2a3f5f\"},\"baxis\":{\"endlinecolor\":\"#2a3f5f\",\"gridcolor\":\"white\",\"linecolor\":\"white\",\"minorgridcolor\":\"white\",\"startlinecolor\":\"#2a3f5f\"},\"type\":\"carpet\"}],\"table\":[{\"cells\":{\"fill\":{\"color\":\"#EBF0F8\"},\"line\":{\"color\":\"white\"}},\"header\":{\"fill\":{\"color\":\"#C8D4E3\"},\"line\":{\"color\":\"white\"}},\"type\":\"table\"}],\"barpolar\":[{\"marker\":{\"line\":{\"color\":\"#E5ECF6\",\"width\":0.5},\"pattern\":{\"fillmode\":\"overlay\",\"size\":10,\"solidity\":0.2}},\"type\":\"barpolar\"}],\"pie\":[{\"automargin\":true,\"type\":\"pie\"}]},\"layout\":{\"autotypenumbers\":\"strict\",\"colorway\":[\"#636efa\",\"#EF553B\",\"#00cc96\",\"#ab63fa\",\"#FFA15A\",\"#19d3f3\",\"#FF6692\",\"#B6E880\",\"#FF97FF\",\"#FECB52\"],\"font\":{\"color\":\"#2a3f5f\"},\"hovermode\":\"closest\",\"hoverlabel\":{\"align\":\"left\"},\"paper_bgcolor\":\"white\",\"plot_bgcolor\":\"#E5ECF6\",\"polar\":{\"bgcolor\":\"#E5ECF6\",\"angularaxis\":{\"gridcolor\":\"white\",\"linecolor\":\"white\",\"ticks\":\"\"},\"radialaxis\":{\"gridcolor\":\"white\",\"linecolor\":\"white\",\"ticks\":\"\"}},\"ternary\":{\"bgcolor\":\"#E5ECF6\",\"aaxis\":{\"gridcolor\":\"white\",\"linecolor\":\"white\",\"ticks\":\"\"},\"baxis\":{\"gridcolor\":\"white\",\"linecolor\":\"white\",\"ticks\":\"\"},\"caxis\":{\"gridcolor\":\"white\",\"linecolor\":\"white\",\"ticks\":\"\"}},\"coloraxis\":{\"colorbar\":{\"outlinewidth\":0,\"ticks\":\"\"}},\"colorscale\":{\"sequential\":[[0.0,\"#0d0887\"],[0.1111111111111111,\"#46039f\"],[0.2222222222222222,\"#7201a8\"],[0.3333333333333333,\"#9c179e\"],[0.4444444444444444,\"#bd3786\"],[0.5555555555555556,\"#d8576b\"],[0.6666666666666666,\"#ed7953\"],[0.7777777777777778,\"#fb9f3a\"],[0.8888888888888888,\"#fdca26\"],[1.0,\"#f0f921\"]],\"sequentialminus\":[[0.0,\"#0d0887\"],[0.1111111111111111,\"#46039f\"],[0.2222222222222222,\"#7201a8\"],[0.3333333333333333,\"#9c179e\"],[0.4444444444444444,\"#bd3786\"],[0.5555555555555556,\"#d8576b\"],[0.6666666666666666,\"#ed7953\"],[0.7777777777777778,\"#fb9f3a\"],[0.8888888888888888,\"#fdca26\"],[1.0,\"#f0f921\"]],\"diverging\":[[0,\"#8e0152\"],[0.1,\"#c51b7d\"],[0.2,\"#de77ae\"],[0.3,\"#f1b6da\"],[0.4,\"#fde0ef\"],[0.5,\"#f7f7f7\"],[0.6,\"#e6f5d0\"],[0.7,\"#b8e186\"],[0.8,\"#7fbc41\"],[0.9,\"#4d9221\"],[1,\"#276419\"]]},\"xaxis\":{\"gridcolor\":\"white\",\"linecolor\":\"white\",\"ticks\":\"\",\"title\":{\"standoff\":15},\"zerolinecolor\":\"white\",\"automargin\":true,\"zerolinewidth\":2},\"yaxis\":{\"gridcolor\":\"white\",\"linecolor\":\"white\",\"ticks\":\"\",\"title\":{\"standoff\":15},\"zerolinecolor\":\"white\",\"automargin\":true,\"zerolinewidth\":2},\"scene\":{\"xaxis\":{\"backgroundcolor\":\"#E5ECF6\",\"gridcolor\":\"white\",\"linecolor\":\"white\",\"showbackground\":true,\"ticks\":\"\",\"zerolinecolor\":\"white\",\"gridwidth\":2},\"yaxis\":{\"backgroundcolor\":\"#E5ECF6\",\"gridcolor\":\"white\",\"linecolor\":\"white\",\"showbackground\":true,\"ticks\":\"\",\"zerolinecolor\":\"white\",\"gridwidth\":2},\"zaxis\":{\"backgroundcolor\":\"#E5ECF6\",\"gridcolor\":\"white\",\"linecolor\":\"white\",\"showbackground\":true,\"ticks\":\"\",\"zerolinecolor\":\"white\",\"gridwidth\":2}},\"shapedefaults\":{\"line\":{\"color\":\"#2a3f5f\"}},\"annotationdefaults\":{\"arrowcolor\":\"#2a3f5f\",\"arrowhead\":0,\"arrowwidth\":1},\"geo\":{\"bgcolor\":\"white\",\"landcolor\":\"#E5ECF6\",\"subunitcolor\":\"white\",\"showland\":true,\"showlakes\":true,\"lakecolor\":\"white\"},\"title\":{\"x\":0.05},\"mapbox\":{\"style\":\"light\"}}},\"title\":{\"text\":\"Top 5 P\\u00e1ginas por N\\u00famero de Usu\\u00e1rios e Sess\\u00f5es\"},\"xaxis\":{\"title\":{\"text\":\"T\\u00edtulo da P\\u00e1gina\"}},\"yaxis\":{\"title\":{\"text\":\"N\\u00famero\"}},\"barmode\":\"group\"},                        {\"responsive\": true}                    ).then(function(){\n",
              "                            \n",
              "var gd = document.getElementById('40901723-8e9f-4cad-9329-5297adb0405c');\n",
              "var x = new MutationObserver(function (mutations, observer) {{\n",
              "        var display = window.getComputedStyle(gd).display;\n",
              "        if (!display || display === 'none') {{\n",
              "            console.log([gd, 'removed!']);\n",
              "            Plotly.purge(gd);\n",
              "            observer.disconnect();\n",
              "        }}\n",
              "}});\n",
              "\n",
              "// Listen for the removal of the full notebook cells\n",
              "var notebookContainer = gd.closest('#notebook-container');\n",
              "if (notebookContainer) {{\n",
              "    x.observe(notebookContainer, {childList: true});\n",
              "}}\n",
              "\n",
              "// Listen for the clearing of the current output cell\n",
              "var outputEl = gd.closest('.output');\n",
              "if (outputEl) {{\n",
              "    x.observe(outputEl, {childList: true});\n",
              "}}\n",
              "\n",
              "                        })                };                            </script>        </div>\n",
              "</body>\n",
              "</html>"
            ]
          },
          "metadata": {}
        }
      ]
    },
    {
      "cell_type": "markdown",
      "source": [
        "## Identificação de Outliers"
      ],
      "metadata": {
        "id": "haK2h9Ow-2Tj"
      }
    },
    {
      "cell_type": "code",
      "source": [],
      "metadata": {
        "id": "rCcdP4zM-2n1"
      },
      "execution_count": 149,
      "outputs": []
    },
    {
      "cell_type": "markdown",
      "source": [
        "# Google Ads"
      ],
      "metadata": {
        "id": "VoQthC8JpzXw"
      }
    },
    {
      "cell_type": "markdown",
      "source": [
        "## Leitura dos dados"
      ],
      "metadata": {
        "id": "f-okIo8mqKy5"
      }
    },
    {
      "cell_type": "code",
      "source": [
        "google_ads_2023"
      ],
      "metadata": {
        "id": "4Tz04qLvA-Yd",
        "colab": {
          "base_uri": "https://localhost:8080/",
          "height": 112
        },
        "outputId": "2be612a5-9187-4d99-e761-1ba8635ee9c1"
      },
      "execution_count": 150,
      "outputs": [
        {
          "output_type": "execute_result",
          "data": {
            "text/plain": [
              "                                            Campaign Campaign status  \\\n",
              "0  [Wizard ON] Google | Search | Help me Buy | Cu...        Eligible   \n",
              "1  [wizard on] youtube | tráfego | help me choose...        Eligible   \n",
              "\n",
              "   Interactions   Conversions  Clicks  Click conversion rate  Avg. CPC  \\\n",
              "0        136185  17611.474371  136185                0.12932  7.490369   \n",
              "1             0      0.000000       0                0.00000  0.000000   \n",
              "\n",
              "   Avg. CPV  \n",
              "0         0  \n",
              "1         0  "
            ],
            "text/html": [
              "\n",
              "  <div id=\"df-95a2036c-9a04-4b60-929e-bf04398d4ea9\" class=\"colab-df-container\">\n",
              "    <div>\n",
              "<style scoped>\n",
              "    .dataframe tbody tr th:only-of-type {\n",
              "        vertical-align: middle;\n",
              "    }\n",
              "\n",
              "    .dataframe tbody tr th {\n",
              "        vertical-align: top;\n",
              "    }\n",
              "\n",
              "    .dataframe thead th {\n",
              "        text-align: right;\n",
              "    }\n",
              "</style>\n",
              "<table border=\"1\" class=\"dataframe\">\n",
              "  <thead>\n",
              "    <tr style=\"text-align: right;\">\n",
              "      <th></th>\n",
              "      <th>Campaign</th>\n",
              "      <th>Campaign status</th>\n",
              "      <th>Interactions</th>\n",
              "      <th>Conversions</th>\n",
              "      <th>Clicks</th>\n",
              "      <th>Click conversion rate</th>\n",
              "      <th>Avg. CPC</th>\n",
              "      <th>Avg. CPV</th>\n",
              "    </tr>\n",
              "  </thead>\n",
              "  <tbody>\n",
              "    <tr>\n",
              "      <th>0</th>\n",
              "      <td>[Wizard ON] Google | Search | Help me Buy | Cu...</td>\n",
              "      <td>Eligible</td>\n",
              "      <td>136185</td>\n",
              "      <td>17611.474371</td>\n",
              "      <td>136185</td>\n",
              "      <td>0.12932</td>\n",
              "      <td>7.490369</td>\n",
              "      <td>0</td>\n",
              "    </tr>\n",
              "    <tr>\n",
              "      <th>1</th>\n",
              "      <td>[wizard on] youtube | tráfego | help me choose...</td>\n",
              "      <td>Eligible</td>\n",
              "      <td>0</td>\n",
              "      <td>0.000000</td>\n",
              "      <td>0</td>\n",
              "      <td>0.00000</td>\n",
              "      <td>0.000000</td>\n",
              "      <td>0</td>\n",
              "    </tr>\n",
              "  </tbody>\n",
              "</table>\n",
              "</div>\n",
              "    <div class=\"colab-df-buttons\">\n",
              "\n",
              "  <div class=\"colab-df-container\">\n",
              "    <button class=\"colab-df-convert\" onclick=\"convertToInteractive('df-95a2036c-9a04-4b60-929e-bf04398d4ea9')\"\n",
              "            title=\"Convert this dataframe to an interactive table.\"\n",
              "            style=\"display:none;\">\n",
              "\n",
              "  <svg xmlns=\"http://www.w3.org/2000/svg\" height=\"24px\" viewBox=\"0 -960 960 960\">\n",
              "    <path d=\"M120-120v-720h720v720H120Zm60-500h600v-160H180v160Zm220 220h160v-160H400v160Zm0 220h160v-160H400v160ZM180-400h160v-160H180v160Zm440 0h160v-160H620v160ZM180-180h160v-160H180v160Zm440 0h160v-160H620v160Z\"/>\n",
              "  </svg>\n",
              "    </button>\n",
              "\n",
              "  <style>\n",
              "    .colab-df-container {\n",
              "      display:flex;\n",
              "      gap: 12px;\n",
              "    }\n",
              "\n",
              "    .colab-df-convert {\n",
              "      background-color: #E8F0FE;\n",
              "      border: none;\n",
              "      border-radius: 50%;\n",
              "      cursor: pointer;\n",
              "      display: none;\n",
              "      fill: #1967D2;\n",
              "      height: 32px;\n",
              "      padding: 0 0 0 0;\n",
              "      width: 32px;\n",
              "    }\n",
              "\n",
              "    .colab-df-convert:hover {\n",
              "      background-color: #E2EBFA;\n",
              "      box-shadow: 0px 1px 2px rgba(60, 64, 67, 0.3), 0px 1px 3px 1px rgba(60, 64, 67, 0.15);\n",
              "      fill: #174EA6;\n",
              "    }\n",
              "\n",
              "    .colab-df-buttons div {\n",
              "      margin-bottom: 4px;\n",
              "    }\n",
              "\n",
              "    [theme=dark] .colab-df-convert {\n",
              "      background-color: #3B4455;\n",
              "      fill: #D2E3FC;\n",
              "    }\n",
              "\n",
              "    [theme=dark] .colab-df-convert:hover {\n",
              "      background-color: #434B5C;\n",
              "      box-shadow: 0px 1px 3px 1px rgba(0, 0, 0, 0.15);\n",
              "      filter: drop-shadow(0px 1px 2px rgba(0, 0, 0, 0.3));\n",
              "      fill: #FFFFFF;\n",
              "    }\n",
              "  </style>\n",
              "\n",
              "    <script>\n",
              "      const buttonEl =\n",
              "        document.querySelector('#df-95a2036c-9a04-4b60-929e-bf04398d4ea9 button.colab-df-convert');\n",
              "      buttonEl.style.display =\n",
              "        google.colab.kernel.accessAllowed ? 'block' : 'none';\n",
              "\n",
              "      async function convertToInteractive(key) {\n",
              "        const element = document.querySelector('#df-95a2036c-9a04-4b60-929e-bf04398d4ea9');\n",
              "        const dataTable =\n",
              "          await google.colab.kernel.invokeFunction('convertToInteractive',\n",
              "                                                    [key], {});\n",
              "        if (!dataTable) return;\n",
              "\n",
              "        const docLinkHtml = 'Like what you see? Visit the ' +\n",
              "          '<a target=\"_blank\" href=https://colab.research.google.com/notebooks/data_table.ipynb>data table notebook</a>'\n",
              "          + ' to learn more about interactive tables.';\n",
              "        element.innerHTML = '';\n",
              "        dataTable['output_type'] = 'display_data';\n",
              "        await google.colab.output.renderOutput(dataTable, element);\n",
              "        const docLink = document.createElement('div');\n",
              "        docLink.innerHTML = docLinkHtml;\n",
              "        element.appendChild(docLink);\n",
              "      }\n",
              "    </script>\n",
              "  </div>\n",
              "\n",
              "\n",
              "<div id=\"df-286a04c3-183f-48cb-a514-a05ea0f5e3ba\">\n",
              "  <button class=\"colab-df-quickchart\" onclick=\"quickchart('df-286a04c3-183f-48cb-a514-a05ea0f5e3ba')\"\n",
              "            title=\"Suggest charts\"\n",
              "            style=\"display:none;\">\n",
              "\n",
              "<svg xmlns=\"http://www.w3.org/2000/svg\" height=\"24px\"viewBox=\"0 0 24 24\"\n",
              "     width=\"24px\">\n",
              "    <g>\n",
              "        <path d=\"M19 3H5c-1.1 0-2 .9-2 2v14c0 1.1.9 2 2 2h14c1.1 0 2-.9 2-2V5c0-1.1-.9-2-2-2zM9 17H7v-7h2v7zm4 0h-2V7h2v10zm4 0h-2v-4h2v4z\"/>\n",
              "    </g>\n",
              "</svg>\n",
              "  </button>\n",
              "\n",
              "<style>\n",
              "  .colab-df-quickchart {\n",
              "      --bg-color: #E8F0FE;\n",
              "      --fill-color: #1967D2;\n",
              "      --hover-bg-color: #E2EBFA;\n",
              "      --hover-fill-color: #174EA6;\n",
              "      --disabled-fill-color: #AAA;\n",
              "      --disabled-bg-color: #DDD;\n",
              "  }\n",
              "\n",
              "  [theme=dark] .colab-df-quickchart {\n",
              "      --bg-color: #3B4455;\n",
              "      --fill-color: #D2E3FC;\n",
              "      --hover-bg-color: #434B5C;\n",
              "      --hover-fill-color: #FFFFFF;\n",
              "      --disabled-bg-color: #3B4455;\n",
              "      --disabled-fill-color: #666;\n",
              "  }\n",
              "\n",
              "  .colab-df-quickchart {\n",
              "    background-color: var(--bg-color);\n",
              "    border: none;\n",
              "    border-radius: 50%;\n",
              "    cursor: pointer;\n",
              "    display: none;\n",
              "    fill: var(--fill-color);\n",
              "    height: 32px;\n",
              "    padding: 0;\n",
              "    width: 32px;\n",
              "  }\n",
              "\n",
              "  .colab-df-quickchart:hover {\n",
              "    background-color: var(--hover-bg-color);\n",
              "    box-shadow: 0 1px 2px rgba(60, 64, 67, 0.3), 0 1px 3px 1px rgba(60, 64, 67, 0.15);\n",
              "    fill: var(--button-hover-fill-color);\n",
              "  }\n",
              "\n",
              "  .colab-df-quickchart-complete:disabled,\n",
              "  .colab-df-quickchart-complete:disabled:hover {\n",
              "    background-color: var(--disabled-bg-color);\n",
              "    fill: var(--disabled-fill-color);\n",
              "    box-shadow: none;\n",
              "  }\n",
              "\n",
              "  .colab-df-spinner {\n",
              "    border: 2px solid var(--fill-color);\n",
              "    border-color: transparent;\n",
              "    border-bottom-color: var(--fill-color);\n",
              "    animation:\n",
              "      spin 1s steps(1) infinite;\n",
              "  }\n",
              "\n",
              "  @keyframes spin {\n",
              "    0% {\n",
              "      border-color: transparent;\n",
              "      border-bottom-color: var(--fill-color);\n",
              "      border-left-color: var(--fill-color);\n",
              "    }\n",
              "    20% {\n",
              "      border-color: transparent;\n",
              "      border-left-color: var(--fill-color);\n",
              "      border-top-color: var(--fill-color);\n",
              "    }\n",
              "    30% {\n",
              "      border-color: transparent;\n",
              "      border-left-color: var(--fill-color);\n",
              "      border-top-color: var(--fill-color);\n",
              "      border-right-color: var(--fill-color);\n",
              "    }\n",
              "    40% {\n",
              "      border-color: transparent;\n",
              "      border-right-color: var(--fill-color);\n",
              "      border-top-color: var(--fill-color);\n",
              "    }\n",
              "    60% {\n",
              "      border-color: transparent;\n",
              "      border-right-color: var(--fill-color);\n",
              "    }\n",
              "    80% {\n",
              "      border-color: transparent;\n",
              "      border-right-color: var(--fill-color);\n",
              "      border-bottom-color: var(--fill-color);\n",
              "    }\n",
              "    90% {\n",
              "      border-color: transparent;\n",
              "      border-bottom-color: var(--fill-color);\n",
              "    }\n",
              "  }\n",
              "</style>\n",
              "\n",
              "  <script>\n",
              "    async function quickchart(key) {\n",
              "      const quickchartButtonEl =\n",
              "        document.querySelector('#' + key + ' button');\n",
              "      quickchartButtonEl.disabled = true;  // To prevent multiple clicks.\n",
              "      quickchartButtonEl.classList.add('colab-df-spinner');\n",
              "      try {\n",
              "        const charts = await google.colab.kernel.invokeFunction(\n",
              "            'suggestCharts', [key], {});\n",
              "      } catch (error) {\n",
              "        console.error('Error during call to suggestCharts:', error);\n",
              "      }\n",
              "      quickchartButtonEl.classList.remove('colab-df-spinner');\n",
              "      quickchartButtonEl.classList.add('colab-df-quickchart-complete');\n",
              "    }\n",
              "    (() => {\n",
              "      let quickchartButtonEl =\n",
              "        document.querySelector('#df-286a04c3-183f-48cb-a514-a05ea0f5e3ba button');\n",
              "      quickchartButtonEl.style.display =\n",
              "        google.colab.kernel.accessAllowed ? 'block' : 'none';\n",
              "    })();\n",
              "  </script>\n",
              "</div>\n",
              "    </div>\n",
              "  </div>\n"
            ],
            "application/vnd.google.colaboratory.intrinsic+json": {
              "type": "dataframe",
              "variable_name": "google_ads_2023",
              "summary": "{\n  \"name\": \"google_ads_2023\",\n  \"rows\": 2,\n  \"fields\": [\n    {\n      \"column\": \"Campaign\",\n      \"properties\": {\n        \"dtype\": \"string\",\n        \"num_unique_values\": 2,\n        \"samples\": [\n          \"[wizard on] youtube | tr\\u00e1fego | help me choose | campanha q1/24 - v\\u00eddeo wizard on | cpc\",\n          \"[Wizard ON] Google | Search | Help me Buy | Curso de Ingl\\u00eas Online | CPL\"\n        ],\n        \"semantic_type\": \"\",\n        \"description\": \"\"\n      }\n    },\n    {\n      \"column\": \"Campaign status\",\n      \"properties\": {\n        \"dtype\": \"string\",\n        \"num_unique_values\": 1,\n        \"samples\": [\n          \"Eligible\"\n        ],\n        \"semantic_type\": \"\",\n        \"description\": \"\"\n      }\n    },\n    {\n      \"column\": \"Interactions\",\n      \"properties\": {\n        \"dtype\": \"number\",\n        \"std\": 96297,\n        \"min\": 0,\n        \"max\": 136185,\n        \"num_unique_values\": 2,\n        \"samples\": [\n          0\n        ],\n        \"semantic_type\": \"\",\n        \"description\": \"\"\n      }\n    },\n    {\n      \"column\": \"Conversions\",\n      \"properties\": {\n        \"dtype\": \"number\",\n        \"std\": 12453.192954427186,\n        \"min\": 0.0,\n        \"max\": 17611.474371,\n        \"num_unique_values\": 2,\n        \"samples\": [\n          0.0\n        ],\n        \"semantic_type\": \"\",\n        \"description\": \"\"\n      }\n    },\n    {\n      \"column\": \"Clicks\",\n      \"properties\": {\n        \"dtype\": \"number\",\n        \"std\": 96297,\n        \"min\": 0,\n        \"max\": 136185,\n        \"num_unique_values\": 2,\n        \"samples\": [\n          0\n        ],\n        \"semantic_type\": \"\",\n        \"description\": \"\"\n      }\n    },\n    {\n      \"column\": \"Click conversion rate\",\n      \"properties\": {\n        \"dtype\": \"number\",\n        \"std\": 0.09144320559846668,\n        \"min\": 0.0,\n        \"max\": 0.1293202215442229,\n        \"num_unique_values\": 2,\n        \"samples\": [\n          0.0\n        ],\n        \"semantic_type\": \"\",\n        \"description\": \"\"\n      }\n    },\n    {\n      \"column\": \"Avg. CPC\",\n      \"properties\": {\n        \"dtype\": \"number\",\n        \"std\": 5.29649072594571,\n        \"min\": 0.0,\n        \"max\": 7.490369017615743,\n        \"num_unique_values\": 2,\n        \"samples\": [\n          0.0\n        ],\n        \"semantic_type\": \"\",\n        \"description\": \"\"\n      }\n    },\n    {\n      \"column\": \"Avg. CPV\",\n      \"properties\": {\n        \"dtype\": \"number\",\n        \"std\": 0,\n        \"min\": 0,\n        \"max\": 0,\n        \"num_unique_values\": 1,\n        \"samples\": [\n          0\n        ],\n        \"semantic_type\": \"\",\n        \"description\": \"\"\n      }\n    }\n  ]\n}"
            }
          },
          "metadata": {},
          "execution_count": 150
        }
      ]
    },
    {
      "cell_type": "markdown",
      "source": [
        "## Análise Estatística Descritiva"
      ],
      "metadata": {
        "id": "d80s9kYRAzEQ"
      }
    },
    {
      "cell_type": "markdown",
      "source": [
        "### Estatísticas Descritivas\n",
        "- **Interactions**: Total de interações com os anúncios, variando de 0 a 136,185.\n",
        "- **Conversions**: Conversões geradas, com uma média de 8,805.73 por campanha.\n",
        "- **Clicks**: Número de cliques, equivalente ao número de interações neste caso.\n",
        "- **Click Conversion Rate**: Taxa de conversão por clique, média de 6.466%.\n",
        "- **Avg. CPC (Custo por Clique)**: Média de $3.75,  com máximo de $7.49.\n",
        "- **Avg. CPV (Custo por Visualização)**: Todos os valores estão em zero, indicando que talvez não haja cobrança por visualização nestas campanhas.\n",
        "\n",
        "\n",
        "### Detalhes da Campanha\n",
        "Aqui estão os detalhes específicos da campanha de Google Ads que apresentou bom desempenho:\n",
        "\n",
        "- **Nome da Campanha**: [Wizard ON] Google | Search | Help me Buy | Custom\n",
        "- **Status da Campanha**: Eligible (Elegível)\n",
        "- **Interactions**: 136,185\n",
        "- **Conversions**: 17,611.47\n",
        "- **Clicks**: 136,185\n",
        "- **Taxa de Conversão por Clique**: 12.93%\n",
        "- **Custo Médio por Clique (CPC)**: $7.49\n",
        "\n",
        "\n",
        "### Detalhes da Campanha que apresentou melhor desempenho\n",
        "Detalhes específicos da campanha que apresentou bom desempenho para identificar elementos chave que podem ter contribuído para seu sucesso.\n",
        "\n",
        "- **Nome da Campanha**: [Wizard ON] Google | Search | Help me Buy | Custom\n",
        "- **Status da Campanha**: Eligible (Elegível)\n",
        "- **Interactions**: 136,185\n",
        "- **Conversions**: 17,611.47\n",
        "- **Clicks**: 136,185\n",
        "- **Taxa de Conversão por Clique**: 12.93%\n",
        "- **Custo Médio por Clique (CPC)**: $7.49\n",
        "\n",
        "### Análise das Métricas\n",
        "- **Taxa de Conversão (12.93%)**: Esta é uma taxa de conversão bastante alta, especialmente para campanhas de pesquisa, o que indica que a campanha está bem otimizada e alinhada com as intenções do público-alvo.\n",
        "- **CPC ($7.49)**: O custo por clique pode parecer alto, mas dada a alta taxa de conversão, o investimento por clique pode estar justificado pelo retorno gerado. Seria útil comparar este CPC com benchmarks do setor para avaliar sua competitividade.\n",
        "\n",
        "### Observações\n",
        "- A primeira campanha parece ser muito mais ativa e bem-sucedida em termos de interações e conversões, enquanto a segunda não teve atividade.\n",
        "- Os dados mostram que há uma grande variação entre as campanhas em termos de eficácia e custos."
      ],
      "metadata": {
        "id": "5ufRX8lCpKAz"
      }
    },
    {
      "cell_type": "markdown",
      "source": [
        "## Visualização dos dados"
      ],
      "metadata": {
        "id": "2MYZwqrq-myf"
      }
    },
    {
      "cell_type": "code",
      "source": [],
      "metadata": {
        "id": "GzrMSxrm-qYs"
      },
      "execution_count": 150,
      "outputs": []
    },
    {
      "cell_type": "markdown",
      "source": [
        "## Identificação de Outliers"
      ],
      "metadata": {
        "id": "c7Ydna_P-q81"
      }
    },
    {
      "cell_type": "code",
      "source": [],
      "metadata": {
        "id": "zIzADxBp-t0R"
      },
      "execution_count": 150,
      "outputs": []
    },
    {
      "cell_type": "markdown",
      "source": [
        "# Correlações e Relações externas"
      ],
      "metadata": {
        "id": "f4ravEENplg5"
      }
    },
    {
      "cell_type": "code",
      "source": [],
      "metadata": {
        "id": "INE6xQibqPf2"
      },
      "execution_count": 150,
      "outputs": []
    },
    {
      "cell_type": "markdown",
      "source": [
        "# Preparação para a Simulação"
      ],
      "metadata": {
        "id": "v3Yxi1kpjElk"
      }
    },
    {
      "cell_type": "code",
      "source": [],
      "metadata": {
        "id": "xK6IlQMljFEo"
      },
      "execution_count": 150,
      "outputs": []
    }
  ]
}