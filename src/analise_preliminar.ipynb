{
  "nbformat": 4,
  "nbformat_minor": 0,
  "metadata": {
    "colab": {
      "provenance": []
    },
    "kernelspec": {
      "name": "python3",
      "display_name": "Python 3"
    },
    "language_info": {
      "name": "python"
    }
  },
  "cells": [
    {
      "cell_type": "markdown",
      "source": [
        "# Template de Relatório de Teste A/B"
      ],
      "metadata": {
        "id": "sAPWyZVkL_X2"
      }
    },
    {
      "cell_type": "markdown",
      "source": [
        "## 1. Introdução"
      ],
      "metadata": {
        "id": "SWdD557qMFwb"
      }
    },
    {
      "cell_type": "markdown",
      "source": [
        "A Pearson está conduzindo um projeto de otimização da landing page da Wizard On, uma página que serve de conversão e captação de leads para o curso online. O objetivo é aumentar a taxa de conversão de usuários em leads em 7% e o volume de leads gerados em 15% no segundo trimestre, comparado ao primeiro trimestre. Esses objetivos foram estabelecidos, após a identificação de desafios na comunicação eficaz da modalidade Wizard On, variações na taxa de conversão de visitas para leads e a necessidade de melhorar a qualidade dos leads gerados. a partir da análise dos dados do Hubspot e a realização de pesquisas qualitativas. Serão utilizados testes A/B para analisar diferentes variáveis da landing page e identificar quais alterações resultam em maior número de envio de formulários de interesse na matrícula."
      ],
      "metadata": {
        "id": "hpdNYpKSMHsF"
      }
    },
    {
      "cell_type": "markdown",
      "source": [
        "### 1.1. Objetivos do teste"
      ],
      "metadata": {
        "id": "jyxMEPufMRwM"
      }
    },
    {
      "cell_type": "markdown",
      "source": [
        "O objetivo deste teste A/B é avaliar se o conjunto de mudança da estrutura da página, o texto do botão do Whatsapp, o texto principal do formulário e o texto do botão de envio do formulário melhora a taxa de conversão na landing page comparando com a versão atual."
      ],
      "metadata": {
        "id": "dEmDcdvZNzni"
      }
    },
    {
      "cell_type": "markdown",
      "source": [
        "## 2. Método"
      ],
      "metadata": {
        "id": "LgLgGhQmNpm5"
      }
    },
    {
      "cell_type": "markdown",
      "source": [
        "### 2.1. Design do Teste"
      ],
      "metadata": {
        "id": "oQcvrJhgNu70"
      }
    },
    {
      "cell_type": "markdown",
      "source": [
        "O teste será conduzido com dois grupos: um grupo de controle que verá a página com as formas de contato atuais, esse grupo é representado por 70% e um grupo experimental que verá a página com esse conjunto de mudanças da estrutura da página e textos de botões e formulário, composto po 6%. Os 24% restantes serão divididos com outras versões da página não controladas nesse teste."
      ],
      "metadata": {
        "id": "n75tU6JkOGmv"
      }
    },
    {
      "cell_type": "markdown",
      "source": [
        "### 2.2. Métricas"
      ],
      "metadata": {
        "id": "LVkt6sktOenI"
      }
    },
    {
      "cell_type": "markdown",
      "source": [
        "#### 2.2.1 Métrica primária"
      ],
      "metadata": {
        "id": "d5kD91bEPEs6"
      }
    },
    {
      "cell_type": "markdown",
      "source": [
        "**Taxa de conversão:** proporção de visitantes que completam o formulário de interesse em comparação com o total de visitantes da landing page.\n"
      ],
      "metadata": {
        "id": "Sc9bFS8ePSe3"
      }
    },
    {
      "cell_type": "markdown",
      "source": [
        "#### 2.2.2 Métricas secundárias"
      ],
      "metadata": {
        "id": "tu1eTv1iPIku"
      }
    },
    {
      "cell_type": "markdown",
      "source": [
        "**Taxa de Cliques (CTR)**: Proporção de cliques no botão de envio do formulário em relação ao número total de visualizações da página.\n",
        "\n",
        "**Tempo de Permanência na Página**: Tempo médio que os visitantes passam na landing page, indicando o nível de engajamento com o conteúdo.\n",
        "\n",
        "**Taxa de Abandono**: Proporção de visitantes que saem da página sem interagir com o formulário ou outros elementos chave."
      ],
      "metadata": {
        "id": "Z8wsNgyNPohH"
      }
    },
    {
      "cell_type": "markdown",
      "source": [
        "### 2.3 Hipóteses Estatísticas"
      ],
      "metadata": {
        "id": "vRlK1RsTSoGy"
      }
    },
    {
      "cell_type": "markdown",
      "source": [
        "#### Realocação de conteúdo-campanha:\n",
        "- H0: Destacar os diferenciais do curso não aumentará a percepção de valor entre os visitantes, resultando em uma maior taxa de conversão.\n",
        "- H1: Destacar os diferenciais do curso aumentará a percepção de valor entre os visitantes, resultando em uma maior taxa de conversão.\n",
        "\n",
        "#### Reescrita do título do formulário:\n",
        "- H0: Um título mais direto e orientado à ação não aumentará a taxa de preenchimento do formulário\n",
        "- H1: Um título mais direto e orientado à ação aumentará a taxa de preenchimento do formulário.\n",
        "\n",
        "#### Reescrita da descrição do botão do formulário:\n",
        "- H0: Um CTA claro e específico não aumentará a taxa de cliques no botão de envio.\n",
        "- H1: Um CTA claro e específico aumentará a taxa de cliques no botão de envio.\n",
        "\n",
        "#### Reescrita da descrição do botão de Whatsapp:\n",
        "- H0: Um CTA específico não reduzirá a confusão entre a funcionalidade do formulário e do Whatsapp dos visitantes, direcionando melhor os leads.\n",
        "- H1: Um CTA específico reduzirá a confusão entre a funcionalidade do formulário e do Whatsapp dos visitantes, direcionando melhor os leads."
      ],
      "metadata": {
        "id": "H5iJnPsvS4EQ"
      }
    },
    {
      "cell_type": "markdown",
      "source": [
        "### 2.4 Justificativa das Mudanças:"
      ],
      "metadata": {
        "id": "0_2RVP1NuVdq"
      }
    },
    {
      "cell_type": "markdown",
      "source": [
        "Para fundamentar as hipóteses estatísticas propostas, utilizamos simulações de Monte Carlo e realizamos entrevistas com usuários.\n",
        "\n",
        "* **Simulações de Monte Carlo:**\n",
        "as simulações de Monte Carlo foram essenciais para analisar o impacto das mudanças na landing page da Wizard On ao longo do tempo. Analisamos dados como pageviews, conversões e tempo de qualificação. Os resultados indicaram que as campanhas promocionais anteriores não atraíram significativamente mais visitantes nem aumentaram as taxas de conversão, logo, tivemos a necessidade de realocar o conteúdo da campanha para destacar os diferenciais do curso, conforme descrito na hipótese da realocação de conteúdo-campanha.\n",
        "\n",
        "* **Entrevistas com Usuários:**\n",
        "as entrevistas forneceram insights qualitativos sobre as experiências dos usuários com a landing page. Os entrevistados relataram confusão sobre o propósito do formulário e pouca interação com o conteúdo. Esse feedback confirmou a necessidade de um título mais direto e orientado à ação (hipótese da reescrita do título do formulário) e um CTA mais claro no botão de envio (hipótese da reescrita da descrição do botão do formulário). Além disso, a confusão entre a funcionalidade do formulário e do botão de WhatsApp destacou a necessidade de um CTA específico para o botão de WhatsApp (hipótese da reescrita da descrição do botão de WhatsApp).\n",
        "\n",
        "#### **Conclusão:**\n",
        "A combinação dos resultados das simulações de Monte Carlo e das entrevistas com usuários forneceu uma base sólida para as mudanças propostas. As simulações mostraram que mudanças anteriores não tiveram impacto significativo, enquanto as entrevistas revelaram problemas específicos de usabilidade. Isso nos levou a formular e testar hipóteses estatísticas focadas em aumentar a percepção de valor, a taxa de preenchimento do formulário, a taxa de cliques no botão de envio e a clareza entre as funcionalidades do formulário e do WhatsApp, visando otimizar a captação e conversão de leads na landing page da Wizard On."
      ],
      "metadata": {
        "id": "X4Wl5Auzs0cf"
      }
    },
    {
      "cell_type": "markdown",
      "source": [
        "## 3. Preparação dos Dados"
      ],
      "metadata": {
        "id": "L2Gk1bqvRPws"
      }
    },
    {
      "cell_type": "markdown",
      "source": [
        "O sistema de coleta de resultados é essencial para a realização de testes A/B eficazes. Ele garante que todas as métricas relevantes sejam medidas com precisão e que os dados coletados sejam utilizados para tomar decisões informadas, otimizando o desempenho do site e alcançando os objetivos desejados.\n",
        "\n",
        "O Google Analytics é uma ferramenta para a coleta e análise de dados de sites e aplicativos. Ele permite rastrear o comportamento dos usuários, medir o desempenho de marketing e avaliar a eficácia de estratégias específicas.\n",
        "Com ele, serão coletados dados sobre as métricas que serão listadas a seguir, que serão disponibilizados por meio de um Looker, uma ferramenta de visualização de dados e criação de relatórios interativos oferecida pelo Google.\n",
        "\n",
        "Link do Looker: https://lookerstudio.google.com/u/1/reporting/9f79f5d0-c235-4898-8189-4e7961620ce7/page/p_7sns6g2egd"
      ],
      "metadata": {
        "id": "qu2OJOOtTrtn"
      }
    },
    {
      "cell_type": "markdown",
      "source": [
        "### 3.1. Descrição dos Dados"
      ],
      "metadata": {
        "id": "hhnUESl2Twx1"
      }
    },
    {
      "cell_type": "markdown",
      "source": [
        "- **`Event name`**: Identificação do evento teste A/B\n",
        "\n",
        "- **`Active users`(Usuários ativos)**: Número de usuários únicos ativos em um período específico, coletado por meio de cookies e identificadores de usuário.\n",
        "\n",
        "- **`inteli_ab_test`**: Identificação das páginas de teste B\n",
        "\n",
        "- **`Sessions`**: Número de sessões na página em determinado período de tempo."
      ],
      "metadata": {
        "id": "8KLfK6jrT3sF"
      }
    },
    {
      "cell_type": "markdown",
      "source": [
        "## 4. Análise Preliminar dos Resultados do Teste A/B\n",
        "\n",
        "A análise preliminar foi realizada com o objetivo de fornecer uma visão inicial sobre o desempenho das versões B em comparação com as versões A da landing page da Wizard On. Realizamos testes T para avaliar a significância estatística das mudanças implementadas e analisamos os resultados obtidos a partir dos dados no locker.\n",
        "\n",
        "Os dados coletados para o teste A/B entre 4 de junho e 11 de junho incluem as seguintes métricas:\n",
        "\n",
        "* **Active Users:** número de usuários ativos que interagiram com a página.\n",
        "\n",
        "* **Sessions:** número de sessões realizadas pelos usuários.\n",
        "\n",
        "Os dados foram categorizados com base nos valores do parâmetro inteli_ab_test:\n",
        "\n",
        "- Página padrão e (not set): 7.093 usuários ativos e 7.465 sessões.\n",
        "\n",
        "- g1: 564 usuários ativos e 574 sessões.\n",
        "\n",
        "- g3: 533 usuários ativos e 549 sessões.\n",
        "\n",
        "- g4: 385 usuários ativos e 390 sessões.\n",
        "\n",
        "- g2: 375 usuários ativos e 379 sessões.\n",
        "\n",
        "- g5: 348 usuários ativos e 352 sessões.\n",
        "\n",
        "\n"
      ],
      "metadata": {
        "id": "KPxylZr8EPPY"
      }
    },
    {
      "cell_type": "markdown",
      "source": [
        "### 4.1 Ferramentas utilizadas para a Análise dos Dados"
      ],
      "metadata": {
        "id": "Bs8s7fIVXL-O"
      }
    },
    {
      "cell_type": "markdown",
      "source": [
        "\n",
        "**Python:** Utilizado para cálculos estatísticos e simulação de cenários.\n",
        "\n",
        "**Bibliotecas Python:** scipy.stats para o teste t, numpy e pandas para manipulação de dados.\n",
        "\n",
        "**Locker**: Para esta análise, utilizamos o Locker, que nos permitiu acessar e manipular os dados necessários para conduzir as comparações e avaliar os impactos das mudanças implementadas."
      ],
      "metadata": {
        "id": "7nH6pmiyFQOL"
      }
    },
    {
      "cell_type": "markdown",
      "source": [
        "### 4.2 Comparação detalhada entre as Versões A e B\n",
        "As comparações foram feitas entre as seguintes versões:\n",
        "\n",
        "**Versão A:** Combinação de \"Página padrão\" e \"(not set)\": TOTAL.\n",
        "\n",
        "**Versão B:** g1, g2, g3, g4, g5.\n",
        "\n",
        "Nota: A quantidade de sessões e usuários ativos nas versões A e B difere devido à divisão do teste em 70% para a versão A (Página padrão e (not set)) e 30% para as versões B (g1, g2, g3, g4, g5).\n",
        "\n"
      ],
      "metadata": {
        "id": "Efn79Us5Fccf"
      }
    },
    {
      "cell_type": "markdown",
      "source": [
        "#### 4.2.1 Observações Iniciais baseadas nos dados coletados"
      ],
      "metadata": {
        "id": "78bvzJcIXN3J"
      }
    },
    {
      "cell_type": "markdown",
      "source": [
        "\n",
        "- A versão TOTAL possui a maior taxa de conversão (8,3%).\n",
        "- As versões g1 a g5 possuem taxas de conversão menores, variando de 5,4% a 6,3%.\n",
        "A análise inicial sugere que as mudanças nas versões g1 a g5 não resultaram em um aumento na atividade dos usuários em comparação com a Página padrão.\n",
        "Recomendação de Ações Específicas\n",
        "Refinamento das Versões B: Avaliar e ajustar os elementos das versões g1 a g5 para tentar aumentar a interação dos usuários.\n",
        "Novos Testes: Realizar novos testes A/B com ajustes baseados nos insights obtidos."
      ],
      "metadata": {
        "id": "sZ6Rpj0lGvt3"
      }
    },
    {
      "cell_type": "markdown",
      "source": [
        "## 5. Testes Estatísticos"
      ],
      "metadata": {
        "id": "k1qKf0jzVXu9"
      }
    },
    {
      "cell_type": "markdown",
      "source": [
        "Avaliar os cenários de pior caso (worst case) e melhor caso (best case) é fundamental para uma análise estratégica robusta. Isso ajuda a entender a gama de possíveis resultados de uma intervenção, permitindo uma melhor preparação e tomada de decisões informadas a partir da:\n",
        "1. **Gestão de Riscos:** O cenário de pior caso ajuda a identificar riscos e desenvolver estratégias de mitigação.\n",
        "\n",
        "2. **Oportunidades de Melhoria:** O cenário de melhor caso revela o potencial máximo das mudanças, destacando as melhores oportunidades de crescimento.\n",
        "\n",
        "3. **Tomada de Decisão Informada:** Compreender os extremos possíveis dos resultados fornece uma base mais sólida para a tomada de decisões.\n",
        "\n",
        "4. **Planejamento Estratégico:** A análise de cenários permite uma abordagem equilibrada, facilitando a alocação de recursos e a definição de prioridades.\n",
        "\n",
        "Neste estudo, buscamos aumentar a taxa de conversão e o volume de leads com várias mudanças na estratégia de marketing. Avaliar os cenários de worst case e best case nos permitirá validar a eficácia das mudanças propostas e planejar para possíveis resultados inesperados."
      ],
      "metadata": {
        "id": "_WBe6gcSm5Ok"
      }
    },
    {
      "cell_type": "markdown",
      "source": [
        "Para calcular os cenários de worst case e best case com variabilidade, foi utilizada a análise estatística para considerar a incerteza nos resultados. Assumimos que queremos alcançar uma meta de aumento na taxa de conversão de 7%, mas também consideramos o pior cenário, onde as mudanças podem ter um impacto menor do que o esperado.\n",
        "\n",
        "1. **Definir Metas e Cenários:**\n",
        "   - **Meta (Best Case):** Aumentar a taxa de conversão em 7%.\n",
        "   - **Worst Case:** Considerar um aumento menor, digamos 3%.\n",
        "2. **Cálculo da Variabilidade:** Para calcular a variabilidade e estabelecer intervalos de confiança, utilizamos o desvio padrão das taxas de conversão.\n",
        "3. **Realizar Teste t:** Comparar as taxas de conversão dos grupos de controle e experimental para verificar se há uma diferença estatisticamente significativa.\n",
        "4. **Simular Cenários com Variabilidade:** Calcular os cenários considerando a variabilidade nos dados."
      ],
      "metadata": {
        "id": "QjReEaA41erq"
      }
    },
    {
      "cell_type": "markdown",
      "source": [
        "### 5.1 Teste t"
      ],
      "metadata": {
        "id": "3Eiqg4J4XePO"
      }
    },
    {
      "cell_type": "markdown",
      "source": [
        "\n",
        "Para validar as mudanças propostas e avaliar seu impacto, utilizaremos o teste t. Este teste estatístico é amplamente utilizado para comparar as médias de dois grupos e determinar se há uma diferença estatisticamente significativa entre eles.\n",
        "\n",
        "O objetivo do teste t é verificar se as mudanças implementadas resultaram em uma melhoria significativa nas métricas de interesse, como a taxa de conversão e o volume de leads. Ele nos ajuda a entender se as diferenças observadas são devido às intervenções ou se podem ter ocorrido por acaso."
      ],
      "metadata": {
        "id": "JVQBZcXLuDXC"
      }
    },
    {
      "cell_type": "markdown",
      "source": [
        "### 5.1.1 Roteiro de Análise"
      ],
      "metadata": {
        "id": "6BbBVyK6XgPc"
      }
    },
    {
      "cell_type": "markdown",
      "source": [
        "\n",
        "#### **Definição das Hipóteses**\n",
        "\n",
        "Para cada intervenção, definimos uma hipótese nula (H0) e uma hipótese alternativa (H1):\n",
        "- **H0 (Hipótese Nula):** As mudanças não resultam em uma melhoria significativa.\n",
        "- **H1 (Hipótese Alternativa):** As mudanças resultam em uma melhoria significativa.\n",
        "\n",
        "#### **Coleta de Dados**\n",
        "Reunimos os dados dos grupos de controle e experimental:\n",
        "- **Grupo de Controle:** Representa a situação antes das mudanças.\n",
        "- **Grupo Experimental:** Representa a situação após as mudanças.\n",
        "\n",
        "#### **Cálculo das Estatísticas Descritivas**\n",
        "Calculamos as estatísticas descritivas para ambos os grupos, como média e desvio padrão, para entender a distribuição dos dados.\n",
        "\n",
        "#### **Realização do Teste-t**\n",
        "Utilizamos a função `ttest_ind` da biblioteca `scipy.stats` para realizar o teste t. O teste comparará as médias dos dois grupos e fornecerá o valor t e o valor p."
      ],
      "metadata": {
        "id": "UscIbnYSjZIw"
      }
    },
    {
      "cell_type": "markdown",
      "source": [
        "### 5.1.2 Aplicação dos cenários"
      ],
      "metadata": {
        "id": "kYPNMq8mpKQo"
      }
    },
    {
      "cell_type": "markdown",
      "source": [
        "A partir do TAPI estabelecido entre a Pearson e o Inteli, o objetivo, colocado no *best case*, visa aumentar em 7% a taxa de conversão. Para o cenário de *worst case*, não foi estabelecido nada pelo stakeholder. Entretanto, a partir de cenários externos de aplicações de teste A/B com o objetivo de aumentar a taxa de conversão, foi estabelecida uma diminuição de 5% da taxa de conversão.\n",
        "\n",
        "Exemplo de suporte para o worst case:\n",
        "1. Booking.com:\n",
        "\n",
        "\n",
        "* Contexto: Booking.com é amplamente conhecido por sua cultura de testes A/B. Em um exemplo, uma mudança na cor do botão de ação principal levou a uma diminuição na taxa de conversão.\n",
        "* Resultado: A taxa de conversão caiu de 2.7% para 2.2% devido à mudança na cor do botão de \"Book Now\". Isso demonstrou que nem todas as mudanças visuais intuitivas resultam em melhorias​​.\n",
        "\n",
        "2. Unbounce:\n",
        "\n",
        "* Contexto: Um estudo de caso no Unbounce mostrou que mudanças na cópia do botão de call-to-action podem impactar negativamente as conversões.\n",
        "* Resultado: Alterar o texto do botão de \"My\" para \"Your\" na chamada de ação resultou em uma redução de 24.95% na taxa de conversão em uma página de pagamento. Este resultado inesperado destacou a importância de testar hipóteses aparentemente sólidas​​.\n",
        "\n",
        "Esses exemplos demonstram que mesmo mudanças bem-intencionadas podem ter impactos negativos significativos na taxa de conversão. Portanto, é prudente considerar um cenário de pior caso onde as alterações podem diminuir a taxa de conversão em vez de aumentá-la."
      ],
      "metadata": {
        "id": "SKK2YXlUpgEC"
      }
    },
    {
      "cell_type": "markdown",
      "source": [
        "### 5.1.3 Código para as Análises\n"
      ],
      "metadata": {
        "id": "LxUwTHvoKXXD"
      }
    },
    {
      "cell_type": "markdown",
      "source": [
        "Para manter a consistência dos dados fornecidos pela Pearson, optamos por utilizá-los diretamente ao invés de exportar dados do locker, uma vez que poderiam haver diferenças que impactariam nos cálculos.\n",
        "\n",
        "**Ferramentas Utilizadas:**\n",
        "- Pandas: Para manipulação e análise de dados.\n",
        "- Scipy: Para realizar testes estatísticos.\n",
        "- Numpy: Para cálculos matemáticos.\n",
        "- Matplotlib: Para visualização dos dados."
      ],
      "metadata": {
        "id": "sdG6Z3ZvKHow"
      }
    },
    {
      "cell_type": "code",
      "source": [
        "import pandas as pd\n",
        "import scipy.stats as stats\n",
        "import numpy as np\n",
        "import matplotlib.pyplot as plt"
      ],
      "metadata": {
        "id": "1gq0nVyhn-OH"
      },
      "execution_count": null,
      "outputs": []
    },
    {
      "cell_type": "markdown",
      "source": [
        "Dados fornecidos (04/06 - 11/06):"
      ],
      "metadata": {
        "id": "GoL2kDScYaOC"
      }
    },
    {
      "cell_type": "code",
      "source": [
        "data = {\n",
        "    'Grupo': ['Total', 'G1', 'G2', 'G3', 'G4', 'G5'],\n",
        "    'Sessoes': [6491, 460, 303, 443, 309, 278],\n",
        "    'Conversoes': [541, 28, 19, 26, 19, 15]\n",
        "}\n",
        "\n",
        "df = pd.DataFrame(data)\n",
        "df['Taxa de Conversao (%)'] = df['Conversoes'] / df['Sessoes'] * 100"
      ],
      "metadata": {
        "id": "Vyt-pvpHH0LA"
      },
      "execution_count": null,
      "outputs": []
    },
    {
      "cell_type": "code",
      "source": [
        "df['Taxa de Conversao (%)']"
      ],
      "metadata": {
        "colab": {
          "base_uri": "https://localhost:8080/"
        },
        "id": "n24L5eEjH33o",
        "outputId": "b257330e-3691-49db-ccc4-58e08ae22ca0"
      },
      "execution_count": null,
      "outputs": [
        {
          "output_type": "execute_result",
          "data": {
            "text/plain": [
              "0    8.334617\n",
              "1    6.086957\n",
              "2    6.270627\n",
              "3    5.869074\n",
              "4    6.148867\n",
              "5    5.395683\n",
              "Name: Taxa de Conversao (%), dtype: float64"
            ]
          },
          "metadata": {},
          "execution_count": 57
        }
      ]
    },
    {
      "cell_type": "markdown",
      "source": [
        "Estatísticas descritivas\n",
        "- Metas de Best Case e Worst Case:"
      ],
      "metadata": {
        "id": "eFb0ZFaxMBYH"
      }
    },
    {
      "cell_type": "code",
      "source": [
        "\n",
        "mean_cr = df['Taxa de Conversao (%)'].mean()\n",
        "std_cr = df['Taxa de Conversao (%)'].std()\n",
        "\n",
        "best_case_increase = 0.07  # 7%\n",
        "worst_case_decrease = 0.05  # 5%\n",
        "\n",
        "best_case_cr = mean_cr * (1 + best_case_increase)\n",
        "worst_case_cr = mean_cr * (1 - worst_case_decrease)\n",
        "\n",
        "\n",
        "print(f\"Média da Taxa de Conversão: {mean_cr:.2f}%\")\n",
        "print(f\"Desvio Padrão da Taxa de Conversão: {std_cr:.2f}%\")\n",
        "print(f\"Meta Best Case: {best_case_cr:.2f}%\")\n",
        "print(f\"Meta Worst Case: {worst_case_cr:.2f}%\")"
      ],
      "metadata": {
        "colab": {
          "base_uri": "https://localhost:8080/"
        },
        "id": "z_mfdUMAIBP5",
        "outputId": "6cc6aa1d-a653-4c10-93a0-eec7ebf4c7c6"
      },
      "execution_count": null,
      "outputs": [
        {
          "output_type": "stream",
          "name": "stdout",
          "text": [
            "Média da Taxa de Conversão: 6.35%\n",
            "Desvio Padrão da Taxa de Conversão: 1.02%\n",
            "Meta Best Case: 6.80%\n",
            "Meta Worst Case: 6.03%\n"
          ]
        }
      ]
    },
    {
      "cell_type": "markdown",
      "source": [
        "Grupos de controle e experimental:"
      ],
      "metadata": {
        "id": "E5Hp98phNQEK"
      }
    },
    {
      "cell_type": "code",
      "source": [
        "controle = df[df['Grupo'] == 'Total']['Taxa de Conversao (%)']\n",
        "experimental = df[df['Grupo'] != 'Total']['Taxa de Conversao (%)']"
      ],
      "metadata": {
        "id": "z2P3CQsbIFUg"
      },
      "execution_count": null,
      "outputs": []
    },
    {
      "cell_type": "markdown",
      "source": [
        "Realização do Teste T:"
      ],
      "metadata": {
        "id": "9nz9AE9qLr1Z"
      }
    },
    {
      "cell_type": "code",
      "source": [
        "t_stat, p_val = stats.ttest_ind(controle, experimental)\n",
        "print(f\"Valor t: {t_stat:.2f}\")\n",
        "print(f\"Valor p: {p_val:.2f}\")"
      ],
      "metadata": {
        "colab": {
          "base_uri": "https://localhost:8080/"
        },
        "id": "QDxstJt2LiX0",
        "outputId": "120d6751-d94b-4374-a3a4-5b6fe0668185"
      },
      "execution_count": null,
      "outputs": [
        {
          "output_type": "stream",
          "name": "stdout",
          "text": [
            "Valor t: 6.31\n",
            "Valor p: 0.00\n"
          ]
        }
      ]
    },
    {
      "cell_type": "markdown",
      "source": [
        "Cálculo da Amostra mínima:"
      ],
      "metadata": {
        "id": "CDGe2y9JLvfW"
      }
    },
    {
      "cell_type": "code",
      "source": [
        "def calc_sample_size(alpha, beta, effect_size, std_dev):\n",
        "    z_alpha = stats.norm.ppf(1 - alpha / 2)\n",
        "    z_beta = stats.norm.ppf(beta)\n",
        "    n = ((z_alpha + z_beta) ** 2 * (2 * std_dev ** 2)) / effect_size ** 2\n",
        "    return np.ceil(n)\n",
        "\n",
        "alpha = 0.05\n",
        "beta = 0.2\n",
        "effect_size = mean_cr * 0.07  # 7% de aumento\n",
        "sample_size = calc_sample_size(alpha, beta, effect_size, std_cr)\n",
        "\n",
        "print(f\"Tamanho mínimo da amostra: {sample_size}\")"
      ],
      "metadata": {
        "colab": {
          "base_uri": "https://localhost:8080/"
        },
        "id": "m2YB0rhnIPOG",
        "outputId": "932617a6-35ea-41f2-d9f8-851bcef0ad92"
      },
      "execution_count": null,
      "outputs": [
        {
          "output_type": "stream",
          "name": "stdout",
          "text": [
            "Valor t: 6.31\n",
            "Valor p: 0.00\n",
            "Tamanho mínimo da amostra: 14.0\n"
          ]
        }
      ]
    },
    {
      "cell_type": "markdown",
      "source": [
        "Cálculo do poder do teste:"
      ],
      "metadata": {
        "id": "iuFA_kmPLziF"
      }
    },
    {
      "cell_type": "code",
      "source": [
        "def calc_power(sample_size, alpha, effect_size, std_dev):\n",
        "    z_alpha = stats.norm.ppf(1 - alpha / 2)\n",
        "    z = (effect_size / std_dev) * np.sqrt(sample_size / 2)\n",
        "    power = stats.norm.cdf(z - z_alpha)\n",
        "    return power\n",
        "\n",
        "power = calc_power(sample_size, alpha, effect_size, std_cr)\n",
        "print(f\"Poder do teste: {power:.2f}\")"
      ],
      "metadata": {
        "colab": {
          "base_uri": "https://localhost:8080/"
        },
        "id": "YvYu0QG6IR3M",
        "outputId": "31ff4122-bbdb-4a92-b436-6f51f1b7cbe2"
      },
      "execution_count": null,
      "outputs": [
        {
          "output_type": "stream",
          "name": "stdout",
          "text": [
            "Poder do teste: 0.21\n"
          ]
        }
      ]
    },
    {
      "cell_type": "markdown",
      "source": [
        "Visualização dos resultados:"
      ],
      "metadata": {
        "id": "0X7vlahQL3iy"
      }
    },
    {
      "cell_type": "code",
      "source": [
        "import matplotlib.pyplot as plt\n",
        "\n",
        "plt.figure(figsize=(10, 6))\n",
        "plt.bar(df['Grupo'], df['Taxa de Conversao (%)'], color='skyblue')\n",
        "plt.axhline(y=mean_cr, color='r', linestyle='--', label='Taxa de Conversão Média')\n",
        "plt.axhline(y=best_case_cr, color='g', linestyle='--', label='Meta Best Case')\n",
        "plt.axhline(y=worst_case_cr, color='b', linestyle='--', label='Meta Worst Case')\n",
        "plt.xlabel('Grupo')\n",
        "plt.ylabel('Taxa de Conversão (%)')\n",
        "plt.title('Taxa de Conversão por Grupo')\n",
        "plt.legend()\n",
        "plt.show()"
      ],
      "metadata": {
        "colab": {
          "base_uri": "https://localhost:8080/",
          "height": 564
        },
        "id": "7KlysgplIT4N",
        "outputId": "60d17ac9-fd78-4aad-aa0e-13d184ab3d04"
      },
      "execution_count": null,
      "outputs": [
        {
          "output_type": "display_data",
          "data": {
            "text/plain": [
              "<Figure size 1000x600 with 1 Axes>"
            ],
            "image/png": "[encoded data removed]"
          },
          "metadata": {}
        }
      ]
    },
    {
      "cell_type": "markdown",
      "source": [
        "### 5.3 Interpretação dos Resultados"
      ],
      "metadata": {
        "id": "V2b7pmVhj-mI"
      }
    },
    {
      "cell_type": "markdown",
      "source": [
        "- **Valor p:** Se o valor p for menor que 0,05, rejeitamos a hipótese nula (H0) e aceitamos a hipótese alternativa (H1), indicando que as mudanças tiveram um impacto significativo.\n",
        "- **Valor t:** O valor t nos dá uma medida da diferença entre as médias dos dois grupos em relação à variabilidade dos dados."
      ],
      "metadata": {
        "id": "U2HpPbdCsayH"
      }
    },
    {
      "cell_type": "markdown",
      "source": [
        "### 5.4 Recomendações\n"
      ],
      "metadata": {
        "id": "k7cNhnr9LFME"
      }
    },
    {
      "cell_type": "markdown",
      "source": [
        "\n",
        "- **Refinamento do Teste A/B:** Considerar ajustes nas variações experimentais para melhorar a taxa de conversão, dado que nenhuma das variações atuais superou o grupo de controle.\n",
        "\n",
        "- **Aumento do Tamanho da Amostra:** Para aumentar a robustez dos resultados, recomenda-se aumentar o tamanho da amostra.\n",
        "\n",
        "- **Análise Comparativa Detalhada:** Realizar uma análise mais precisa comparando com as mudanças realizadas pelos outros grupos para identificar áreas de melhoria. Esta abordagem permitirá entender melhor quais mudanças específicas tiveram impacto positivo ou negativo, facilitando a tomada de decisões mais informadas sobre futuras propostas para o Teste A/B."
      ],
      "metadata": {
        "id": "2EYjfCRSTI_R"
      }
    },
    {
      "cell_type": "markdown",
      "source": [
        "### 5.5 Considerações Finais\n"
      ],
      "metadata": {
        "id": "D88hs38RRdNB"
      }
    },
    {
      "cell_type": "markdown",
      "source": [
        "\n",
        "Além da análise dos dados de conversão, examinamos detalhadamente os eventos da página atual antes e depois da implementação do teste A/B. Esta análise foi realizada em dois períodos distintos:\n",
        "\n",
        "- Semana Anterior ao Teste A/B: De 27 de maio a 3 de junho.\n",
        "- Semana do Teste A/B: De 4 de junho a 11 de junho.\n",
        "\n",
        "Nosso objetivo foi entender como os eventos da página se comportaram antes e depois das mudanças. No entanto, devido à falta de acesso exclusivo aos eventos da nossa página B, comparamos as mudanças observadas em todos os eventos após a implementação das 5 novas páginas."
      ],
      "metadata": {
        "id": "0bxcnI9UTKms"
      }
    },
    {
      "cell_type": "markdown",
      "source": [
        "27/05 - 03/06\n",
        "\n",
        "![image.png](data:image/png;base64,iVBORw0KGgoAAAANSUhEUgAAAq0AAAHOCAYAAACy1DDCAAAAAXNSR0IArs4c6QAAAARnQU1BAACxjwv8YQUAAAAJcEhZcwAADsMAAA7DAcdvqGQAAKvjSURBVHhe7N0LXNP1/j/w17iOq0NRmYoy1BTUEtISzEpQT2J1TnLqHOXkOYV1zgnrnJOczv+X1O+cAvudkjqnojoVdaoDnjLwlDk7mtOywCtTUUBFhoIwuY77gMH+3+/2QTauG2ywwfvZY/H5fPbddxcQXvvscxFoOSCEEEIIIcSGObCvhBBCCCGE2CwKrYQQQgghxOZRaCWEEEIIITaPQishhBBCCLF5FFoJIYQQQojNo9BKCCGEEEJsHoVWQgghhBBi8yi0EkIIIYQQm0ehlRBCCCGE2DwKrYQQQgghxOZRaCWEEEIIITaPQishhBBCCLF5FFoJIYQQQojNo9BKCCGEEEJsHoVWQgghhBBi8yi0EkIIIYQQm0ehlRBCCCGE2DwKrYQQQgghxOZRaCWEEEIIITaPQishhBBCCLF5FFoJIYQQQojNo9BKCCGEEEJsHoVWQgghhBBi8yi0EkIIIYQQm0ehlRBCCCGE2DwKrYQQQgghxOZRaCWEEEIIITaPQishhBBCCLF5FFoJIYQQQojNo9BKCCGEEEJsHoVWQgghhBBi8yi0EkIIIYQQm0ehlRBCCCGE2DwKrYQQQgghxOZRaCWEEEIIITaPQishhBBCCLF5Ai2HlQkZF9pa2qFuUEPd2IbWpja0NfOXdl17u1qDNnU7NK0adLR3cpcOtNSp2S277fRzReXCKXBxEHAXBzgLcKPMf3UWdF9cHB3gxrVNcXHiLs6YKnS+UfbgriOEEELI4Ci0kjGlgw+cdS1o5y+1zbqvFwprUc8F1Cau3qxSwxI/8t+vCcAHbqwyDHxo5cMrH2L1YVZfDnR3xU0eQtzEfZ3q6syOJoQQQsYvCq3E7mg7tdBerEPnBRW71KKD+9qRV4Oyp6ayo7oV1LahtrWT1SzDUqHVFBOcHPUBVndhYZZdPKmnlhBCyDhBoZXYtMb2BpQ1lkDZVMp9LUVFcznm503Bsoc17AhjZf/rz0rdmqaKcPaMktUsYyRD60CmCZ1xk7sQy0QeCPPxRJjIE5NdnNi1hBBCyNhBoZXYjPbONpQ0FKO04QrOVeXgOhdQNZ3t7Fpjf1qxkJWM9RVaO6b54HhOOatZhq2E1r7MdnfVhVc+xC6b4I7QCR7sGkIIIcR+UWglo6ZepcQVTRmK6y6huP4ylE3X2DWD6y+0Kp+ehk4vR1brlq3sPZlqOGw5tPbk6iDQhdiu3tiISd40rIAQQojdodBKRoy2sRGa8/nQ5BWgs+ACKiTeeH/hFXateeIjFsCxXcBq3aoemYK2ma6s1m08h9a+hHPhdY2vty7ALufKFGEJIYTYOgqtxKo6LlxE+9lz0Bw7gc7y3uNK//pbd1YyzyOxszHlYu/UqH5yDmomtrJaNwqt/fN0csTqSV64mwXYW72H9j0hhBBCrIlCK7EobXMzNKfP6i7tP2Sz1v79/RF3qIWsYoYfy5Zg/v/2DqIdmyS4Luk9SYtCq+n4MbErJnohXOSBlVyQncPVCSGEkNFGoZUMm7amFu2ncqDJOQ3N2XOs1TQnHpwHmW8Jq5nujtJbsHxDB6sZiJqOsqW9P+w+U9+B5ua+J3UNxVgOrYb4ARjrpogQNXmC7jLLzUV/BSGEEDLCKLSSIemsqYHmxCm0n8hBR34BazVf1V3BSA0uZjXTzWufjZ9E9J0a+1pBQOHgDGVZA6sN33gJrYb4nb744NoVYqfRpgeEEEJGEIVWYjJtSws0R0+g/dgJaHLN61Htj2bWNCRHqVjNdBMdJ+Kx8GmsZqyv0Frp7YHCi9WsNnzjMbQa4nfyMgywtDYsIYQQa6NJw2RQ/Mf+LSn/QMPmJ9Dy/ocWC6w8pytl8O4wf1BrTUcN2t373uXKUd273U1IocqSmjo6sUtZi1+dVeCm73IRc6YIn3F1Db0HJoQQYiUUWkmfrl/LReunGWh8ciuak/+O9qyj7BrLC63zZSXzVK/re5a7u2PvEOzqRD/q1qJq70B6WQ1+Jr+MBUfO438ulOJkXTO7lhBCCLEM+ktOjJy9dhAfHXsGb8p/D+Xh/+jGrlpbgHJovaDVoazQg3NL7/VbafrQyLjYpMb/FSmxNCsPa09ewnsllahp73vLXUIIIcQcFFoJapuV+KbgA7z8zUPYJd+OwspTuvYLa3uPDbWGSSVDmyBVPaeNlYw51/UeHuDQ2fdQAmI9X1fW4fFzVxB85Dzi8q7iYHU9u4YQQggxH4XWcUxRfRqf5STiVVkMvi1MQ4PaeKJSrlsRK1mXU1EJPDrN7wutnNzISsYcqnsvbSVoo96+0XK9tR1vXanAquMXEZ5dgGTFdVxT9/2GgxBCCOkPhdZx6EzpN3jvh9/hg+ytyC07xFp7U7VWQnGXH6tZV2jdZFYyXaVr36sBOPSxkYC2mUKSLchWNSK+oAShP+Tpxr5earLspg+EEELGLgqt44RW24lsRSb+duiX+Pz0S7haa9oKAOclLaxkXYHXzR/XWqepgzqgj9uVNLFCtw51O1yEtK6oraho0+jGvvLh9Xd5V3GmniZuEUIIGRiF1jGuVdOMw5c+wV8PPAjp+RRUN5Wya0yT35qLRrEnq1mPb0nfH/UPpvrO3kFUW9YMB23vH22RiLYjtTWNHZ14/UqFLrzy41+Pqnq/4SCEEEJ4FFrHqJb2Bhy88CFe5sLqwQv/RFOb+Qv4dykI92Yl63EqLIFQa35PaM3ividYuXX07oH19KLQaqv47yK/0kBYdj5+cUYBWbXldi8jhBAyNlBoHWPU7Y26lQBe+eZnOHzpX2jrGP6YwfMTSljJukJV5o9rrZK0spIxF3XvZa88aIMBu5BWVo3I4xewPucyvqqoY62EEELGOwqtY0RHZzsOXfyYC6s/160E0N7Rd5gbioqWayhZNpXVrGdOxRBWEJjUd4+cc0PvnZlogwH7svt6Le47dUm329YJ2qyAEELGPforPgZkFX2uC6uyix+hrcM6E6fy5vVeRsrSJvcxgWowlU59ryDgWNN7iStn+mm3S/xuW8uy8rC1oAQltFQWIYSMW/Rn3I7JS/fj74d/hX15bw9rzKopctvOoFXUe3tUS3K6XAJnrSOrmaaxoxHNwb0/9ne43ntYhCNtMGC3+O/cq4rrCMsuwCtFSrR39u5JJ4QQMrZRaLVDl6tykJr1B2Se/iuqGkdmvKmW+y//romsZiVcqLy1zvxhCNV39DGBq7R3j7OgrYOViL3iNyV45kIpwo7m419lffeyE0IIGZsotNqRmuYyfC5/Cf88+kcU15xlrSPn/CQlK1nPnErzx7VW3dy7B1Vb3HvL0M4Wy43zJaPrVF0zHj6jwL0nL+Eb2h6WEELGBQqtdoKfZPWa7GGcufYNaxl5ZS3FUIaaP8PfHJNLzJ9wUzWzjxUStIBbp3EPbGdzO5xdzBt+QGzb3so6rD5+EY+du4LLzfSmhBBCxjIKrTbufPl3+PuhX+kmWdmCvAXWHUvocrkUAm3v5aoGUunT97JILq29f7wnTLDuuFwyOt4vqcRdxwrwztVK1kIIIWSsodBqo2qayvBpzov496m/oKppZMatmuKsNg8dLlZc71SjwdJ688a1VjnWsJIxlz6WvfL0pg0Gxqpr6nb89vwVRMsvI6eOdtYihJCxhkKrDfr+8mf4+7e/wrmyw6zFdrR3qFEQad01W+dUmtcb2tLRjIZbe4+FdVT1nnjl7kYbDIx1mcpa3HXsAv5aZP0x2IQQQkYOhVYbUlKbj/ezfo//5v8DnZ22O9P9vLiKlaxjaqn541qrl/ceq+pQ0XuMo5szjWkdDxo7OvH/LpRi1fGLOFxDW8ISQshYQKHVRhy88CHe/WELrtTkshbbdaXlEqqCrLf8lWtRGSuZrjq4d8h3KOs9QcuFfuLHlYPV9Vh57AKe5QJsMxdkCSGE2C/6Ez7K+JD69pHf4vClf7EW+5Af0sfaqBaibW3DkgY/VjNN5czevbPaK7172BxpUfpx6aUipW7IwBcV1t2EgxBCiPVQaB1Fsgv/1A0HKKu7yFrsR66TdR/z3ArzxrVWefdeq1PbrIGr1ngMq0N77+1dyfhwsq4JPzlViP+5UMqviEYIIcTOUGgdBeV1hUjlwuqhS5+wFvvT1F6HS6umsZrlTb3Wx9qrA6gQ9L3UkUub8RjWTnU7K5Hx6v+KlLqxrkdVjayFEEKIPaDQOsKOKnbjrSO/RrEdjF0dzHl/6+1EJLxs3rjW9s521N3RewUB1x65pKOxFY4O5q0DS8YeWXW9Lri+fqWCtRBCCLF1FFpHSEtDIT499QL2nn+Ttdi/S+o81EkmsJpladVqLG40c73WZb1XBnCs6z1Ba8JEN1Yi41lTRyd+l3cVMWeKcKWljbUSQgixVRRaR0L5XrgdjoCqdA9rGDsKllovAM6rdGcl01QH9x6v6ljVO4x4etEGA6RbelkNVh2/gF3KWtZCCCHEFlFotbZzfwa+uxdoLsGjLi2scezIdS9mJcvzM3Nca+X03isICPpY9srTnTYYIMYKm1vxkPwy4gtK0EYrTBBCiE2i0GotaiVw5H7g/F9YA+Bcfx5bvMbW3ve1rRUovlPMapYlLCpnJdNUedWxkoGrvSfbCJ0ptJK+JSuuY9WJizhO28ASQojNodBqDcr9wIHbgLLewwGmKqW4z9uX1caG87PN38HKJE3NuLlxCqsM7npn70k12tpWOGuNf8xdaFMsMoAjNQ2IOnEJ6WXVrIUQQogtoNBqaRdeBb79kW44QH9uq5RittCb1exfnjoXzX6erGZZ86tNH9eq1XaiZnXv8aqu7cYbIThq6eNfMrDqdg1izijwYqH5u7MRQgixDgqtlnRiM3B6K6sMQNOIn2nN++jb1uWHWyeE+5W2spJpqm7r/SPt0mIcUh3ae68oQEhfnr9Uhl+dLUa9hn5mCCFktFFotYTGIuDgCqAolTUMzq3mGGK9xk5va+6E/nuWh8NNoWQl09TM7715gFNdj55V2mCAmOGja1WIOnkJ8norDYMhhBBiEgqtw6U8wAXW5UDV96zBdAHK/+Buz7ExvrVSfQ3XbjdvXVWTNDRhQdNkVhlchbh3sHCsNg6pmgbzViUg5IfaRl1w3VVew1oIIYSMNAqtw1H0HvDtGv1KAUO0siEbPk5jY0WB8/Os04M5v9qDlQZX5d47VDgoe4dUEW0wQMykbG3HQ6eL8H9mrmpBCCHEMii0DlVuAnDicVYZOgfd+q1jo+fvbPsZtE2w/ML9066ZvltRZUcVOjx7/FiX9F6+yIs2GCBD9D8XruGxc1egoQl9hBAyoii0DsXxR4C8JFYZPlGlDD/3nshq9kvL/Vdw1yRWsxwPhXn7w9dEuLCSnra8GY49lr3y8DBeUYAQc7xfUon7TxWiuq33LmyEEEKsg0KrOdrrgG/vART/ZA2Ws6D8c4R62H9wPed7nZUsR1tXj/ktpo/9rV7CCgZcO4w3FHBzpsVayfDsq6zD2pOXUNRs3goXhBBChoZCq6kaC4FDKwHlf1mD5d2rzmcl+3WtRQHlYtMnTpkqqMr0dWCrb+o9nMBVbfyj7uJEP/pk+E7UNel20KKVBQghxProL7cpqo9xgTUCqJWzBuvQbfPqaf+TsgoWCljJcqaXmT7Jq2JK7zGsTvWdrKTnrDWuEzJUiuZW3HXsAg5XN7AWQggh1kChdTB8z+rhVQPucGVJU69Lcb+db/N6VpCHTgv3ZHoWmT6utUpYy0rdHGuMQ69AQ6GVWE6DpgMrj1/AF9dVrIUQQoilUWgdSMnn+jGsmkbWMDKWVu1DoKsXq9mfVk0zClb7sZplaFV1mNti2iSvmo4atE8x/tF2uG487lBLGwwQK/hJTiE+vlbNaoQQQiyJQmt/ij8Gsh5klRHW3oCfwfITmkZSntjyi7AvqDY9yFevNF5BAKXGYw47G2mDAWIdvzyrwBtXzFvxghBCyOAotPbl8rvAsV+yyuhwrzmKWG/73eZV0XIR1fMtuxrC9HLTlxeqDmWFLsUNEHD/ddF2auE1YWxs6kBsz1N5V5FYSJsQEEKIJVFo7enSm8DJX7PK6Aoo/w9W2vE2r/khPXo7h8mjqJKVBlcV2HsFAWGPZa8mWGEjBEK6PHfpGrZfpuBKCCGWQqHV0KXXgZwnWcU23N2QDZGTfYarXOdLrGQZgppazFb7sNrAKif3nsnt2mr84+7hYdlQTUhP2y5ew6sK+x7qQwghtoJCaxddYP0dq9gOfpvXWFf7XLy8sb0WlyLFrGYZC6pNGzJR6dJ7TK1zg/G2m24utMEAsb6tBSV46yqNcSWEkOGi0MrjhwTYYGDtIqqQYYOdbvN6fmY9K1nGdGUHKw2svqMOaonxcAAnlfFtXRwtv54sIX2JO38VH5RWsRohhJChoNB6+R82NySgL8H8Nq/u9hdcL6nzUR8wgdWGz1th+h/+mhXOrKTnUGHcY+0E455XQqwpNrcY6WWWX1WDEELGi/EdWos/Ak7+hlVs372t9rnNa/5t7qxkAZU1CGg1bVxr1WLjUCq41sJKeo60wQAZYTFnipBJGxAQQsiQjN/QWvo5cOxXrGIf+G1e4+xwm9dcdwUrWcaCGtPGtVZJjNdi1V7pMTmrjTYYICMvOqcQeysouBJCiLnGZ2jlt2b9YZQ2Dhgmv+tS3OdlX8tg1bZWoHiF5XbI8i8zrYe0cpLxeFqtugNCbfeQgY6m3stiETIS7j1ViIPVlh3vTQghY934C63VR7nAGs0q9um26n0IFNrXNq/nZ1tuByrvK6Ztk1np1Ps4w2WvtO0d8PCiZa/I6Fh1/CIuNNHObIQQYqrxFVobLul7WDVNrMFO8du8au1r7ce81rNonuLBasMjuF6FGa2DT+5q6mhCU7DxZCznJuNxrt4T3FiJkJE3/7tzqOXePBFCCBnc+Amt7Sog6yGgpZQ12Dd73Oa14A7LPd6bVSJWGljtHT2XvTIeWuDpYRxqCRlpN32XC5oSSAghgxs/oTXrZ4DqNKuMDfw2r3d7TmI123duwjVWGr6ZZaYtV1V5s3EccKg0XvbKTWgcagkZaVVtGtx5tIDVCCGE9Gd8hNbjjwDK/awytqxsOAaRo31s83pdXYprt01hteHxvmLaepfVs4yXuRKUG48hFNIGA8QG/FDbqFvHlRBCSP/GfmjNTQAU/2SVsceh+apdbfOaN98y4/cE5RWY1j74ZLQKnx7LXF0xHs/sRJmV2Ah+x6yES5b7NIIQQsaasR1ai97jUlISq4xdokoZfm4n27ye1ZxFu7dleoZvrhl8k4FKgfEOWtq6VjhrHVmN+wegoUkwxHYkFZbjFYV9TbIkhJCRMnZD6/VvgBOPs8rYt6D8c4S4m7ZT1Gjq1Hag4C7LrDM7U8kKA1B3tqDhVuPJVsL27nGsgjYNKxFiG54pKMG7JaZvV0wIIePF2AytTQrg2CZWGT/ubbvASrbt3GTL9CRNKK5lpYHVLDeebOXczAqczmbaYIDYnl+fK8an5ab9fBNCyHgxNkMrvz1rSzmrjB8udeewxQ62eS1tKcL1W4bf2+pQdh1T2j1ZrX9VC4yHADjXda8o0Nmqgbs7LXtFbM/v8q/iTIPxRELSt/SyGmw4XYTgI+cx/dAZLPr+PH55VoHd1yn4EzKWjL3Qyg8JqPyOVcafqdeluNfb9rd5zV9kmRlQi2sHH8tbNdP4D79DdTsr6XmLbD/ok/Hnems74gtKaA3XARyoqsfNXECNOVOEf5fXIL+xBWXqdpzjwv7H16qxPucy7jhagBN1Bh+vEELs1tgKrRf/pp98Nc7dXvU1Alxte5vXXEE+Oh2H/+M36/rg4bfCq46V9BzKjUOshydt5Ups0zdcKOODK+ntX2XVWHPiInIH6Y3mlxMLz87Hvkrj3wOEjDqVFFvEYmzZp2INZDBjJ7RePwjI/8Aq41x7PTbAtmcgqzXNuLDaj9WGTnRl8H/slYJKVmJKjJe9cqcNBogNe01xHR9eq2Y1wuN7Th8+o2C1wWm0Wmzkjlc028/ygIRRKyE/lI8xGetEQVj/bALWB5m2wyMZK6G1jfuFfuIxViE83TavXra9zet5sWkbBAzEoaQcvhp3Vutbe2c7VCu6l9nSXm+BI/dfF1ensTdKhowtfG/rSfqI+4aEi+Zvx61q1+D5S2WsRuxGlQyJEZnIZ9WxRYKIJ+MQEcCqZFCOf+awsv06+jBQnc0qpIuosQDaiUtQ3GabkzlUmmrMbw+Ae7XxLlXm6gz0h8KjntX6Ftg0Az5Z3ctbddwxCe0O+glaTl5uKClv1JVNdXW2CHKav0VGSEtHJy42qbFh2iQ4Ccb3jhgn65rw/y4MbROGsw0t2OzvC2+n7jet/arKh+yLz5D59RHkVwjgI/aHj+Hwd40K+cel+HKnFIey8qF09IF4hg+MRsgXSpH8gxPC5wmgOCpF5gEVAkP8uWMUkL6SDaflcyEozIb0i/1QSULh33Vjo/t2wzSJGJ59fSDEHZf93y/x2VeHuh+jOhupb+TChzv3jUUQzXqsblCe/hKffsIde1EJN3EQxGy+q7pUji8z0iH9Rs79XZkMf0mPczDGx3nB338yhIZ9A33dV04x1JP8IZnYfUbFnmR8sPs7fPf9Jag8lMjPyka+YzBCZxjcq6mvVX9uPBYfqApkyNyZif3Hi6FynYy5fr0n+vLPbf/eTHzJ3Z/8qgrOk+feeH2MmPS9USH7wxTkeoVjbtf0DBNfmy6qAu7nZ89n3GvNvTZ9/ZyOMfbfxZS3HSjNZBXS08rG45jgaLtjNgtCh//YJNcH/zGuDDKefOXS0n0bh06a6kJs37c1DTS+lcOP8x2Og9U9dsnrRY38DzcjMCwBUrUYIUuC4FaYis1LI5F0lL3BLk5HTFAoEjLL4bYwBCEL3ZD/aiSCNqVzcdRAlRzxJ7KRvikcWz7OMfiIWwn5M1nI3hmD8KfSkGOwLK9izxaEG913CmIWrUPyaeM397rjFm1BaqEbgpaEQKyWIWHtOiTszoL0GTl3D4zZjzUUcem18OHuW1wlRXxIIDbvzof8tXUIfTwVCmEQQuYIkfN2H+fgXjv+uOBNKfrjlojRsi8BoSu2QGq4SzG7r8xHI7j70j8uiWcOUtYGIfKlbO4sej5zuccbIuECnlj3HEO4i2FgVezs+X3iXyuD75Mp2GORPhWJ6FflwBzufmbUQvpsOAIfTUX+jf4MNbJfjNQ9tyzd/XGveVUm9/qE97o/k7833DkV++IhN1yW2cTXhrsXpG8MROjzGSjXvdbc8z+3A5FBMUgfwztCC7QcVrY//AYCh1ezCumPanIEkm30k0UvZxF+8/HwhjF0zpqGV6IGHvG0qHkeon7U3TWq2RyIiun6IOs00QNH8swbM/j9mgB84MYqhIygfywMwOP+tr9CiLU8elYxrDG+z84WI+mm6azWm/poEsL/AKTs24Yww6GGxVywaQxC1EK+UQVVlQgio2+DAqlR4VD8UYHElSxYcecShGVgm0zGtRmeLBtJgnBkPHcQshcicOMaLhyve1CBrYcSEWF4eEEK1m1QISGbe0z8qU8nI3xtDrZkp2Gj4UfLGi7IPBqOmE+2IEvLHatrNPOxHslC4h3dwVD9fQLCH0yFanUyDn68ERLWrj9HIOS/rcWb9+kfrPpQAiRvS5CVHguJQW+nigtmQR+GQv7ZRuhmMvRzX+BC8pZFKQg5shexc1hbaTqi/RWIv/F89NQnkxDxJJB8gGs37OnkQ/rqvYg+lIb1M1jbQHSP5U1sTM9C2obuZ8e/btkvRiEOych6LkzXo6yu4v7O+IqMepfVB+IheS0IWVLuOfMNZn1vlEh/SAzF01psW6ZrMOu1UXGPR8Q9HkOK99YhXLEViu0RffaC2zv77WnVNAGnnmAVMhBb3ua1oV2Fwkgxqw2Nw5UyiDoGTpA9VxBwrOkeKqClDQaIHeF7W7NVxpMJx5O2YXaztHUOdAIVZB8nIPSZOOPAygsIY4GV1zME8iQIDlMiX9njDfTqOMQaBdYuEYjbZBBYOfI9KVA/EWscWHnzY7F1dQIyjuj72eT7dsDthUTjUMRzkmDj0/EIYVU9Mx+rYVDiCO9Yh2ilEhsfNwysPAkiNqxHxrmuvlbutduVhJjHYowCK0+0Ng6JqlTsLWQNvD7uC77hiHpAinzFYD2l3H19kIBg/vvU86P5gI2Ifzyfe9Nh3Ac8oMXxiDcKrDwRwn4bj9Dn0yBjL5OwR2DlCYNCEb5PeaP31LzvTT9MfG16BlaeZFE4lIVK7hUam+w3tJ6K4xLPJVYhg7HlbV7zZpo3nrQvIapJrNS3ys4KaB26/1gJlN3/8DvU7XAR0gBVYh8aNB149oL5E5HGimnD/Lcqdh3o9rUoL45A2KK+QqYx1cl0JD8Rjcg1kTcuWz9mVxoSuaHvt9QiuPXIJbWVcig+2Gx0Tv1lHZL2+UHB9/RBjdpaJcLm9AxZjK+4R7i0xGNdj+A+Jgu5ceFUqen6Xcq/dn6QvrTO6H70l81IVcigNPwYvM/7EsFHDPY8B6KGqqr/75N4hgQyLmibbHUIgljRiO61LIeq609UowLSD+Ox2fC5bUpEFrt6KN+bPpn62lTJkf7KFkQbPp4/pLIrxyb7DK1F3Del+CNWsaImP+z8IRKbd0fjpzmTWWP/mmpn4+9f/wQ/3RWNDV+swd+Le6yV2jIdb+uu/wl+eWgBLo5wB9+9rba5zesF9XnUzxzeEAGJcuCJFZ3aTtSu6v4LIbhmPDlNJOpeXYAQW3e4pgF/vjS0yUj2bpnIg5WGZpnPQLfnwoJnj3DVB/6j6agn8xD0TBoO7j9445I8zN3D3bikEvVshtE5b1xyy5Gxgf9wXQgfHz9kF/bTk1hVbjTO1FqPtTf+tRMj9lWDx2xwybpk8BG4ReShZ0dxl5buD9JMw52ov5jc/ZdCicwnIpGmicGOLw2e28cJCGdHmPu9GRa1HEn3xSFv4VakSQ0ez2ux7ICxyf5Ca2MhkPMkq1hP0/XF2CxdhhyXYjyx8mt8dHOPtT57apyNJNkilPodxd9+/DW236JC7olIbL/SFZQccSx3KUokB/H5g/9B0rTJ+N/T06EfVemMYyfuxNeDzQ8YJpf6c4iz0W1e85cN7w/RxJLBJ2dUL+3+cddeaYCA+6+LpxeFVmJf/lJYjsODTioae9ZP9YHfgL2l/bvF2x3hor6menfxQ8iKMGRIDSe89JZ/4E2In4hFVECP36fG8z3NFrQkDhm7ZYN+tBuyNh4tb6Xe+Ni6mwLpr+6AnNV41nqsvfGvnRBpBwzv3Vr8ELY2FBlf9vV9UiB7Txa23WHSB/F6n6RB1sfkJfX3eyFdFoEQfmysMgsZn2zElsdCYLSJYo+AbM73ZljOSfGmeAti10pgtNS4xjZXC7IU+wutOb8DOqz8TVH74+/fB2DK4gN4ZellhIqa4DHIEhq5Fxfh4uTT2LZYiRkuTZAEHMefFzYj5/RNuKg7QojaRhXunKH/IzNDpEJ7I9fGldsrFuC9hmsIHYFNrPz4bV69bG8Sx3mPK6w0NI6Ka/DqGDh4Vs03/i0t7Oj+ptIGA8Qe/aVwfK47yk+mGor/CRx8Q5OgR5IRfWA9Yt+TQ9UVSNRK3Wzy4Bf1IUmyOBpZe2RQGAQW5b4EJO4xIyj1QbR2K5I18Yh+PhP5N3p71VAeSkL045nds84Xb0Xas0psXhqNpJ1SyA7JINudgs0R6yALisV6dhjPWo+1L7rXLjMam9/Ixo0RWBoV5Du3IPqVIcY1TxHEyEJOAaurVPrvwYMJ/XyfYrBVmIzYrglmplhcjjcfTYC0tDsCq06nIvZBGaJfi9UPHfALQvgyKfYeMkijqnykvvqmce+pGd+bYZkTgujsDOOwrZQi4WWpaeNm7ZR9hdYLrwLlUlaxnoqS2cjxOo8n5po62cED11SOmDK5GoYjbGZMUcKjbSKKdKdRw4f7x/ddqT6ZlqpEcPbk2jq98OXpKVh762VM0V1jfbdXfw2JjW3zWs39srlyx/B2yApVDTyEo0ps/P10UXcPKRA6je+1L4l9Gq/DBJ6cNQWbpg88jr2nPwRMxc/EJkxI9QzDtgMyrLuUgHB/AQQC7iKJQJpP9yxy0dodkK7gjvEPRPiaSIQvCsbWwmjseNqkEYsDkGDjxzlI9JIiNozdtyAY6z8RIu6F9fqZ94zkwfeRdygekqp8yE/KIS/1QWx6Ht5/OJgdoWe9x9oH3Wu3FxEliYiQsMfvH44EeTgSHxtilBJFYeuXQchcqT9f4KY05PPZkr+vfT2+T4vWI9MnEfIPek4aG8TcLUj7IBzyZ0Ih1r3mAoQ+m491B6TYtqwr/AYhbmci1K9wxyyKRGREMII3psLn6UREsyO6mPq9GRbuddmxLwKy+8QIDOMeTxj3eJ5WIHo7d7/skLFIYDdLXtWdA75exCrW5IwjR+7H+8Kz2NApwUdXvdDu0I6bZh/HMzcrIeoz5nvga9k9+FK8H28FGXxc1zQbz0oXIfCu/2Azn0hb/PDxD8vwZa0jnH0K8Jc7z0N05W4823Qeby+u5O555DRPXIaXWgfeSWqkLXC5GVEfDfbBWP+u3x2Efwb132Pr6zgZseFTWQ1o/81sVE5lA4un+yD7VLm+bAJa8orYkkO3zcPdk2zrjehIeOL8Fbx9dZChW5z/mS3G9gGWuRpLdMtO8ctLfWwccscfOVLWxKP/VdxDsPXjHYgqToLgVQnKu5bjsiL63gyf/fS0nt7KCtYmREUjlzeLF+Cg61m88uMv8bewq2i/vBzx5/p7Z9+E6aIOVFROMhqL1NQgwjV+u9CutwVuSmxa9R98/mAGdq46j5swHTvPNeOx4JENrDx+m9dHvW1rm9fzbWfRMmXoQXpSycDj+6o6KqHx7P6Rd6zV74jFc6QNBogdG6/DBN5aMAtf3joHa3wnsBZjP54iwqHb5429wKqWI/nxJMgMPs7WqZIh+dlURD8YQaGIC6VxXZOT+rxwgdUaLxJ9b6zKPkLrxb8Byv2sYm382FPAI+Ao/qwbn9qOGdNOY9utlVBdmo1jPQZdd1k0qwii64uRdNoPpW0eUFxdjD9n+6ONi7FT+pxj5Ijcc4tx/ebzuH2UNqySlP8Hd3ra1vjW/OWDLzXTH6fLpXDvHPjFrI3ovt6hovuXiqCtO8ASYm/G82oC93HB9L9L56Jq1WIc5gIqH2KPLJuP+tUh+A9XvnviGOyBFoZg/QNA6loJBHPD9UsdRQRDvCgJtU/JsIMt9k9GAX1vrMr2hwfwqwXsCwY6LT7VsR+T8f6uO1G0+GtsNxzTWjcfT+z3w/1Rh3FPPxPdVcqb8fKxQN1SVh6+RfjdvA68/4MIG378A1b0zFLVN2PzqTb8eVUBXEpuw/Ycf5RyzzF04Xfc7VQY3lx603V6zMKrTkGo09jGAvtThTOx6UNWGYKsn83FkYn9//G+/9ASBD2vD6uCmybg2gZ9b7ODuzN+KDJ9JjYNDyC2aLwOExjXGlVsIpIQIqNp7cQkGrVuHVarvHb0vbE42+9pPfOnEQysvGZwb9y5HzTzXxqR31ls/zH/8f9/8NHKswhsm4QKz2pIenX+eeDrM/5YtvgSZjTNxfbTHdi0LgOf33ccPgV3ImPoOxSazaHpCjY7286OUNfVV1G2tHvcqbkCKwceaFE9t/u5aou7NzXobG6Hs8vAa70SYuvG6zCBcc1TxAUi/kKhaEicrBgo6XtjcbYdWos/AUr7H0ZtHU2YP7UdFSXTUWowzFFVOwUVDipMN7V3rW0yPj83GTfNKUHP7Y9VVxbjI4/T2DClg8vIHij1UmEGH2xdlLjD3xlt/QxBsBZRlQw/s6FtXs8HDf2j+klXu4NoX6qmGvSet3VA2Nm91NWECfSLhdg3fpjAy0Vm7ARECCF2xHZDq4YLF2f/h1VG1k03yRHasAB/PhkARZMzSssWI+nUZMwIvoxFulfMERcvLMf2/EnG6zN3OqKpSYTc4gX4y/47cZALpr+fbbzMEt/Leqq0A0/cck0/BMC9CTMaRCjlOwDb/PB9STtcRmHJ0IXln2Oxm20E17Oas9B4DG1qmnPhVQi1/b+AFW41rKTn2tbdu+rpTRsMEPv3ikKJC009JoEQQsgYYLuhNXcb0DJKEwuEJXh2zXHc2nQznpXej98fm4IZNx9E0o3lrBxwvXoycqvcYRRJKxfhl9K7sSNvEqYsPIj377qMKb1e4SZELj+KFV2del6X8OxiR3y8Nxo/3XMbaud/h2jzlh+0mPvabWOb106tBvkRg2+b25+Quv6HF9RqatE2pTuouhh0zLrzG2kTYueq2jTU20oIGZNscyJWVRZwcDmrkJGknBqFlMbR76WZ4RaIDR8MbZxEWWQwPrmpjz35mF++uQR+n+qfY2dMAJRz9MMR2sQ+OCU3ba1WmohFbN0Xt87B/fwAfUIIGSNss6f13POsQEaarWzzWtpShIpFQ3sck0t6DskwVhXKChzHyu4BHi62+7kDIWaj3lZCyFhje3+mFR8A1w+yChkNt9f8FwFCT1YbPXk3D+3H0/lyKRy1/d+2enYrK3HKmlmB32DAPjaHI8QUP9Q2UnAlhIwpthVaO9uAc//LKmTUtNVhAwbfGtHach3yh/YT2tGBJfX9j2ut8jUYyHq1u1fWoX2El20gxMrG06SsVo0WOaUdOFyowZky2iyEkLHItkLr+b8AzaWsQkaTe3X2qG/zqtY0oWD1NFYzz9yK/lcCqHDpXkFAW98GF7baQKd6JNcDJsT6xsOkrENcSI3+qBlu/68et77WiJVvN2FxciPc/lSPX6Q140QJBVhCxgrbCa2Nl4C87axCbIEtbPN6flotK5lncmn/41rrO+qglnQvqeXarv9n0NHYCkcHga5MyFjxQWkVvqxQsdrYEr9HjQgupGaebUfPKcVqjRZpOe247W+NSDxgMCSIEGK3bCa07vzsSxQ5rmU1YisiG47B23Hg/fytqUh9AbU3+bCa6VwKB14ureZOg2Wvmrv/GUyYSEsCkLFnLPa2/ubzFiQfNi2MPve1Gtv2UXA1ci4F4YJwpJxjdULsgE2E1qKiIpzKK8dbR4PxaWMiqh1vZteQ0ebQfAWbXUf3Y/P80CEs+q/RYGm9mFV6q1rMChwn/ebQOp5etMEAGXv4SVnvXB39ceqW8u7RNvwj27ztp7d/o8buXBoCdENAOLa8vAXhAaxOiB2widB68GD3agEn8mvx0tHV2NeWgHaBF2slo8mn8iB+PorbvOa6FrKSeeZW9h9AqwK6e10cq7r/kHm60wYDZGziQ2u7DS7LPRRJ3wyt13T7QeptvcEzBBv/uBEho79QDCEmc/wzh5VHxblz54xCaxfFdQ2O190J50m3YKbgGGslo2VKYx5qRbdC2d7CWkZOa0cL/KYEYaKia0cy0whdPXE0oO+xrS5uQiz8UB9qBd7OaLhJP8ZVMMED5UqD1QX6cXW2CPKh7TRLyKi43taOyS7OuF2k20Dabn1xrt3sXtYuZfVarJ3vhBmigfprFJC+kg2n5XPhU5UP2RefIfPrEyiud8ZkiRiePW+qVkJ+4Etk/mc/juQUQ+U6GXP9+kiCGhXyj0vx5U4pDl1UQuAlhv9ENbI/TEGuVzjmGvYL8Md+m4nPPufOyR3rNlkCsbdpb6jV5zLx94NqhC4So/ctlJC98REUs26DxJN/npmoWhAK/64dGnk3nvMR5Fe4YRr/nNmJ1CfT8Y8Lk3GbpMfzU8uR/ppc95r13Mswf08yjrSHImgKdQiQ4Rv1ntZDhw6xUm8NjU3YfcoZfytNwjmHX7BWMlrua7/ISiPv/KzBg2RPwstlrNRbpVM1K3EMlr1y6R7qSsiY887VCjR3dLKafcq+MrzVAAa/PRdCn8lC9p4tiHwoGXJIELJEjNo9CQgP2ozUgu4lxNTfJyFyUQxSslsgXhKCkBm1yHw6BOEvZsNoobFiKbasCMKWDxRwW8gd56eG7PkorHs+A1n74iGvYsfxdMeGImGf/pxBQgVSNgVjHRcKTVm8TDhHhNqnUyA1PGeX02mIl4sR6sdX+OcphcLgV6uCe87hYQmQqsXccw6CW2EKYhatQ/Jp/T0LudvJnk7jXhNj6iNpiHkmFplHWcMN2dzrUQvRHMNUTMjQjeo2rqdOncLOnTtZbXBBgZOweqoMMzXfsBYy0sr91uGthpHvbeX95vsF8Coxr7d1f0wg5N59T0LZ8ptQeJzX99hc/98AdHD/OUwT4YecwSet0DauxF4lz/fH05L+1zG2dQ+nt+Bfp4bW08r740pXvHzvQCEqG0mCcLz5cBqyPt7IRdZuKi6kRj3JvYbZ2xDGn0Ktgkojgsiw47FRhvi5yQg6shexc/gGOZLDopDzVBbSNhiejQuJn8QgfFM6tmRrsW2ZrgWpUdFQ/FGGxJUGW/Bq8pFyfwxUz2dxxw0eAOWvhCIWqcj5Ywhr4amQ+WgQch5WcOfmz8E/zx2QlGRg4wyuWpiKdQ8qsPVQIiIMd/8tSMG6DSok6J4zf44IKJ7KwdYb8wL0bflzo5DaEIG87RHoeoTqQwkI/n4dip4LYy2EDM+o9rQePnyYlUyTX1SN17Nvwa6mF6BynMdayUgSK/fiXu/RWQYrf5n5g6/mVfWfLGuWd39cJWzXd7E6tNOajmRs43tb6zT2+3Pu5DC8fhYnk/7qhSD+aePAyhPdEYf4kASkHWBLiAl7BFaeZzBCV0ih7OrpPCnFDq9EJPYIrDzJw/GIN5gUitOZSNHEIdYwsPKcghD7hwgkZGaZ1Nsa8kgCQl/NgMzw4MIMpObHI1oXWHuT70mB+olY48DKmx+LrasTkHGEP5kIURsisGNPtv46XqkUaco4bPyfaMTty4TsxupqamTtkyLuPgqsxHJGLbSeOHEC5eXlrGaeY3l12H78fuzXPItOwegtxzRe3Vb1XwS4jvwkuXOeV1jJdH6l/fcKV93cvWqAawv7p0AbDJAx7lJzq12vJDB38vDG8MzxNeXPXgRC5rOiERHEXPYsb+xKg2oo9qUi/tFIRK7pusQg8Qi7mqNuqIVyiaRXANYTQzyXFXm1tZArUrH5xrm6L+teksKvWAmTVtz1jcLGR1KRvq/7aPnuFIifieXieN9qK+VQfLC51/1GrlmHpH1+UFTpzyVcEYXYj/feCMSKA2nweSyaH0SBiE1ZyDzE7rNKivTTcVhvGMoJGaZRC63m9rL21NnZif3yVmy/8CyOIo61kpEgaOe3ea1gtZFTrVbiynLdYCyTCYv6f2NUPau7G8KpXt/zpGkw7JogZGzie1v53bLsUcSc4U3oMe325VD1lw4N3tcqd8UicicQ8/JeHNx/kF3SkLCCHcARevnA76QCClY3Vo7yS6zIc3MD+F7NG+cyuMjyUP7ZRpj2G1CIiIfikfNehv5+qzKR8ioXZNf27Ebtxt911LMZve+Xv+SWI2MDu2dhBKIfl0Kq63mVI/N1MaJW6M8bcl8cyndKwQ+wUh2RonxDRD9hnZChGZXQyveyXr9+ndWGR1XXgM9PCPH6tSTkOfyMtRJrc6/JxqNeI7/Na94c85as0ba04JbGKaxmrMKne3ysU033H3ARbTBAxrjilja77W1dNssRd88eWnB96BZnBEw05c9eOtIO9BEzG7Oxd08YIhbxAU6JrD3p2Ph4LEJ8DT9yb+He/bIib0kU4htSkNrVA2lAsXMHdpxmFd78EMTtzoSsr0lU5lociwS/BO5+1VDsSUXeM9GIGGA4bNCSOGTslpnUkxuyOgYyPpyeliFj7UZEdY0Ym7MOMUjD3kIFMt4DYu+jyEosa1RC65EjBp+dWMjVshp8cGwGPqrdjmtOd7FWYk0S5chv83qu7QxafM0LlfOr3FnJWKVD918GgbK7h9WLNhgg48A7JRUob7XP4TAv3GP+v1GhswB/Mfl2ISh/azMS9im7x5BWyZH6xHrI1icjdiHf4IegpWGQ7jcMeirkv5eMN43ybgi27kyA8vFQRL+YDukhGWSHMpHyeCTWHQhG7APsMJ4oCltfbUH8QwnILOg+q7pUhqSHNiPTrI3NRIh6OBapnyQg5XUx4h/ub2CAnmjtViRr4hH9fCbyb/xqVEN5KAnRj2fqek9vWLwecaVp3GNNwbr7uyde8a9J1AYxUp6NR7pfFCJGdxdwMgaNeGiVy+UoK+t/KaLhyi2sxmvZS5DZ/Bc0ONC7PGuLbBz5bV4LVpi3ratfad+9s+qOFjQsYY+9tFn/lePuQQuwkrHvmrod/7xmsPSbHVkR6IR3HzTvzWtajBvmTzF1PKwEW3a+j/CTWxEqFkAg4C5hCchfK4P0ubAbIS3oyTQkqpO5Y4J14z+DF8Ug1XcrEtezA7oErMf7uVmIn1OL/JNyyE+Ww+fRNOR9EIvgHp3Gkg1pyHnBB9JHQvX3y12CH0yH8LeJWG/e6CgIV0YjXp6MNMPe0H5JsPHjHCR6SREbxp6zIBjrPxEi7oX1PYYlSBCxQY303DhE6VY96Cbi7+tIFsIejuJiMyGWNeJLXr355psoLi5mNetycnLCqkXAKqe/shZiDbWTI/Fq88j9GImFM/GLD1nFFJ7u+OvDrNzDz3YtRcDr+sla5f87E1ruP/VUEeRnBu7SoCWvyFgQ5CnEmeUL4OwgYC32hd9o4Okv1Siq7n/t2cXTHfHa/ULcbfJY2B5LQVmTWoYESSpC5WkmB1LlnnjEvNFzpVQD9+3AwScH7lUlxF6NaGjNy8vDBx98wGojZ5KPN1bNLcdS7TushVjaOfFP8Wl9DatZX8ylJZh20vTJYNJNAcj16H18ZF4olvxav+ZjbUIgWhzb0Tl9Io6dGvjTAAqtZKz4YFEAHplh35/jvnu0DV9yAfZMeSfqWrSY6C7ArTMc8ZOFTni469MUk1k6tKohf2ULpEsSsXWlX/dH6RoVZC9FIaY8AflvUa8kIaYY0eEBWVlZrDSyqmvr8elxD6SUb8cFx2jWSixpYfnnuMXdvI/thyMv2LxdfYIq+x7XWuXfvSSWq1r/z8FZa987BhFijn+VjdybTWt5fJkLvtrsgZLnvFC/3RvFCV7I+JX7EAKrNQgR8uB64L0ISASBCGdLSQX7ByGpdgtkL1NgJcRUI9bTevXqVbz++uusNrpumTsRqyZ9BXGHwQLJZNjaJtyMFzUj02Pj5OCMLbtnwrnZtIkkzbfMwRvhvXtPpzlMw8PL9Zt+t/96Nir92uA0xRtHzg7ci0s9rWQskS6Zi7WTJ7AaUfPrXYlEBhOMLESjhoqt8Sr05M4/vNW7CBl3RqynNTvbdgLimUs1SD4aji/Vf0azw3TWSobLpe4s4jxHJslpOttxIXIyqw3OXdH3GNUKg/Vmu5a90tIGA2Sc+VeZfU7IshahNQIrz0nIZWGR7kKBlRDzjUhoVXHvWvm1WW3Nd7kNSDq9CYc741kLGS6/63uxzmtkelvPTTZjncn6RgQ3935cmk4NVCv0y+A4VOjHtnbe2O2GkPEhvawG8vruFTQIIcQWjUhoPXbsGCvZntbWNnx1Sou/Fr2AU4LNrJUMx+01+zFzBLZ5LWm5jIpFpgfkoKqem4TrVS9j/wyuNem+aDu18JpglX4WQmwW9bYSQmzduA+tXSqr67Dz+AS8c307Cp1+zFrJUAjaVNgoGJnddvJvNv1HeFpZ3x/7VwWzYQHFjbqvvAkTaIMBMr7861oNlHa62QAhZHywemg9deoU6uvrWc32FV6txjvZc5Ben4QKxyWslZjLozoLj3pbf5vXXMcCVhqcR1Hfk6uqprOPRTWdEHboZxt7eNjCrGNCRk5FWzs+sdPNBggh44PVQ+vx48dZyb7kXKjBy0fvwletz0HtMIm1EnNIyv+DFZ7Wfe1a2htRsGYaqw1MW1eHeX2Ma6306N4u0bVNv8i60MXUnXMIGTtoiAAhxJZZNbSWlJTg8uXLrGafDp9txvbc3+KI9mnWQswR2XgCXk7W7bU8P72WlQYXXO3BSt0qOitu/Etw1g9rhaujfe4QRMhwnG1oQYbS9H9PhBAykqwaWk+ePMlK9q25uQVfnBRgR/GLOOPwK9ZKTOHYVIzHXKw7Tq5IfQG1c03b2GB6uX78qiF+69bqVfoxrE61+uuduDZCxqPM6/YXWpubm3V/b7766it8/vnn2Lt3L06fPo32dhqjS8hYYrXNBTo7O/H8889DrR57ywfdNGsSVouPQNKxj7WQwZzz+yk+bbDezjvLtbch/N99r8VqSOszAS//vPcfsvX/XYq5iS3A6mkoC3ccdIMB2lyAjFWuDgLkrViIQHfbn4yo0Wh0AfXIkSOsxZizszPuuusu3HPPPayFEGLPrNbTyk/AGouBlXfxSjVSjgbj08ZEVDvezFrJQBYqP8fNVtzmNdfVtGEogto6zG3R74BlqGq+PsgKytikrDbqoSHjU2un1i6GCFRWVuLvf/97v4GVx/e0fvPNN3jrrbfQ1MTG/tgFFaRPiSF+SsqVCCFdrBZac3JyWGnsOpFfi5eOrsa+tgS0C6y/Lqm9+3HbJVayvPq2ahStFLPawIJreq9qUOnH1mi9ov/a0ajfaICQ8Sjzum1Hpba2Nnz00UcoLy9nLQMrKirSHW8/RAi6LwEJ9wVxJdumKpBBXmqNDio1lCdlyK9iVUI4Vgmt/DvgS5esF1BszcEzLdie9wf80PkUayF94bd5fcLLep+pnw/oXmd1IDPKeo9rrXRnf6Qb2+GqdYJW0wEPL1r2ioxPR1WN+Kbadpcq5IcEKJWDDwcyxAfXAwcOsJrtk6yOQ9xqCavZrvxdkUg8Yo03OSrIXo5EZiGrEsJx/DOHlS0mKyvL7lcNMFdbWzsKyh2Rp70Xnj7TMEV7ll1DDHk1XoL7pKW41Gb5LSOrNJW4WTUDrvUD95K6tGnxwwLj4NqsbUZYhh8cWrXoCPNFm1MHWtyFaKxvZUcYuzpbBLkzqxAyBnk4OODeKbbXz8ev+/2vf/2L1cxTVlaGu+++GwLBwKuDqEvl2L83E19+fQTyqyo4+/hD7O3ErtXjj/kyIx3Sb+QobvOCv/9kCI26gdRQnt6PL3d9if3fccfUO2OyvxieN04z8PWqo6lIkfsgfF6PYVVV+ZB98RkyuceWX+GGaRLDc/IUkL6SDaflc+Fm9Bgnw1/iA7P3+uPuL/u/X+Kzrw4h+6ISAjcx/H25s6iykfrGZ9h/ZD9yy7jflYVyZGepIObut+sR93odJ8+F2GhjQhWyP0xDqSQU/io5pHsyccntNsytkSI5NQPffXsEl2q8oMzL5u5bgOAQf/MfPxlTrNLTys/aHK9Ky2vwz6NTkVq9HVedVrFWYojf5nWWlbZ5LVhmwnmrahCo7j2+tiZC37PqwvK0pwelUjJ+8UMEqtt7fyox2vLy8ljJfC0tLcjPz2e1vil3b0bwgynIhwQhS0IgVmchZdM6JN9YDEcN+WvrELwpBQphEHeMGC37EhC6YgukxewQKJH5aDDWv87d15wQ/THZKYiJSoZc95IOdj13Lwop4k8b9yYrdm5GYFgCpGoxd5sguBVyt1kUiaSjhh/PKyF/JgvZuzYj4uk0lPOPcY4QOW9HIigiCdmmfSCloz6ZjMiweGSofHSvRZCwHBnPh2Pzbu5xCSUI5dtmAD4BobrrQ5ZIWGBVI/vFSN1rlKV7rNzrWJWJ+JDwHo9VDcU+KXL2JSFy9Q7IuoYZiPjXPhSSyYB4EX9e7rJIQoGVWH71AIVCgZSUFFYjtwdPwGrvNIg6LrAWwmvyDcf/tVj+V5CvUIxHPhw8bOb/OAhfTrvCano/PrQE859Xo3OTBEqJBk1TRDh7tu+PIGn1ADIe/GPhLDzuzyUHG5KZman7NG+ofvSjH2H16tWs1pMCqWs2Q/36QcTNZ009qA8lQPK2BFnpsZAY9HCq9sUj6MNQyD/bCL/CVEQ+ocab++MQxK43Mtj1HOXOaIgL46F9LkxXV59MQsSTQPKBbQgz7K0sTkfM6r2IPpSG9VyABLKRJAhHxnNZyHohzCDoqSB9IggpS7Ow9xFThh2oIXvGDZkrW/Dm2v5/V2e/KMCOOVyY3eDHWvTUVSruF7LIKGiqD8RD8loQsqTca6drUSL9ITFi8D6KeryeXdcpntZi2zLWRMY9i/e05ubmshLhHcurw/bj92O/5lloBdRz18WjKguPeE1gNcupUpejJHwqq/VvelknK3WrmqtfMcChSj+8QOhEGwyQ8c0WVxEY7qo0A9/eDW6iPOTn9jdeVgXZriTEPBbTI2ABorVxSFSlYi8/BlPoBlFuPvL7O81g1/fC3e8HCQh+Js44sPICNiL+8Xyk7FOwBl4E4jYZBlaeCOFroyHNV3Bx1BRCuHn5QVGQz927+YQ9AitPGBSK8H1KLo4a29rH60lIXyweWs+epbGcPfFr1u6XtyLpwjYcRRxrJYHK3bjTCtu8np87+Mx/7yu9p6RWTdWvHCAo1/9KdxLQBgNkfNtfVY8TdZYffz4cQmH/vX6mGPj2ftj4ciqEH4ZDMDcckY/GI/nDTMhvpKxalBf7QfrSOkSuiexx2YxUhQxK/lfLjI3Y8a4QqSsECAyLxOZnkpG6Ww5l12iLwa7vRQ1VVQTCFvU9xlg8QwKZ0cQ0Edz6eJqiyWKgWGlyCA37gxRRJ2IQJA5G5ENbkPBGOmSFJt66UQHph/HYbPgabUpEX33kPl7D+56S8cOioZVfMUClssYswrFBVdeAz08I8fq1JOQ5/Iy1jm8RDSfg5WjZWfq5bWfQOmmQz+4rqjFTbdzTW+Gm33ddUKIPrw6a3r2xhIw331TVsZJtmDZtGisNzaC3D4jCDmkRtHIp3n8qCpJGKeJDArFlH/+3zQ1unmLEvnoQB/f3vmRd6v4oW3LfDuzl6nn73kfcWgnU++IRErQFUvZ+ebDre8uDsp8/ry3WGnrsGYK49DyUK7KQ9kIMwn0VSFkbhMg35OyA/iiR+UQk0jQx2PGlwWv0cQLC2RGEDIVFQ+u5c+dYiQzkalkNPjg2Ax/Vbsc1p7tY6/jk2FyMx1wtv5B/wYrBNzJYVGt8TK2mFu1+juisUsMJjhC0WesvASH2Q1bdwEq2ITg4mJXM5+bmhqCg/kaR9uApgmRxBNY/+T7SXg1Bykl+ApcfQlYIkXZgsNDWTchPKlq5HnHvpiE5JAXyHks4DXa9nh/C1oYi48vsPj7aVyB7Txa23RHC6lYgFMFvfhiiNmxDxidbIDuS3+sjfiPKLO64jdjyWAhEhp2o9CuVDBOF1lGUW1iN17KXYHfzX9DgYPvr8VmLT+VBPORt2WECuRMHX3Tcv7yDlbpV3aXv9RW2c+G1mTYYIORQTQOuqm3n34K3tzeWL1/Oaua588474eAw0J89OVJfTEV2sUE01CiRI1cgaoZ+olHQI8mIzozG5jeyoew6TKOCfOcWRL/CwuzpVCR9mA2F4Ux9ZQ5yLkXBz5crD3Z9HyQPJiD6wHrEvieHqiv8qZWQPhuDrcJkxK609EfsKkhfSYa0QGUQlFXIl+fAb47fjU0PhJ4hyOLa9J3AKqj45+QXhPBlUuw9ZNA1rMpH6qtvchHbVEKIuNciS85We+BeY1XvxE7GGYuFVn7h5ro62/oYyV78cL4eSacewjeaP7GW8WdR+S7cYsFtXstbrqBsyRRW65t3cQ0rdasJ1Q8JcGkRoLNVA3d3mjxHxrcOrRayKtvaaGDdunXw8zOerT6YwMDAAVYN6CJB+EIlUjcE69Zy1V38I5A2OQVpXTPuPcOw7cBeRJQkIkLSdUw4EuThSHyM9XYGhCOoNBUxIex67iJenQbxG2mInWPC9X3h73efDOsuJSDcn91u0Xpk+iRC/sFGNhvfkkQIXSKE9JlwSNhjFAhCEa+IhuzZiBuTrEIeS0VC8Rb48NeLuddBF1SDELczEepXQiFeFInIiGAEb0yFz9OJiNbfzAQiRD2zF0G7IvT3HRSDtAJKreOdxZa8+uqrr3D48GFWI0M1yccbq+aWY6n2HdYyfrSJbsaL7f10MwxBqFMoIj8ZeA/A9Fg/lLh0/0G+/foi3P1TLTpiA3F9RjsUDi5QlvX+g01LXpHx5OFpk/DxLbb1aRC/8+LHH39s0laufGD95S9/CQ8PD9ZC5G9EIn4Pq/Qh5Mk07LjPvDcGhFibxULryy+/jIqKClYjwyWZMQmrZpzCvI4M1jI+lPutw1sNLaw2PM6Orngyczocm/sfSHX2gfnY53eV1YA5nRJE38X9YfuJP8puASq8PXD5on6CliEKrWQ8mSF0QdHdi+AssK1l4DQajW5L1yNHjrAWY87Ozrjrrrtwzz33sBZCiD2zSGjl94DesWMHqxFLumXuRKya9BXEHdmsZezLFj8Eaf3APaSmWlu/DAv3lrFab6qw+fjH4u7Q6u00Ab8N84dg2RRc+5ErGqdMQO7Z6+zabhRayXjz9ZK5+NFky6+tbAnNzc26nbL4v0X8Oqz8hKvp06djwYIFuuBKCBkbLDKmtaCggJWIpZ25VIPko+H4Uv1nNDtMZ61j27LqA5jp0nMF7aE5P7WSlfrWc1xrvaYOan6Va7bslauTRecqEmK3DtWYsf/nCHN3d8eSJUtw77334qc//aluzOvixYspsBIyxljkL/KFC7RFqbV9l9uApNObcLgznrWMXYK2Wmx0sExP69WWy6hc0P/KBA7lFRBrvFhNr/pOZ2ivNXH/OASw7AqyhNgvWbVtTcYihIw/ww6tbW1tuk0FiPW1trbhq1Na/LXoBeQINrPWscmj2nLbvObd4shKfbu52njVgurF+hUEhBoXOHTSBgOE8E7UNSHXQuPNCSFkKIYdWi9evMhKZKRUVtch/fgEvHN9Owqdfsxaxx5+m9cVFtjm9ZzjwJ8EzOyxSnaVpFX31VXN9/rSatiEdKHeVkLIaKLQascKr1bjnew5SK9PQoXjEtY6tkQ2noSn4/DGpTVrGnBhTf9bN4qu1LKSXuVE/Q5AztwXLW0wQMgNWSr9WG9CCBkNww6thYV97jlHRlDOhRq8fPQufNX6HNQOlt1ZarQ5NinwmLD3zlXmOj+9/40vHK5dx5T27vUbKxz142kda9rRoW6Hi5AmcxDCO1pru5OxCCFj37BCa01NDa3NakMOn23GS7lP4Ij2adYyNkys+AY/G+Y2r5fV+aid3f8Y2VtU3edv7mxC0wIXOFTohwmIRK66r4SMd/x2rifrqLeVEDI6hhVaL1++zErEVjQ1N+OLkwLsKH4RZxx+xVrt38LyXVjk1rXb9dAULOl/YdVZSuNF02vucARK9X+cPb0otBLSJZt6Wwkho2RYobWoqIiViK1RVqrwybFJeLdiOxSOa1mrfftJ+/DeJOW69f/z6nOV3y+7W/XNndAW6/84uwuddF8JIcCxumZWIoSQkUWhdYy7eKUaKUeD8WljImocF7FW++RSdwZPeLmzmvnqWqtQdJeY1Yw5XC2Hr6Z7XGvlzBagUwthpzOETra1dSUho+moygZ7Wi+/C3x3L7DHH8jw5r4GAD9EA8WfsAMIIWPBkEMrP561urr3nuzENp3Ir8X2o2uwry0B7QLjxfTtiVj5FaK8fFnNfOcD++8lurm2e73WSpF+aR/XVgc4O1BoJaTL5eZW3cUmXPsC+Go2cPLXQPleoLkU0DRwX68ApZnAsU3A/hCg4jC7ASHEng05tF65wv1SIHbn4JkWbM/7A37QPsVa7M+ymgPwdx3aNq8F6lw0Tu/7tpLr3ZsQVLAduZwbAUfaYIAQI9/bwrjWy+9xD+QnQNMgn/jVngYOrdSHWFMVSxEfIUZgWCSC565DaoEK0qfEED8lhfFAIht0LgXhgnCknGP1waik2CIWY8s+m39mhAw9tBYXF7MSsTcNjU3YfdIZfytNwjnHX7BW+8Fv8xojGHovf/6yvnuafUq6l8Vq7VSjfqkLnGo13P0Nf8ktQsaS72v0axmPmsojwMnHWcVER2OA+gJWGYgasndjoXgkC0XZB5GXn4GY+SIE3ZeAhPuCMLzpoHqqAhnkpWpWs7CAcGx5eQvCA1h9MKIgrH82AeuDDJ6ZWgn5oXzbD+hk3KGe1nGstLwG/zw6FR9Ub8dVp1Ws1T54VP+AR7yHts3ree8SVjLmWFwGUaeQ1YCacEfdsledLTbyUSghNuKH0d5k4NzzrGCGDi4knvtfVhmICspCJULnSvRVJyH43wqS1XGIW83ahil/VyQSj1gpEnqGYOMfNyLE5A+jJIh4Mg4RhiG3SobEiEzksyohtsLxzxxWNplGo0FmphkftRCbVlnbgmOlfqgTrcV0tzIItfYxVtmnsQCaiUtwtc28/dD5HbJmes3DhNLeH3F2zPZHsbt+PKsYUzH9gAD1NznhepsWnR1aXTvv6mwR5LTnABmnqto0eDJgCtwdhzWXd2iqjwK5z7GKmerPcxntV4BLP/2lhVIkp2bgu2+P4FKNF5R52ci+KEBwiD/UR1ORIvdB+Lyuse8KSF/JhtPyuRAUZkP6xX6oJKHw5xNuVT6y//slPvvqEHd7JQRuYvj7cleospH6xmfYf2Q/csuEaCyUIztLBTF3ju4R9X1Tn8vE3w+qEbpIjN7rmSghe+MjKGbdBokn/7gyUbWAPRaeRoX841J8uVOKQ1n5UDq6Qew3GULdt0+F7A9TkOsVjrkTuWe1Jxkf7P4O331/CSoPJfKzspHvGIzQGd1v6AkZLUP6jVNS0ndPFbFvx/LqsP34/diveRadsI9EFtlwEh6OLqxmuvM39d17Gni9+89Bpb8a2iv6YDthAv3CJsRQ9mj1tlbIWGGIrg9we5EEIUtCIZnMvWldFMKVucsiia6nVa2QIv60Un+cjhLyZ7KQvTMG4U+lIUc/DB7qk8mIDItHhspHd/sgYTkyng/H5t3cbYUShPJtM7g33QGh+vMvkQwaWHnCOSLUPp0CKbsfI6fTEC8XI9SPr/CPSwpF13tytRzJa0IR/1ktfPj7W+iG8swEhD+eyR2pOwCKffGQs/P6zOWOCeEfkxhBuscXQoGV2AwKrcRIZ2cn9stbsf3iNhxFHGu1XY7NCjwu1LCa6XLbzqB1Yu9fxBOv6ntZeZUT6vhuWbhoneDlTRsMEGLo5GgtfdVwiRWGqHGArcd9gxCxMhzBIkASEsGVucsSP11o7VsSduTHIkv6JhL/GIswkRpZn8Uj6PUM7Hhkve72URvisOOzPLz/AJcohX4I4dpC/fmhpOH68680cZysMALRT+cg8UM5a+iiQubrOxD1cFSf51Ef4QLtwjeR8Wos1vP3t3Yj4l7OQN4H66HLuD2I5nPHhAVz5+ICtu7xRSCEQiuxEUMKraWlpaxExipVXQM+PyHE69eSkOfwM9Zqm/htXh8awjav+SsmslI3R0UpPDv1AbUClbqvrm2OcHOjDQYIMZRTb96wHIvRmv8m1chwb28kAnGbIgzCohBuXn5QFFhnElPIIwkIfTUDMsM5XIUZSM2PR/TKvoOl0MsHfoX5yKdZVWQMGFJovXbtGiuRse5qWQ0+ODYDH9VuxzWnu1ir7VnEb/PqblJ/xQ3nJhp+1NctVDVZ91XT2Q7Vna5waeJ+8Tt3L4dFCAFO1Y/Szlhu01lhiNymsYIliODWIyuG/UGKqBMxCBIHI/KhLUh4Ix2yQgslRt8obHwkFekGy1PJd6dA/EwsQli9l2VbIV2bg5ggMYIjorHl+RSkH1LQygDELpkdWtva2nD9+nVWI+NFbmE1Xstegt3Nf0GDg2Vm0FraT9rM2+a1XF0MZag+oBqSVHT3qlbf7gAnVQdch/T2jpCxq0zdhvLWdlYbQZPCWGGIhnv7wXiGIC49D+WKLKS9EINwXwVS1gYh8o2eH+sPhRARD8Uj570MKPhqVSZSXuWC7NqB3rALEfJkGvLKFchKT0RMmA8Ub0ciKCIFlnhEhIwks/8Ul5WVsRIZj344X4+kUw/hoOZPrMV2DGWb17wF3SsCdPG92r0GZXWwBo5V7XDs7H0cIePdqPS2Tv8x4D6TVczks4QLrbezipUJRfCbH4aoDduQ8ckWyI7ks4lPw7Q4Fgl+CUg9pIZiTyrynolGhElDToUQ+QUhbO1GbPssDVsOyZBPI/2InTE7tJaXl7MSGa/4Jc/2yTV4qfAvOCH4DWu1Dfw2r2vN2Ob1rPY8NC7GH/07XS6BW4d+9YTK6S0QlLfAod2S4+AIGRtGbTJW8DZWMFPws6xgLSpIX0mGtECF7mGnKuTLc+A3x+/G2FehZwiyuDb9R/QqmPcyihD1cCxSP0lAyutixD/c78AAHdW+ZCTvy4fKYBys6lwOcrgA69ffr0pPEcTIQk7XXgwqw+dDyOgxO7QqlRZ5r0jGgOraenx63AMp5dtxwTGatY6+sNpvTN7mtb2jFRdXTWW1bqF1U3RfKz1rgatN6FSPwseghNi4UZuMNftx7vJrVjERH1hnPMAq1iJC6BIhpM+EQyIQQKC7hCJeEQ3ZsxE3ViEIeSwVCcVb4MNfLw5HwiHzRpgKV0YjXp6MtLUbETXIe3RRSAiEe+IRLul6PAKEPqNA9KGE/ntoRVHY+mUQMlfqjw/clIZ8Sq3EBgi0HFY2yTvvvIPCwgGWDDHXtCW4d/UyLBQW4//+8RVr7Oa34uf46e1zIGL/uNTVBTj6xef4foBRCqJbH8DP75oHX3f92ERNcxUufPtv7D7FfjHMXYVH7l2G6R5cuU2FwiP/wr+zaVj6cN0ydyJWTfoK4o5s1jJ6mnyX4/9aTFumapZwLh760Hjd1vKIYHw8r1j3C/uPdy1EVcIs/FDRjA42TOD7NQH4wE1XJGTcmiZ0wbWVN7PaKDgdD1xIZpUBLHqRC60JrGKjlFLEb0oeYJzpeuzYH9f/hCtCxgGzQyu/gVZj4/A/EhIFLMPKiDDMm+ah392j+jQS3+4RWgMfwJaNC+BZU4ijJ3LR6LUIy27jAmz9efzrrd0oZocZCbwXv3loMXzblDh9NBsKSBC2bDH8XJQ4+u77+KYGuOOX/w93e1zA7n8fAlb8Ag/Ma8Lhlz/E99y75Lt/+Qjm1+zDO3tM2aOa9OXORV5Y5fEe3DtGd5WJIr8H8GFDHasN7FdnQjA5r3snMM3cmUhepV9te3PiEriETsdJBw1qqvRj+Ci0EqJXFnELxK6juBlJBfd7/NKbQOlurmLw58xRCMyIBm76HTBxKWskhNgzs4YHNDU1WSSw8u5YuwoLfIGq3NO41s/HDguWBnAxsgrn/v1vHD5xHidl/8a/znNBYmIAli1iB/UUNAO+TmoUZ7+Pr7LO43zWV3g/uxhqJz/MYZNGRe5OqCrZjfM1KpxXqqB2cdWPNbr9XiwRt6D0PAXW4fgutwFJ8k043BnPWkZHoHI3lnuaNr61YLHxOqzOhSVw0erHulbfxtVbBPD0og0GCOlp1Ja+6jJlJbA8A/hpC7DmFLCSC7E/Oq2vL/sXBVZCxhCzQqsll7oq+G433nz5Nbz/RRX6Gy0omejBJWUVFDWsgaMqVqEJHhAFsIb+dLKvPMMyR9Wsga//A1gwUYQFfiII21qhwhz8lAvJ6ovf4KsidiAZstbWNnx1Sou/Fr2AHMFm1jryVjeehIfD4L1AuU4XWUmP/wDi1nr9WNeqee1wru+Ep4d9bG1LyEgatclYPTlybyp9QrkQezcguoU1EkLGErNCa2WlfocgSyg8f57NnOxPAIR8R5e6Eef1DXq5jRhw6H92IZQaIWaEPoDF/BrS0xbjgdAZEGqUKGRDLb/POolih3l44IkteCCIeyxHdqP0vlWY41KMk5kWHK9LUFldh/TjE/DO9e247HQ/ax05jk1FeNytg9X619Reh4urxaymN+e6i+5rlV+zbtkroRNtMEBIT9dokiIhZISYFVqrq7vH/FmfH4QmrT3XQ803+Py/BWj0WYB7H01AwqP3YsEEFc7v+1w3nlXn0jf415v/h8TERCT+35v494XFWBkkwvVTX+EoO4RYVuHVarydPRfp9UmocFzCWkeGqdu85vnXs5Le5NIm3dcqDxUclGr0WBmLEMK5NhobDBBCxiWzQmtVlX5iik2buAz3rpwPz6ZinPzvbuyWnYay1RcLIu/Fst5bzessi1qCqXXncOhbWkHA2nIu1ODlo3fhq9bnoHYYPEhaCr/N68JBtnm91JIP1ezuY5wLS+GgFaBSUwnN9QY4mjdnkZBx4Zq6jZUIIcS6zAqtNTUGg0utTgn1ENaFW7A6DAHuKlzY8y98fYJNxPriPFTuAQhbvYAdZeCWnyNsphqFsq/g9KPNiH82AQkJCfh/v/0plvQTcsnwHT7bjJdyn8AR7dOsxfoeaB98sHLBEoMlATo6sKTOT1esCuGHGlCPEiE90fAAQshIseHQWgw1PxRR6AmjqLlUBN2y8T0mV3XRTd5Sq1BumE+KynW7gXiIeu6ZH4B7wwPgWHwSn3c8gHu4c1cfeR+JHxzGdY/5WNFXyCUW09TcjC9OCpB8JRFnHH7FWq3HRXUavx1km9dzbsbB9qYq/YoB1bcCThXGa7kSQrh/G+0aqDv7+YVMCCEWZHJobWlpQTMXMkaSoqaJS5q+uCmQNXACZoggRBNUV1lDD1UNXDp1EUJk2Es60ReeQi7LNhjv5iVavQoLva7j5NdHgcke3HkbUXmEO6bse+Qr1XB09mJHEmsqr6jFJ8cm4d2K7VA4rmWt1jFtkG1ea1srUXSnvneV51ui/5mvmtsOYTsNaiWkL9TbSggZCSaH1traWlYaOedPXEKVRoR59/0C9yxdgCURP8e980TcW/tLOJqrPyZg9SP4w+8ewSoWbI/mlqLJwQ+LH9bfZsHSe/CLhxfClwu6pedP6g/SmY5lASJUyXfjMN+BXNkENTwxeQUXWKbdgSA/ITraG/SHkhFx8Uo1Uo4G49PGRNQ49rcQ7/CF1XyDGS78dmh9ywvsfnPmelm/QULVlEY4N2i5N0O0owAhPdFkLELISDA5tKpUozBJqegr/PvbAqgcA7DkRw/gnvA5ENYV4JtPv7qxG5aHSAQPLxF8uzpFz/wbO/97nrvNDN1tHvjREsxwVOH8f3fi32fYMTrX8PV7O/D+Afa8inbj6xMqTFqxGQmP3o2pTQU4csBosS0yQk7k12L70TXY15aAdv1gEIsStNUgxqH/oS75refQKGb3296OJfViVApr4FjdDi/aYICQXkpbRn/oTHNbPYqrz6Dgejau1OSiVTPKmx4QQizO5G1cs7OzkZGRwWqEjAwvTw+smq/CcsHrrMVyLosfwD/r+97mdWXbMizJKNOVr65ZgJ2zFXj6L3fjwn1TcCGvkrZxJcTAy/Nm4I+B3cNqRhIfUo8V/weFlYafpOnNnxqO8MCfQjKJNhsgZCwwuae1rs60PdwJsaSGxibsPumMv5Um4ZzjL1irZcwu3407+tnm9Zx3CSsBU0v121lU+TTA3ZnGtRLS07XW0Vn2ak/u35F2IqHPwMoruJ6FD7KfxoGCVNZignMpCBeEI+Ucq48bKkifEkP8lHSQjX8IGT0mh9b6euOF1wkZSaXlNfjn0an4oHo7rjqtYq3Dt6rxJNwdnVitW6X6GkqX6bdxFRbpe1xrlgrg4ijQlQkh3UZjIlbG6b/i+JUvWW1g3xWmY1/e26w2iIBwbHl5C8IH2yq8H6oCGeSlQ1ivccSooTwpQ36vZddFCLovAQn3BXElQmyTyaG1oYEmJZHRl1dUjdezb8HnTS9A5TiPtQ4dv83rr4V9j5A5P0//h1irViO0YSoqA1shpGWvCOlF2aphpZFxVLEbp0v3s5ppsoo+R27ZYVYbgGcINv5xI0KGOJw+f1ckEo/Ycl+lCrKXI9HXjuWS1XGIW91zaUhCbIfjnzmsPKAjR45QbyuxGaWVrfi+bD60U+5GoONRCPpbuNcEblxw9fVdgrxW/TCALtc7ruPWkilwau2Ak3gaCqe1Ye6pSSjqaMfV2SLIndmBhIxzXk6OeGLWFFazvrSTz6Otw/jfqymqm67htln3sVp/FJC+komqBaHwZ1uJq46mIq00EKF+auR/m4nPPt+PIxeVcBMHoWvOJlTZSH3jM+w/sp8Lx0I0FsqRnaWCePlc+LBDoFEZ336yBGJv4096uu9LBfl/v0RmgSdum8edQa2E/ABX/w9325xiqFwnY65f38ma7+3N3JmJ/d/lQ+noA/EMH+ieSqEUyakZ+O7bI7hU4wVlXjayLwoQHOKvu56/7xS5D8L5+zNgdD6PaZBw92v8qPnXLBtO3HN1K5Xjy4x0SL+Ro7htMvwl7L4JsQCTe1obGxtZiRDb0NnZif3yViRd2IajiGOtQ3Nz+edY5Gb8ixrQ4sLd+q1mp15To8KlBq7NNDyAkJ5q20eupzVPeQSNrUPb6EZZfxlXawdbFYYLh89IoTD4k6dWSCGVS5F0fwySD7VAvIQLq1VSxIcEYvMuhf4goQShS0IQNAPwCQhFCFcOWSLpDqzFUmxZEYqEffztueOECqRsCsa61+QwHExw477WRGDHoXLddervkxC5KAYp2frbhsyoRebTIQh/MdvotmjMR+qjXOB9XoqWGdxxC92g+GAzQiOSkM0/H5GEe0yhkEwGxIv4x8ddFkluhEr+vuNPG6xnrlEgvef53opBcNf5buBfsyxk79qMiKfTUC4MQsgcIXLejkRQr2MJGTqTVw949tln0dZGe0wT2zVz2kSs8j+L4M5PWYt52iYsxosa4717p7kFIOaDTsBdiL/+0gFbUlfja1cNrR5AiAF3Rwc0rQllNev6b/67+P7y0P6N8+4J/g2WBz7Ian3JRpJgByQlGdjIBVCecmc0xBuBNAXXZjjW9XQywtfWIlGRiAiW/LJfFGDHnHJkbDBcTUGB1KhoKP4oQ+JKgxGjmnykcEFY9XwWti3Tn6Drvt7n7iu2677UKqg0IogMO1YbZYifm4ygI3sRO4dvUHP3HY6tSIH0uTCjcamK76VQL4xCkK5RifSHxFA8reXuU3f1Dbr7LoyHlrs9fz75SxGI0yRDxtUNe0sVO2MQuS8aWR+vh/5Z8q9ZODKey0LWC4bHqiB9IggpS7Ow9xEadkCGz6SeVo1GQ4GV2LyrZTX44NgMfFS7Hdec7mKtpnOp673Na1lLMZQhk4FmNW5pnIpqh1p4TTD89U0Iae7oRGunSf0fw9ag7jWDyCxD7aXFH+OwvufkrMURiPbLhqKU1ftzOhMpmjjEGgZWnlMQYv8QgYTMLOMeU+6+YgzvS9gjsPI8gxG6Qgpl18uhkiHt+VDE/9Y4sPIkd3QFVjNw50t9Nlh3vp6/8SQb4hGXm4K9RuNiuYC7qeexIi7UR0OarzB+foQMkUmhdaS3byVkOHILq/Fa9hLsbv4LGhzMe3ff1zav+Qv1X+dVuaN2vgYTJtAGA4T0NFJDBBwdhjeY3FHQe7UQk3i59QpvgBjiubLu4Nif2lrIFanYvCYSkT0u616Swq9YabzMVK/7UkOxLxXxjxreNgaJR9jVvKpyKFaHIaT/XarN06hCeb/n6+t5i+DWx/t50WQx0PP5ETJEJoXWlhbzB7wTMtp+OF+PpFMP4aDmT6zFNGG1BzHDtbtb4yzy0OniBPE1NarmtsPDw4VdQwjpotJ0sJJ1TfJgn9kP0SRPf1YaQW5uwOoEZOw/iIM9L7I8lH+2kX3M3jflrlhE7gRiXt5rcNs0JKxgB/CEXNA9oITBiNThy+0vbHKZYGQXjCBEx6TQqlZTxz6xT/zQln1yDV66/BecwK9Z68AErdWIEVSzGtCmaUFB5FQIi5SomtQIz6ahr1RAyFg1Uj2ts32HN3Z2tm8IK42g+SGI250J2ZBGNiiRtScdGx+PRYivYVdmj+A4IwQRyzKw93sL/b2eEYaokAxk9HW+4mxkZG9D2GJWJ2SEmBRaW1tpbUpi36pr6vHpCU+klG/HBcdo1to/z+of8CvvCawGnPfjQmxjEzwbmuBeQ+O7CelJ1T4yPa3TRfMwZ/ISVjPPLdNXwVs4mdWsQ+gZgix5DuuhVEGlm7Ufha2vtiD+oQRkFnT3XapLZUh6aDMyB+we9UPQ0jBI98sMej1VyH8vGW+yhQv0ghD7WjRkD8Yi9bThfUiREBaMpKNd4VMIkS+4x5ivr2q4x9hnzpUg5vl+zrdhK4Svxt6YfEbISKHQSsYVRWk13jsagE9USSh34mfI9o/f5nW5p37Jq2L1RVQHTURQrRc0zbTRBiE91Y5QaOWtmv8oK5lO6OyJyHm/YjXrCXksFQnFW+AjEEAgDkfCIX3gk2xIQ84LPpA+EgoBfx13CX4wHcLfJmL9QGMDOEFPpiFRnYxQcbBuPGvwohik+m5F4np2ACNctg2yQ+uQ/3w4xOw+JGvT4PNK9+oE/NjTqGf2ImhXhP5xBMUgraDv3ln+fNIDxucLfjATPtvlSNtAqwGQkWfSklenTp3Czp07WY2QsePORV6IdH8XHp36rVp76vCYjZcdZ6O5Q4NlgqW4Nc8LV8un4R93LKIlrwgx8GbwTMSN4AYDZ0q/weenX2K1gTkIHPGL2xIxd/JtrIUQYo9M6mml5a7IWPVdbgNeOvMrHO6MZy3GHJsu39jmNdfpItyLrqN+Ck1MJKSnkZqI1eWWGavwy9tfxlSvgXv8Zk1ciMeXv0GBlZAxwKSeVn4L1y+++ILVCBmbJk+agNWzryJU+z5r6XbW70HsaqjGTyqXoRLe2DUhknpaCTGwbbYYiTdNZ7WRdfbaQRRcz9bteKXWNMHd2RviCXMR5LccwX53sKMIIfbOpNB66NAh7N27l9UIGdvmzJyE1dOPYrbmS9bCE+BT3wfQqp2G4EtT8c7kHyHVg7Z0JaTLM4F++Ou84S1HRQghAzFpeAC/xzsh40Xh1Wq8nT0X6fVJqHDsmqWsxU80RbikzoOXugUO6pH9KJQQW9du2o7ghBAyZCaF1o4O+gNNxp+cCzV4+ehd+Kr1OagdJsFVpd/mtUjShk4uuBJCurWN0DauhJDxi3paCRnE4bPNeCn3CRzRPq3b5tXb6zK07d3rFhJCgHYKrYQQKzMptBIy3jU1N+OLkwIkX0mEe5UnNO59L5FFyHjVRp0bhBArMym0mjBXi5AxT+AbDIXbMiRX/z/84DiftRJCeO30Z4IQYmUmrR6wb98+HDx4kNUIGdsEIgnavGejzmkaKjom4UqTGy5WO0LDOpJuCavHGY/r+gohROdBPx98FjKb1QghxPJMCq1ff/01vvnmG1YjZGwQeIqhEc1Fg8t0VHb6oqTFE4W1zmho7f+fxLQANcrmlLAaIaTLT6aKsDt0DqsRQojlmRRaDxw4gP/+97+sRoh9EQhF6PC5Cc1us1ClnYxrrd64rHJGZRM7wFQuGsxercTlVlo5gJCe1k0R4atbKbQSQqzHpNAqk8kglUpZjRDbJHASonPiPLS4B6DWYSrK2iZAUS9ESR07YJhC11Qip5NWDSCkL6t9vbF/6U2sNrK01dXQyM+i42oJtC0tEHh4wDFgJpxuDYHAy4sdRQixdyaF1m+//RZ79uxhNUJswKR5aPUMhMpRDKXGB1ca3XGpml1nBYvDGnDaQ8lqhJCe7p7ohUO3z2O1kaFtakLrzl1oO/Qta+nNZe0aCGN+zv21ox3sCLF3JoXWH374Abt372Y1QkaOQBSANq/ZqHeZjoqOibja5IEL1Q5oH8H9LqZJ1CifXYJB/6EQMo6N9JjWzqslaP5bCjqvDz4p0jEwAO6/fxKCSRNZCyHEHpkUWo8fP47PPvuM1QixPIGnHzQT5qDBdYZu3GlJsycKVc6oV49yVHTpwOxVZbjcpmYNhJC+PDLDFx8sCmA16+J7WJuee9GkwNrFcXYgPF54jtUIsQK1EvLsWkhWBkHEmohlmRRa5XI50tLSWI2QoRMIJ6DTZx6a3GaiGlNwTe2Ny3XOqGhkB9iYW39UiVMdNI6VkME8LfFD8vwZrGZd6vf/OeCQgP64/uQ+uD64ntUIsbDSdET7KxCv3YYw1kQsy/HPHFbuV21trS64EmIyRxdg8kI0T74NlZPuxgWPCPwgiMS+xtuR3TAHp2onI6/WHaUNjmhqY7exMYvD6iF3suJAWULGkLWTvXHXROtPeuInXbW8/R6rmadTcQWuUfdwv58G2FdHlY3UN3Lhs3wufFhTF9XRVKTIfRA+r/sadakc+/dm4suvj0B+VQVnH3+IvZ3YtTw1lKe/xKefSHEopxjqCf6Q+ArZdXr8edNKAxHqp4L8v18is8ATtxncx4A0KuR/m4nPPt+PIxeVcJss6XH/KmR/mIZSSSj8G/Mh++IzZHKPNb/CDdPmiuHZ10tRlY9s7nF89tUh7jgBfMT+8FH38brw931cii93cs8tKx9KRx+IZ/jA+Nnpdb9OJ1Bc74zJEu6+i6RI/qIKwSH+Rrfhj/0yIx3Sb+QobvOCv/9kCA0fZyF3ux+cuO+DW/dryz93cRDEnvpDjM8xGf6S/h+X2ffFfx8ncd/Hid1nVOxJxge7v8N331+CykOJ/Kxs5DsGI3RGX/dKhsqkHbFcXLgAQkg/BPykqFn3oGL2ozg7cyu+nJiAZM2fkHz9frytWIydhVPxbYkQ3O9zuzFN0kIbCBBiBh9nw6BkPfwqAUOlbW2F5swgt29UQPqMHH1Nu1QrpIg/3X2NcvdmBD+YgnxIELIkBGJ1FlI2rUPySXZAoxzJ9wcj5i0F3BaGIGRGC6TPhyL8KSkU7BAef16pXIqkNRHYcaici7kmKpZiy4pQJOxrgZi7/yChgrv/YKx7TW5wDjUU+6TI2ZeEdZuSIVOLEbJQDNW+eIQEbUZmMTuMUezZgvBFW5Ba6IYg3XOSIWHtOiTszjJ+XYrTERPE3Xdmuf65LXRD/quRCNqUbvTc+PuXv7YOkpWJ+vteEgRhYSpiV2xG+iEZ4vcpjB4rf2zwphQohEHcsWK07EtA6IotkBo+zio54k9kI31TKOLSa+HDnVNcxX1vQgKxeXe+7hyhj6fqzzFHiJy3+39cpt5X5qMR3H3pn6vEMwcpa4MQ+VL2jcfuM5d7DUIkXKAX6143/ueBAqvlmTQ8oLS0FH/7299YjYxXggmzdDtFNbjMwHWNj24x/gtVDmgbwUlRI8KlA3NWl6OQ1mMlxGT/uiUQMdOsP9FJ/cHHaDt4iNXM5/rTB+D6wP2s1ocBPuJV7oyGuDAe2uf4axRIXbMZ6tcPIq7PXZ3VkD0rQcrcLGQ8ImFtPBUX/oKQGiJHxgY/XYvuvBuB9xUZiDV5WDB3/1HRUPxRhsSVBiMoNflIuT8GquezsG0ZH5qUSH9IjBikoeizjVy87iZ/LRxRlYlQbI/Q90KeTkb42hxsyU7DRsPHoVEg/dFwxHyyBVk3XhcVVFUiiHx1FYZ/TOHcY1Jwj0kf2FRcCA7aLkbmAe52rBdUR5WNpLXhSPBPQzn3uPhXQn0oAZK3JchKj4XE4D0QH7CDPgyFnB2Ho0kQhGVg25EsJN7RHQzV3ycg/MFUqFYn4+DHhs+Vf1yBkP+2Fm/ep3+thntf4ELylkUpCDmyF7Fd8w9peIDVmdTT6ubmxkpkPBB4TEHH9OWoC/w5LkuexGG//8H7rs9jh2oTXr+6HB8WzuLeiXoj9/oYDKycWyNqKbASYiaRkyMrWRe/DuuwDPf2N7jBTZSH/Nx+lsJTyZD5UgziNhjGRJ4IUY8nQvXhXuOevz/GIcaceWynM5GiiUOsYWDlOQUh9g8RSMjMMujBBLY+tt4osPJCVnJh+aQC5awu37cDbi8kGgdWnpMEG5+ORwir6vUMrDwJgsOUyFd2faymhGxXCmJe2GocWHmiMMQ9E8sqPBV3bBJiHosxCpE80do4JKpSsbeQNfBWc8/dMERyhHesQ7RSiY2PG4dz/nFFbFiPjHNdr/jw7wu+XOB/QIp8hcn94sQCTAqtQmGPbxYZEwSu3uj0W4JGSTSuSH6L7Ol/wr88nsOOxl/jb6UReP/yXPynSIRT5U6oG+1Z/COEH8d6SlPLaoQQU/m4jExo5TcOGBZ3d1YYLj9sfDkVwg/DIZgbjshH45H8YSbkXRm2qhwKPymS7o9E5JoelydSoTigNB6C4OXW55jLfvFzTRSp2Nzz3Nxl3UtS+BUruWjWzcerj7P7iiG58TjU3CmVCJvTM9oy/LGs2EV1Mh3JT0Qb3ffWj9mVOi2orYpC0Ny+n5lIbHjGWpQX+0H60jqj8+kvm5GqkEFZxQ7libg3DaxobD2C+wj/blw4VWq6AqYl7ksEHzGgqKKJuiPJpNDqbrF/5GQ0CBxdoJ28CC0B96Es8DGcnBGPzydw4VT9O7xWvhb/KArG50W+yCp1wXUbncU/EqYHtuKsJ41jJWQoRqqnld/pajgcZw399i2NPQJKQBR2SIuglUvx/lNRkDTqx1Vu2ccdJ+RCqF8sduw/iIO9LlkoGu5HyPwnoKsTkNHX+WV5Nz5yN50QPj5+yC40Hvl5Ax/CWZGnPpmEqCfzEPRMmtF9J29iB+i4wcdXivxLffdGqiq7+nh5XDD0FCP2VYPnYXDJuqTFtmXs0GEbyfsilmRSaBUIBBRc7YRg0k1o4ydFBT6C3FlbsWfiNuzQ/AmvVvwEb/GToi774dsSN1yhN4fGXDrgHlSJzvHRoUyIxY3URCx+a9ahEnh7wSnkFlbrh68fJMiBopTVb1BAtlvGyj14iiBZHIH1T76PtFdDkHIyH5gRgghhGmSn2TGWNj8EcbszITPsERymkLXxaHkrFbJefx8USH91BwzXEMo/8CbET8QiKqBHL2o7+6rjh4gH45D2XhoUGtbUpTEbKdtTWIXnh5AVQqQdGImVikbyvoglmRRaeZ6ePQekkNEkmDATGv8I1AT+AgUBv8P+yc8ixel57Kj6Gd4oXopPLs/A/mJ3XKw2+Vs8ri1ZWYNLNI6VkCEbqdAq8PLSbc06FC5rf8RKAxCGI2Z7ObY+m4r8rvCmUUL2UjzSaw0DsxypL6Yiu9igF5E7LkeuQNQMvo8zCLGvRSPjwc1IOarsHl9aJUf6U9HdKwwMlSgKW19tQfxDCcgs6E6Z6lIZkh7ajMx+htoOaPFWpD2rxOal0UjaKYXskIwL6inYHLEOsqBYGK5wK1kcjaw9MqMwqtyXgMQ9PUa+3rcDmSHpuo/dU7jQz59TujMJ0WEJQFQcO0ov6JFkRGdGY/Mb2VB2vWAaFeQ7tyD6FcsGTKvcF/fmRYws5BSwukplNK6YDB+FVhsn8JiMTn5SlORnuCzZgm91k6ISsEP1S/ydnxR1WYK9Cm/kVjhC3U7dhEMREl6Pk7SBACFD5u3kCKHDyO3tL4z5uW5rVnM43bIIrvevY7WBCBHyP1JkLpIhOkig+6RRwAU2aUAi3nzKcAymBOELlUjdEKw/hr/4RyBtcgrS2GoBwmXbINsToZudL2HHiFcmICcsEbFLdIcMi2RDGnJe8IH0kdAbjyH4wXQIf5uI9eaNDbhB8uD7yDsUD0lVPuQn5ZCX+iA2PQ/vPxzMjtATrd0B6QoZ1vkHInxNJMIXBWNrYTR2PN1z5KsQYf9zEDlvrYewkDsfd858dQh2HDmIbavF7BjGMwzbDuxFREkiIiRdr2k4EuThSHxs6D3sfbLGffFvJL4MQuZK/fkCN6Vxz5VdRyzCpCWveJ988gnOnDnDasTSBK5e+p2ihDNR4zAFZa0TcLnOBcoGdgCxiumSFijnXEOHaf8MCCF9CPJ0Q96KBaw2MrTVNWj+ewo6Lhexlv7xgdX9d3GAqytrsX3yNyIRv4dV+hDyZBp23DfEZDoEuiWi+KWgPl5v5ljZ/ik+XIdwZSLK/8fCgZSMWSaH1v/85z/4/vvvWY0MmYMTMGk+WjwCoHIUo7xNhKJ6V1xRjVwvBWFcOjB3dTkNCyBkmFb5euPA0ptYbWS17spE2779uo0DeuLHsPJDAkzrYSVQy5H8lBQhz29FhOHC+FUyJN0Xg/Jn82+sc2qy0kzEv6pGzLMbEWKwRJa6MB2xK95E6L4sbF3MGgkZhMmhVSaTQSqVshoxhWDiXLR6BaLOaRquayaiuFGoW4yf2IYl91ThJC1vRciw/XL6JPzz5p4fC4+gdo1up6uOklL9Oqzu7rpVAgaddEV6UexLQsIzbyJdLUGExA3QlCMvX4yYV99E4oYg85bl0lFB/mECEranIEcYgWB+RECDArKqEOz4MBVb7zAzBJNxzeTQeurUKezcuZPViCGBtz/aJ8xBg8t0VHRMwtVmD1yqcUILjTG1WSFh9ZDTNq2EWMSzs8VIumk6q5ExoVEFlW6SlRAikflRtS/qGxOTLHdOMr6YHFoLCwvxzjvvsNr45OAxWRdO+XGnVdrJKFV7obDWCbX06bJdmR6ghnJuCTroPQUhFpGyYCaemDmF1QghxDpMDq3V1dV46aWXWG1sE7h4onPiPDS7zUKNYArK2iagqM4VZfWUcuwejWMlxOL+EzoHP55KH/MSQqzL5NDa2dmJZ555htXGBoGDE7ST5kHtIUGtgx+UGh9dOC2mSVFj1pIfVdLyVoRY2InwICyZMMztVQkhZBAmh1ZeUlISamvtdOKKz2y0ec3WT4rq8MGVRndcqHaA6c+e2LvQsAbkeAxlxW1CyEDKI26Bn6szqxFCiHWYFVrffvttXL58mdVsk8B7Btq9Z6PBZQYqtb642uSBS7VOaG6jdDqezZCooZxTCg29SyHEohwFAmjuuZXVCCHEeswKrZ999hmOHz/OaqNL4D4JHaKb0Ojqj2rBFJS2eKJQ5YyaZnYAIV1oHCshVjPTzQVX7r6Z1QghxHrMCq0HDx7Evn37WG2EOLtDO3E+mt34naKm6naK4hfjL6tn1xMyiKX3VOEErcdKiFWEiTyRFTaf1QghxHrMCq1nz57Fxx9/zGoWJhAAk4J0k6JUTvqdovjF+ItqaFIUGbrQsHrk0HqshFjNIzN88cGiAFYjhBDrMSu0lpeXIzk5mdWGTuAzG62egah30e8UdaXJXbdTVCcNNyQWpB/HWgIN/VwRYjXJ82fgacnI7YHfU3tnO46Xf4f8mlyUN5ZC3dECNyd3TPecieBJi3G7eAU7khBi78wKrR0dHfjTn/7EaoMTeE1Du/ccNLjOQGWnL0paPHU7RTXRpChibS4duGlNOS6qaRwrIda0f+lNWO3rzWoj62zlSewt+hyN7Q2spbdJblOwTvJTzJu4gLUQQuyVWaGV99e//hWVlZWspidwm6ibFNXkpt8p6lorv1OUM6ppUhQZJUt/VIkTtB4rIVZXFnELxKOw3FV2+WF8dXkXqw3uwZt+hcVTlrKa7VPujIa4MB7a58L0DUeTIHhVgvLPNmL0+rUJGV0O7KvJmr3no1nyE5QG/hrHZzyDf3s9hx3NcXitbDXevTwPmUUTcewaBVYyevhxrBRYCbG+Sc5OoxJYL9ddMCuw8nZd/CeUTddYjRBij8wOrVrJj/B20SJ8enkKjpS44hrN4ic2hB/HmutZwWqEEGta5OXGSiPrm+KvWMk8B6/uZSVCiD0yO7QuEjuyEiE2xqUDHguq0W7eiBdCyBAtHIXQeqX+Mq42FLGaefKqz6C6xXh4W1/UpXJId6Yg+ZVkpOyUQl6qZtcYqMqHjB2TujsbCqMPdxSQviLl/g+oCrOR+WEqsg2vVysh353Kzi9DfhVrJ4QMyOzQevM0Cq3ENt0WocIFNY1LIWSkLPQc+dBapLrISkOjqL/ESn1T7t6M4AdTkA8JQpaEQKzOQsqmdUg+yQ6AGvkfbkZgWAKkajF3TBDcClOxeWkkko52hVsulD6TheydMQh/Kg05BqFU9X0SIhfFIKXQDUG680uREBaIzbv4iEsIGYjZE7F43s/Wo6GVerOI7bg1vBGn3MtZjRAyEn4Im49wkSerjYzPL34MecUxVjPfnTPW4EcBP2a1nhRIXbMZ6tcPIq6f/RLUR5MQ/gcgZd82hIlYI684G9LGIEQt5BuzkSQIR8ZzByF7IQI3DivNRMzKDKw7kIaNhkvbNnLHr94KvCHDtiVCXRNNxCKkN7N7WnmLpw/pZoRYhX8gP46VNhAgZKSNRk+rlvtvOLTaTlbqixvcRHnIz1Wyek8qyD5OQOgzccaBlRcQxgJrlwjEbTIIrBz5rkTkPx5vHFh5nmGIeyYYCZ9loY+BCIQQZkjpM3Q6DREgNsKlA+7B1WjrHOgPESHE0mYKXeDtNPJ/Cya4+rDS0HgPeHs/bHw5FcIPwyGYG47IR+OR/GEm5DcybC3KiyMQtqhnYu2LCG76TtMb1I1yRCwOYjVjIrEEKFZysZgQ0p8hhdZbZ1BoJbbh9shaGsdKyCgIneDBSiNrllcgKw1NgPcgtw+Iwg5pEbRyKd5/KgqSRiniQwKxZR8fJ93g5imDchgTp8pV/cRSDW2EQshghhRal850YiVCRs+tYfU41l7LaoSQkXTXxJEdy9pl3sSFmCj0ZTXzzOQC6zTPmaw2CE8RJIsjsP7J95H2aghSTuZzjX4IWRGGDGn2kD7GD7ljG2S7ZLpVBYypkb1fiqi1YTRelZABDCm0zp/igEnuAlYjZOT5B6iR60XrsRIyWu6e6MVKIy9iZhQrmedu/3tYqT9ypL6Yiuxig0iqUSJHrkDUDH2cDHokGdEH1iP2PTlUGl2Tbgkr6bPhCH5x4DArXBmLZOFWxDwrhbLrQI0K8vdisf5ANBIelLBGQkhfhjyj6vZZNESAjBJ+PdaF/DhWWsGCkNEgcnbEYm93Vht5IVNuR/i0laxmmlWz7sU8nwWs1h8JwhcqkbohGAKBQH/xj0Da5BSkPcICpWcYth2QYd2lBIT7s2Mk3DE+ych6Lgw9hrH2IMHGD+RI9MnE+kVd5w9HwqV1kPGrEYxO5zUhdmNIS17xXjygxvNft7IaISPn9nuqcExDwwKI7XC6fhLzjhzGVGUtGu+Ix/HFBpN9Olsw8dhOLJJfhmsbV504D0URD6JoxsAz712LD2DBkWOYWN0CByc3NM1ZhbMrl6HBlR3QmIcFmZ9ieg2gmX4Hcu5fDVXXdVb2k6k+2B06m9VGzzdXvsKhkn2s1r8oyXosnx7JaoQQezXk0Hrwkgar3mliNUJGxpLwBpx07285GkJGntvpd7D8cC1Ut69G4bwFaPR2g8Zg2L/Hyb9j+VFXFN2/HsWTAe+cTISeaEXhpt+heCI7qAenq3uwPPMcVHc8hMIF09CpOoOb9u7BZN+HcOQnt6AVGkz9+kXM8o3D8SVTuPt4B2FVd0J2TzA60YKp+3fCZcmjKOnn/MP16nx//EEyldVGV2lDMbLLv0V+9Rm0dnR3pLg7e2LhpMUIm3Y3priLWSshxJ4NObSqNdwv6z/VsRoh1jdT0orrc0vRSstbEVtRvg93fXoaFet/j/yZffWcluCmf7wD0e2Gva+18P90B+ZO/w1kd/izNkON8N/1EuZ5xbAQqudw8TOsktYgf/NvUOLJn+NTYC1X9uau5ELumuzJOPKzZWgt3YMVP0zGca5srfnoo7GpgCmqWyqg7lDDzcl9yJO1CCG2a8hjWoVOwHIJrSJARgi/HuuCKgqsxKZMzD8K5/k/xoU+Ayun/hpELW5QTTVcG9QHDdPd4HTtGvq+VTM04mUoXCi5EVh5nRN8oOtH1DV6oW1COcQX9ZMRPSqucdd7c/8+KhBwqAglq6wXWPnxrLeN0nJXg5nkNgXTPWdSYCVkjBpyaOWtkNBkLDIylkXWoYDWYyU2pQS+lzRQTWjGnF2JWPW3bVjz1t+x6HQZbrydb1fDFb5o6ZHxWj0HClVTUH7HfSjuMebVtboErm6z0MD3rHL3cP2OjVBdSsEa7n7DLs3GyZXBcD2bCX//e1E8SXcTq7jTxwtOAlo9hhAy8oYVWu+aTT2txPr4caxH26tZjRAb0dYA1xZg4rEDcJv7S/zw63gcD/fFxMP/wM0Fjfpjmhr66U01U2sebpJdQdVdK7p3TPKch4sb/oL9v0/CNxtWc+15mJM1EQVhs416aC3NVntZCSFj37BC691zKLQS65opUSPX8zqrEWJD1PW6QKq68zc4s9gfLW4+UC2OwZlQZ/ieOA2LRbvOWvh/+SmmTl2L/Pn9jSPVYOIPX8DtjtW4buUVBG73odBKCBkdwwqt/LjWiLkUXImVsPVYW2k9VmLDGnyN97Kv97sJqK6FLjt6eA1zbGkLJh5+B0F1S5Bz/wDjVMsPYNG1MJxf6AO3gs+w/K1tWPNmIkJPGgxVsAAfGx7PSggZ+4YVWnkR1NtKrGTZylrkt9A4VmKjPH3AL/rnxC+l0h9nIVpRBbceqwO6qcp1v30H/hifC6yyv2FJ0UKcfPg+1PTbg1oL/+9Oo2LlHWhSfY/Qb51x4ZEk7I99EK2nPkAgd1eWstp3ArydaC4DIWR0DDu0rrqJQiuxPN041g7aQIDYMIeZqAkAphZdNOrN9FZeBMST9b2i3tOhcmvB5GuGWw5XwLtEA414un41gH64nf4IoXk+yP/pQIEVcC3Yg3kTfoxLM7hH0VgLD5EYTfy4Bbd5KJ/bAsd2/XGWsGrS6G3dSgghww6tt890hJ/XsE9DyA38ONZznoZ/5AmxRW4ov/0OtBd8itAfLsOjpRai02m4Jacd5SG3sI/y/VES5g+3o7sQVFQBp5YKTPwhE3Oq/XHp5q41WjUQnfwYocdKbvxC5jcXuO1wFSojfoZy1xbudgaXNnaQTi18Lzri/J3B3Fk4fO+vqpx7LFy55QLEl9zQ4cxfMXz8Y1vtq1u6gBBCRsWQNxcw9Mudzfj4pAXfzpPxy6UDQWuUyKflrYidcCo9jJtlh+Bbo0Gnmz+u/ugXuBhgOGGqBaITu7DgxAV4dG3jGvkgiqZ3rSvQAvFX/4cFmvVstytgomwblpzVX9vLzY9if0T/W6jyY1pDZWfg0emGqmWP4uySafpAO0w/4gLr10tvYjXb01ncgM5zNdDWt0Hg4wqHWybBYRqNvyVkLLFIaN0pb8fGf1HIIMO37J5qHNXUsBohxFbsmO+PrTaydauh9n8Xov2NXGiyem/v7Bg5HS6/vxnO9wawFkKIPbPI5/pr59O4VjJ8S5c3UWAlxEbZ4njWll/J0LLhQJ+Blddx8Bpa7tsH9e9/YC2Wko0kQTTSS1kVKkifEkP8lLR7HV1THE2C4KF09P3oCSE9WSS0itwEWE0TssgwzApsxTlP+tVNiC1aJvLALd7urGYbmh/aj/aPLrDawNr+fhYtv/2O1axBhKD7EpBwXxBXIoRYi8VmUN0bTKGVDBG/HuuCKrR0WHMfH0LIUNnaBKzWHaeh2XWZ1UzT/s55tH9sWsgdCsnqOMStlrAaIcQaLBZa71tgoSmqZNwJi6hDHq3HSojN4tdntRXaDi3a/k/OauZpNed2VfmQ7UxB8ivJSN2dDcUgn/urjqYieY+C1bqpCmRIfyOZO08qMo8qTBs+UCxFymvpkJs11oCQsc9ioVUy0QHhAdTbSsyzNLwB2ZpqViOE2JpgTzes8Olv+9iRp8m4DG21mtXM05lfC813ZazWHzXyP9yMwLAESNVihCwJglthKjYvjUTS0f7vV62QIv60wRCnxnykPhqI0OelaJkRgpCFblB8sBmhEUnIbmTH9EF9OhnrVqfB54GNCKGxBoQYsVho5f14IYVWYrpZgbQeKyG2ztYmYHUer2Sloek4PvDvHPXRZMS8K0HaiQzseGQ9IlZGYeMf38fBA4kI8TQ1LKuR/VoMUiVpyPlsB2IfiEDE2o3Y+u5BHHwhBKJ+1iBTfZ+EdQ/nI/ZAGjbSggeE9GLR0PrAQhoiQEzk0gHPBTVo6aRxrITYsvun+rCSbehUDnMo0XX9tg99U0H2cQJCn4lDWM9ezoAwRC00setTJUPa86GI/21Yr4lZkjuiENTHaRR7tiDqj+XYuud9rKfASkifLBpa5052wHIJ7UtNBhcWocL5lh4bshNCbMpSkQcibaynVSAc3t8YretAf/ZqUV4cgbBFw/xcvqocitVhCPFl9QHVIue9GEQ+LYUCYviYdBtCxieLhlbeT292YSVC+nZbeCOyaT1WQmzeT6bYVi8rTzBveIHScf5Az8kNbp4yKKtYdaiEbhAeUJq2/uquLYg9EoG98jxkRu3F+ifSufBKCOmLFUIrjWsl/ZslUeOc13VWI4TYsp9MHWaPoxU4rZ7BSkPjtGqg2/shZEUYMqTZGNpUL2ZGCCKWZWDv9yacZfWbkH0QiyBPIcKeS0MytiLmxWHePyFjlMVD6wyRA6KCaGwr6QM/jnVhNZppPVZCbN79XGAN5oKUrXFc7Aune2exmnmcH50Pgd/AmyQEPZKM6APrEfueHKquCVNqJaTPhiPY5DAZhNjXoiF7MBapp7vXrVKXSpEQFmy8CoHIBz43+nok2PhWJtZJ45BoSuAlZJyxeGjl/Wwx9baS3sIj63Ce1mMlxC78xMYmYBkSJt3OpVcBq5lGMNUNwkTudoPxDMO2AzKsu5SAcH8BBALuIolAmk8ysp4Lg6kxXrhsG2SH1iH/+XCI+XNwF8naNPi8koVtywY4C3//O+OheCQW6cWsjRCiI9ByWNli2jsAn4R6NLVZ/NTETt22vAnH3QZbH5EQYgumujojf8VC+Djb7sRaTUYRmn/6X1YbhJcz3L9YC6eV01kDIcQeWaWnlf89tzGUhggQvVmBrTjnadKUBEKIDeDHstpyYOU5RQfC4/sH4LhsKmvpGz8G1iNrPQVWQsYAq/S08r4r6sBdKQNs+0HGB5cOLPzRdZyj5a0IsRv7lt6Ee3y9Wc32ab5QoH3PFXSerYa2rg2Cia5wDJ0M559I4DjMiVuEENthtdDKC0luxOmyDlYj41H4PTXIom1aCbEbi73dIV8ezGqEEGI7rDI8oMumJTREYDzj12OlwEqIfbHFZa4IIYRn1dD6q9tcYN78TjJWzApU4zytx0qIXXEWCPBz8URWI4QQ22LV0OrjJsAjt1Fv67jj0gGvBdVoovVYCbErfGCd52F7a7MSQgjPqqGV9+httK3reLM8UoVztB4rIXaHelkJIbbM6qF1ucQJKwJps4Hxgh/H+kN7DasRQuzFch9PRE2ZwGqEEGJ7rB5aeY8to97W8YDGsRJiv6iXlRBi60YktD58qzNm+ozIXZHR4tIB74U1NI6VEDskdnWm0EoIsXkjliR/vWzkJ2TNWijAv55wwKVNfaxhMFGA1McdUPK8A+r/zF24r7m/FGANu5r3+IMOqGDXlzxufB0xdkdkPXKbaQMBQuwRH1h9XWgYFyHEtll1cwFDtS1a+P1vA9o6rH93t4QI8NxyLmT66ut1Ci38PzK+3ze3OGCTCDh+Rot/XAFu526zScIde0GLuTu5YwO5ELsJuH5Ii1WXgG+44Du1UItFn3PXzRMg98fAxy9r8Qo733h2+/ImHHMrYzVCiL05FhaE20QerGZ/Wisa0HipAq3X69HZqoGD0BlCsTe85vvBWeTOjiKE2LsR62nll796YvlIjG0VIPFHXGDlfk/tPw5webS32wT4MRdorxRwgXSPFrvOahHPhdr9KmCqP/A4f8wULURqLb74lgupZVoUNAL63+kCvBkpgOg6KLByAgJbcd5TyWqEEHtz/xSR3QbW9voWlH2eA8Vb36LyQD7qz15D44XrqD9Tioqv83D5bzIo95zVBVlCiP0b0YGmcSMSWoGPv9LC++VO/FSqhZq1GXEFiiuAby8a9r5qcYVfpYl7RbirgQoBVEIu3N4lAKYJMN8TUDUBs1YK8JAIeJcLu+MeW4+1kcaxEmK3Nkyzz7GsLaUqXHnvB9SfG/hTHtWpqyh+/3u0VZs6fCkbSYJopJey6ogx/36VO6MheDGb1WyBCtKnxBA/JeVKo8/2Xh8yXCMaWuf4OuARq6/bqsWuc4MEyiNarHirE1vOsrqOAPO8uS+1wBt8tagTb3DXz+NCa/3j3HU1Wmz9HHjzduBKrhYv0qpOuCOyDrktNI6VEHt16wR3u5yApWlQ49qnJ3VfTdFW2Yhru05B20mdDdYlQtB9CUi4L4grEWJ5IxpaeU/eYZvLX615UIA1nvyQgu5fau9mdsL/hU54/5n7+i7Xzh1zl1qLbdTLituXN+L79mpWI4TYo8f9J7OSfan8psDkwNqlVVnP3S6f1Yi1SFbHIW61hNUIsawRD60h0x3x8xDb2tp11nIBUhcAdUVa/FTOGnsKFCBpHvDtUS32s6bxKiBQjTyvClYjhNgjvpfVHkNrW00z6s4M7bP72mPF0LZ3sJqZNCrkH0pHyivJSP4wE/LSPkKzWgn5PnbMG+mQnu5nvD9/rqOZSB3oXEOigPQVKfd/TlU+ZDtTkPxKCtL3yaE0dVhvsRTJO+V9DK1TQvZGKrKrWNWA6mgqUg7pnytfTt6jewR8Ddkfcs+Rf549Lx9mdw8hMHw9XklF5lFF7+EFhdzj0p1XBQV/rOHtOepSOaRdz/dQPlTDGMasKpAh/Q32WLjvYa/X4sZjUUN5mj1u7vstK7SFQRFj24iHVt7vV9hQb+s8AT5fKYBrlRaxH/ffg5q0WoBZSi22XOSO/333MlnfrGYHjBe6caw1aNAM8Rc/IcQm2Gsva1Ph0N8wazs6dasMmI0LcltWhCJhXwvES0IQJFQgZVMw1r3WHe7U3ychclEMUrL1x4TMqEXm0yEIfzHbOPTozhWELR8o4LaQO05Ui7SnQxHzXg7K2SFDx4XmZ7KQvWcLIh9KhhwShCwRo3ZPAsKDNiO1wIRwHOAD9dMpkPYMp4V7kfTUZuw40DOIKyF9NRNCfz9dTa2QIv5GWBdCsoh7jvzrceMSBPWReGQohdy1nOJ0xARxr21muf71WOiG/FcjEbQpXR++u1TJEX8iG+mbwrHl4xyDwKqG/LV1kKxMhEwt5s4vAU4mI3pNAvaa+95Go0D6o4EIfV6Klhn6x6J4KwbBEUnIbmTH8NhjyXw0AnHp+sct8cxBytogRL7U4/tNLEowUkte9fSzT5rx2el2VrMWAU78WQC/Ppa80uEC64kHuTCq0uIXbw7Qg7pMgJJVAnyR3okrdzvgOU8g9l+dAFdOXajFGy9osY0dOtbdEVWD79toWAAh9ozvZT0ZHsxq9uX6V7moPdnnujAm8b37Jt2lf/yEqB2QlGRg4wy+rkBqVDQUf5QhcaXBSE1NPlLuj4Hq+SxsW8bFL7UKKo0IIu7vww2NMsTPTUbQkb2IncM38OcKh+zhLKRtMPwIXY3sFyMQ/rwYaTfud3D8RCNxYTy0z4WxFv6xh+PNh9OQ9fFGLrJ2U3GhOupJIDl7G8J0abF/8ldCkTJHhvcf6H6+fFuqhnsdjvjhTWls97kLU7HuWTekfrYRfGzt/ZiMKXbGIHLfOhy88fi4162Ke93YEpV6+tdJ8UcF95qzB3s0CYKwDGyTGX8f1IcSIOHuP/MA97wMX3s+DIfFIP2JrH4fizEu/L7EhVBNMmTc8YYvkf4xR3Ov6Xrdc7zxWI5kIfEOgyOruDcki1IQcuP7TSxtVHpaeVvv0s3RHz0TBdjzYwHmtWnxYvpAH/kL8PkdAqgudGJLETDLHair02JXDbArU4sLDgKMl926l93RRIGVkDHAXntZeR3DXL6qs83M25/ORIomDrGGgZXnFITYP0QgITNL37Mm7BFYeZ7BCF0hhbKr15I/V3k84o0CK0+IsN/GI5bVhicE8U8bB1ae6I44xIckIO3A4B9hhzwQxwU17nGzOh+Gpe9GYf0fuNfBLwWZp1kzR3EoHeINUfowNxgu4G55PRhpbxk+vp6BlSdBcJgS+coej3V1z++DCrJdSVj3TJxxYOUFbORehxBWMYFKhtRngxH/W+PAypNsiEdcbgr2FrIGHv9YDAMrzzccUQ9Ika+gvlZrGbXQettMR2wMHb2xrW9uFOAu7udtf7YWSu5d7YM3d1/WTGMH8W4T4Bbud9wru/RVflmsCRMEeHAid+x6LvR2alGnv2pMk8ym9VgJGQvsdSxrF0f34Q0vc3Qz8/a1tZArUrF5TSQie1zWvSSFX7GSfVSthmJfKuIfNTwmBolHdFfq8edaHYIgVjXiK+4VNIcmAiHzWdGICGLuDsobTQhUcyKwsTHtRkhTH9qLvY9HI4IL5hEPhHPBt2vyhxyZb4Vg49oegb4vjdlIejgV4a9t7RUwVSfTkfxEtMHrFomtH7MrDYnc4MaKerUoL45A2KK+7188w4xXtFGF8tVhCOkVoHliiOfKut988Ho9Fp4IPmIuyFfR2FZrGbXQyntm5Wj1tgpwO/+DyT37NZEOSF1vfElaqj9K53gn5v6tE13/fl75jxb7udulPsUPDeCu5kLvmB8awI9jDa5Gg4bWYyXE3tlzYOXxO10Nh6u5t3fjosnqBGTsP4iDPS+yPJR3fSy+KxaRO4GYl/caHJOGhBX60+jw57oRcntrYV+Hpxyq/u7A5BF5EkQ/Jkb6If3EJ9kuKaK5sM0TrV6PqHel0K1+elqGjLVRCO/ZNdmLAulPxCDvqTT9UAoD6pP8sIU8BD2TZvC6HUTyJnbAgLjg6NkjTBpoMbdTPre/7w33nRleBz+xkFENrbdMc8Rjy6w5KUuLpfxyVb3Gs+rb+aWs+ros/YId1pcaLX7KhVjdsS90YtUB1j6GrYisw1laj5UQu2fvvaw8z3l+EDgIWM08Tl5CeM6Zwmommh+CuN2ZkPUTjPSUyNqTjo2PxyLE1zCU9Qg7/Ll2ZUBWzOoG1N/vhZSVhycdaQeMpjDpNWZj754wRCwy6YN8iFZEQfJWJuRKGTKL47B+MbtCGIF1m1Kx9xAXZj/LQPRDEb0+TjfGj9eNwZtz05Daa1gEkH/gTYifiEVUQI+zmBSw/RAUFoIMaV+TnxTI3pPJyiaYEYaokIz/3969QFdV3Xkc/+XJzTuX8MiDIAlESEQlFJVEQQ2+SHRZoToirVMLOhVs6zTUR43WOuBMW9BWRTutdNkqMNWCVWqwWkMFBaxKVCxBwUZFIUBIAgTyIjj3XHYwYAhJCMk5534/a52V89/3kWtI4i/7/s/eWvJaGzPRH6/REqsXuOVrgF7Tq6HVckdeL/e2ol1WH+sq1mMFXMHpgdUSEhGmvrlDTdU5CV15XHy+Ch+o06xrirR045fzcPWflWjONdO11N815QtPZ+Wo+KWSVjN1NSr77Tw90jo/Ws+1yKPCKUUqbrXMVc07CzTtnnJldstqNNna9uh0FS1vtVRTZakWzJikkknzNG2kGTuefvm67uKFmnvbAlV/q+CI1oWcK2aq+LFpmr98svKOE+TqX5utmWumaeFRFze1SBs12Rf4S1TeKtxXLC/S7GUd60fNvnG+Jr88SdN+W/rlMlf1FSr+8XS94JlkBjoiTVPvmaySq6dpwTut/52LVTSlUJ4Hpimv/XSOHtDroTU9IbgX2wTQnrT0Bm2I3m4qAE7mhlnWFv0vGqHIUzq3k1fMiER5c7rWNZo2ZaHW3edV8Q2jFRQU5D+yrl4kz82zNclMXGZ+b6Fm18/T6KQsf09m1ulTtaBfoWYflZus5yq936uFE9PMc6Ur/6F6zVo6WwUdaA09vjTdsvhx5b5V6Hsth15rUE6RyiaWqPgYwbFtHuVOzFfJk0maevFRs7OjJmlm7VLVf3+SLyK3p1Tzrp6j0uXTlW6+bl8ec/wtBvET56p4XIkKUtOV6/u65Z6epcLNkzX3hx38t4rO0V3LfY/fVKTRYYeeO+msaSo563EtnDHa3KljPGPvUvHLBSq7J1dJ5nVmXb1U3vtLj1rtAb2l15a8am1P/RdKm7NXVft7/aWgRXizzrh0O20BgEssHpXuyC1bj6V5f6M+f/pt7f/4+O8ExWQmKeUaX4DxhRBHqCjWrOutdVaPZZLmvjSzjcB49HJdbejycztb6cMTNGuZKdqQ7fujY+4VHWudQO+xRWi1PLiyQT98rgNXNaJHjJu4S6uaqkwFwMmssGqFVjfatWqzqt8o14HaBjPypXBvpLxj0+Q9J1BmyToQWgEHs01otZwxd6/Wb+MK9d429txarY048b1ZAPS+yJBgvTZ2hLJjI82IO+37aKcad9SquaHJ3/fqSYxTRCdbCJyP0Ap3s1VoXfJek77x+/2mQm9IS6/XrlO3ag/btAKu8JNhSbo3I8VUcLt6a72r+PhO9K4CztHrF2K1NvmMMF05MtRU6HHhzYo9rYrACriENbt6W3qSqRAIPARWuJitQqvlp5fy49ZbrPVY3+XCK8A1bktP9LcHAIAb2O63mbXhwO2s3drjWI8VcBfr4is3rRYAALb8E3z2RI/S+jI70FPShzaojPVYAdewZletWVYAcBNbJsNQ36uak0+bQI8wfay76WMFXONHaQNdv1oAgMBj2+nMKdlh/guzcHJZfazv7K81FQCn4+IrAG5l6/fg/zvfo5Bgh+xg4kD0sQLuc8+wJC6+AuBKtv7NltE/WP9TwEVZJ4PVx7oxZoepALjBrUMG6usDvaYKTE31B8wZALex1eYCx3LBo/v06kf8Iuo24c0addkO2gIAFxkVG6kVZw9XfFiIGQkMDbWNKnv1I3367ueq2lIj6/9owaHB6jfYq8GjkpV1YYZCwph5BtzAEaH1zS3NOvuXBKzuMm7iLq1qqjIVADd4dvTQgJtl/fC1cr3xzLs60HDsSY3I+Aidc82ZGjKafU0Bp3PEn59npYbop5fSJtAdxp5XS2AFXCYQ2wLWv/SBXn/q7XYDq2V/TZ1W/GatNr3+sRnpnPqPS1WyosR/rNlYo3oz3nEVWnRNkOasNSWALnPMeyb3XOLRuWmB9bZXd0sfWq+N0fSxAm5itQX8ZFiyqQLDlvXb9NbS9abqmNeefEuVn1Sb6vhq3l+kWXlJSrtilhYtL1XpW8VaMCNXaRkFmrW47Kvhtb5CpSvKVGNKAN3PUY0+D14ZYc7QaeHNijutWjWsxwq4yk+GJQVcH+s7f9lgzjqno4+rXztH+RcvlPfuUm1b/4oe/3mhCn80V4+XbNC2VTPl+W2e8v5rzZHBtbJEs/OWqsyUALpfyL0+5tz2UuKCFREWpL9t4qKszhp/SY3eaNhtKgBuYLUFWEcg2fbhTr334kZTdc6eHbVKH5MqT3Q77WaVxbr1/AXKXV6i23OizWAr0RnKm3yuKu6ZqTUj/13jB4WqfNk8/e7ZlVr52ibVRFWobPUalYVkafQga5OcWq1/Zp5qcu7VeE+ZSp57WktfXKWyHRFKzkhSdFtTR5VH3S/Nd79Qc5tfuYp/sUah52YoaPMaFT/3kmrSRivV+nQHalT2j2I9v7hYK1aXqSIkQkmJ/eXhWjS4gOO+jW/P66PLRhzx04vjyDlvn1ayHivgKoHYFmDZ7gutJ6LiOI8vXzZfS26YrZmjzEBbonM087bRKvpDib8dwJuRrezsNHmVpMwxvnPfcSiwfmnby3NUcP08ldQnKXtkkmqWz1J25nQtParVtnzZLcrNKVKxdb8xmYrYPF9TTy/QvHdaz+tWqPS21VqzeKpyv79Q6yrNcH2p5l0yWrOerpbXeh0jI7RtaZFyb1rqewTgfI5YPeBomysPatS8Wu1rdNxL73HpwxpUnbFV1U3MTgNuEoirBVhWPvGmPlr7iak67/RLh2vMVaeb6mg1Kp7hVfHEaj1yRbwZO4aPF2lyWrlmfXGXcqz6M1+d2qo+zLoQK0lTtVD/evo6pZlRS+mDucrfOVvl9+fJH3E3L1DB1eUqXDFbea0//cb5KphSo6I1vuf233GN5gTlasndr6jkvjy13LX+5VmKWJanuofyDz0f4DKOfMNgWL9gPTKJH8njsvpYs6oIrIDL/DQjJeA3Eeiyduc66lVTKSX1P05gtXTyDb/CGycdEVgt2RdOVtJb5dpm6tJl81U/Y9qRgdUyYpoKLy7SklWtZ1vzNPP6LwOrxRPjVeLmMpVxNRhcyrFdLt8+K1w3jQ03FdoyfsJulbKBAOAq30j0+rdqDVTR3khz1jXRfdt7fKLSRkjrNpWbuh31dapJ9AVFUx6PN6aNe/ZLUtrLFYffuq/eWary303XhEsmHHUUaM7yRJVXtk6j8Yo4+inHFqp44jpNzUxSVt5k3XLPfC1aUc6KBnANR7dmP/aNCJ2ZTHd5W+hjBdxneJRHc0ekmiowDczoZ866pv/QBHPWtsycmVq9uETHi62lz87Xhhl5yjZ1d4iIkPJ/vESvvPTKV4/127Rkii8lt8uj7O8t1IZt5Vq9aLam5nhV/tgEZebNV6m5B+Bkjk58wUHSr33BFUdKH9qgjTHbTQXALazAekpEYL/DlJI1UPFJsabqnMSM/kpIbf+t//iJhZqtIhU9eezYai2JNfOBTM2/4cju1ROVOWamljx76OKuE+NRfGKmciZep7ueXqhbVpSo7DNzE+Bgjp+mHHtKqOZPJrgeFt6s+NOsPlbWYwXc5P7hg3T5gDhTBbZRBZnmrHM69rg0TXt0gbyP5mrCDxdozcet+khry1Xy8HTlXVWigmcXaFLrnWGj45Wk1VrXshpXTed3z7IC87wDszT5nqUqa1kRwPcsFSvmaHIHVgCoWT5P85aXqabVJ655f53W+QJs4olNUAO24Ir31mfkhmv6OfS3WsZPqNE6+lgBV5mS3Fd3ph/vreHAkTYmVWdcNsJUHTNm0ulKGjHAVMcxJF+PrCrVXWmlmn1FmoKCgg4dGQVaUJOvBWWv6K6xRzWUxuer8PlMLb3w0H3Tr1+oss6mVl9gvu4P6zQ7pljTcsznDMrSpCc9mnnfJB3vOyA+O1ueZbOUm9by2CCNvq1ck1cUKY9rl+ECjlzy6ljGPlSrNz4J3BnGnPNqtcbTch0qADcYGROhv551qpL7hJkRtLA2GXj7z++bqm1BwUEae222RoxPNyMAnMpVofWfFc2+4LpPtQ2Bt37rULMeaxXLWwGu8qIvsF7ar2s9nIGgeusebfz7Zn367jbt311nRqWYflE6ZVSKsvKGKardFQMAOIWrQqvlmXebdM0f9psqQIQ3a/RlO2gLAFzmFyNSNSstsLZpPRF1e+rVWNekPlHh7W/VCsCRXBdaLbNfrtfdLzaYyv3G51dpZSPLWwFu8t3B/fXYaaeYCgDgytBq+fb/1en3bzaayr2s9VjXeLaaCoAbTOwfp+IxGaYCAFhcuzL/E9dGaFx6iKncyepj/TB2h6kAuMFpMRH6U/ZQUwEAWrh6O6mnrovUYK9L/xPDmxWXVaVdjVx4BbhFdGiInhmVrsgQV/9qBoAucfVvRiuwLpwaoSBTu8n4Cbu58ApwGWuGNTOazVIAoC2u/3P+vLRQLf6Wu5Y7sfpYVzZx4RXgJv87cghLWwFAOwLiPah/GxWmB690x3YgQ4fV68MY+lgBN/nx0CTdlMo+mwDQnoBpnLp1fB/dOcHh6/b5+1irtYsNBADXmJqcoDmnppgKAHAsAdXtf3++RzeNDTeV84yfUEMfK+Ai5/eN0VNnppkKANAe167T2h5rxyxr5ywnyR23T6v7sB4r4BbnxEdpbU6mqQAAxxNQM60tnr4+UpcODzWV/Q3LaKCPFXCRUbGRBFYA6KSADK2WZ2+I8q8sYHvhzYrNrFIl67ECrjAiyqPSc7NMBQDoqIANrRFhVnCN0NcG2XvXrPEXsR4r4BZDIsJVNn6kqQAAnRGwodXSLypYz30nUqcn2TO4Wn2sKxtZjxVwg6Q+YSq/4AxTAQA6K6BDqyUlLljP+4Jr5gB7fSn8fazR9LECbuANC9HWvDNNBQDoioAPrZYhfYP1l+lRyhxokxnXlj5W1mMFHC8yJFhVF2WbCgDQVYRWIz3BF1ynRSprYO9/SehjBdwhOEjad8loUwEATgShtRUruBbfGKUzk3tvxpU+VsAd+oaFqvmyMaYCAJwoQutRTvEGa/mNkTp7cM8H12HD6rWJ9VgBx8uM9mjXRaNMBQDoDoTWNiTFBuvFG6N0/tAeDK7hzYo7rVo7WY8VcLQLE2K0YRzLWgFAdyO0HoM3Mkgv/UeULs8KMyMn1/kX7dbb++hjBZzs2qS+Kjl7uKkAAN2J0NqO8JAgLZsWqetGn9zgavWxvkofK+Bo3x8yUItHpZsKANDdCK0dsHBqpG45r4+puldGRgN9rIDDFaYl6leZqaYCAJwMhNYOevgqj+691GOqbmKtx5pVRR8r4GB3pCdp7ohBpgIAnCxBX/iYc3TAY6sbNGNJvalOzPn5VbQFAA5297Bk3ZeRbCoAwMlEaO2C594/oClP7VNdkxnoAquPdXWfraYC4DRWO4DVxwoA6BmE1i56a0uzvrmoTh/saDYjHWf1sdZkbKUtAHCg9Mg+ejhrsPL7x5kRAEBPoKe1i8akhmjVLVG6ZHioGekg+lgBx7o4IVbFYzIIrADQC5hp7QY3/6lOv17TaKr20ccKONPNgwfooaxUhQYFmREAQE8itHaTB15tUOHz7V+glTuuVqv7bDMVAKewVgewlrUCAPQeQms3emFDk77zxzrtqP3ql5Q+VsB5Uj3h/tnVrw/0mhEAQG+hp7UbFWSFae0PonXhsKP6XOljBRzngr4xKj4rg8AKADbBTOtJcuuf6/WrVQ3+c/pYAWe5eXB/zRuRqogQ/q4HALsgtJ5ET7zZqMc/r9TrrMcKOII3LEQ/Gz5IN6b2NyMAALsgtJ5k7+zZr2tKP9Km/YdmXQHYU15CjH4+IlVfi400IwAAOyG09pD/LNuiX3683VQA7KQwbaA/sNIMAAD2RWjtQS/s2K1vvfcvVTd1fhctAN0vxROunw1P0dTkBDMCALArQmsP2954QLPKtuiprVyYBfSmywfE+ftXs6IjzAgAwM4Irb3kkU926HsbPjUVgJ5097Ak3ZeRYioAgBMQWnvR2pp9uuODz/Rq1V4zAuBkGhMXpSJfYL1yQLwZAQA4BaG1lzUd/EJ3fvi55pVXmBEAJ8Od6Ym+wJqsSNZeBQBHIrTaxMuVe/QLX3C1PgLoPhMSYv2zq9YOVwAA5yK02ozV6/rzf1VoS32jGQHQFdEhwf6Z1dvTE80IAMDJCK02ZAVWK7haARZA501K9OouX1gdHRdlRgAATkdotTFaBoDOSfGEqWhosr47mG1YAcBtCK0OQMsAcHzTU/vrjvREDY3sY0YAAG5CaHUIWgaAthX0j9OtaQN1UUKsGQEAuBGh1WFWV9dq/qc7tYgdtRDgvhYXqVuHDNQ32YIVAAICodWhXqzco0c+2a4Xduw2I0BgSPGE6wenDPAH1rDgIDMKAHA7QqvD/XFblb9l4LXqWjMCuJO1JYDVBmCF1VRfcAUABBZCq0v8ZstOf3hdv7fOjADucV1yX19YTdRZcZFmBAAQaAitLlLXfNDf72qF10/qGswo4FxXDfTqO4P66fIBcWYEABCoCK0utL3xgH7jC6+/+6xSHxNe4UBTkxP8YTUvga1XAQCHEFpdrLqp2R9crWNDLW0DsDerZ3Vaan9/WB0bz05WAIAjEVoDQMPBL/zBdcGWnXp7z34zCthDdEiwP6hax5mx9KwCANpGaA0wT5iZ11WsNoBeNiA89HBYzYjymFEAANpGaA1QT2+r8ofXv1buMSNAzxgVG6lrk/rqm8l9/WuuAgDQEYTWAFe8c7eWVFRr6fZq1TQ1m1Gg+00a6PWFVa+u9gVWAAA6i9AKv20NTf7wah1/r9prRoETM8gT7g+qU5ITNJp+VQDACSC04iter649HGA/rW80o0DHnd83xt8CYB3xYSFmFACAriO04pj2NR/0tw1Y4fW57TVmFGib1xdOv+5vAeirS/rFmlEAALoHoRUdYm0Pu6SiSsU79+jN3fvMKAKdtVxVwYB45feP8x/9wkPNLQAAdC9CKzptdU2t/wKuF3bs1jus+xpw+gQHHRFUk/qEmVsAADh5CK04Ia9W7T0cYP/JrluuZe1W1TqoDo5gqSoAQM8itKLb/G3XHhNga/ThvgYzCqfqFxaq8QkxuqBvjD+oDo3sY24BAKDnEVpxUlibFqys2qtV1sHuW44xzhutcb6QOt53XNg3WuHB1hwrAAC9j9CKk85aA7Zk195DIdYXYMtoI7CNzOgIXeALpxMSYpWXECNvGBdSAQDsidCKHrd5f4NeqdyjEl+ILfF9rGw6YG7ByXZaTITGxkX5Z1KtkGot/g8AgBMQWtHr3t1bp3/U7NO6Pb5j937fx/06wLflCYsNDVFOfLTGxkcqxxvtP7fGAABwIkIrbOm9vb7wagJs6Z46f6Dd33zQ3Iq2tMyitgTUrGiPuQUAAOcjtMIxNu6r9wfZd32B9gPf+Qe1vsP3MZC+ga3F/IdHeTTcF0j9H6MidGpUH/95pO82AADcitAKx9u0v+FwgP1gX53//EPfWEVDk7mHs8SHhijFE6bBEYfC6OHDF1STWcgfABCgCK1wrd0Hmv1Bdmt9k7b7AuyORus4cOjw1wf847t68EIwK4ym9An3fxzkC6UpvhDaeizFE64oZkwBAPgKQisCXrPvR6AlzFb5jsaDB9XkG2vy/WS0nDcetGrfx2arlhk7qJCgIH/IPHSEHD6PDvvyvPU4AADoGkIrAAAAbI+pHwAAANgeoRUAAAC2R2gFAACA7RFaAQAAYHuEVgAAANgeoRUAAAC2R2gFAACA7RFaAQAAYHuEVgAAANgeoRUAAAC2R2gFAACA7RFaAQAAYHuEVgAAANgeoRUAAAC2R2gFAACA7RFaAQAAYHuEVgAAANgeoRUAAAC2R2gFAACA7RFaAQAAYHuEVgAAANgeoRUAAAC2R2gFAACA7RFaAQAAYHuEVgAAANgeoRUAAAC2R2gFAACA7RFaAQAAYHuEVgAAANic9P8dPx/1egAGxAAAAABJRU5ErkJggg==)![image.png]()"
      ],
      "metadata": {
        "id": "cRH8Ns5-TjnM"
      }
    },
    {
      "cell_type": "markdown",
      "source": [
        "04/06 - 11/06\n",
        "\n",
        "![image.png](data:image/png;base64,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)"
      ],
      "metadata": {
        "id": "PidtTEPwTbMR"
      }
    },
    {
      "cell_type": "markdown",
      "source": [
        "#### 5.5.1 Observações:"
      ],
      "metadata": {
        "id": "ue1KdYxyjDKh"
      }
    },
    {
      "cell_type": "markdown",
      "source": [
        "Carregamento da Página (carregamento_pagina):\n",
        "\n",
        "- Semana Anterior: 60.2%\n",
        "- Semana do Teste: 61.4%\n",
        "- Diferença: Aumento de 1.2%\n",
        "\n",
        "Visualização da Página (page_view):\n",
        "- Semana Anterior: 12%\n",
        "- Semana do Teste: 11.5%\n",
        "- Diferença: Diminuição de 0.5%\n",
        "\n",
        "Início de Sessão (session_start):\n",
        "- Semana Anterior: 10.8%\n",
        "- Semana do Teste: 10.1%\n",
        "- Diferença: Diminuição de 0.7%\n",
        "\n",
        "Primeira Visita (first_visit):\n",
        "- Semana Anterior: 6.9%\n",
        "- Semana do Teste: 5.9%\n",
        "- Diferença: Diminuição de 1%\n",
        "\n",
        "Outros Eventos:\n",
        "\n",
        "Os outros eventos (interação, engajamento do usuário, scroll, clique, leads da página wizard e outros) apresentaram uma diminuição em suas respectivas porcentagens, com exceção do carregamento da página, que foi o único evento que aumentou."
      ],
      "metadata": {
        "id": "9E5miALSWh2V"
      }
    },
    {
      "cell_type": "markdown",
      "source": [
        "## 6 Limitações do Teste A/B"
      ],
      "metadata": {
        "id": "vLyEG2L4v8TH"
      }
    },
    {
      "cell_type": "markdown",
      "source": [
        "- Duração Limitada do Teste: O teste foi conduzido em um período relativamente curto de uma semana. Testes de duração mais longa podem fornecer uma visão mais robusta e confiável dos impactos das mudanças, considerando a variabilidade natural no comportamento dos usuários ao longo do tempo.\n",
        "\n",
        "- Falta de Acesso Exclusivo aos Eventos da Página B: A ausência de dados exclusivos da página B limitou a capacidade de realizar uma análise mais segmentada e específica. Comparações mais detalhadas poderiam ter proporcionado uma compreensão mais clara dos impactos diretos das intervenções.\n",
        "\n"
      ],
      "metadata": {
        "id": "yR9bEdIHwFJz"
      }
    },
    {
      "cell_type": "markdown",
      "source": [
        "## 7. Conclusão\n",
        "A análise preliminar do teste A/B revelou que as mudanças nas versões experimentais (g1 a g5) não resultaram em um aumento significativo na taxa de conversão em comparação com a versão de controle. A versão TOTAL apresentou a maior taxa de conversão, enquanto as versões modificadas tiveram desempenhos inferiores. Isso indica que as alterações feitas nas versões experimentais não foram suficientes para atingir os objetivos propostos.\n"
      ],
      "metadata": {
        "id": "v2Pp4CotwT4k"
      }
    },
    {
      "cell_type": "markdown",
      "source": [
        "### 7.1 Observações Detalhadas"
      ],
      "metadata": {
        "id": "4aSsjaptjN8_"
      }
    },
    {
      "cell_type": "markdown",
      "source": [
        "**Taxa de Conversão:** A versão TOTAL obteve uma taxa de conversão de 8,3%, enquanto as versões g1 a g5 variaram entre 5,4% e 6,3%.\n",
        "\n",
        "**Carregamento da Página:** Houve um aumento de 1,2% no carregamento da página durante a semana do teste.\n",
        "\n",
        "**Engajamento dos Usuários:** Observamos uma diminuição nas interações dos usuários, como visualizações de página e inícios de sessão, após as mudanças.\n",
        "\n",
        "#### Recomendações:\n",
        "\n",
        "**Refinamento das Versões B:** Avaliar e ajustar os elementos das versões g1 a g5 com base nos insights obtidos, focando em melhorar a interação dos usuários.\n",
        "\n",
        "**Novos Testes:** Conduzir novos testes A/B com ajustes baseados nas observações iniciais e nas entrevistas com usuários.\n",
        "\n",
        "**Aumento do Tamanho da Amostra:** Para aumentar a robustez e a precisão dos resultados, recomenda-se ampliar o tamanho da amostra e a duração dos testes.\n",
        "\n",
        "**Análise Comparativa Detalhada:** Realizar uma análise mais precisa comparando com as mudanças realizadas pelos outros grupos para identificar áreas de melhoria específica."
      ],
      "metadata": {
        "id": "Fvt3UW7njHD8"
      }
    },
    {
      "cell_type": "markdown",
      "source": [
        "### 7.2 Considerações Finais"
      ],
      "metadata": {
        "id": "ss0Rhk22jPsX"
      }
    },
    {
      "cell_type": "markdown",
      "source": [
        "A combinação dos resultados das simulações de Monte Carlo e das entrevistas com usuários forneceu uma base sólida para as mudanças propostas. No entanto, as implementações iniciais das versões experimentais não alcançaram os objetivos de aumento da taxa de conversão e do volume de leads. Isso sugere que mudanças adicionais e refinamentos são necessários.\n",
        "\n",
        "Com base nas análises realizadas, recomendamos focar em melhorar a clareza e a usabilidade dos elementos da landing page, reforçando os diferenciais do curso e otimizando os CTAs. A continuidade dos testes com amostras maiores e períodos mais longos permitirá uma melhor avaliação do impacto das mudanças, garantindo decisões mais informadas e estratégicas para a otimização da landing page da Wizard On.\n",
        "\n",
        "Essas medidas, juntamente com uma análise contínua e refinamentos baseados em feedbacks qualitativos e quantitativos, serão fundamentais para atingir as metas de conversão e engajamento esperadas."
      ],
      "metadata": {
        "id": "i77UbX6ijJp5"
      }
    }
  ]
}